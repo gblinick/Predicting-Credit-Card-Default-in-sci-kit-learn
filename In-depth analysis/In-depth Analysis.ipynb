{
 "cells": [
  {
   "cell_type": "markdown",
   "metadata": {},
   "source": [
    "# In-depth Analysis (Applying Machine Learning)"
   ]
  },
  {
   "cell_type": "markdown",
   "metadata": {},
   "source": [
    "## Step 1) Read the Manual"
   ]
  },
  {
   "cell_type": "markdown",
   "metadata": {},
   "source": [
    "Before we progress further, we display the information about the dataset that we obtained from the dataset manual, that is, from Kaggle and the UCI Machine Learning Repository.\n",
    "\n",
    "From Kaggle, an overview of the variables:\n",
    "\n",
    "There are 25 variables:\n",
    "\n",
    "* ID: ID of each client\n",
    "* LIMIT_BAL: Amount of given credit in NT dollars (includes individual and family/supplementary credit\n",
    "* SEX: Gender (1=male, 2=female)\n",
    "* EDUCATION: (1=graduate school, 2=university, 3=high school, 4=others, 5=unknown, 6=unknown)\n",
    "* MARRIAGE: Marital status (1=married, 2=single, 3=others)\n",
    "* AGE: Age in years\n",
    "* PAY_0: Repayment status in September, 2005 (-1=pay duly, 1=payment delay for one month, 2=payment delay for two months, ... 8=payment delay for eight months, 9=payment delay for nine months and above)\n",
    "* PAY_2: Repayment status in August, 2005 (scale same as above)\n",
    "* PAY_3: Repayment status in July, 2005 (scale same as above)\n",
    "* PAY_4: Repayment status in June, 2005 (scale same as above)\n",
    "* PAY_5: Repayment status in May, 2005 (scale same as above)\n",
    "* PAY_6: Repayment status in April, 2005 (scale same as above)\n",
    "* BILL_AMT1: Amount of bill statement in September, 2005 (NT dollar)\n",
    "* BILL_AMT2: Amount of bill statement in August, 2005 (NT dollar)\n",
    "* BILL_AMT3: Amount of bill statement in July, 2005 (NT dollar)\n",
    "* BILL_AMT4: Amount of bill statement in June, 2005 (NT dollar)\n",
    "* BILL_AMT5: Amount of bill statement in May, 2005 (NT dollar)\n",
    "* BILL_AMT6: Amount of bill statement in April, 2005 (NT dollar)\n",
    "* PAY_AMT1: Amount of previous payment in September, 2005 (NT dollar)\n",
    "* PAY_AMT2: Amount of previous payment in August, 2005 (NT dollar)\n",
    "* PAY_AMT3: Amount of previous payment in July, 2005 (NT dollar)\n",
    "* PAY_AMT4: Amount of previous payment in June, 2005 (NT dollar)\n",
    "* PAY_AMT5: Amount of previous payment in May, 2005 (NT dollar)\n",
    "* PAY_AMT6: Amount of previous payment in April, 2005 (NT dollar) default.payment.next.month: Default payment (1=yes, 0=no)\n",
    "\n",
    "And from UCI:\n",
    "\n",
    "This research employed a binary variable, default payment (Yes = 1, No = 0), as the response variable. This study reviewed the literature and used the following 23 variables as explanatory variables: \n",
    "* X1: Amount of the given credit (NT dollar): it includes both the individual consumer credit and his/her family (supplementary) credit. \n",
    "* X2: Gender (1 = male; 2 = female). \n",
    "* X3: Education (1 = graduate school; 2 = university; 3 = high school; 4 = others). \n",
    "* X4: Marital status (1 = married; 2 = single; 3 = others). \n",
    "* X5: Age (year). \n",
    "* X6 - X11: History of past payment. We tracked the past monthly payment records (from April to September, 2005) as follows: X6 = the repayment status in September, 2005; X7 = the repayment status in August, 2005; . . .;X11 = the repayment status in April, 2005. The measurement scale for the repayment status is: -1 = pay duly; 1 = payment delay for one month; 2 = payment delay for two months; . . .; 8 = payment delay for eight months; 9 = payment delay for nine months and above. \n",
    "* X12-X17: Amount of bill statement (NT dollar). X12 = amount of bill statement in September, 2005; X13 = amount of bill statement in August, 2005; . . .; X17 = amount of bill statement in April, 2005. \n",
    "* X18-X23: Amount of previous payment (NT dollar). X18 = amount paid in September, 2005; X19 = amount paid in August, 2005; . . .;X23 = amount paid in April, 2005. "
   ]
  },
  {
   "cell_type": "markdown",
   "metadata": {},
   "source": [
    "Potential issue: We'll want to group values 5 and 6 for Education into one value (looking at the Kaggle description) since they both stand for \"unknown\". And perhaps we'll want to include 4 in that grouping since it has the value of \"others\"."
   ]
  },
  {
   "cell_type": "markdown",
   "metadata": {},
   "source": [
    "## Step 2) Review the Data Types"
   ]
  },
  {
   "cell_type": "code",
   "execution_count": 1,
   "metadata": {},
   "outputs": [],
   "source": [
    "%matplotlib inline\n",
    "import pandas as pd\n",
    "import numpy as np\n",
    "import matplotlib.pyplot as plt\n",
    "import seaborn as sns\n",
    "from IPython.display import display\n",
    "import random\n",
    "import sklearn\n",
    "\n",
    "# Setup Seaborn\n",
    "sns.set_style(\"whitegrid\")\n",
    "sns.set_context(\"poster\")"
   ]
  },
  {
   "cell_type": "code",
   "execution_count": 2,
   "metadata": {},
   "outputs": [],
   "source": [
    "filename = 'UCI_Credit_Card.csv'"
   ]
  },
  {
   "cell_type": "code",
   "execution_count": 3,
   "metadata": {},
   "outputs": [],
   "source": [
    "data = pd.read_csv(filename) #, index_col=0)\n",
    "data = data.drop(columns='ID') # don't need ID column, because just the index + 1"
   ]
  },
  {
   "cell_type": "code",
   "execution_count": 4,
   "metadata": {},
   "outputs": [
    {
     "data": {
      "text/html": [
       "<div>\n",
       "<style scoped>\n",
       "    .dataframe tbody tr th:only-of-type {\n",
       "        vertical-align: middle;\n",
       "    }\n",
       "\n",
       "    .dataframe tbody tr th {\n",
       "        vertical-align: top;\n",
       "    }\n",
       "\n",
       "    .dataframe thead th {\n",
       "        text-align: right;\n",
       "    }\n",
       "</style>\n",
       "<table border=\"1\" class=\"dataframe\">\n",
       "  <thead>\n",
       "    <tr style=\"text-align: right;\">\n",
       "      <th></th>\n",
       "      <th>5486</th>\n",
       "      <th>19242</th>\n",
       "      <th>20654</th>\n",
       "      <th>21486</th>\n",
       "      <th>14086</th>\n",
       "    </tr>\n",
       "  </thead>\n",
       "  <tbody>\n",
       "    <tr>\n",
       "      <th>LIMIT_BAL</th>\n",
       "      <td>80000.0</td>\n",
       "      <td>160000.0</td>\n",
       "      <td>50000.0</td>\n",
       "      <td>90000.0</td>\n",
       "      <td>30000.0</td>\n",
       "    </tr>\n",
       "    <tr>\n",
       "      <th>SEX</th>\n",
       "      <td>2.0</td>\n",
       "      <td>2.0</td>\n",
       "      <td>1.0</td>\n",
       "      <td>2.0</td>\n",
       "      <td>1.0</td>\n",
       "    </tr>\n",
       "    <tr>\n",
       "      <th>EDUCATION</th>\n",
       "      <td>3.0</td>\n",
       "      <td>2.0</td>\n",
       "      <td>2.0</td>\n",
       "      <td>1.0</td>\n",
       "      <td>2.0</td>\n",
       "    </tr>\n",
       "    <tr>\n",
       "      <th>MARRIAGE</th>\n",
       "      <td>1.0</td>\n",
       "      <td>1.0</td>\n",
       "      <td>2.0</td>\n",
       "      <td>2.0</td>\n",
       "      <td>1.0</td>\n",
       "    </tr>\n",
       "    <tr>\n",
       "      <th>AGE</th>\n",
       "      <td>47.0</td>\n",
       "      <td>41.0</td>\n",
       "      <td>31.0</td>\n",
       "      <td>27.0</td>\n",
       "      <td>54.0</td>\n",
       "    </tr>\n",
       "    <tr>\n",
       "      <th>PAY_0</th>\n",
       "      <td>0.0</td>\n",
       "      <td>-1.0</td>\n",
       "      <td>0.0</td>\n",
       "      <td>0.0</td>\n",
       "      <td>0.0</td>\n",
       "    </tr>\n",
       "    <tr>\n",
       "      <th>PAY_2</th>\n",
       "      <td>0.0</td>\n",
       "      <td>-1.0</td>\n",
       "      <td>0.0</td>\n",
       "      <td>0.0</td>\n",
       "      <td>0.0</td>\n",
       "    </tr>\n",
       "    <tr>\n",
       "      <th>PAY_3</th>\n",
       "      <td>0.0</td>\n",
       "      <td>-1.0</td>\n",
       "      <td>0.0</td>\n",
       "      <td>2.0</td>\n",
       "      <td>0.0</td>\n",
       "    </tr>\n",
       "    <tr>\n",
       "      <th>PAY_4</th>\n",
       "      <td>0.0</td>\n",
       "      <td>-1.0</td>\n",
       "      <td>0.0</td>\n",
       "      <td>0.0</td>\n",
       "      <td>0.0</td>\n",
       "    </tr>\n",
       "    <tr>\n",
       "      <th>PAY_5</th>\n",
       "      <td>0.0</td>\n",
       "      <td>-1.0</td>\n",
       "      <td>0.0</td>\n",
       "      <td>0.0</td>\n",
       "      <td>3.0</td>\n",
       "    </tr>\n",
       "    <tr>\n",
       "      <th>PAY_6</th>\n",
       "      <td>0.0</td>\n",
       "      <td>-1.0</td>\n",
       "      <td>-1.0</td>\n",
       "      <td>0.0</td>\n",
       "      <td>2.0</td>\n",
       "    </tr>\n",
       "    <tr>\n",
       "      <th>BILL_AMT1</th>\n",
       "      <td>33590.0</td>\n",
       "      <td>8091.0</td>\n",
       "      <td>49024.0</td>\n",
       "      <td>46588.0</td>\n",
       "      <td>6551.0</td>\n",
       "    </tr>\n",
       "    <tr>\n",
       "      <th>BILL_AMT2</th>\n",
       "      <td>34524.0</td>\n",
       "      <td>5344.0</td>\n",
       "      <td>48778.0</td>\n",
       "      <td>49496.0</td>\n",
       "      <td>8482.0</td>\n",
       "    </tr>\n",
       "    <tr>\n",
       "      <th>BILL_AMT3</th>\n",
       "      <td>34038.0</td>\n",
       "      <td>5117.0</td>\n",
       "      <td>96487.0</td>\n",
       "      <td>48425.0</td>\n",
       "      <td>10184.0</td>\n",
       "    </tr>\n",
       "    <tr>\n",
       "      <th>BILL_AMT4</th>\n",
       "      <td>33231.0</td>\n",
       "      <td>4730.0</td>\n",
       "      <td>43639.0</td>\n",
       "      <td>50611.0</td>\n",
       "      <td>12408.0</td>\n",
       "    </tr>\n",
       "    <tr>\n",
       "      <th>BILL_AMT5</th>\n",
       "      <td>33440.0</td>\n",
       "      <td>6634.0</td>\n",
       "      <td>5290.0</td>\n",
       "      <td>52764.0</td>\n",
       "      <td>11922.0</td>\n",
       "    </tr>\n",
       "    <tr>\n",
       "      <th>BILL_AMT6</th>\n",
       "      <td>5513.0</td>\n",
       "      <td>3477.0</td>\n",
       "      <td>41302.0</td>\n",
       "      <td>55898.0</td>\n",
       "      <td>12167.0</td>\n",
       "    </tr>\n",
       "    <tr>\n",
       "      <th>PAY_AMT1</th>\n",
       "      <td>2079.0</td>\n",
       "      <td>5344.0</td>\n",
       "      <td>1813.0</td>\n",
       "      <td>4000.0</td>\n",
       "      <td>2049.0</td>\n",
       "    </tr>\n",
       "    <tr>\n",
       "      <th>PAY_AMT2</th>\n",
       "      <td>1200.0</td>\n",
       "      <td>5124.0</td>\n",
       "      <td>2079.0</td>\n",
       "      <td>0.0</td>\n",
       "      <td>1851.0</td>\n",
       "    </tr>\n",
       "    <tr>\n",
       "      <th>PAY_AMT3</th>\n",
       "      <td>0.0</td>\n",
       "      <td>4730.0</td>\n",
       "      <td>2650.0</td>\n",
       "      <td>3000.0</td>\n",
       "      <td>2400.0</td>\n",
       "    </tr>\n",
       "    <tr>\n",
       "      <th>PAY_AMT4</th>\n",
       "      <td>816.0</td>\n",
       "      <td>6635.0</td>\n",
       "      <td>106.0</td>\n",
       "      <td>3000.0</td>\n",
       "      <td>0.0</td>\n",
       "    </tr>\n",
       "    <tr>\n",
       "      <th>PAY_AMT5</th>\n",
       "      <td>365.0</td>\n",
       "      <td>3477.0</td>\n",
       "      <td>41302.0</td>\n",
       "      <td>4000.0</td>\n",
       "      <td>587.0</td>\n",
       "    </tr>\n",
       "    <tr>\n",
       "      <th>PAY_AMT6</th>\n",
       "      <td>5000.0</td>\n",
       "      <td>2979.0</td>\n",
       "      <td>2000.0</td>\n",
       "      <td>2043.0</td>\n",
       "      <td>0.0</td>\n",
       "    </tr>\n",
       "    <tr>\n",
       "      <th>default.payment.next.month</th>\n",
       "      <td>0.0</td>\n",
       "      <td>0.0</td>\n",
       "      <td>1.0</td>\n",
       "      <td>0.0</td>\n",
       "      <td>0.0</td>\n",
       "    </tr>\n",
       "  </tbody>\n",
       "</table>\n",
       "</div>"
      ],
      "text/plain": [
       "                              5486      19242    20654    21486    14086\n",
       "LIMIT_BAL                   80000.0  160000.0  50000.0  90000.0  30000.0\n",
       "SEX                             2.0       2.0      1.0      2.0      1.0\n",
       "EDUCATION                       3.0       2.0      2.0      1.0      2.0\n",
       "MARRIAGE                        1.0       1.0      2.0      2.0      1.0\n",
       "AGE                            47.0      41.0     31.0     27.0     54.0\n",
       "PAY_0                           0.0      -1.0      0.0      0.0      0.0\n",
       "PAY_2                           0.0      -1.0      0.0      0.0      0.0\n",
       "PAY_3                           0.0      -1.0      0.0      2.0      0.0\n",
       "PAY_4                           0.0      -1.0      0.0      0.0      0.0\n",
       "PAY_5                           0.0      -1.0      0.0      0.0      3.0\n",
       "PAY_6                           0.0      -1.0     -1.0      0.0      2.0\n",
       "BILL_AMT1                   33590.0    8091.0  49024.0  46588.0   6551.0\n",
       "BILL_AMT2                   34524.0    5344.0  48778.0  49496.0   8482.0\n",
       "BILL_AMT3                   34038.0    5117.0  96487.0  48425.0  10184.0\n",
       "BILL_AMT4                   33231.0    4730.0  43639.0  50611.0  12408.0\n",
       "BILL_AMT5                   33440.0    6634.0   5290.0  52764.0  11922.0\n",
       "BILL_AMT6                    5513.0    3477.0  41302.0  55898.0  12167.0\n",
       "PAY_AMT1                     2079.0    5344.0   1813.0   4000.0   2049.0\n",
       "PAY_AMT2                     1200.0    5124.0   2079.0      0.0   1851.0\n",
       "PAY_AMT3                        0.0    4730.0   2650.0   3000.0   2400.0\n",
       "PAY_AMT4                      816.0    6635.0    106.0   3000.0      0.0\n",
       "PAY_AMT5                      365.0    3477.0  41302.0   4000.0    587.0\n",
       "PAY_AMT6                     5000.0    2979.0   2000.0   2043.0      0.0\n",
       "default.payment.next.month      0.0       0.0      1.0      0.0      0.0"
      ]
     },
     "execution_count": 4,
     "metadata": {},
     "output_type": "execute_result"
    }
   ],
   "source": [
    "pd.set_option('display.max_columns', 500)\n",
    "data.sample(5).T"
   ]
  },
  {
   "cell_type": "code",
   "execution_count": 5,
   "metadata": {},
   "outputs": [
    {
     "name": "stdout",
     "output_type": "stream",
     "text": [
      "<class 'pandas.core.frame.DataFrame'>\n",
      "RangeIndex: 30000 entries, 0 to 29999\n",
      "Data columns (total 24 columns):\n",
      "LIMIT_BAL                     30000 non-null float64\n",
      "SEX                           30000 non-null int64\n",
      "EDUCATION                     30000 non-null int64\n",
      "MARRIAGE                      30000 non-null int64\n",
      "AGE                           30000 non-null int64\n",
      "PAY_0                         30000 non-null int64\n",
      "PAY_2                         30000 non-null int64\n",
      "PAY_3                         30000 non-null int64\n",
      "PAY_4                         30000 non-null int64\n",
      "PAY_5                         30000 non-null int64\n",
      "PAY_6                         30000 non-null int64\n",
      "BILL_AMT1                     30000 non-null float64\n",
      "BILL_AMT2                     30000 non-null float64\n",
      "BILL_AMT3                     30000 non-null float64\n",
      "BILL_AMT4                     30000 non-null float64\n",
      "BILL_AMT5                     30000 non-null float64\n",
      "BILL_AMT6                     30000 non-null float64\n",
      "PAY_AMT1                      30000 non-null float64\n",
      "PAY_AMT2                      30000 non-null float64\n",
      "PAY_AMT3                      30000 non-null float64\n",
      "PAY_AMT4                      30000 non-null float64\n",
      "PAY_AMT5                      30000 non-null float64\n",
      "PAY_AMT6                      30000 non-null float64\n",
      "default.payment.next.month    30000 non-null int64\n",
      "dtypes: float64(13), int64(11)\n",
      "memory usage: 5.5 MB\n"
     ]
    }
   ],
   "source": [
    "data.info()"
   ]
  },
  {
   "cell_type": "markdown",
   "metadata": {},
   "source": [
    "All columns in this dataset have a numeric type. They are either float-valued (continuous) or int-valued (discrete). Nothing seems to be off, so we may continue."
   ]
  },
  {
   "cell_type": "code",
   "execution_count": 6,
   "metadata": {},
   "outputs": [
    {
     "data": {
      "text/plain": [
       "(30000, 24)"
      ]
     },
     "metadata": {},
     "output_type": "display_data"
    }
   ],
   "source": [
    "display(data.shape)"
   ]
  },
  {
   "cell_type": "markdown",
   "metadata": {},
   "source": [
    "## Step 3) Fixing the Issues (Data Cleaning):"
   ]
  },
  {
   "cell_type": "markdown",
   "metadata": {},
   "source": [
    "### Problem 1: Get rid of Bad Column Names\n"
   ]
  },
  {
   "cell_type": "code",
   "execution_count": 7,
   "metadata": {},
   "outputs": [],
   "source": [
    "## Rename columns\n",
    "data.rename(columns={'PAY_0': 'PAY_1', 'default.payment.next.month': 'default'}, inplace=True)"
   ]
  },
  {
   "cell_type": "markdown",
   "metadata": {},
   "source": [
    "### Problem 2: Replace Negative Values with 0 in Pay_X columns"
   ]
  },
  {
   "cell_type": "markdown",
   "metadata": {},
   "source": [
    "To deal with with values for the PAY_X columns that shouldn't exist, a sensible solution is to convert all non-positive values to 0. The dataset description says that a value of -1 means \"pay duly\" and positive values represent a payment delay by that number of months. Therefore, converting -1 and -2 values to 0, and having 0 represent \"pay duly\" is logical."
   ]
  },
  {
   "cell_type": "code",
   "execution_count": 8,
   "metadata": {},
   "outputs": [],
   "source": [
    "for i in range(1,7):\n",
    "    data.loc[data[\"PAY_\" + str(i)] < 0, \"PAY_\" + str(i)] = 0"
   ]
  },
  {
   "cell_type": "markdown",
   "metadata": {},
   "source": [
    "### Problem 3: Get rid of Values of 0 for Marriage"
   ]
  },
  {
   "cell_type": "markdown",
   "metadata": {},
   "source": [
    "A logical move is to group the 0 values with the \"Other\" values, coded as 3, so that is what we'll do:\n"
   ]
  },
  {
   "cell_type": "code",
   "execution_count": 9,
   "metadata": {},
   "outputs": [],
   "source": [
    "data.loc[data[\"MARRIAGE\"] == 0, 'MARRIAGE'] = 3"
   ]
  },
  {
   "cell_type": "markdown",
   "metadata": {},
   "source": [
    "\"Other\" for marriage can possibly refer to divorced, widowed, seperated, etc."
   ]
  },
  {
   "cell_type": "markdown",
   "metadata": {},
   "source": [
    "### Problem 4: Get rid of 0 Values for Education"
   ]
  },
  {
   "cell_type": "markdown",
   "metadata": {},
   "source": [
    "Currently coded as:\n",
    "EDUCATION: (1=graduate school, 2=university, 3=high school, 4=others, 5=unknown, 6=unknown)"
   ]
  },
  {
   "cell_type": "markdown",
   "metadata": {},
   "source": [
    "We see that 0 is not even in the dataset desciption, and we have 2 values for unknown. So a logical move is to convert the 0, 5 and 6 values to 4, which is what we'll do. \"Other\" can  refer to education less than high school or perhaps vocational training."
   ]
  },
  {
   "cell_type": "code",
   "execution_count": 10,
   "metadata": {},
   "outputs": [],
   "source": [
    "replace = (data[\"EDUCATION\"] == 0) | (data[\"EDUCATION\"] == 5) | (data[\"EDUCATION\"] == 6) \n",
    "data.loc[replace,'EDUCATION'] = 4"
   ]
  },
  {
   "cell_type": "markdown",
   "metadata": {},
   "source": [
    "## Step 4) Analysis"
   ]
  },
  {
   "cell_type": "markdown",
   "metadata": {},
   "source": [
    "### Steps Involved in Classification in Scikit-Learn"
   ]
  },
  {
   "cell_type": "markdown",
   "metadata": {},
   "source": [
    "1. Preprocess Data\n",
    "2. Create Train and Test Sets\n",
    "3. Instantiate the model/estimator  \n",
    "(Steps 1 and 3 can be combined in a Pipeline object)\n",
    "4. Specify Hyperparameter Space\n",
    "5. Instantiate GridSearchCV or RandomizedSearchCV objects\n",
    "6. Fit CV object to the Training Set\n",
    "7. Predict on the Test Set\n",
    "8. Compute Scores for the Model"
   ]
  },
  {
   "cell_type": "markdown",
   "metadata": {},
   "source": [
    "*Models*:\n",
    "1. Logistic Regression (LR)\n",
    "2. K-Nearest Neighbor (KNN)\n",
    "3. Support Vector Machine (SVM)\n",
    "4. Decision Trees (DT)\n",
    "5. Random Forest (RF)"
   ]
  },
  {
   "cell_type": "code",
   "execution_count": 11,
   "metadata": {},
   "outputs": [],
   "source": [
    "from sklearn.pipeline import Pipeline\n",
    "from sklearn.compose import ColumnTransformer\n",
    "from sklearn.preprocessing import MinMaxScaler, OneHotEncoder, scale, StandardScaler, OrdinalEncoder, LabelEncoder, RobustScaler\n",
    "from sklearn.model_selection import train_test_split, GridSearchCV, cross_val_score, RandomizedSearchCV\n",
    "from sklearn.metrics import classification_report, confusion_matrix, roc_auc_score, roc_curve, accuracy_score, precision_score, recall_score, precision_recall_curve\n",
    "from scipy.stats import randint\n",
    "import time"
   ]
  },
  {
   "cell_type": "code",
   "execution_count": 12,
   "metadata": {},
   "outputs": [],
   "source": [
    "#### Step 1) Preprocess Data\n",
    "\n",
    "# We will train our classifier with the following features:\n",
    "# Numeric features to be scaled: LIMIT_BAL, AGE, PAY_X, BIL_AMTX, and PAY_AMTX\n",
    "# Categorical features: SEX, EDUCATION, MARRIAGE\n",
    "\n",
    "# We create the preprocessing pipelines for both numeric and categorical data\n",
    "numeric_features = ['LIMIT_BAL', 'AGE',  \n",
    "                     'BILL_AMT1', 'BILL_AMT2', 'BILL_AMT3', 'BILL_AMT4', 'BILL_AMT5', 'BILL_AMT6', \n",
    "                     'PAY_AMT1', 'PAY_AMT2', 'PAY_AMT3', 'PAY_AMT4', 'PAY_AMT5', 'PAY_AMT6'\n",
    "                   ]\n",
    "\n",
    "\n",
    "\n",
    "# data['PAY_1'] = data.PAY_1.astype('float64')\n",
    "# data['PAY_2'] = data.PAY_2.astype('float64')\n",
    "# data['PAY_3'] = data.PAY_3.astype('float64')\n",
    "# data['PAY_4'] = data.PAY_4.astype('float64')\n",
    "# data['PAY_5'] = data.PAY_5.astype('float64')\n",
    "# data['PAY_6'] = data.PAY_6.astype('float64')\n",
    "data['AGE'] = data.AGE.astype('float64')\n",
    "\n",
    "numeric_transformer = Pipeline(steps=[\n",
    "    ('scaler', MinMaxScaler())\n",
    "])\n",
    "\n",
    "categorical_features = ['SEX', 'EDUCATION', 'MARRIAGE', 'PAY_1', 'PAY_2', 'PAY_3', 'PAY_4', 'PAY_5', 'PAY_6']\n",
    "categorical_transformer = Pipeline(steps=[\n",
    "    ('onehot', OneHotEncoder(categories='auto', handle_unknown='ignore'))\n",
    "])"
   ]
  },
  {
   "cell_type": "code",
   "execution_count": 13,
   "metadata": {},
   "outputs": [],
   "source": [
    "# label_features = ['PAY_1', 'PAY_2', 'PAY_3', 'PAY_4', 'PAY_5', 'PAY_6']\n",
    "# label_transformer = Pipeline(steps=[\n",
    "#     ('label', LabelEncoder())\n",
    "# ])\n",
    "# Use StratifiedShuffleSplit to get it to work"
   ]
  },
  {
   "cell_type": "code",
   "execution_count": 14,
   "metadata": {},
   "outputs": [],
   "source": [
    "preprocessor = ColumnTransformer(\n",
    "    transformers=[\n",
    "        ('num', numeric_transformer, numeric_features),\n",
    "        ('cat', categorical_transformer, categorical_features)\n",
    "        #,('lab', label_transformer, label_features)\n",
    "    ])"
   ]
  },
  {
   "cell_type": "code",
   "execution_count": 15,
   "metadata": {},
   "outputs": [],
   "source": [
    "#### Step 2) Split Data into Training and Test Sets\n",
    "\n",
    "y = data['default']#.values\n",
    "X = data.drop(['default'], axis=1)#.values\n",
    "\n",
    "X_train, X_test, y_train, y_test = train_test_split(X, y, test_size=0.3, random_state=21, stratify=y)"
   ]
  },
  {
   "cell_type": "markdown",
   "metadata": {},
   "source": [
    "Before we proceed further, we prepare a dataframe the will store the different scoring metrics that we will score each model with:"
   ]
  },
  {
   "cell_type": "code",
   "execution_count": 16,
   "metadata": {},
   "outputs": [],
   "source": [
    "metrics = pd.DataFrame(index=['accuracy', 'precision', 'recall', 'AUC', 'Time to Train'], \n",
    "                       columns=['Dummy Model', 'LR', 'KNN', 'SVM', 'DT', 'RF'])"
   ]
  },
  {
   "cell_type": "markdown",
   "metadata": {},
   "source": [
    "General Definitions of accuracy, precision, and recall (from https://blog.exsilio.com/all/accuracy-precision-recall-f1-score-interpretation-of-performance-measures/):\n",
    "- **Accuracy**: a ratio of correctly predicted observation to the total observations\n",
    "- **Precision**: the ratio of correctly predicted positive observations to the total predicted positive observations\n",
    "- **recall**: the ratio of correctly predicted positive observations to all observations in actual class \n",
    "\n",
    "Using \"positive class\" to mean 'defaulters', we get:\n",
    "- **Accuracy**: a ratio of correctly predicted defaulters and non-defaulters to the number of all customers\n",
    "- **Precision**: the ratio of correctly predicted defaulters to the total number of predicted defaulters\n",
    "- **Recall**: the ratio of correctly predicted defaulters to the number of actual defaulters\n",
    "\n",
    "What do we care more about?\n",
    "- **False positive**: A person who won't default that we predict will default\n",
    "- **False negative**:A person who will default that we predict won't default\n",
    "\n",
    "Since we stand to lose significant money if we predict default won't happen and it does, and we only inconvenience the customer if we think they will default when they won't, we should care more about false negatives than false positive. Since a higher recall minimizes false negatives wheras a higher precision minimizes false positives, we should care more about maximizing recall than maximizing precision (or maximizing accuracy)."
   ]
  },
  {
   "cell_type": "markdown",
   "metadata": {},
   "source": [
    "Let's create a dumb model that always predicts 0 (no-default) so we can see how well our model actually does."
   ]
  },
  {
   "cell_type": "markdown",
   "metadata": {},
   "source": [
    "##### *Base Model: Dummy Model*"
   ]
  },
  {
   "cell_type": "code",
   "execution_count": 17,
   "metadata": {},
   "outputs": [
    {
     "name": "stdout",
     "output_type": "stream",
     "text": [
      "It takes  0.03891897201538086  seconds for Dumb Classifier fitting\n",
      "Accuracy with LR on testing set is: 0.779\n",
      "PREDICTION   pay  default  Total\n",
      "TRUE                            \n",
      "pay         7009        0   7009\n",
      "default     1991        0   1991\n",
      "Total       9000        0   9000\n",
      "              precision    recall  f1-score   support\n",
      "\n",
      "           0       0.78      1.00      0.88      7009\n",
      "           1       0.00      0.00      0.00      1991\n",
      "\n",
      "   micro avg       0.78      0.78      0.78      9000\n",
      "   macro avg       0.39      0.50      0.44      9000\n",
      "weighted avg       0.61      0.78      0.68      9000\n",
      "\n"
     ]
    },
    {
     "name": "stderr",
     "output_type": "stream",
     "text": [
      "C:\\Users\\gideo\\Anaconda3\\lib\\site-packages\\sklearn\\metrics\\classification.py:1143: UndefinedMetricWarning: Precision is ill-defined and being set to 0.0 due to no predicted samples.\n",
      "  'precision', 'predicted', average, warn_for)\n",
      "C:\\Users\\gideo\\Anaconda3\\lib\\site-packages\\sklearn\\metrics\\classification.py:1143: UndefinedMetricWarning: Precision and F-score are ill-defined and being set to 0.0 in labels with no predicted samples.\n",
      "  'precision', 'predicted', average, warn_for)\n",
      "C:\\Users\\gideo\\Anaconda3\\lib\\site-packages\\sklearn\\metrics\\classification.py:1143: UndefinedMetricWarning: Precision and F-score are ill-defined and being set to 0.0 in labels with no predicted samples.\n",
      "  'precision', 'predicted', average, warn_for)\n",
      "C:\\Users\\gideo\\Anaconda3\\lib\\site-packages\\sklearn\\metrics\\classification.py:1143: UndefinedMetricWarning: Precision and F-score are ill-defined and being set to 0.0 in labels with no predicted samples.\n",
      "  'precision', 'predicted', average, warn_for)\n"
     ]
    }
   ],
   "source": [
    "#### Step 3: Instantiate the Estimator\n",
    "\n",
    "# Append classifier to preprocessing pipeline.\n",
    "# Now we have a full prediction pipeline.\n",
    "from sklearn.dummy import DummyClassifier\n",
    "\n",
    "model = Pipeline(steps=[('preprocessor', preprocessor),\n",
    "                     ('classifier', DummyClassifier(strategy=\"most_frequent\"))])\n",
    "\n",
    "## We can skip steps 4 and 5 since we have no hyperparameters to tune since this is a dummy model where we always predict \n",
    "## the most common lable (no default)\n",
    "\n",
    "#### Step 6: Fit on Training\n",
    "\n",
    "t0 = time.time()\n",
    "model.fit(X_train, y_train)\n",
    "ttt = time.time() - t0 # ttt stands for \"time to train\"\n",
    "print(\"It takes \", ttt, \" seconds for Dumb Classifier fitting\")\n",
    "metrics.loc['Time to Train', 'Dummy Model'] = ttt\n",
    "\n",
    "\n",
    "#### Step 7: Predict on Test\n",
    "\n",
    "y_pred = model.predict(X_test)\n",
    "\n",
    "#### Step 8: Scoring\n",
    "\n",
    "##### Accuracy\n",
    "\n",
    "print(\"Accuracy with LR on testing set is: %.3f\" % model.score(X_test, y_test))\n",
    "# Latest accuracy is 0.779\n",
    "\n",
    "metrics.loc['accuracy', 'Dummy Model'] = accuracy_score(y_pred=y_pred, y_true=y_test)\n",
    "metrics.loc['precision', 'Dummy Model'] = precision_score(y_pred=y_pred, y_true=y_test)\n",
    "metrics.loc['recall', 'Dummy Model'] = recall_score(y_pred=y_pred, y_true=y_test)\n",
    "\n",
    "y_pred_prob = model.predict_proba(X_test)[:,1]\n",
    "\n",
    "metrics.loc['AUC', 'Dummy Model'] = roc_auc_score(y_test, y_pred_prob)\n",
    "\n",
    "\n",
    "def Conf_Matrix(CM, labels=['pay', 'default']):\n",
    "    df = pd.DataFrame(data=CM, index=labels, columns=labels)\n",
    "    df.index.name = 'TRUE'\n",
    "    df.columns.name = 'PREDICTION'\n",
    "    df.loc['Total'] = df.sum()\n",
    "    df['Total'] = df.sum(axis=1)\n",
    "    return df\n",
    "\n",
    "print(Conf_Matrix(confusion_matrix(y_test, y_pred)))\n",
    "print(classification_report(y_test, y_pred))\n"
   ]
  },
  {
   "cell_type": "markdown",
   "metadata": {},
   "source": [
    "##### *1st Model: Logistic Regression*"
   ]
  },
  {
   "cell_type": "code",
   "execution_count": 18,
   "metadata": {},
   "outputs": [
    {
     "name": "stdout",
     "output_type": "stream",
     "text": [
      "It takes 78.748  seconds for Logistic Regression fitting\n",
      "Accuracy with lr on testing set is: 0.824\n",
      "PREDICTION   pay  default  Total\n",
      "TRUE                            \n",
      "pay         6687      322   7009\n",
      "default     1259      732   1991\n",
      "Total       7946     1054   9000\n",
      "              precision    recall  f1-score   support\n",
      "\n",
      "           0       0.84      0.95      0.89      7009\n",
      "           1       0.69      0.37      0.48      1991\n",
      "\n",
      "   micro avg       0.82      0.82      0.82      9000\n",
      "   macro avg       0.77      0.66      0.69      9000\n",
      "weighted avg       0.81      0.82      0.80      9000\n",
      "\n"
     ]
    },
    {
     "data": {
      "image/png": "[encoded data removed]",
      "text/plain": [
       "<Figure size 432x288 with 1 Axes>"
      ]
     },
     "metadata": {
      "needs_background": "light"
     },
     "output_type": "display_data"
    }
   ],
   "source": [
    "#### Step 3: Instantiate the Estimator\n",
    "\n",
    "# Append classifier to preprocessing pipeline.\n",
    "# Now we have a full prediction pipeline.\n",
    "from sklearn.linear_model import LogisticRegression\n",
    "\n",
    "lr = Pipeline(steps=[('preprocessor', preprocessor),\n",
    "                     ('classifier', LogisticRegression(solver='liblinear', random_state=21))])\n",
    "\n",
    "#### Step 4: Specify the Hyperparameter Space\n",
    "\n",
    "param_grid_lr = {\n",
    "    \n",
    "    'classifier__C': np.logspace(-5, 8, 15),\n",
    "    'classifier__penalty': ['l1', 'l2']\n",
    "}\n",
    "\n",
    "#### Step 5: Instantiate the CV Object\n",
    "\n",
    "lr_cv = GridSearchCV(lr, param_grid_lr, cv=5, iid=False)\n",
    "\n",
    "#### Step 6: Fit on Training\n",
    "\n",
    "t0 = time.time()\n",
    "lr_cv.fit(X_train, y_train)\n",
    "ttt = time.time() - t0 # ttt stands for \"time to train\"\n",
    "print(\"It takes %.3f\" % ttt, \" seconds for Logistic Regression fitting\")\n",
    "metrics.loc['Time to Train', 'LR'] = ttt\n",
    "\n",
    "#### Step 7: Predict on Test\n",
    "\n",
    "y_pred = lr_cv.predict(X_test)\n",
    "\n",
    "#### Step 8: Scoring\n",
    "\n",
    "##### Accuracy\n",
    "\n",
    "print(\"Accuracy with lr on testing set is: %.3f\" % lr_cv.score(X_test, y_test))\n",
    "# Latest accuracy is 0.82\n",
    "\n",
    "metrics.loc['accuracy', 'LR'] = accuracy_score(y_pred=y_pred, y_true=y_test)\n",
    "metrics.loc['precision', 'LR'] = precision_score(y_pred=y_pred, y_true=y_test)\n",
    "metrics.loc['recall', 'LR'] = recall_score(y_pred=y_pred, y_true=y_test)\n",
    "\n",
    "y_pred_prob = lr_cv.predict_proba(X_test)[:,1]\n",
    "metrics.loc['AUC', 'LR'] = roc_auc_score(y_test, y_pred_prob)\n",
    "\n",
    "print(Conf_Matrix(confusion_matrix(y_test, y_pred)))\n",
    "print(classification_report(y_test, y_pred))\n",
    "\n",
    "# ROC Curve\n",
    "fpr, tpr, thresholds  = roc_curve(y_test, y_pred_prob)\n",
    "plt.plot([0,1], [0,1], 'k--')\n",
    "plt.plot(fpr, tpr, label='Logistic Regression')\n",
    "plt.xlabel('False Positive Rate')\n",
    "plt.ylabel('True Positive Rate')\n",
    "plt.title('Logistic Regression ROC Curve')\n",
    "plt.show()"
   ]
  },
  {
   "cell_type": "markdown",
   "metadata": {},
   "source": [
    "*Area under the Curve*"
   ]
  },
  {
   "cell_type": "code",
   "execution_count": 19,
   "metadata": {},
   "outputs": [
    {
     "data": {
      "text/plain": [
       "0.7707402314553027"
      ]
     },
     "execution_count": 19,
     "metadata": {},
     "output_type": "execute_result"
    }
   ],
   "source": [
    "roc_auc_score(y_test, y_pred_prob)"
   ]
  },
  {
   "cell_type": "markdown",
   "metadata": {},
   "source": [
    "So by comparing our model to the dumb model by precision and f1-score in addition to simple recall, we see that our model is in fact a substantial improvement. Weighted precision increases by 0.2, and the weighted f1-score by 0.12. "
   ]
  },
  {
   "cell_type": "markdown",
   "metadata": {},
   "source": [
    "###### Best parameters"
   ]
  },
  {
   "cell_type": "code",
   "execution_count": 20,
   "metadata": {},
   "outputs": [
    {
     "name": "stdout",
     "output_type": "stream",
     "text": [
      "mean cross-validated score of the best_estimator: 0.818 \n",
      "Parameter setting that gave the best results on the hold out data: C = 11787686.348\n",
      "Parameter setting that gave the best results on the hold out data: penalty = l2\n"
     ]
    }
   ],
   "source": [
    "print(\"mean cross-validated score of the best_estimator: %.3f \" % lr_cv.best_score_)\n",
    "print(\"Parameter setting that gave the best results on the hold out data: C = %.3f\" % lr_cv.best_params_.get('classifier__C'))\n",
    "print(\"Parameter setting that gave the best results on the hold out data: penalty =\", lr_cv.best_params_.get('classifier__penalty'))"
   ]
  },
  {
   "cell_type": "code",
   "execution_count": 21,
   "metadata": {},
   "outputs": [
    {
     "name": "stdout",
     "output_type": "stream",
     "text": [
      "Total Number of Features: 74\n",
      " Number of Selected Features: 74\n"
     ]
    }
   ],
   "source": [
    "coefs = lr_cv.best_estimator_.named_steps['classifier'].coef_\n",
    "print(\"Total Number of Features:\", coefs.size)\n",
    "print(\" Number of Selected Features:\", np.count_nonzero(coefs))"
   ]
  },
  {
   "cell_type": "markdown",
   "metadata": {},
   "source": [
    "###### Feature Engineering"
   ]
  },
  {
   "cell_type": "markdown",
   "metadata": {},
   "source": [
    "Looking at records with low probability of default, but that default:"
   ]
  },
  {
   "cell_type": "code",
   "execution_count": 22,
   "metadata": {},
   "outputs": [],
   "source": [
    "train_data = X_train.join(y_train)\n",
    "test_data = X_test.join(y_test)\n",
    "\n",
    "if ('prob_of_default' in train_data):\n",
    "    train_data = train_data.drop(columns=['prob_of_default'])\n",
    "if ('prob_of_default' in test_data):\n",
    "    test_data = test_data.drop(columns=['prob_of_default'])\n",
    "\n",
    "probs_train = lr_cv.predict_proba(X_train)[:,1] # probs = probability of default\n",
    "probs_test = lr_cv.predict_proba(X_test)[:,1] # probs = probability of default\n",
    "\n",
    "train_data['prob_of_default'] = probs_train\n",
    "test_data['prob_of_default'] = probs_test\n",
    "\n",
    "train_data['train/test'] = 'train'\n",
    "test_data['train/test'] = 'test'\n",
    "\n",
    "new_data = train_data.append(test_data).sort_index()"
   ]
  },
  {
   "cell_type": "code",
   "execution_count": 23,
   "metadata": {},
   "outputs": [],
   "source": [
    "train_ranked = new_data.loc[new_data['train/test'] == 'train'].sort_values(by='prob_of_default')\n",
    "test_ranked = new_data.loc[new_data['train/test'] == 'test'].sort_values(by='prob_of_default')"
   ]
  },
  {
   "cell_type": "markdown",
   "metadata": {},
   "source": [
    "These guys in the training set default with a low probability of default:"
   ]
  },
  {
   "cell_type": "code",
   "execution_count": 24,
   "metadata": {},
   "outputs": [
    {
     "data": {
      "text/html": [
       "<div>\n",
       "<style scoped>\n",
       "    .dataframe tbody tr th:only-of-type {\n",
       "        vertical-align: middle;\n",
       "    }\n",
       "\n",
       "    .dataframe tbody tr th {\n",
       "        vertical-align: top;\n",
       "    }\n",
       "\n",
       "    .dataframe thead th {\n",
       "        text-align: right;\n",
       "    }\n",
       "</style>\n",
       "<table border=\"1\" class=\"dataframe\">\n",
       "  <thead>\n",
       "    <tr style=\"text-align: right;\">\n",
       "      <th></th>\n",
       "      <th>LIMIT_BAL</th>\n",
       "      <th>SEX</th>\n",
       "      <th>EDUCATION</th>\n",
       "      <th>MARRIAGE</th>\n",
       "      <th>AGE</th>\n",
       "      <th>PAY_1</th>\n",
       "      <th>PAY_2</th>\n",
       "      <th>PAY_3</th>\n",
       "      <th>PAY_4</th>\n",
       "      <th>PAY_5</th>\n",
       "      <th>PAY_6</th>\n",
       "      <th>BILL_AMT1</th>\n",
       "      <th>BILL_AMT2</th>\n",
       "      <th>BILL_AMT3</th>\n",
       "      <th>BILL_AMT4</th>\n",
       "      <th>BILL_AMT5</th>\n",
       "      <th>BILL_AMT6</th>\n",
       "      <th>PAY_AMT1</th>\n",
       "      <th>PAY_AMT2</th>\n",
       "      <th>PAY_AMT3</th>\n",
       "      <th>PAY_AMT4</th>\n",
       "      <th>PAY_AMT5</th>\n",
       "      <th>PAY_AMT6</th>\n",
       "      <th>default</th>\n",
       "      <th>prob_of_default</th>\n",
       "      <th>train/test</th>\n",
       "    </tr>\n",
       "  </thead>\n",
       "  <tbody>\n",
       "    <tr>\n",
       "      <th>18967</th>\n",
       "      <td>480000.0</td>\n",
       "      <td>2</td>\n",
       "      <td>2</td>\n",
       "      <td>2</td>\n",
       "      <td>30.0</td>\n",
       "      <td>0</td>\n",
       "      <td>0</td>\n",
       "      <td>0</td>\n",
       "      <td>0</td>\n",
       "      <td>0</td>\n",
       "      <td>0</td>\n",
       "      <td>470400.0</td>\n",
       "      <td>0.0</td>\n",
       "      <td>0.0</td>\n",
       "      <td>0.0</td>\n",
       "      <td>0.0</td>\n",
       "      <td>330982.0</td>\n",
       "      <td>0.0</td>\n",
       "      <td>0.0</td>\n",
       "      <td>0.0</td>\n",
       "      <td>0.0</td>\n",
       "      <td>330982.0</td>\n",
       "      <td>30000.0</td>\n",
       "      <td>1</td>\n",
       "      <td>0.00883</td>\n",
       "      <td>train</td>\n",
       "    </tr>\n",
       "  </tbody>\n",
       "</table>\n",
       "</div>"
      ],
      "text/plain": [
       "       LIMIT_BAL  SEX  EDUCATION  MARRIAGE   AGE  PAY_1  PAY_2  PAY_3  PAY_4  \\\n",
       "18967   480000.0    2          2         2  30.0      0      0      0      0   \n",
       "\n",
       "       PAY_5  PAY_6  BILL_AMT1  BILL_AMT2  BILL_AMT3  BILL_AMT4  BILL_AMT5  \\\n",
       "18967      0      0   470400.0        0.0        0.0        0.0        0.0   \n",
       "\n",
       "       BILL_AMT6  PAY_AMT1  PAY_AMT2  PAY_AMT3  PAY_AMT4  PAY_AMT5  PAY_AMT6  \\\n",
       "18967   330982.0       0.0       0.0       0.0       0.0  330982.0   30000.0   \n",
       "\n",
       "       default  prob_of_default train/test  \n",
       "18967        1          0.00883      train  "
      ]
     },
     "execution_count": 24,
     "metadata": {},
     "output_type": "execute_result"
    }
   ],
   "source": [
    "train_ranked.loc[(train_ranked.prob_of_default < 0.5) & (train_ranked.default == 1)].head(1)"
   ]
  },
  {
   "cell_type": "markdown",
   "metadata": {},
   "source": [
    "1. Individual 18967 defaults with an assigned default probability of about 1%. This seems to have happened because she had a very large bill statement in September, just before the bankruptcy point. One takeaway then is to look at all customers with large bills in September and see how many default. "
   ]
  },
  {
   "cell_type": "code",
   "execution_count": 25,
   "metadata": {},
   "outputs": [
    {
     "data": {
      "text/plain": [
       "0.136935318275154"
      ]
     },
     "execution_count": 25,
     "metadata": {},
     "output_type": "execute_result"
    }
   ],
   "source": [
    "train_ranked.loc[(train_ranked.PAY_1 == 0 ) & (train_ranked.BILL_AMT1 > 0)].default.mean()"
   ]
  },
  {
   "cell_type": "markdown",
   "metadata": {},
   "source": [
    "It's not the case that customers with PAY_1 = 0 and BILL_AMT1 > 0 default more than the average. Actually, they default less than the average. What about if we also factor in PAY_AMT1?"
   ]
  },
  {
   "cell_type": "code",
   "execution_count": 26,
   "metadata": {},
   "outputs": [
    {
     "data": {
      "text/plain": [
       "0.2199248120300752"
      ]
     },
     "execution_count": 26,
     "metadata": {},
     "output_type": "execute_result"
    }
   ],
   "source": [
    "train_ranked.loc[(train_ranked.PAY_1 == 0 ) & (train_ranked.BILL_AMT1 > 0) & (train_ranked.PAY_AMT1 == 0)].default.mean()"
   ]
  },
  {
   "cell_type": "markdown",
   "metadata": {},
   "source": [
    "Definately higher, but only about the mean now. Can't create rule based on this."
   ]
  },
  {
   "cell_type": "code",
   "execution_count": 27,
   "metadata": {},
   "outputs": [
    {
     "data": {
      "text/plain": [
       "prob_of_default    1.000000\n",
       "PAY_1              0.863029\n",
       "PAY_2              0.717395\n",
       "PAY_3              0.620480\n",
       "PAY_4              0.569325\n",
       "PAY_5              0.553851\n",
       "PAY_6              0.529636\n",
       "default            0.448361\n",
       "EDUCATION          0.072890\n",
       "AGE                0.029637\n",
       "BILL_AMT6         -0.012711\n",
       "BILL_AMT5         -0.014154\n",
       "BILL_AMT4         -0.023444\n",
       "BILL_AMT3         -0.027448\n",
       "BILL_AMT2         -0.027862\n",
       "BILL_AMT1         -0.038587\n",
       "MARRIAGE          -0.057828\n",
       "SEX               -0.076356\n",
       "PAY_AMT6          -0.111737\n",
       "PAY_AMT4          -0.120900\n",
       "PAY_AMT5          -0.123392\n",
       "PAY_AMT2          -0.123649\n",
       "PAY_AMT3          -0.141162\n",
       "PAY_AMT1          -0.170352\n",
       "LIMIT_BAL         -0.327910\n",
       "Name: prob_of_default, dtype: float64"
      ]
     },
     "execution_count": 27,
     "metadata": {},
     "output_type": "execute_result"
    }
   ],
   "source": [
    "train_ranked.corr()['prob_of_default'].sort_values(ascending=False)"
   ]
  },
  {
   "cell_type": "markdown",
   "metadata": {},
   "source": [
    "Probability of default is most highly correlated with repayment status, with stength of correlation increasing with time. Makes sense."
   ]
  },
  {
   "cell_type": "markdown",
   "metadata": {},
   "source": [
    "#### 2nd Model: KNN"
   ]
  },
  {
   "cell_type": "code",
   "execution_count": 28,
   "metadata": {},
   "outputs": [
    {
     "name": "stdout",
     "output_type": "stream",
     "text": [
      "It takes 301.855  seconds for KNN fitting\n",
      "Accuracy with KNN on the test set is: 0.821\n",
      "PREDICTION   pay  default  Total\n",
      "TRUE                            \n",
      "pay         6695      314   7009\n",
      "default     1297      694   1991\n",
      "Total       7992     1008   9000\n",
      "              precision    recall  f1-score   support\n",
      "\n",
      "           0       0.84      0.96      0.89      7009\n",
      "           1       0.69      0.35      0.46      1991\n",
      "\n",
      "   micro avg       0.82      0.82      0.82      9000\n",
      "   macro avg       0.76      0.65      0.68      9000\n",
      "weighted avg       0.80      0.82      0.80      9000\n",
      "\n"
     ]
    },
    {
     "data": {
      "image/png": "[encoded data removed]",
      "text/plain": [
       "<Figure size 432x288 with 1 Axes>"
      ]
     },
     "metadata": {
      "needs_background": "light"
     },
     "output_type": "display_data"
    }
   ],
   "source": [
    "from sklearn.neighbors import KNeighborsClassifier\n",
    "\n",
    "#3\n",
    "knn = Pipeline(steps=[('preprocessor', preprocessor),\n",
    "                     ('classifier', KNeighborsClassifier())])\n",
    "#4\n",
    "param_grid_knn = {\n",
    "    'classifier__n_neighbors': np.arange(1,20)\n",
    "}\n",
    "\n",
    "#5\n",
    "knn_cv = RandomizedSearchCV(knn, param_grid_knn, cv=3, iid=False)\n",
    "\n",
    "#6\n",
    "t0 = time.time()\n",
    "knn_cv.fit(X_train, y_train)\n",
    "ttt = time.time() - t0 # ttt stands for \"time to train\"\n",
    "print(\"It takes %.3f\" % ttt, \" seconds for KNN fitting\")\n",
    "metrics.loc['Time to Train', 'KNN'] = ttt\n",
    "\n",
    "#7\n",
    "y_pred = knn_cv.predict(X_test)\n",
    "\n",
    "#8\n",
    "print(\"Accuracy with KNN on the test set is: %.3f\" % knn_cv.score(X_test, y_test))\n",
    "# latest accuracy is 0.81\n",
    "\n",
    "metrics.loc['accuracy', 'KNN'] = accuracy_score(y_pred=y_pred, y_true=y_test)\n",
    "metrics.loc['precision', 'KNN'] = precision_score(y_pred=y_pred, y_true=y_test)\n",
    "metrics.loc['recall', 'KNN'] = recall_score(y_pred=y_pred, y_true=y_test)\n",
    "\n",
    "y_pred_prob = knn_cv.predict_proba(X_test)[:,1]\n",
    "metrics.loc['AUC', 'KNN'] = roc_auc_score(y_test, y_pred_prob)\n",
    "\n",
    "print(Conf_Matrix(confusion_matrix(y_test, y_pred)))\n",
    "print(classification_report(y_test, y_pred))\n",
    "\n",
    "\n",
    "# ROC Curve\n",
    "fpr, tpr, thresholds  = roc_curve(y_test, y_pred_prob)\n",
    "plt.plot([0,1], [0,1], 'k--')\n",
    "plt.plot(fpr, tpr, label='KNN')\n",
    "plt.xlabel('False Positive Rate')\n",
    "plt.ylabel('True Positive Rate')\n",
    "plt.title('KNN ROC Curve')\n",
    "plt.show()"
   ]
  },
  {
   "cell_type": "markdown",
   "metadata": {},
   "source": [
    "###### Best parameters"
   ]
  },
  {
   "cell_type": "code",
   "execution_count": 29,
   "metadata": {},
   "outputs": [
    {
     "name": "stdout",
     "output_type": "stream",
     "text": [
      "mean cross-validated score of the best_estimator: 0.814 \n",
      "Parameter setting that gave the best results on the hold out data: n_neighbors = 19\n"
     ]
    }
   ],
   "source": [
    "print(\"mean cross-validated score of the best_estimator: %.3f \" % knn_cv.best_score_)\n",
    "print(\"Parameter setting that gave the best results on the hold out data: n_neighbors =\", knn_cv.best_params_.get('classifier__n_neighbors'))"
   ]
  },
  {
   "cell_type": "code",
   "execution_count": null,
   "metadata": {},
   "outputs": [],
   "source": []
  },
  {
   "cell_type": "code",
   "execution_count": null,
   "metadata": {},
   "outputs": [],
   "source": []
  },
  {
   "cell_type": "code",
   "execution_count": null,
   "metadata": {},
   "outputs": [],
   "source": []
  },
  {
   "cell_type": "code",
   "execution_count": null,
   "metadata": {},
   "outputs": [],
   "source": []
  },
  {
   "cell_type": "markdown",
   "metadata": {},
   "source": [
    "#### 3nd Model: Support Vector Machine"
   ]
  },
  {
   "cell_type": "code",
   "execution_count": 30,
   "metadata": {},
   "outputs": [
    {
     "name": "stdout",
     "output_type": "stream",
     "text": [
      "It takes 11042.278  seconds for SVM fitting\n",
      "Accuracy with SVM on the test set is: 0.826\n",
      "PREDICTION   pay  default  Total\n",
      "TRUE                            \n",
      "pay         6702      307   7009\n",
      "default     1261      730   1991\n",
      "Total       7963     1037   9000\n",
      "              precision    recall  f1-score   support\n",
      "\n",
      "           0       0.84      0.96      0.90      7009\n",
      "           1       0.70      0.37      0.48      1991\n",
      "\n",
      "   micro avg       0.83      0.83      0.83      9000\n",
      "   macro avg       0.77      0.66      0.69      9000\n",
      "weighted avg       0.81      0.83      0.80      9000\n",
      "\n"
     ]
    }
   ],
   "source": [
    "from sklearn.svm import SVC\n",
    "#3\n",
    "svm = Pipeline(steps=[('preprocessor', preprocessor),\n",
    "                     ('classifier', SVC())])\n",
    "#4\n",
    "param_grid_svm = {\n",
    "    'classifier__C': [0.1, 1, 10, 100],\n",
    "    'classifier__gamma': [1, 0.1, 0.01]\n",
    "}\n",
    "\n",
    "#5\n",
    "svm_cv = RandomizedSearchCV(svm, param_grid_svm, cv=3, iid=False)\n",
    "\n",
    "#6\n",
    "t0 = time.time()\n",
    "svm_cv.fit(X_train, y_train)\n",
    "ttt = time.time() - t0 # ttt stands for \"time to train\"\n",
    "print(\"It takes %.3f\" % ttt, \" seconds for SVM fitting\")\n",
    "metrics.loc['Time to Train', 'SVM'] = ttt\n",
    "\n",
    "#7\n",
    "y_pred = svm_cv.predict(X_test)\n",
    "\n",
    "#8\n",
    "print(\"Accuracy with SVM on the test set is: %.3f\" % svm_cv.score(X_test, y_test))\n",
    "\n",
    "metrics.loc['accuracy', 'SVM'] = accuracy_score(y_pred=y_pred, y_true=y_test)\n",
    "metrics.loc['precision', 'SVM'] = precision_score(y_pred=y_pred, y_true=y_test)\n",
    "metrics.loc['recall', 'SVM'] = recall_score(y_pred=y_pred, y_true=y_test)\n",
    "\n",
    "# SVC class doesn't have a predict_proba method\n",
    "# y_pred_prob = svm_cv.predict_proba(X_test)[:,1]\n",
    "# metrics.loc['AUC', 'SVM'] = roc_auc_score(y_test, y_pred_prob)\n",
    "\n",
    "print(Conf_Matrix(confusion_matrix(y_test, y_pred)))\n",
    "print(classification_report(y_test, y_pred))\n",
    "\n",
    "# No ROC Curve because no predict_proba method\n",
    "# ROC Curve\n",
    "# fpr, tpr, thresholds  = roc_curve(y_test, y_pred_prob)\n",
    "# plt.plot([0,1], [0,1], 'k--')\n",
    "# plt.plot(fpr, tpr, label='SVM')\n",
    "# plt.xlabel('False Positive Rate')\n",
    "# plt.ylabel('True Positive Rate')\n",
    "# plt.title('SVM ROC Curve')\n",
    "# plt.show()"
   ]
  },
  {
   "cell_type": "markdown",
   "metadata": {},
   "source": [
    "###### Best parameters"
   ]
  },
  {
   "cell_type": "code",
   "execution_count": 31,
   "metadata": {},
   "outputs": [
    {
     "name": "stdout",
     "output_type": "stream",
     "text": [
      "mean cross-validated score of the best_estimator: 0.818 \n",
      "Parameter setting that gave the best results on the hold out data: C = 1\n",
      "Parameter setting that gave the best results on the hold out data: gamma = 0.1\n"
     ]
    }
   ],
   "source": [
    "print(\"mean cross-validated score of the best_estimator: %.3f \" % svm_cv.best_score_)\n",
    "print(\"Parameter setting that gave the best results on the hold out data: C =\", svm_cv.best_params_.get('classifier__C'))\n",
    "print(\"Parameter setting that gave the best results on the hold out data: gamma =\", svm_cv.best_params_.get('classifier__gamma'))"
   ]
  },
  {
   "cell_type": "code",
   "execution_count": null,
   "metadata": {},
   "outputs": [],
   "source": []
  },
  {
   "cell_type": "code",
   "execution_count": null,
   "metadata": {},
   "outputs": [],
   "source": []
  },
  {
   "cell_type": "markdown",
   "metadata": {},
   "source": [
    "#### 4th Model: Decision Tree"
   ]
  },
  {
   "cell_type": "code",
   "execution_count": 32,
   "metadata": {},
   "outputs": [
    {
     "name": "stdout",
     "output_type": "stream",
     "text": [
      "It takes 10.724  seconds for dt fitting\n",
      "Accuracy with dt on the test set is: 0.815\n",
      "PREDICTION   pay  default  Total\n",
      "TRUE                            \n",
      "pay         6763      246   7009\n",
      "default     1415      576   1991\n",
      "Total       8178      822   9000\n",
      "              precision    recall  f1-score   support\n",
      "\n",
      "           0       0.83      0.96      0.89      7009\n",
      "           1       0.70      0.29      0.41      1991\n",
      "\n",
      "   micro avg       0.82      0.82      0.82      9000\n",
      "   macro avg       0.76      0.63      0.65      9000\n",
      "weighted avg       0.80      0.82      0.78      9000\n",
      "\n"
     ]
    },
    {
     "data": {
      "image/png": "[encoded data removed]",
      "text/plain": [
       "<Figure size 432x288 with 1 Axes>"
      ]
     },
     "metadata": {
      "needs_background": "light"
     },
     "output_type": "display_data"
    }
   ],
   "source": [
    "# Import necessary modules \n",
    "from sklearn.tree import DecisionTreeClassifier\n",
    "\n",
    "#3\n",
    "dt = Pipeline(steps=[('preprocessor', preprocessor),\n",
    "                     ('classifier', DecisionTreeClassifier(random_state=21))])\n",
    "#4\n",
    "# Setup the parameters and distributions to sample from: param_dist\n",
    "param_grid_dt = {'classifier__max_depth': [3, 10, 20, None],\n",
    "                'classifier__max_features': randint(1, 9),\n",
    "                'classifier__min_samples_leaf': randint(1, 9),\n",
    "                'classifier__min_samples_split': randint(2, 9),\n",
    "                'classifier__criterion': [\"gini\", \"entropy\"]}\n",
    "\n",
    "#5\n",
    "dt_cv = RandomizedSearchCV(dt, param_grid_dt, cv=10, iid=False)\n",
    "\n",
    "#6\n",
    "t0 = time.time()\n",
    "dt_cv.fit(X_train, y_train)\n",
    "ttt = time.time() - t0 # ttt stands for \"time to train\"\n",
    "print(\"It takes %.3f\" % ttt, \" seconds for dt fitting\")\n",
    "metrics.loc['Time to Train', 'DT'] = ttt\n",
    "\n",
    "#7\n",
    "y_pred = dt_cv.predict(X_test)\n",
    "\n",
    "#8\n",
    "print(\"Accuracy with dt on the test set is: %.3f\" % dt_cv.score(X_test, y_test))\n",
    "\n",
    "metrics.loc['accuracy', 'DT'] = accuracy_score(y_pred=y_pred, y_true=y_test)\n",
    "metrics.loc['precision', 'DT'] = precision_score(y_pred=y_pred, y_true=y_test)\n",
    "metrics.loc['recall', 'DT'] = recall_score(y_pred=y_pred, y_true=y_test)\n",
    "\n",
    "y_pred_prob = dt_cv.predict_proba(X_test)[:,1]\n",
    "metrics.loc['AUC', 'DT'] = roc_auc_score(y_test, y_pred_prob)\n",
    "\n",
    "print(Conf_Matrix(confusion_matrix(y_test, y_pred)))\n",
    "print(classification_report(y_test, y_pred))\n",
    "\n",
    "\n",
    "# ROC Curve\n",
    "fpr, tpr, thresholds  = roc_curve(y_test, y_pred_prob)\n",
    "plt.plot([0,1], [0,1], 'k--')\n",
    "plt.plot(fpr, tpr, label='Decision Tree')\n",
    "plt.xlabel('False Positive Rate')\n",
    "plt.ylabel('True Positive Rate')\n",
    "plt.title('DT ROC Curve')\n",
    "plt.show()"
   ]
  },
  {
   "cell_type": "markdown",
   "metadata": {},
   "source": [
    "##### Best parameters"
   ]
  },
  {
   "cell_type": "code",
   "execution_count": 33,
   "metadata": {},
   "outputs": [
    {
     "name": "stdout",
     "output_type": "stream",
     "text": [
      "mean cross-validated score of the best_estimator: 0.811 \n",
      "Parameter setting that gave the best results on the hold out data: max_depth = 3\n",
      "Parameter setting that gave the best results on the hold out data: max_features = 4\n",
      "Parameter setting that gave the best results on the hold out data: min_samples_leaf = 1\n",
      "Parameter setting that gave the best results on the hold out data: min_samples_split = 3\n",
      "Parameter setting that gave the best results on the hold out data: criterion = gini\n"
     ]
    }
   ],
   "source": [
    "print(\"mean cross-validated score of the best_estimator: %.3f \" % dt_cv.best_score_)\n",
    "print(\"Parameter setting that gave the best results on the hold out data: max_depth =\", dt_cv.best_params_.get('classifier__max_depth'))\n",
    "print(\"Parameter setting that gave the best results on the hold out data: max_features =\", dt_cv.best_params_.get('classifier__max_features'))\n",
    "print(\"Parameter setting that gave the best results on the hold out data: min_samples_leaf =\", dt_cv.best_params_.get('classifier__min_samples_leaf'))\n",
    "print(\"Parameter setting that gave the best results on the hold out data: min_samples_split =\", dt_cv.best_params_.get('classifier__min_samples_split'))\n",
    "print(\"Parameter setting that gave the best results on the hold out data: criterion =\", dt_cv.best_params_.get('classifier__criterion'))"
   ]
  },
  {
   "cell_type": "code",
   "execution_count": null,
   "metadata": {},
   "outputs": [],
   "source": []
  },
  {
   "cell_type": "code",
   "execution_count": null,
   "metadata": {},
   "outputs": [],
   "source": []
  },
  {
   "cell_type": "markdown",
   "metadata": {},
   "source": [
    "#### 5th Model: RandomForest"
   ]
  },
  {
   "cell_type": "code",
   "execution_count": 34,
   "metadata": {},
   "outputs": [],
   "source": [
    "#%run import_data.py"
   ]
  },
  {
   "cell_type": "code",
   "execution_count": 35,
   "metadata": {},
   "outputs": [],
   "source": [
    "#%run -i std_preprocessing_and_splitting.py"
   ]
  },
  {
   "cell_type": "code",
   "execution_count": 36,
   "metadata": {},
   "outputs": [
    {
     "name": "stdout",
     "output_type": "stream",
     "text": [
      "It takes 116.119  seconds for rf fitting\n",
      "Accuracy with RF on the test set is: 0.822\n",
      "PREDICTION   pay  default  Total\n",
      "TRUE                            \n",
      "pay         6700      309   7009\n",
      "default     1296      695   1991\n",
      "Total       7996     1004   9000\n",
      "              precision    recall  f1-score   support\n",
      "\n",
      "           0       0.84      0.96      0.89      7009\n",
      "           1       0.69      0.35      0.46      1991\n",
      "\n",
      "   micro avg       0.82      0.82      0.82      9000\n",
      "   macro avg       0.77      0.65      0.68      9000\n",
      "weighted avg       0.81      0.82      0.80      9000\n",
      "\n"
     ]
    },
    {
     "data": {
      "image/png": "[encoded data removed]",
      "text/plain": [
       "<Figure size 432x288 with 1 Axes>"
      ]
     },
     "metadata": {
      "needs_background": "light"
     },
     "output_type": "display_data"
    }
   ],
   "source": [
    "# Import necessary modules \n",
    "\n",
    "from sklearn.ensemble import RandomForestClassifier\n",
    "\n",
    "#3\n",
    "rf = Pipeline(steps=[('preprocessor', preprocessor),\n",
    "                     ('classifier', RandomForestClassifier())])\n",
    "#4\n",
    "# Setup the parameters and distributions to sample from: param_dist\n",
    "param_grid_rf = {'classifier__n_estimators': [50, 100],\n",
    "                'classifier__criterion': [\"gini\", \"entropy\"],\n",
    "                 'classifier__max_depth': [3, 10, 20, None],\n",
    "                 'classifier__min_samples_leaf': randint(1, 9),\n",
    "                 'classifier__min_samples_split': randint(1, 9),\n",
    "                 'classifier__max_features': randint(1, 9)\n",
    "                }\n",
    "\n",
    "#5\n",
    "rf_cv = RandomizedSearchCV(rf, param_grid_rf, cv=10, iid=False)\n",
    "\n",
    "#6\n",
    "t0 = time.time()\n",
    "rf_cv.fit(X_train, y_train)\n",
    "ttt = time.time() - t0 # ttt stands for \"time to train\"\n",
    "print(\"It takes %.3f\" % ttt, \" seconds for rf fitting\")\n",
    "metrics.loc['Time to Train', 'RF'] = ttt\n",
    "\n",
    "#7\n",
    "y_pred = rf_cv.predict(X_test)\n",
    "\n",
    "#8\n",
    "print(\"Accuracy with RF on the test set is: %.3f\" % rf_cv.score(X_test, y_test))\n",
    "\n",
    "metrics.loc['accuracy', 'RF'] = accuracy_score(y_pred=y_pred, y_true=y_test)\n",
    "metrics.loc['precision', 'RF'] = precision_score(y_pred=y_pred, y_true=y_test)\n",
    "metrics.loc['recall', 'RF'] = recall_score(y_pred=y_pred, y_true=y_test)\n",
    "\n",
    "y_pred_prob = rf_cv.predict_proba(X_test)[:,1]\n",
    "metrics.loc['AUC', 'RF'] = roc_auc_score(y_test, y_pred_prob)\n",
    "\n",
    "print(Conf_Matrix(confusion_matrix(y_test, y_pred)))\n",
    "print(classification_report(y_test, y_pred))\n",
    "\n",
    "\n",
    "# ROC Curve\n",
    "fpr, tpr, thresholds  = roc_curve(y_test, y_pred_prob)\n",
    "plt.plot([0,1], [0,1], 'k--')\n",
    "plt.plot(fpr, tpr, label='Random Forest')\n",
    "plt.xlabel('False Positive Rate')\n",
    "plt.ylabel('True Positive Rate')\n",
    "plt.title('RF ROC Curve')\n",
    "plt.show()"
   ]
  },
  {
   "cell_type": "markdown",
   "metadata": {},
   "source": [
    "##### Best Parameters"
   ]
  },
  {
   "cell_type": "code",
   "execution_count": 37,
   "metadata": {},
   "outputs": [
    {
     "name": "stdout",
     "output_type": "stream",
     "text": [
      "mean cross-validated score of the best_estimator: 0.817 \n",
      "Parameter setting that gave the best results on the hold out data: n_estimators = 100\n",
      "Parameter setting that gave the best results on the hold out data: max_depth = None\n",
      "Parameter setting that gave the best results on the hold out data: max_features = 5\n",
      "Parameter setting that gave the best results on the hold out data: min_samples_leaf = 5\n",
      "Parameter setting that gave the best results on the hold out data: min_samples_split = 5\n",
      "Parameter setting that gave the best results on the hold out data: criterion = entropy\n"
     ]
    }
   ],
   "source": [
    "print(\"mean cross-validated score of the best_estimator: %.3f \" % rf_cv.best_score_)\n",
    "print(\"Parameter setting that gave the best results on the hold out data: n_estimators =\", rf_cv.best_params_.get('classifier__n_estimators'))\n",
    "print(\"Parameter setting that gave the best results on the hold out data: max_depth =\", rf_cv.best_params_.get('classifier__max_depth'))\n",
    "print(\"Parameter setting that gave the best results on the hold out data: max_features =\", rf_cv.best_params_.get('classifier__max_features'))\n",
    "print(\"Parameter setting that gave the best results on the hold out data: min_samples_leaf =\", rf_cv.best_params_.get('classifier__min_samples_leaf'))\n",
    "print(\"Parameter setting that gave the best results on the hold out data: min_samples_split =\", rf_cv.best_params_.get('classifier__min_samples_split'))\n",
    "print(\"Parameter setting that gave the best results on the hold out data: criterion =\", rf_cv.best_params_.get('classifier__criterion'))"
   ]
  },
  {
   "cell_type": "code",
   "execution_count": null,
   "metadata": {},
   "outputs": [],
   "source": []
  },
  {
   "cell_type": "code",
   "execution_count": null,
   "metadata": {},
   "outputs": [],
   "source": []
  },
  {
   "cell_type": "markdown",
   "metadata": {},
   "source": [
    "#### 6th Model: Naive Bayes"
   ]
  },
  {
   "cell_type": "code",
   "execution_count": 39,
   "metadata": {},
   "outputs": [
    {
     "name": "stdout",
     "output_type": "stream",
     "text": [
      "It takes 0.078  seconds for nb fitting\n",
      "Accuracy with nb on the test set is: 0.806\n",
      "PREDICTION   pay  default  Total\n",
      "TRUE                            \n",
      "pay         6798      211   7009\n",
      "default     1537      454   1991\n",
      "Total       8335      665   9000\n",
      "              precision    recall  f1-score   support\n",
      "\n",
      "           0       0.82      0.97      0.89      7009\n",
      "           1       0.68      0.23      0.34      1991\n",
      "\n",
      "   micro avg       0.81      0.81      0.81      9000\n",
      "   macro avg       0.75      0.60      0.61      9000\n",
      "weighted avg       0.79      0.81      0.77      9000\n",
      "\n"
     ]
    },
    {
     "data": {
      "image/png": "[encoded data removed]",
      "text/plain": [
       "<Figure size 432x288 with 1 Axes>"
      ]
     },
     "metadata": {
      "needs_background": "light"
     },
     "output_type": "display_data"
    }
   ],
   "source": [
    "# Import necessary modules \n",
    "\n",
    "from sklearn.naive_bayes import GaussianNB\n",
    "\n",
    "#3\n",
    "nb = Pipeline(steps=[('preprocessor', preprocessor),\n",
    "                     ('classifier', GaussianNB())])\n",
    "\n",
    "#6\n",
    "t0 = time.time()\n",
    "nb.fit(X_train, y_train)\n",
    "ttt = time.time() - t0 # ttt stands for \"time to train\"\n",
    "print(\"It takes %.3f\" % ttt, \" seconds for nb fitting\")\n",
    "metrics.loc['Time to Train', 'NB'] = ttt\n",
    "\n",
    "#7\n",
    "y_pred = nb.predict(X_test)\n",
    "\n",
    "#8\n",
    "print(\"Accuracy with nb on the test set is: %.3f\" % nb.score(X_test, y_test))\n",
    "\n",
    "metrics.loc['accuracy', 'NB'] = accuracy_score(y_pred=y_pred, y_true=y_test)\n",
    "metrics.loc['precision', 'NB'] = precision_score(y_pred=y_pred, y_true=y_test)\n",
    "metrics.loc['recall', 'NB'] = recall_score(y_pred=y_pred, y_true=y_test)\n",
    "\n",
    "y_pred_prob = nb.predict_proba(X_test)[:,1]\n",
    "metrics.loc['AUC', 'NB'] = roc_auc_score(y_test, y_pred_prob)\n",
    "\n",
    "print(Conf_Matrix(confusion_matrix(y_test, y_pred)))\n",
    "print(classification_report(y_test, y_pred))\n",
    "\n",
    "\n",
    "# ROC Curve\n",
    "fpr, tpr, thresholds  = roc_curve(y_test, y_pred_prob)\n",
    "plt.plot([0,1], [0,1], 'k--')\n",
    "plt.plot(fpr, tpr, label='Naive Bayes')\n",
    "plt.xlabel('False Positive Rate')\n",
    "plt.ylabel('True Positive Rate')\n",
    "plt.title('NB ROC Curve')\n",
    "plt.show()"
   ]
  },
  {
   "cell_type": "code",
   "execution_count": null,
   "metadata": {},
   "outputs": [],
   "source": []
  },
  {
   "cell_type": "code",
   "execution_count": null,
   "metadata": {},
   "outputs": [],
   "source": []
  },
  {
   "cell_type": "markdown",
   "metadata": {},
   "source": [
    "**Comparing the Models**"
   ]
  },
  {
   "cell_type": "code",
   "execution_count": 40,
   "metadata": {},
   "outputs": [
    {
     "data": {
      "text/html": [
       "<div>\n",
       "<style scoped>\n",
       "    .dataframe tbody tr th:only-of-type {\n",
       "        vertical-align: middle;\n",
       "    }\n",
       "\n",
       "    .dataframe tbody tr th {\n",
       "        vertical-align: top;\n",
       "    }\n",
       "\n",
       "    .dataframe thead th {\n",
       "        text-align: right;\n",
       "    }\n",
       "</style>\n",
       "<table border=\"1\" class=\"dataframe\">\n",
       "  <thead>\n",
       "    <tr style=\"text-align: right;\">\n",
       "      <th></th>\n",
       "      <th>Dummy Model</th>\n",
       "      <th>LR</th>\n",
       "      <th>KNN</th>\n",
       "      <th>SVM</th>\n",
       "      <th>DT</th>\n",
       "      <th>RF</th>\n",
       "      <th>NB</th>\n",
       "    </tr>\n",
       "  </thead>\n",
       "  <tbody>\n",
       "    <tr>\n",
       "      <th>accuracy</th>\n",
       "      <td>0.779</td>\n",
       "      <td>0.824</td>\n",
       "      <td>0.821</td>\n",
       "      <td>0.826</td>\n",
       "      <td>0.815</td>\n",
       "      <td>0.822</td>\n",
       "      <td>0.806</td>\n",
       "    </tr>\n",
       "    <tr>\n",
       "      <th>precision</th>\n",
       "      <td>0.000</td>\n",
       "      <td>0.694</td>\n",
       "      <td>0.688</td>\n",
       "      <td>0.704</td>\n",
       "      <td>0.701</td>\n",
       "      <td>0.692</td>\n",
       "      <td>0.683</td>\n",
       "    </tr>\n",
       "    <tr>\n",
       "      <th>recall</th>\n",
       "      <td>0.000</td>\n",
       "      <td>0.368</td>\n",
       "      <td>0.349</td>\n",
       "      <td>0.367</td>\n",
       "      <td>0.289</td>\n",
       "      <td>0.349</td>\n",
       "      <td>0.228</td>\n",
       "    </tr>\n",
       "    <tr>\n",
       "      <th>AUC</th>\n",
       "      <td>0.500</td>\n",
       "      <td>0.771</td>\n",
       "      <td>0.754</td>\n",
       "      <td>NaN</td>\n",
       "      <td>0.696</td>\n",
       "      <td>0.794</td>\n",
       "      <td>0.765</td>\n",
       "    </tr>\n",
       "    <tr>\n",
       "      <th>Time to Train</th>\n",
       "      <td>0.039</td>\n",
       "      <td>78.748</td>\n",
       "      <td>301.855</td>\n",
       "      <td>11042.278</td>\n",
       "      <td>10.724</td>\n",
       "      <td>116.119</td>\n",
       "      <td>0.078</td>\n",
       "    </tr>\n",
       "  </tbody>\n",
       "</table>\n",
       "</div>"
      ],
      "text/plain": [
       "               Dummy Model      LR      KNN        SVM      DT       RF     NB\n",
       "accuracy             0.779   0.824    0.821      0.826   0.815    0.822  0.806\n",
       "precision            0.000   0.694    0.688      0.704   0.701    0.692  0.683\n",
       "recall               0.000   0.368    0.349      0.367   0.289    0.349  0.228\n",
       "AUC                  0.500   0.771    0.754        NaN   0.696    0.794  0.765\n",
       "Time to Train        0.039  78.748  301.855  11042.278  10.724  116.119  0.078"
      ]
     },
     "execution_count": 40,
     "metadata": {},
     "output_type": "execute_result"
    }
   ],
   "source": [
    "metrics.astype(float).round(3)"
   ]
  },
  {
   "cell_type": "code",
   "execution_count": 41,
   "metadata": {},
   "outputs": [],
   "source": [
    "actual_metrics = metrics.astype(float).round(3).loc[['accuracy', 'precision', 'recall', 'AUC']]*100"
   ]
  },
  {
   "cell_type": "code",
   "execution_count": 42,
   "metadata": {},
   "outputs": [],
   "source": [
    "times = metrics.astype(float).round(3).loc[['Time to Train']]"
   ]
  },
  {
   "cell_type": "markdown",
   "metadata": {},
   "source": [
    "Similar accuracy achieved on all 5 models, and all 5 models are better than the Naive, dumb model of assuming that noone defaults. By recall, Logistic Regression is best, although overall, the Support Vector Machine model is likely best."
   ]
  },
  {
   "cell_type": "code",
   "execution_count": 43,
   "metadata": {},
   "outputs": [
    {
     "data": {
      "image/png": "[encoded data removed]",
      "text/plain": [
       "<Figure size 1152x720 with 1 Axes>"
      ]
     },
     "metadata": {
      "needs_background": "light"
     },
     "output_type": "display_data"
    }
   ],
   "source": [
    "fig, ax = plt.subplots(figsize=(16,10))\n",
    "actual_metrics.plot(kind='barh', ax=ax)\n",
    "ax.set_xlabel('Percentage')\n",
    "ax.set_title('Comparing the 6 Models')\n",
    "ax.grid();"
   ]
  },
  {
   "cell_type": "code",
   "execution_count": null,
   "metadata": {},
   "outputs": [],
   "source": []
  },
  {
   "cell_type": "code",
   "execution_count": 44,
   "metadata": {},
   "outputs": [],
   "source": [
    "precision_lr, recall_lr, thresholds_lr = precision_recall_curve(y_true=y_test, probas_pred=lr_cv.predict_proba(X_test)[:,1])\n",
    "precision_knn, recall_knn, thresholds_knn = precision_recall_curve(y_true=y_test, probas_pred=knn_cv.predict_proba(X_test)[:,1])\n",
    "#precision_svm, recall_svm, thresholds_svm = precision_recall_curve(y_true=y_test, probas_pred=svm.predict_proba(X_test)[:,1])\n",
    "precision_dt, recall_dt, thresholds_dt = precision_recall_curve(y_true=y_test, probas_pred=dt_cv.predict_proba(X_test)[:,1])\n",
    "precision_rf, recall_rf, thresholds_rf = precision_recall_curve(y_true=y_test, probas_pred=rf_cv.predict_proba(X_test)[:,1])\n",
    "precision_nb, recall_nb, thresholds_nb = precision_recall_curve(y_true=y_test, probas_pred=nb.predict_proba(X_test)[:,1])\n"
   ]
  },
  {
   "cell_type": "code",
   "execution_count": 45,
   "metadata": {},
   "outputs": [
    {
     "data": {
      "image/png": "[encoded data removed]",
      "text/plain": [
       "<Figure size 1152x720 with 1 Axes>"
      ]
     },
     "metadata": {
      "needs_background": "light"
     },
     "output_type": "display_data"
    }
   ],
   "source": [
    "fig, ax = plt.subplots(figsize=(16,10))\n",
    "ax.plot(precision_lr, recall_lr, label='Logistic Regression')\n",
    "ax.plot(precision_knn, recall_knn, label='KNN')\n",
    "ax.plot(precision_dt, recall_dt, label='Decision Tree')\n",
    "ax.plot(precision_rf, recall_rf, label='Random Forest')\n",
    "ax.plot(precision_nb, recall_nb, label='Naive Bayes')\n",
    "ax.set_xlabel('Precision')\n",
    "ax.set_ylabel('Recall')\n",
    "ax.set_title('Precision-Recall Curve')\n",
    "ax.hlines(y=0.5, xmin=0, xmax=1, color='red')\n",
    "ax.legend()\n",
    "ax.grid();"
   ]
  },
  {
   "cell_type": "markdown",
   "metadata": {},
   "source": [
    "##### Confusion Matrix for modified Random Forest Classifier"
   ]
  },
  {
   "cell_type": "code",
   "execution_count": 46,
   "metadata": {},
   "outputs": [
    {
     "data": {
      "image/png": "[encoded data removed]",
      "text/plain": [
       "<Figure size 576x360 with 1 Axes>"
      ]
     },
     "metadata": {
      "needs_background": "light"
     },
     "output_type": "display_data"
    }
   ],
   "source": [
    "fig, ax = plt.subplots(figsize=(8,5))\n",
    "ax.plot(thresholds_rf, precision_rf[1:], label='Precision_RF')\n",
    "ax.plot(thresholds_rf, recall_rf[1:], label='Recall_RF')\n",
    "#ax.plot(thresholds_lr, precision_lr[1:], label='Precision_LR')\n",
    "#ax.plot(thresholds_lr, recall_lr[1:], label='Recall_LR')\n",
    "ax.set_xlabel('Classification Threshold')\n",
    "ax.set_ylabel('Precision, Recall')\n",
    "ax.set_title('Random Forest Classifier: Precision-Recall')\n",
    "ax.hlines(y=0.6, xmin=0, xmax=1, color='red')\n",
    "ax.legend()\n",
    "ax.grid();"
   ]
  },
  {
   "cell_type": "code",
   "execution_count": null,
   "metadata": {},
   "outputs": [],
   "source": []
  },
  {
   "cell_type": "markdown",
   "metadata": {},
   "source": [
    "**Classifier with threshold of 0.2**"
   ]
  },
  {
   "cell_type": "code",
   "execution_count": 48,
   "metadata": {},
   "outputs": [
    {
     "name": "stdout",
     "output_type": "stream",
     "text": [
      "Recall:  62.330487192365645\n",
      "Precision:  50.67374438546346\n",
      "Accuracy:  78.24444444444445\n"
     ]
    },
    {
     "data": {
      "text/html": [
       "<div>\n",
       "<style scoped>\n",
       "    .dataframe tbody tr th:only-of-type {\n",
       "        vertical-align: middle;\n",
       "    }\n",
       "\n",
       "    .dataframe tbody tr th {\n",
       "        vertical-align: top;\n",
       "    }\n",
       "\n",
       "    .dataframe thead th {\n",
       "        text-align: right;\n",
       "    }\n",
       "</style>\n",
       "<table border=\"1\" class=\"dataframe\">\n",
       "  <thead>\n",
       "    <tr style=\"text-align: right;\">\n",
       "      <th>PREDICTION</th>\n",
       "      <th>pay</th>\n",
       "      <th>default</th>\n",
       "      <th>Total</th>\n",
       "    </tr>\n",
       "    <tr>\n",
       "      <th>TRUE</th>\n",
       "      <th></th>\n",
       "      <th></th>\n",
       "      <th></th>\n",
       "    </tr>\n",
       "  </thead>\n",
       "  <tbody>\n",
       "    <tr>\n",
       "      <th>pay</th>\n",
       "      <td>5801</td>\n",
       "      <td>1208</td>\n",
       "      <td>7009</td>\n",
       "    </tr>\n",
       "    <tr>\n",
       "      <th>default</th>\n",
       "      <td>750</td>\n",
       "      <td>1241</td>\n",
       "      <td>1991</td>\n",
       "    </tr>\n",
       "    <tr>\n",
       "      <th>Total</th>\n",
       "      <td>6551</td>\n",
       "      <td>2449</td>\n",
       "      <td>9000</td>\n",
       "    </tr>\n",
       "  </tbody>\n",
       "</table>\n",
       "</div>"
      ],
      "text/plain": [
       "PREDICTION   pay  default  Total\n",
       "TRUE                            \n",
       "pay         5801     1208   7009\n",
       "default      750     1241   1991\n",
       "Total       6551     2449   9000"
      ]
     },
     "execution_count": 48,
     "metadata": {},
     "output_type": "execute_result"
    }
   ],
   "source": [
    "y_pred_proba = rf_cv.predict_proba(X_test)[:,1]\n",
    "y_pred_test = (y_pred_proba >= 0.25).astype(int)\n",
    "# Confusion Matrix\n",
    "CM = confusion_matrix(y_pred=y_pred_test, y_true=y_test)\n",
    "print(\"Recall: \", 100*recall_score(y_pred=y_pred_test, y_true=y_test))\n",
    "print(\"Precision: \", 100*precision_score(y_pred=y_pred_test, y_true=y_test))\n",
    "print(\"Accuracy: \", 100*accuracy_score(y_pred=y_pred_test, y_true=y_test))\n",
    "\n",
    "Conf_Matrix(CM)"
   ]
  },
  {
   "cell_type": "code",
   "execution_count": null,
   "metadata": {},
   "outputs": [],
   "source": []
  },
  {
   "cell_type": "code",
   "execution_count": null,
   "metadata": {},
   "outputs": [],
   "source": []
  }
 ],
 "metadata": {
  "kernelspec": {
   "display_name": "Python 3",
   "language": "python",
   "name": "python3"
  },
  "language_info": {
   "codemirror_mode": {
    "name": "ipython",
    "version": 3
   },
   "file_extension": ".py",
   "mimetype": "text/x-python",
   "name": "python",
   "nbconvert_exporter": "python",
   "pygments_lexer": "ipython3",
   "version": "3.7.0"
  }
 },
 "nbformat": 4,
 "nbformat_minor": 2
}
