{
 "cells": [
  {
   "cell_type": "markdown",
   "metadata": {},
   "source": [
    "# Data Wrangling\n"
   ]
  },
  {
   "cell_type": "markdown",
   "metadata": {},
   "source": [
    "### 1. What kind of cleaning steps did you perform?\n"
   ]
  },
  {
   "cell_type": "code",
   "execution_count": 1,
   "metadata": {},
   "outputs": [],
   "source": [
    "import pandas as pd\n",
    "import numpy as np\n",
    "import matplotlib.pyplot as plt"
   ]
  },
  {
   "cell_type": "code",
   "execution_count": 2,
   "metadata": {},
   "outputs": [],
   "source": [
    "filename = 'UCI_Credit_Card.csv'"
   ]
  },
  {
   "cell_type": "code",
   "execution_count": 3,
   "metadata": {},
   "outputs": [],
   "source": [
    "data = pd.read_csv(filename, index_col=0)"
   ]
  },
  {
   "cell_type": "code",
   "execution_count": 4,
   "metadata": {},
   "outputs": [
    {
     "data": {
      "text/plain": [
       "Index(['LIMIT_BAL', 'SEX', 'EDUCATION', 'MARRIAGE', 'AGE', 'PAY_0', 'PAY_2',\n",
       "       'PAY_3', 'PAY_4', 'PAY_5', 'PAY_6', 'BILL_AMT1', 'BILL_AMT2',\n",
       "       'BILL_AMT3', 'BILL_AMT4', 'BILL_AMT5', 'BILL_AMT6', 'PAY_AMT1',\n",
       "       'PAY_AMT2', 'PAY_AMT3', 'PAY_AMT4', 'PAY_AMT5', 'PAY_AMT6',\n",
       "       'default.payment.next.month'],\n",
       "      dtype='object')"
      ]
     },
     "execution_count": 4,
     "metadata": {},
     "output_type": "execute_result"
    }
   ],
   "source": [
    "data.columns"
   ]
  },
  {
   "cell_type": "markdown",
   "metadata": {},
   "source": [
    "No cleaning steps were really necessary. The data was loaded into a Pandas Dataframe directly from a CSV file and proceded from there."
   ]
  },
  {
   "cell_type": "markdown",
   "metadata": {},
   "source": [
    "### 2. How did you deal with missing values, if any?"
   ]
  },
  {
   "cell_type": "code",
   "execution_count": 5,
   "metadata": {},
   "outputs": [
    {
     "name": "stdout",
     "output_type": "stream",
     "text": [
      "<class 'pandas.core.frame.DataFrame'>\n",
      "Int64Index: 30000 entries, 1 to 30000\n",
      "Data columns (total 24 columns):\n",
      "LIMIT_BAL                     30000 non-null float64\n",
      "SEX                           30000 non-null int64\n",
      "EDUCATION                     30000 non-null int64\n",
      "MARRIAGE                      30000 non-null int64\n",
      "AGE                           30000 non-null int64\n",
      "PAY_0                         30000 non-null int64\n",
      "PAY_2                         30000 non-null int64\n",
      "PAY_3                         30000 non-null int64\n",
      "PAY_4                         30000 non-null int64\n",
      "PAY_5                         30000 non-null int64\n",
      "PAY_6                         30000 non-null int64\n",
      "BILL_AMT1                     30000 non-null float64\n",
      "BILL_AMT2                     30000 non-null float64\n",
      "BILL_AMT3                     30000 non-null float64\n",
      "BILL_AMT4                     30000 non-null float64\n",
      "BILL_AMT5                     30000 non-null float64\n",
      "BILL_AMT6                     30000 non-null float64\n",
      "PAY_AMT1                      30000 non-null float64\n",
      "PAY_AMT2                      30000 non-null float64\n",
      "PAY_AMT3                      30000 non-null float64\n",
      "PAY_AMT4                      30000 non-null float64\n",
      "PAY_AMT5                      30000 non-null float64\n",
      "PAY_AMT6                      30000 non-null float64\n",
      "default.payment.next.month    30000 non-null int64\n",
      "dtypes: float64(13), int64(11)\n",
      "memory usage: 5.7 MB\n"
     ]
    }
   ],
   "source": [
    "data.info()"
   ]
  },
  {
   "cell_type": "code",
   "execution_count": 6,
   "metadata": {},
   "outputs": [
    {
     "data": {
      "text/plain": [
       "0"
      ]
     },
     "execution_count": 6,
     "metadata": {},
     "output_type": "execute_result"
    }
   ],
   "source": [
    "data.isnull().sum().sum() # Number of NULLs in the whole Data Frame"
   ]
  },
  {
   "cell_type": "markdown",
   "metadata": {},
   "source": [
    "Since there are no NULL values in any of the columns, there is no need to deal with missing values"
   ]
  },
  {
   "cell_type": "markdown",
   "metadata": {},
   "source": [
    "### 3. Were there outliers, and how did you handle them?"
   ]
  },
  {
   "cell_type": "code",
   "execution_count": 7,
   "metadata": {},
   "outputs": [],
   "source": [
    "pd.options.display.float_format = '{:,}'.format\n"
   ]
  },
  {
   "cell_type": "code",
   "execution_count": 8,
   "metadata": {},
   "outputs": [
    {
     "data": {
      "text/html": [
       "<div>\n",
       "<style scoped>\n",
       "    .dataframe tbody tr th:only-of-type {\n",
       "        vertical-align: middle;\n",
       "    }\n",
       "\n",
       "    .dataframe tbody tr th {\n",
       "        vertical-align: top;\n",
       "    }\n",
       "\n",
       "    .dataframe thead th {\n",
       "        text-align: right;\n",
       "    }\n",
       "</style>\n",
       "<table border=\"1\" class=\"dataframe\">\n",
       "  <thead>\n",
       "    <tr style=\"text-align: right;\">\n",
       "      <th></th>\n",
       "      <th>count</th>\n",
       "      <th>mean</th>\n",
       "      <th>std</th>\n",
       "      <th>min</th>\n",
       "      <th>25%</th>\n",
       "      <th>50%</th>\n",
       "      <th>75%</th>\n",
       "      <th>max</th>\n",
       "    </tr>\n",
       "  </thead>\n",
       "  <tbody>\n",
       "    <tr>\n",
       "      <th>LIMIT_BAL</th>\n",
       "      <td>30,000.0</td>\n",
       "      <td>167,484.32266666667</td>\n",
       "      <td>129,747.66156719506</td>\n",
       "      <td>10,000.0</td>\n",
       "      <td>50,000.0</td>\n",
       "      <td>140,000.0</td>\n",
       "      <td>240,000.0</td>\n",
       "      <td>1,000,000.0</td>\n",
       "    </tr>\n",
       "    <tr>\n",
       "      <th>SEX</th>\n",
       "      <td>30,000.0</td>\n",
       "      <td>1.6037333333333332</td>\n",
       "      <td>0.4891291960904071</td>\n",
       "      <td>1.0</td>\n",
       "      <td>1.0</td>\n",
       "      <td>2.0</td>\n",
       "      <td>2.0</td>\n",
       "      <td>2.0</td>\n",
       "    </tr>\n",
       "    <tr>\n",
       "      <th>EDUCATION</th>\n",
       "      <td>30,000.0</td>\n",
       "      <td>1.8531333333333333</td>\n",
       "      <td>0.7903486597208212</td>\n",
       "      <td>0.0</td>\n",
       "      <td>1.0</td>\n",
       "      <td>2.0</td>\n",
       "      <td>2.0</td>\n",
       "      <td>6.0</td>\n",
       "    </tr>\n",
       "    <tr>\n",
       "      <th>MARRIAGE</th>\n",
       "      <td>30,000.0</td>\n",
       "      <td>1.5518666666666667</td>\n",
       "      <td>0.5219696006131538</td>\n",
       "      <td>0.0</td>\n",
       "      <td>1.0</td>\n",
       "      <td>2.0</td>\n",
       "      <td>2.0</td>\n",
       "      <td>3.0</td>\n",
       "    </tr>\n",
       "    <tr>\n",
       "      <th>AGE</th>\n",
       "      <td>30,000.0</td>\n",
       "      <td>35.4855</td>\n",
       "      <td>9.217904068090183</td>\n",
       "      <td>21.0</td>\n",
       "      <td>28.0</td>\n",
       "      <td>34.0</td>\n",
       "      <td>41.0</td>\n",
       "      <td>79.0</td>\n",
       "    </tr>\n",
       "    <tr>\n",
       "      <th>PAY_0</th>\n",
       "      <td>30,000.0</td>\n",
       "      <td>-0.0167</td>\n",
       "      <td>1.1238015279973212</td>\n",
       "      <td>-2.0</td>\n",
       "      <td>-1.0</td>\n",
       "      <td>0.0</td>\n",
       "      <td>0.0</td>\n",
       "      <td>8.0</td>\n",
       "    </tr>\n",
       "    <tr>\n",
       "      <th>PAY_2</th>\n",
       "      <td>30,000.0</td>\n",
       "      <td>-0.13376666666666667</td>\n",
       "      <td>1.19718597303439</td>\n",
       "      <td>-2.0</td>\n",
       "      <td>-1.0</td>\n",
       "      <td>0.0</td>\n",
       "      <td>0.0</td>\n",
       "      <td>8.0</td>\n",
       "    </tr>\n",
       "    <tr>\n",
       "      <th>PAY_3</th>\n",
       "      <td>30,000.0</td>\n",
       "      <td>-0.1662</td>\n",
       "      <td>1.1968675684467378</td>\n",
       "      <td>-2.0</td>\n",
       "      <td>-1.0</td>\n",
       "      <td>0.0</td>\n",
       "      <td>0.0</td>\n",
       "      <td>8.0</td>\n",
       "    </tr>\n",
       "    <tr>\n",
       "      <th>PAY_4</th>\n",
       "      <td>30,000.0</td>\n",
       "      <td>-0.22066666666666668</td>\n",
       "      <td>1.1691386224022984</td>\n",
       "      <td>-2.0</td>\n",
       "      <td>-1.0</td>\n",
       "      <td>0.0</td>\n",
       "      <td>0.0</td>\n",
       "      <td>8.0</td>\n",
       "    </tr>\n",
       "    <tr>\n",
       "      <th>PAY_5</th>\n",
       "      <td>30,000.0</td>\n",
       "      <td>-0.2662</td>\n",
       "      <td>1.1331874060026166</td>\n",
       "      <td>-2.0</td>\n",
       "      <td>-1.0</td>\n",
       "      <td>0.0</td>\n",
       "      <td>0.0</td>\n",
       "      <td>8.0</td>\n",
       "    </tr>\n",
       "    <tr>\n",
       "      <th>PAY_6</th>\n",
       "      <td>30,000.0</td>\n",
       "      <td>-0.2911</td>\n",
       "      <td>1.1499876256077741</td>\n",
       "      <td>-2.0</td>\n",
       "      <td>-1.0</td>\n",
       "      <td>0.0</td>\n",
       "      <td>0.0</td>\n",
       "      <td>8.0</td>\n",
       "    </tr>\n",
       "    <tr>\n",
       "      <th>BILL_AMT1</th>\n",
       "      <td>30,000.0</td>\n",
       "      <td>51,223.3309</td>\n",
       "      <td>73,635.86057552874</td>\n",
       "      <td>-165,580.0</td>\n",
       "      <td>3,558.75</td>\n",
       "      <td>22,381.5</td>\n",
       "      <td>67,091.0</td>\n",
       "      <td>964,511.0</td>\n",
       "    </tr>\n",
       "    <tr>\n",
       "      <th>BILL_AMT2</th>\n",
       "      <td>30,000.0</td>\n",
       "      <td>49,179.07516666667</td>\n",
       "      <td>71,173.76878252918</td>\n",
       "      <td>-69,777.0</td>\n",
       "      <td>2,984.75</td>\n",
       "      <td>21,200.0</td>\n",
       "      <td>64,006.25</td>\n",
       "      <td>983,931.0</td>\n",
       "    </tr>\n",
       "    <tr>\n",
       "      <th>BILL_AMT3</th>\n",
       "      <td>30,000.0</td>\n",
       "      <td>47,013.1548</td>\n",
       "      <td>69,349.38742703729</td>\n",
       "      <td>-157,264.0</td>\n",
       "      <td>2,666.25</td>\n",
       "      <td>20,088.5</td>\n",
       "      <td>60,164.75</td>\n",
       "      <td>1,664,089.0</td>\n",
       "    </tr>\n",
       "    <tr>\n",
       "      <th>BILL_AMT4</th>\n",
       "      <td>30,000.0</td>\n",
       "      <td>43,262.94896666666</td>\n",
       "      <td>64,332.85613391704</td>\n",
       "      <td>-170,000.0</td>\n",
       "      <td>2,326.75</td>\n",
       "      <td>19,052.0</td>\n",
       "      <td>54,506.0</td>\n",
       "      <td>891,586.0</td>\n",
       "    </tr>\n",
       "    <tr>\n",
       "      <th>BILL_AMT5</th>\n",
       "      <td>30,000.0</td>\n",
       "      <td>40,311.40096666667</td>\n",
       "      <td>60,797.155770264195</td>\n",
       "      <td>-81,334.0</td>\n",
       "      <td>1,763.0</td>\n",
       "      <td>18,104.5</td>\n",
       "      <td>50,190.5</td>\n",
       "      <td>927,171.0</td>\n",
       "    </tr>\n",
       "    <tr>\n",
       "      <th>BILL_AMT6</th>\n",
       "      <td>30,000.0</td>\n",
       "      <td>38,871.7604</td>\n",
       "      <td>59,554.10753674454</td>\n",
       "      <td>-339,603.0</td>\n",
       "      <td>1,256.0</td>\n",
       "      <td>17,071.0</td>\n",
       "      <td>49,198.25</td>\n",
       "      <td>961,664.0</td>\n",
       "    </tr>\n",
       "    <tr>\n",
       "      <th>PAY_AMT1</th>\n",
       "      <td>30,000.0</td>\n",
       "      <td>5,663.5805</td>\n",
       "      <td>16,563.280354026534</td>\n",
       "      <td>0.0</td>\n",
       "      <td>1,000.0</td>\n",
       "      <td>2,100.0</td>\n",
       "      <td>5,006.0</td>\n",
       "      <td>873,552.0</td>\n",
       "    </tr>\n",
       "    <tr>\n",
       "      <th>PAY_AMT2</th>\n",
       "      <td>30,000.0</td>\n",
       "      <td>5,921.1635</td>\n",
       "      <td>23,040.870402054872</td>\n",
       "      <td>0.0</td>\n",
       "      <td>833.0</td>\n",
       "      <td>2,009.0</td>\n",
       "      <td>5,000.0</td>\n",
       "      <td>1,684,259.0</td>\n",
       "    </tr>\n",
       "    <tr>\n",
       "      <th>PAY_AMT3</th>\n",
       "      <td>30,000.0</td>\n",
       "      <td>5,225.6815</td>\n",
       "      <td>17,606.96146980426</td>\n",
       "      <td>0.0</td>\n",
       "      <td>390.0</td>\n",
       "      <td>1,800.0</td>\n",
       "      <td>4,505.0</td>\n",
       "      <td>896,040.0</td>\n",
       "    </tr>\n",
       "    <tr>\n",
       "      <th>PAY_AMT4</th>\n",
       "      <td>30,000.0</td>\n",
       "      <td>4,826.076866666666</td>\n",
       "      <td>15,666.159744031342</td>\n",
       "      <td>0.0</td>\n",
       "      <td>296.0</td>\n",
       "      <td>1,500.0</td>\n",
       "      <td>4,013.25</td>\n",
       "      <td>621,000.0</td>\n",
       "    </tr>\n",
       "    <tr>\n",
       "      <th>PAY_AMT5</th>\n",
       "      <td>30,000.0</td>\n",
       "      <td>4,799.387633333334</td>\n",
       "      <td>15,278.30567914539</td>\n",
       "      <td>0.0</td>\n",
       "      <td>252.5</td>\n",
       "      <td>1,500.0</td>\n",
       "      <td>4,031.5</td>\n",
       "      <td>426,529.0</td>\n",
       "    </tr>\n",
       "    <tr>\n",
       "      <th>PAY_AMT6</th>\n",
       "      <td>30,000.0</td>\n",
       "      <td>5,215.502566666667</td>\n",
       "      <td>17,777.465775434066</td>\n",
       "      <td>0.0</td>\n",
       "      <td>117.75</td>\n",
       "      <td>1,500.0</td>\n",
       "      <td>4,000.0</td>\n",
       "      <td>528,666.0</td>\n",
       "    </tr>\n",
       "    <tr>\n",
       "      <th>default.payment.next.month</th>\n",
       "      <td>30,000.0</td>\n",
       "      <td>0.2212</td>\n",
       "      <td>0.4150618056909671</td>\n",
       "      <td>0.0</td>\n",
       "      <td>0.0</td>\n",
       "      <td>0.0</td>\n",
       "      <td>0.0</td>\n",
       "      <td>1.0</td>\n",
       "    </tr>\n",
       "  </tbody>\n",
       "</table>\n",
       "</div>"
      ],
      "text/plain": [
       "                              count                 mean                 std  \\\n",
       "LIMIT_BAL                  30,000.0  167,484.32266666667 129,747.66156719506   \n",
       "SEX                        30,000.0   1.6037333333333332  0.4891291960904071   \n",
       "EDUCATION                  30,000.0   1.8531333333333333  0.7903486597208212   \n",
       "MARRIAGE                   30,000.0   1.5518666666666667  0.5219696006131538   \n",
       "AGE                        30,000.0              35.4855   9.217904068090183   \n",
       "PAY_0                      30,000.0              -0.0167  1.1238015279973212   \n",
       "PAY_2                      30,000.0 -0.13376666666666667    1.19718597303439   \n",
       "PAY_3                      30,000.0              -0.1662  1.1968675684467378   \n",
       "PAY_4                      30,000.0 -0.22066666666666668  1.1691386224022984   \n",
       "PAY_5                      30,000.0              -0.2662  1.1331874060026166   \n",
       "PAY_6                      30,000.0              -0.2911  1.1499876256077741   \n",
       "BILL_AMT1                  30,000.0          51,223.3309  73,635.86057552874   \n",
       "BILL_AMT2                  30,000.0   49,179.07516666667  71,173.76878252918   \n",
       "BILL_AMT3                  30,000.0          47,013.1548  69,349.38742703729   \n",
       "BILL_AMT4                  30,000.0   43,262.94896666666  64,332.85613391704   \n",
       "BILL_AMT5                  30,000.0   40,311.40096666667 60,797.155770264195   \n",
       "BILL_AMT6                  30,000.0          38,871.7604  59,554.10753674454   \n",
       "PAY_AMT1                   30,000.0           5,663.5805 16,563.280354026534   \n",
       "PAY_AMT2                   30,000.0           5,921.1635 23,040.870402054872   \n",
       "PAY_AMT3                   30,000.0           5,225.6815  17,606.96146980426   \n",
       "PAY_AMT4                   30,000.0   4,826.076866666666 15,666.159744031342   \n",
       "PAY_AMT5                   30,000.0   4,799.387633333334  15,278.30567914539   \n",
       "PAY_AMT6                   30,000.0   5,215.502566666667 17,777.465775434066   \n",
       "default.payment.next.month 30,000.0               0.2212  0.4150618056909671   \n",
       "\n",
       "                                  min      25%       50%       75%         max  \n",
       "LIMIT_BAL                    10,000.0 50,000.0 140,000.0 240,000.0 1,000,000.0  \n",
       "SEX                               1.0      1.0       2.0       2.0         2.0  \n",
       "EDUCATION                         0.0      1.0       2.0       2.0         6.0  \n",
       "MARRIAGE                          0.0      1.0       2.0       2.0         3.0  \n",
       "AGE                              21.0     28.0      34.0      41.0        79.0  \n",
       "PAY_0                            -2.0     -1.0       0.0       0.0         8.0  \n",
       "PAY_2                            -2.0     -1.0       0.0       0.0         8.0  \n",
       "PAY_3                            -2.0     -1.0       0.0       0.0         8.0  \n",
       "PAY_4                            -2.0     -1.0       0.0       0.0         8.0  \n",
       "PAY_5                            -2.0     -1.0       0.0       0.0         8.0  \n",
       "PAY_6                            -2.0     -1.0       0.0       0.0         8.0  \n",
       "BILL_AMT1                  -165,580.0 3,558.75  22,381.5  67,091.0   964,511.0  \n",
       "BILL_AMT2                   -69,777.0 2,984.75  21,200.0 64,006.25   983,931.0  \n",
       "BILL_AMT3                  -157,264.0 2,666.25  20,088.5 60,164.75 1,664,089.0  \n",
       "BILL_AMT4                  -170,000.0 2,326.75  19,052.0  54,506.0   891,586.0  \n",
       "BILL_AMT5                   -81,334.0  1,763.0  18,104.5  50,190.5   927,171.0  \n",
       "BILL_AMT6                  -339,603.0  1,256.0  17,071.0 49,198.25   961,664.0  \n",
       "PAY_AMT1                          0.0  1,000.0   2,100.0   5,006.0   873,552.0  \n",
       "PAY_AMT2                          0.0    833.0   2,009.0   5,000.0 1,684,259.0  \n",
       "PAY_AMT3                          0.0    390.0   1,800.0   4,505.0   896,040.0  \n",
       "PAY_AMT4                          0.0    296.0   1,500.0  4,013.25   621,000.0  \n",
       "PAY_AMT5                          0.0    252.5   1,500.0   4,031.5   426,529.0  \n",
       "PAY_AMT6                          0.0   117.75   1,500.0   4,000.0   528,666.0  \n",
       "default.payment.next.month        0.0      0.0       0.0       0.0         1.0  "
      ]
     },
     "execution_count": 8,
     "metadata": {},
     "output_type": "execute_result"
    }
   ],
   "source": [
    "data.describe().transpose()"
   ]
  },
  {
   "cell_type": "markdown",
   "metadata": {},
   "source": [
    "## Sex"
   ]
  },
  {
   "cell_type": "code",
   "execution_count": 9,
   "metadata": {},
   "outputs": [
    {
     "data": {
      "text/plain": [
       "<matplotlib.axes._subplots.AxesSubplot at 0x2700b485dd8>"
      ]
     },
     "execution_count": 9,
     "metadata": {},
     "output_type": "execute_result"
    },
    {
     "data": {
      "image/png": "[encoded data removed]",
      "text/plain": [
       "<Figure size 432x288 with 1 Axes>"
      ]
     },
     "metadata": {
      "needs_background": "light"
     },
     "output_type": "display_data"
    }
   ],
   "source": [
    "data[['SEX']].plot(kind='box')"
   ]
  },
  {
   "cell_type": "markdown",
   "metadata": {},
   "source": [
    "No outliers for Sex because the values in this dataset only take on 2 values "
   ]
  },
  {
   "cell_type": "markdown",
   "metadata": {},
   "source": [
    "## Education"
   ]
  },
  {
   "cell_type": "code",
   "execution_count": 10,
   "metadata": {},
   "outputs": [
    {
     "data": {
      "text/plain": [
       "<matplotlib.axes._subplots.AxesSubplot at 0x2700b78e048>"
      ]
     },
     "execution_count": 10,
     "metadata": {},
     "output_type": "execute_result"
    },
    {
     "data": {
      "image/png": "[encoded data removed]",
      "text/plain": [
       "<Figure size 432x288 with 1 Axes>"
      ]
     },
     "metadata": {
      "needs_background": "light"
     },
     "output_type": "display_data"
    }
   ],
   "source": [
    "data['EDUCATION'].plot(kind='hist', bins=100)"
   ]
  },
  {
   "cell_type": "markdown",
   "metadata": {},
   "source": [
    "The vast majority of values for educaiton are 1 (graduate school), 2 (university), or 3 (high school) with a few values for 4, 5 and 6 which represent \"others\" and \"unknown\". These are outliers but not unexpected. There are also curiously values of 0 for Education which should not be possible."
   ]
  },
  {
   "cell_type": "markdown",
   "metadata": {},
   "source": [
    "## Marriage"
   ]
  },
  {
   "cell_type": "code",
   "execution_count": 11,
   "metadata": {},
   "outputs": [
    {
     "data": {
      "text/plain": [
       "<matplotlib.axes._subplots.AxesSubplot at 0x2700b83ada0>"
      ]
     },
     "execution_count": 11,
     "metadata": {},
     "output_type": "execute_result"
    },
    {
     "data": {
      "image/png": "[encoded data removed]",
      "text/plain": [
       "<Figure size 432x288 with 1 Axes>"
      ]
     },
     "metadata": {
      "needs_background": "light"
     },
     "output_type": "display_data"
    }
   ],
   "source": [
    "data[['MARRIAGE']].plot(kind='box')"
   ]
  },
  {
   "cell_type": "code",
   "execution_count": 12,
   "metadata": {},
   "outputs": [
    {
     "data": {
      "text/plain": [
       "count             30,000.0\n",
       "mean    1.5518666666666667\n",
       "std     0.5219696006131538\n",
       "min                    0.0\n",
       "25%                    1.0\n",
       "50%                    2.0\n",
       "75%                    2.0\n",
       "max                    3.0\n",
       "Name: MARRIAGE, dtype: float64"
      ]
     },
     "execution_count": 12,
     "metadata": {},
     "output_type": "execute_result"
    }
   ],
   "source": [
    "data['MARRIAGE'].describe()"
   ]
  },
  {
   "cell_type": "code",
   "execution_count": 13,
   "metadata": {},
   "outputs": [
    {
     "data": {
      "text/plain": [
       "<matplotlib.axes._subplots.AxesSubplot at 0x2700b94e048>"
      ]
     },
     "execution_count": 13,
     "metadata": {},
     "output_type": "execute_result"
    },
    {
     "data": {
      "image/png": "[encoded data removed]",
      "text/plain": [
       "<Figure size 432x288 with 1 Axes>"
      ]
     },
     "metadata": {
      "needs_background": "light"
     },
     "output_type": "display_data"
    }
   ],
   "source": [
    "data['MARRIAGE'].plot(kind='hist')"
   ]
  },
  {
   "cell_type": "code",
   "execution_count": 14,
   "metadata": {},
   "outputs": [
    {
     "data": {
      "text/plain": [
       "(54, 24)"
      ]
     },
     "execution_count": 14,
     "metadata": {},
     "output_type": "execute_result"
    }
   ],
   "source": [
    "data[data['MARRIAGE'] == 0].shape"
   ]
  },
  {
   "cell_type": "markdown",
   "metadata": {},
   "source": [
    "For marriage, the vast majority of values are either 1 (married) or 2 (single) as would be expected. A few values are equal to 3 (\"Others\") and again, curiously, some values (54 to be exact) are equal to 0 which should not be possible."
   ]
  },
  {
   "cell_type": "markdown",
   "metadata": {},
   "source": [
    "## LIMIT_BAL"
   ]
  },
  {
   "cell_type": "code",
   "execution_count": 15,
   "metadata": {},
   "outputs": [
    {
     "data": {
      "text/plain": [
       "<matplotlib.axes._subplots.AxesSubplot at 0x2700b9ae208>"
      ]
     },
     "execution_count": 15,
     "metadata": {},
     "output_type": "execute_result"
    },
    {
     "data": {
      "image/png": "[encoded data removed]",
      "text/plain": [
       "<Figure size 432x288 with 1 Axes>"
      ]
     },
     "metadata": {
      "needs_background": "light"
     },
     "output_type": "display_data"
    }
   ],
   "source": [
    "data['LIMIT_BAL'].plot(kind='box')"
   ]
  },
  {
   "cell_type": "code",
   "execution_count": 16,
   "metadata": {},
   "outputs": [
    {
     "data": {
      "text/plain": [
       "<matplotlib.axes._subplots.AxesSubplot at 0x2700ba1f550>"
      ]
     },
     "execution_count": 16,
     "metadata": {},
     "output_type": "execute_result"
    },
    {
     "data": {
      "image/png": "[encoded data removed]",
      "text/plain": [
       "<Figure size 432x288 with 1 Axes>"
      ]
     },
     "metadata": {
      "needs_background": "light"
     },
     "output_type": "display_data"
    }
   ],
   "source": [
    "data['LIMIT_BAL'].plot(kind='hist', bins=25)"
   ]
  },
  {
   "cell_type": "code",
   "execution_count": 17,
   "metadata": {},
   "outputs": [
    {
     "data": {
      "text/plain": [
       "count              30,000.0\n",
       "mean    167,484.32266666667\n",
       "std     129,747.66156719506\n",
       "min                10,000.0\n",
       "25%                50,000.0\n",
       "50%               140,000.0\n",
       "75%               240,000.0\n",
       "max             1,000,000.0\n",
       "Name: LIMIT_BAL, dtype: float64"
      ]
     },
     "execution_count": 17,
     "metadata": {},
     "output_type": "execute_result"
    }
   ],
   "source": [
    "data['LIMIT_BAL'].describe()"
   ]
  },
  {
   "cell_type": "code",
   "execution_count": 18,
   "metadata": {},
   "outputs": [
    {
     "data": {
      "text/plain": [
       "1000000.0"
      ]
     },
     "execution_count": 18,
     "metadata": {},
     "output_type": "execute_result"
    }
   ],
   "source": [
    "data['LIMIT_BAL'].max()"
   ]
  },
  {
   "cell_type": "code",
   "execution_count": 19,
   "metadata": {},
   "outputs": [
    {
     "data": {
      "text/plain": [
       "(18850, 24)"
      ]
     },
     "execution_count": 19,
     "metadata": {},
     "output_type": "execute_result"
    }
   ],
   "source": [
    "data[data['LIMIT_BAL'] < 200000].shape"
   ]
  },
  {
   "cell_type": "code",
   "execution_count": 20,
   "metadata": {},
   "outputs": [
    {
     "data": {
      "text/plain": [
       "(30000, 24)"
      ]
     },
     "execution_count": 20,
     "metadata": {},
     "output_type": "execute_result"
    }
   ],
   "source": [
    "data.shape"
   ]
  },
  {
   "cell_type": "markdown",
   "metadata": {},
   "source": [
    "Most of the values (18850) are clustered below 200,000 of given credit. Some outliers do appear above the maximum non-outlier value of 525,000 where we are using the definition of an outlier being any value\n",
    "\n",
    "a) greater than the Q3 value + 1.5\\*(the interquartile range) and  \n",
    "b) any value less than Q1 - 1.5\\*(the interquartile range)\n",
    "\n",
    "These values make perfect sense, so there is no need to get rid of them."
   ]
  },
  {
   "cell_type": "markdown",
   "metadata": {},
   "source": [
    "## Age"
   ]
  },
  {
   "cell_type": "code",
   "execution_count": 21,
   "metadata": {},
   "outputs": [
    {
     "data": {
      "text/plain": [
       "<matplotlib.axes._subplots.AxesSubplot at 0x2700b9aeeb8>"
      ]
     },
     "execution_count": 21,
     "metadata": {},
     "output_type": "execute_result"
    },
    {
     "data": {
      "image/png": "[encoded data removed]",
      "text/plain": [
       "<Figure size 432x288 with 1 Axes>"
      ]
     },
     "metadata": {
      "needs_background": "light"
     },
     "output_type": "display_data"
    }
   ],
   "source": [
    "data['AGE'].plot(kind='box')"
   ]
  },
  {
   "cell_type": "code",
   "execution_count": 22,
   "metadata": {},
   "outputs": [
    {
     "data": {
      "text/plain": [
       "<matplotlib.axes._subplots.AxesSubplot at 0x2700bb099e8>"
      ]
     },
     "execution_count": 22,
     "metadata": {},
     "output_type": "execute_result"
    },
    {
     "data": {
      "image/png": "[encoded data removed]",
      "text/plain": [
       "<Figure size 432x288 with 1 Axes>"
      ]
     },
     "metadata": {
      "needs_background": "light"
     },
     "output_type": "display_data"
    }
   ],
   "source": [
    "data['AGE'].plot(kind='hist', bins=10)"
   ]
  },
  {
   "cell_type": "code",
   "execution_count": 23,
   "metadata": {},
   "outputs": [
    {
     "data": {
      "text/plain": [
       "<matplotlib.axes._subplots.AxesSubplot at 0x2700bab0e80>"
      ]
     },
     "execution_count": 23,
     "metadata": {},
     "output_type": "execute_result"
    },
    {
     "data": {
      "image/png": "[encoded data removed]",
      "text/plain": [
       "<Figure size 432x288 with 1 Axes>"
      ]
     },
     "metadata": {
      "needs_background": "light"
     },
     "output_type": "display_data"
    }
   ],
   "source": [
    "data['AGE'].plot(kind='hist', bins=10, cumulative=True)"
   ]
  },
  {
   "cell_type": "code",
   "execution_count": 24,
   "metadata": {},
   "outputs": [
    {
     "data": {
      "text/plain": [
       "count            30,000.0\n",
       "mean              35.4855\n",
       "std     9.217904068090183\n",
       "min                  21.0\n",
       "25%                  28.0\n",
       "50%                  34.0\n",
       "75%                  41.0\n",
       "max                  79.0\n",
       "Name: AGE, dtype: float64"
      ]
     },
     "execution_count": 24,
     "metadata": {},
     "output_type": "execute_result"
    }
   ],
   "source": [
    "data['AGE'].describe()"
   ]
  },
  {
   "cell_type": "code",
   "execution_count": 25,
   "metadata": {},
   "outputs": [
    {
     "data": {
      "text/plain": [
       "(272, 24)"
      ]
     },
     "execution_count": 25,
     "metadata": {},
     "output_type": "execute_result"
    }
   ],
   "source": [
    "data[data['AGE'] >= 60.5].shape"
   ]
  },
  {
   "cell_type": "code",
   "execution_count": 26,
   "metadata": {},
   "outputs": [
    {
     "data": {
      "text/plain": [
       "0.009066666666666667"
      ]
     },
     "execution_count": 26,
     "metadata": {},
     "output_type": "execute_result"
    }
   ],
   "source": [
    "272/30000"
   ]
  },
  {
   "cell_type": "markdown",
   "metadata": {},
   "source": [
    "We see that the majority (75% in this case) of the values fall between 21 and 41. Almost 1% of the values in this dataset can be classified as outliers by Age since they have ages greater than 60.5 years. These older ages make sense though and do not require any special handling."
   ]
  },
  {
   "cell_type": "markdown",
   "metadata": {},
   "source": [
    "## Repayment Status Columns"
   ]
  },
  {
   "cell_type": "code",
   "execution_count": 27,
   "metadata": {},
   "outputs": [
    {
     "data": {
      "text/plain": [
       "<matplotlib.axes._subplots.AxesSubplot at 0x2700bbece10>"
      ]
     },
     "execution_count": 27,
     "metadata": {},
     "output_type": "execute_result"
    },
    {
     "data": {
      "image/png": "[encoded data removed]",
      "text/plain": [
       "<Figure size 432x288 with 1 Axes>"
      ]
     },
     "metadata": {
      "needs_background": "light"
     },
     "output_type": "display_data"
    }
   ],
   "source": [
    "data[['PAY_0', 'PAY_2', 'PAY_3', 'PAY_4', 'PAY_5', 'PAY_6']].plot(kind='box')"
   ]
  },
  {
   "cell_type": "code",
   "execution_count": 28,
   "metadata": {},
   "outputs": [
    {
     "data": {
      "text/html": [
       "<div>\n",
       "<style scoped>\n",
       "    .dataframe tbody tr th:only-of-type {\n",
       "        vertical-align: middle;\n",
       "    }\n",
       "\n",
       "    .dataframe tbody tr th {\n",
       "        vertical-align: top;\n",
       "    }\n",
       "\n",
       "    .dataframe thead th {\n",
       "        text-align: right;\n",
       "    }\n",
       "</style>\n",
       "<table border=\"1\" class=\"dataframe\">\n",
       "  <thead>\n",
       "    <tr style=\"text-align: right;\">\n",
       "      <th></th>\n",
       "      <th>PAY_0</th>\n",
       "      <th>PAY_2</th>\n",
       "      <th>PAY_3</th>\n",
       "      <th>PAY_4</th>\n",
       "      <th>PAY_5</th>\n",
       "      <th>PAY_6</th>\n",
       "    </tr>\n",
       "  </thead>\n",
       "  <tbody>\n",
       "    <tr>\n",
       "      <th>count</th>\n",
       "      <td>30,000.0</td>\n",
       "      <td>30,000.0</td>\n",
       "      <td>30,000.0</td>\n",
       "      <td>30,000.0</td>\n",
       "      <td>30,000.0</td>\n",
       "      <td>30,000.0</td>\n",
       "    </tr>\n",
       "    <tr>\n",
       "      <th>mean</th>\n",
       "      <td>-0.0167</td>\n",
       "      <td>-0.13376666666666667</td>\n",
       "      <td>-0.1662</td>\n",
       "      <td>-0.22066666666666668</td>\n",
       "      <td>-0.2662</td>\n",
       "      <td>-0.2911</td>\n",
       "    </tr>\n",
       "    <tr>\n",
       "      <th>std</th>\n",
       "      <td>1.1238015279973212</td>\n",
       "      <td>1.19718597303439</td>\n",
       "      <td>1.1968675684467378</td>\n",
       "      <td>1.1691386224022984</td>\n",
       "      <td>1.1331874060026166</td>\n",
       "      <td>1.1499876256077741</td>\n",
       "    </tr>\n",
       "    <tr>\n",
       "      <th>min</th>\n",
       "      <td>-2.0</td>\n",
       "      <td>-2.0</td>\n",
       "      <td>-2.0</td>\n",
       "      <td>-2.0</td>\n",
       "      <td>-2.0</td>\n",
       "      <td>-2.0</td>\n",
       "    </tr>\n",
       "    <tr>\n",
       "      <th>25%</th>\n",
       "      <td>-1.0</td>\n",
       "      <td>-1.0</td>\n",
       "      <td>-1.0</td>\n",
       "      <td>-1.0</td>\n",
       "      <td>-1.0</td>\n",
       "      <td>-1.0</td>\n",
       "    </tr>\n",
       "    <tr>\n",
       "      <th>50%</th>\n",
       "      <td>0.0</td>\n",
       "      <td>0.0</td>\n",
       "      <td>0.0</td>\n",
       "      <td>0.0</td>\n",
       "      <td>0.0</td>\n",
       "      <td>0.0</td>\n",
       "    </tr>\n",
       "    <tr>\n",
       "      <th>75%</th>\n",
       "      <td>0.0</td>\n",
       "      <td>0.0</td>\n",
       "      <td>0.0</td>\n",
       "      <td>0.0</td>\n",
       "      <td>0.0</td>\n",
       "      <td>0.0</td>\n",
       "    </tr>\n",
       "    <tr>\n",
       "      <th>max</th>\n",
       "      <td>8.0</td>\n",
       "      <td>8.0</td>\n",
       "      <td>8.0</td>\n",
       "      <td>8.0</td>\n",
       "      <td>8.0</td>\n",
       "      <td>8.0</td>\n",
       "    </tr>\n",
       "  </tbody>\n",
       "</table>\n",
       "</div>"
      ],
      "text/plain": [
       "                   PAY_0                PAY_2              PAY_3  \\\n",
       "count           30,000.0             30,000.0           30,000.0   \n",
       "mean             -0.0167 -0.13376666666666667            -0.1662   \n",
       "std   1.1238015279973212     1.19718597303439 1.1968675684467378   \n",
       "min                 -2.0                 -2.0               -2.0   \n",
       "25%                 -1.0                 -1.0               -1.0   \n",
       "50%                  0.0                  0.0                0.0   \n",
       "75%                  0.0                  0.0                0.0   \n",
       "max                  8.0                  8.0                8.0   \n",
       "\n",
       "                     PAY_4              PAY_5              PAY_6  \n",
       "count             30,000.0           30,000.0           30,000.0  \n",
       "mean  -0.22066666666666668            -0.2662            -0.2911  \n",
       "std     1.1691386224022984 1.1331874060026166 1.1499876256077741  \n",
       "min                   -2.0               -2.0               -2.0  \n",
       "25%                   -1.0               -1.0               -1.0  \n",
       "50%                    0.0                0.0                0.0  \n",
       "75%                    0.0                0.0                0.0  \n",
       "max                    8.0                8.0                8.0  "
      ]
     },
     "execution_count": 28,
     "metadata": {},
     "output_type": "execute_result"
    }
   ],
   "source": [
    "data[['PAY_0', 'PAY_2', 'PAY_3', 'PAY_4', 'PAY_5', 'PAY_6']].describe()"
   ]
  },
  {
   "cell_type": "code",
   "execution_count": 29,
   "metadata": {},
   "outputs": [
    {
     "data": {
      "text/plain": [
       "<matplotlib.axes._subplots.AxesSubplot at 0x2700bef5fd0>"
      ]
     },
     "execution_count": 29,
     "metadata": {},
     "output_type": "execute_result"
    },
    {
     "data": {
      "image/png": "[encoded data removed]",
      "text/plain": [
       "<Figure size 432x288 with 1 Axes>"
      ]
     },
     "metadata": {
      "needs_background": "light"
     },
     "output_type": "display_data"
    },
    {
     "data": {
      "image/png": "[encoded data removed]",
      "text/plain": [
       "<Figure size 432x288 with 1 Axes>"
      ]
     },
     "metadata": {
      "needs_background": "light"
     },
     "output_type": "display_data"
    },
    {
     "data": {
      "image/png": "[encoded data removed]",
      "text/plain": [
       "<Figure size 432x288 with 1 Axes>"
      ]
     },
     "metadata": {
      "needs_background": "light"
     },
     "output_type": "display_data"
    },
    {
     "data": {
      "image/png": "[encoded data removed]",
      "text/plain": [
       "<Figure size 432x288 with 1 Axes>"
      ]
     },
     "metadata": {
      "needs_background": "light"
     },
     "output_type": "display_data"
    },
    {
     "data": {
      "image/png": "[encoded data removed]",
      "text/plain": [
       "<Figure size 432x288 with 1 Axes>"
      ]
     },
     "metadata": {
      "needs_background": "light"
     },
     "output_type": "display_data"
    },
    {
     "data": {
      "image/png": "[encoded data removed]",
      "text/plain": [
       "<Figure size 432x288 with 1 Axes>"
      ]
     },
     "metadata": {
      "needs_background": "light"
     },
     "output_type": "display_data"
    }
   ],
   "source": [
    "data[['PAY_0']].plot(kind='hist')\n",
    "data[['PAY_2']].plot(kind='hist')\n",
    "data[['PAY_3']].plot(kind='hist')\n",
    "data[['PAY_4']].plot(kind='hist')\n",
    "data[['PAY_5']].plot(kind='hist')\n",
    "data[['PAY_6']].plot(kind='hist')"
   ]
  },
  {
   "cell_type": "markdown",
   "metadata": {},
   "source": [
    "What is curious is that most of the values for each column are 0 or -2 which should not be supported values, according to the online dataset descriptions. \n",
    "Other than that, all other values are supported, although it seems like the values are shifted down by 1 since the max is 9 and the dataset description says it should be 8.\n",
    "All values greater than or equal to 2 are considered outliers and since around 10% of rows have values greater than or equal to 2, about 10% of the dataset is considered to be outliers.\n",
    "These values make sense though and should be maintained."
   ]
  },
  {
   "cell_type": "markdown",
   "metadata": {},
   "source": [
    "## Amount of Bill Statement"
   ]
  },
  {
   "cell_type": "code",
   "execution_count": 30,
   "metadata": {},
   "outputs": [
    {
     "data": {
      "text/plain": [
       "<matplotlib.axes._subplots.AxesSubplot at 0x2700bf28f60>"
      ]
     },
     "execution_count": 30,
     "metadata": {},
     "output_type": "execute_result"
    },
    {
     "data": {
      "image/png": "[encoded data removed]",
      "text/plain": [
       "<Figure size 432x288 with 1 Axes>"
      ]
     },
     "metadata": {
      "needs_background": "light"
     },
     "output_type": "display_data"
    }
   ],
   "source": [
    "data[['BILL_AMT1', 'BILL_AMT2', 'BILL_AMT3', 'BILL_AMT4', 'BILL_AMT5', 'BILL_AMT6']].plot(kind='box')"
   ]
  },
  {
   "cell_type": "code",
   "execution_count": 31,
   "metadata": {},
   "outputs": [
    {
     "data": {
      "image/png": "[encoded data removed]",
      "text/plain": [
       "<Figure size 432x288 with 1 Axes>"
      ]
     },
     "metadata": {
      "needs_background": "light"
     },
     "output_type": "display_data"
    },
    {
     "data": {
      "image/png": "[encoded data removed]",
      "text/plain": [
       "<Figure size 432x288 with 1 Axes>"
      ]
     },
     "metadata": {
      "needs_background": "light"
     },
     "output_type": "display_data"
    },
    {
     "data": {
      "image/png": "[encoded data removed]",
      "text/plain": [
       "<Figure size 432x288 with 1 Axes>"
      ]
     },
     "metadata": {
      "needs_background": "light"
     },
     "output_type": "display_data"
    },
    {
     "data": {
      "image/png": "[encoded data removed]",
      "text/plain": [
       "<Figure size 432x288 with 1 Axes>"
      ]
     },
     "metadata": {
      "needs_background": "light"
     },
     "output_type": "display_data"
    },
    {
     "data": {
      "image/png": "[encoded data removed]",
      "text/plain": [
       "<Figure size 432x288 with 1 Axes>"
      ]
     },
     "metadata": {
      "needs_background": "light"
     },
     "output_type": "display_data"
    },
    {
     "data": {
      "image/png": "[encoded data removed]",
      "text/plain": [
       "<Figure size 432x288 with 1 Axes>"
      ]
     },
     "metadata": {
      "needs_background": "light"
     },
     "output_type": "display_data"
    }
   ],
   "source": [
    "for i in range (1,7):\n",
    "    data[['BILL_AMT' + str(i)]].plot(kind='hist')"
   ]
  },
  {
   "cell_type": "code",
   "execution_count": 32,
   "metadata": {
    "scrolled": true
   },
   "outputs": [
    {
     "data": {
      "text/html": [
       "<div>\n",
       "<style scoped>\n",
       "    .dataframe tbody tr th:only-of-type {\n",
       "        vertical-align: middle;\n",
       "    }\n",
       "\n",
       "    .dataframe tbody tr th {\n",
       "        vertical-align: top;\n",
       "    }\n",
       "\n",
       "    .dataframe thead th {\n",
       "        text-align: right;\n",
       "    }\n",
       "</style>\n",
       "<table border=\"1\" class=\"dataframe\">\n",
       "  <thead>\n",
       "    <tr style=\"text-align: right;\">\n",
       "      <th></th>\n",
       "      <th>BILL_AMT1</th>\n",
       "      <th>BILL_AMT2</th>\n",
       "      <th>BILL_AMT3</th>\n",
       "      <th>BILL_AMT4</th>\n",
       "      <th>BILL_AMT5</th>\n",
       "      <th>BILL_AMT6</th>\n",
       "    </tr>\n",
       "  </thead>\n",
       "  <tbody>\n",
       "    <tr>\n",
       "      <th>count</th>\n",
       "      <td>30,000.0</td>\n",
       "      <td>30,000.0</td>\n",
       "      <td>30,000.0</td>\n",
       "      <td>30,000.0</td>\n",
       "      <td>30,000.0</td>\n",
       "      <td>30,000.0</td>\n",
       "    </tr>\n",
       "    <tr>\n",
       "      <th>mean</th>\n",
       "      <td>51,223.3309</td>\n",
       "      <td>49,179.07516666667</td>\n",
       "      <td>47,013.1548</td>\n",
       "      <td>43,262.94896666666</td>\n",
       "      <td>40,311.40096666667</td>\n",
       "      <td>38,871.7604</td>\n",
       "    </tr>\n",
       "    <tr>\n",
       "      <th>std</th>\n",
       "      <td>73,635.86057552874</td>\n",
       "      <td>71,173.76878252918</td>\n",
       "      <td>69,349.38742703729</td>\n",
       "      <td>64,332.85613391704</td>\n",
       "      <td>60,797.155770264195</td>\n",
       "      <td>59,554.10753674454</td>\n",
       "    </tr>\n",
       "    <tr>\n",
       "      <th>min</th>\n",
       "      <td>-165,580.0</td>\n",
       "      <td>-69,777.0</td>\n",
       "      <td>-157,264.0</td>\n",
       "      <td>-170,000.0</td>\n",
       "      <td>-81,334.0</td>\n",
       "      <td>-339,603.0</td>\n",
       "    </tr>\n",
       "    <tr>\n",
       "      <th>25%</th>\n",
       "      <td>3,558.75</td>\n",
       "      <td>2,984.75</td>\n",
       "      <td>2,666.25</td>\n",
       "      <td>2,326.75</td>\n",
       "      <td>1,763.0</td>\n",
       "      <td>1,256.0</td>\n",
       "    </tr>\n",
       "    <tr>\n",
       "      <th>50%</th>\n",
       "      <td>22,381.5</td>\n",
       "      <td>21,200.0</td>\n",
       "      <td>20,088.5</td>\n",
       "      <td>19,052.0</td>\n",
       "      <td>18,104.5</td>\n",
       "      <td>17,071.0</td>\n",
       "    </tr>\n",
       "    <tr>\n",
       "      <th>75%</th>\n",
       "      <td>67,091.0</td>\n",
       "      <td>64,006.25</td>\n",
       "      <td>60,164.75</td>\n",
       "      <td>54,506.0</td>\n",
       "      <td>50,190.5</td>\n",
       "      <td>49,198.25</td>\n",
       "    </tr>\n",
       "    <tr>\n",
       "      <th>max</th>\n",
       "      <td>964,511.0</td>\n",
       "      <td>983,931.0</td>\n",
       "      <td>1,664,089.0</td>\n",
       "      <td>891,586.0</td>\n",
       "      <td>927,171.0</td>\n",
       "      <td>961,664.0</td>\n",
       "    </tr>\n",
       "  </tbody>\n",
       "</table>\n",
       "</div>"
      ],
      "text/plain": [
       "               BILL_AMT1          BILL_AMT2          BILL_AMT3  \\\n",
       "count           30,000.0           30,000.0           30,000.0   \n",
       "mean         51,223.3309 49,179.07516666667        47,013.1548   \n",
       "std   73,635.86057552874 71,173.76878252918 69,349.38742703729   \n",
       "min           -165,580.0          -69,777.0         -157,264.0   \n",
       "25%             3,558.75           2,984.75           2,666.25   \n",
       "50%             22,381.5           21,200.0           20,088.5   \n",
       "75%             67,091.0          64,006.25          60,164.75   \n",
       "max            964,511.0          983,931.0        1,664,089.0   \n",
       "\n",
       "               BILL_AMT4           BILL_AMT5          BILL_AMT6  \n",
       "count           30,000.0            30,000.0           30,000.0  \n",
       "mean  43,262.94896666666  40,311.40096666667        38,871.7604  \n",
       "std   64,332.85613391704 60,797.155770264195 59,554.10753674454  \n",
       "min           -170,000.0           -81,334.0         -339,603.0  \n",
       "25%             2,326.75             1,763.0            1,256.0  \n",
       "50%             19,052.0            18,104.5           17,071.0  \n",
       "75%             54,506.0            50,190.5          49,198.25  \n",
       "max            891,586.0           927,171.0          961,664.0  "
      ]
     },
     "execution_count": 32,
     "metadata": {},
     "output_type": "execute_result"
    }
   ],
   "source": [
    "data[['BILL_AMT1', 'BILL_AMT2', 'BILL_AMT3', 'BILL_AMT4', 'BILL_AMT5', 'BILL_AMT6']].describe()"
   ]
  },
  {
   "cell_type": "code",
   "execution_count": 33,
   "metadata": {},
   "outputs": [],
   "source": [
    "def dictionary(name):\n",
    "    d = {}\n",
    "    for i in range(1,7):\n",
    "        q3 = data[name + str(i)].quantile(0.75)\n",
    "        q1 = data[name + str(i)].quantile(0.25)\n",
    "        u = q3 + 1.5*(q3-q1)\n",
    "        l = q1 - 1.5*(q3-q1)\n",
    "        #print(len(data[(data[name + str(i)] > u) | (data[name + str(i)] < l)]))\n",
    "        d[name + \"_outliers{0}\".format(i)] = (len(data[(data[name + str(i)] > u) | (data[name + str(i)] < l)]))/30000\n",
    "    return d"
   ]
  },
  {
   "cell_type": "code",
   "execution_count": 34,
   "metadata": {},
   "outputs": [],
   "source": [
    "BILL_AMT_dict = dictionary('BILL_AMT')"
   ]
  },
  {
   "cell_type": "code",
   "execution_count": 35,
   "metadata": {},
   "outputs": [
    {
     "data": {
      "text/plain": [
       "{'BILL_AMT_outliers1': 0.08,\n",
       " 'BILL_AMT_outliers2': 0.07983333333333334,\n",
       " 'BILL_AMT_outliers3': 0.0823,\n",
       " 'BILL_AMT_outliers4': 0.0874,\n",
       " 'BILL_AMT_outliers5': 0.09083333333333334,\n",
       " 'BILL_AMT_outliers6': 0.08976666666666666}"
      ]
     },
     "execution_count": 35,
     "metadata": {},
     "output_type": "execute_result"
    }
   ],
   "source": [
    "BILL_AMT_dict"
   ]
  },
  {
   "cell_type": "markdown",
   "metadata": {},
   "source": [
    "For Bill Amounts, we have more \"outliers\" than normal with a range of 7.9% to 9.1% of rows being considered outliers. These rows should certainly remain in our dataset as they are very relevant to the task of predicting credit card default."
   ]
  },
  {
   "cell_type": "markdown",
   "metadata": {},
   "source": [
    "## Amount of Previous Payment"
   ]
  },
  {
   "cell_type": "code",
   "execution_count": 36,
   "metadata": {},
   "outputs": [
    {
     "data": {
      "text/plain": [
       "<matplotlib.axes._subplots.AxesSubplot at 0x2700d6399b0>"
      ]
     },
     "execution_count": 36,
     "metadata": {},
     "output_type": "execute_result"
    },
    {
     "data": {
      "image/png": "[encoded data removed]",
      "text/plain": [
       "<Figure size 432x288 with 1 Axes>"
      ]
     },
     "metadata": {
      "needs_background": "light"
     },
     "output_type": "display_data"
    }
   ],
   "source": [
    "data[['PAY_AMT1', 'PAY_AMT2', 'PAY_AMT3', 'PAY_AMT4', 'PAY_AMT5', 'PAY_AMT6']].plot(kind='box')"
   ]
  },
  {
   "cell_type": "code",
   "execution_count": 37,
   "metadata": {},
   "outputs": [
    {
     "data": {
      "text/html": [
       "<div>\n",
       "<style scoped>\n",
       "    .dataframe tbody tr th:only-of-type {\n",
       "        vertical-align: middle;\n",
       "    }\n",
       "\n",
       "    .dataframe tbody tr th {\n",
       "        vertical-align: top;\n",
       "    }\n",
       "\n",
       "    .dataframe thead th {\n",
       "        text-align: right;\n",
       "    }\n",
       "</style>\n",
       "<table border=\"1\" class=\"dataframe\">\n",
       "  <thead>\n",
       "    <tr style=\"text-align: right;\">\n",
       "      <th></th>\n",
       "      <th>PAY_AMT1</th>\n",
       "      <th>PAY_AMT2</th>\n",
       "      <th>PAY_AMT3</th>\n",
       "      <th>PAY_AMT4</th>\n",
       "      <th>PAY_AMT5</th>\n",
       "      <th>PAY_AMT6</th>\n",
       "    </tr>\n",
       "  </thead>\n",
       "  <tbody>\n",
       "    <tr>\n",
       "      <th>count</th>\n",
       "      <td>30,000.0</td>\n",
       "      <td>30,000.0</td>\n",
       "      <td>30,000.0</td>\n",
       "      <td>30,000.0</td>\n",
       "      <td>30,000.0</td>\n",
       "      <td>30,000.0</td>\n",
       "    </tr>\n",
       "    <tr>\n",
       "      <th>mean</th>\n",
       "      <td>5,663.5805</td>\n",
       "      <td>5,921.1635</td>\n",
       "      <td>5,225.6815</td>\n",
       "      <td>4,826.076866666666</td>\n",
       "      <td>4,799.387633333334</td>\n",
       "      <td>5,215.502566666667</td>\n",
       "    </tr>\n",
       "    <tr>\n",
       "      <th>std</th>\n",
       "      <td>16,563.280354026534</td>\n",
       "      <td>23,040.870402054872</td>\n",
       "      <td>17,606.96146980426</td>\n",
       "      <td>15,666.159744031342</td>\n",
       "      <td>15,278.30567914539</td>\n",
       "      <td>17,777.465775434066</td>\n",
       "    </tr>\n",
       "    <tr>\n",
       "      <th>min</th>\n",
       "      <td>0.0</td>\n",
       "      <td>0.0</td>\n",
       "      <td>0.0</td>\n",
       "      <td>0.0</td>\n",
       "      <td>0.0</td>\n",
       "      <td>0.0</td>\n",
       "    </tr>\n",
       "    <tr>\n",
       "      <th>25%</th>\n",
       "      <td>1,000.0</td>\n",
       "      <td>833.0</td>\n",
       "      <td>390.0</td>\n",
       "      <td>296.0</td>\n",
       "      <td>252.5</td>\n",
       "      <td>117.75</td>\n",
       "    </tr>\n",
       "    <tr>\n",
       "      <th>50%</th>\n",
       "      <td>2,100.0</td>\n",
       "      <td>2,009.0</td>\n",
       "      <td>1,800.0</td>\n",
       "      <td>1,500.0</td>\n",
       "      <td>1,500.0</td>\n",
       "      <td>1,500.0</td>\n",
       "    </tr>\n",
       "    <tr>\n",
       "      <th>75%</th>\n",
       "      <td>5,006.0</td>\n",
       "      <td>5,000.0</td>\n",
       "      <td>4,505.0</td>\n",
       "      <td>4,013.25</td>\n",
       "      <td>4,031.5</td>\n",
       "      <td>4,000.0</td>\n",
       "    </tr>\n",
       "    <tr>\n",
       "      <th>max</th>\n",
       "      <td>873,552.0</td>\n",
       "      <td>1,684,259.0</td>\n",
       "      <td>896,040.0</td>\n",
       "      <td>621,000.0</td>\n",
       "      <td>426,529.0</td>\n",
       "      <td>528,666.0</td>\n",
       "    </tr>\n",
       "  </tbody>\n",
       "</table>\n",
       "</div>"
      ],
      "text/plain": [
       "                 PAY_AMT1            PAY_AMT2           PAY_AMT3  \\\n",
       "count            30,000.0            30,000.0           30,000.0   \n",
       "mean           5,663.5805          5,921.1635         5,225.6815   \n",
       "std   16,563.280354026534 23,040.870402054872 17,606.96146980426   \n",
       "min                   0.0                 0.0                0.0   \n",
       "25%               1,000.0               833.0              390.0   \n",
       "50%               2,100.0             2,009.0            1,800.0   \n",
       "75%               5,006.0             5,000.0            4,505.0   \n",
       "max             873,552.0         1,684,259.0          896,040.0   \n",
       "\n",
       "                 PAY_AMT4           PAY_AMT5            PAY_AMT6  \n",
       "count            30,000.0           30,000.0            30,000.0  \n",
       "mean   4,826.076866666666 4,799.387633333334  5,215.502566666667  \n",
       "std   15,666.159744031342 15,278.30567914539 17,777.465775434066  \n",
       "min                   0.0                0.0                 0.0  \n",
       "25%                 296.0              252.5              117.75  \n",
       "50%               1,500.0            1,500.0             1,500.0  \n",
       "75%              4,013.25            4,031.5             4,000.0  \n",
       "max             621,000.0          426,529.0           528,666.0  "
      ]
     },
     "execution_count": 37,
     "metadata": {},
     "output_type": "execute_result"
    }
   ],
   "source": [
    "data[['PAY_AMT1', 'PAY_AMT2', 'PAY_AMT3', 'PAY_AMT4', 'PAY_AMT5', 'PAY_AMT6']].describe()"
   ]
  },
  {
   "cell_type": "code",
   "execution_count": 38,
   "metadata": {},
   "outputs": [
    {
     "data": {
      "image/png": "[encoded data removed]",
      "text/plain": [
       "<Figure size 432x288 with 1 Axes>"
      ]
     },
     "metadata": {
      "needs_background": "light"
     },
     "output_type": "display_data"
    },
    {
     "data": {
      "image/png": "[encoded data removed]",
      "text/plain": [
       "<Figure size 432x288 with 1 Axes>"
      ]
     },
     "metadata": {
      "needs_background": "light"
     },
     "output_type": "display_data"
    },
    {
     "data": {
      "image/png": "[encoded data removed]",
      "text/plain": [
       "<Figure size 432x288 with 1 Axes>"
      ]
     },
     "metadata": {
      "needs_background": "light"
     },
     "output_type": "display_data"
    },
    {
     "data": {
      "image/png": "[encoded data removed]",
      "text/plain": [
       "<Figure size 432x288 with 1 Axes>"
      ]
     },
     "metadata": {
      "needs_background": "light"
     },
     "output_type": "display_data"
    },
    {
     "data": {
      "image/png": "[encoded data removed]",
      "text/plain": [
       "<Figure size 432x288 with 1 Axes>"
      ]
     },
     "metadata": {
      "needs_background": "light"
     },
     "output_type": "display_data"
    },
    {
     "data": {
      "image/png": "[encoded data removed]",
      "text/plain": [
       "<Figure size 432x288 with 1 Axes>"
      ]
     },
     "metadata": {
      "needs_background": "light"
     },
     "output_type": "display_data"
    }
   ],
   "source": [
    "for i in range (1,7):\n",
    "    data[['PAY_AMT' + str(i)]].plot(kind='hist')"
   ]
  },
  {
   "cell_type": "code",
   "execution_count": 39,
   "metadata": {},
   "outputs": [],
   "source": [
    "PAY_AMT_dict = dictionary('PAY_AMT')"
   ]
  },
  {
   "cell_type": "code",
   "execution_count": 40,
   "metadata": {},
   "outputs": [
    {
     "data": {
      "text/plain": [
       "{'PAY_AMT_outliers1': 0.0915,\n",
       " 'PAY_AMT_outliers2': 0.09046666666666667,\n",
       " 'PAY_AMT_outliers3': 0.0866,\n",
       " 'PAY_AMT_outliers4': 0.0998,\n",
       " 'PAY_AMT_outliers5': 0.09816666666666667,\n",
       " 'PAY_AMT_outliers6': 0.0986}"
      ]
     },
     "execution_count": 40,
     "metadata": {},
     "output_type": "execute_result"
    }
   ],
   "source": [
    "PAY_AMT_dict"
   ]
  },
  {
   "cell_type": "markdown",
   "metadata": {},
   "source": [
    "We can see here that between 8.6% and 10% of previous payments are statistical outliers. Like before, these numbers are technically outliers although should certainly be included in the analysis because  \n",
    "a) there is no indication the data was entered correctly  \n",
    "b) the outliers affect both the results and assumptions and are therefore relevant  \n",
    "c) the outliers are assumaly not creating an association that didn't previously exist (although this remains to be examined)  \n",
    "(These criteria are adopted from https://www.theanalysisfactor.com/outliers-to-drop-or-not-to-drop/)"
   ]
  },
  {
   "cell_type": "markdown",
   "metadata": {},
   "source": [
    "## Default Payment"
   ]
  },
  {
   "cell_type": "code",
   "execution_count": 41,
   "metadata": {},
   "outputs": [
    {
     "data": {
      "text/plain": [
       "Index(['LIMIT_BAL', 'SEX', 'EDUCATION', 'MARRIAGE', 'AGE', 'PAY_0', 'PAY_2',\n",
       "       'PAY_3', 'PAY_4', 'PAY_5', 'PAY_6', 'BILL_AMT1', 'BILL_AMT2',\n",
       "       'BILL_AMT3', 'BILL_AMT4', 'BILL_AMT5', 'BILL_AMT6', 'PAY_AMT1',\n",
       "       'PAY_AMT2', 'PAY_AMT3', 'PAY_AMT4', 'PAY_AMT5', 'PAY_AMT6',\n",
       "       'default.payment.next.month'],\n",
       "      dtype='object')"
      ]
     },
     "execution_count": 41,
     "metadata": {},
     "output_type": "execute_result"
    }
   ],
   "source": [
    "data.columns"
   ]
  },
  {
   "cell_type": "code",
   "execution_count": 42,
   "metadata": {},
   "outputs": [
    {
     "data": {
      "text/plain": [
       "array([1, 0], dtype=int64)"
      ]
     },
     "execution_count": 42,
     "metadata": {},
     "output_type": "execute_result"
    }
   ],
   "source": [
    "data['default.payment.next.month'].unique()"
   ]
  },
  {
   "cell_type": "markdown",
   "metadata": {},
   "source": [
    "Only 2 values for Default payments (default or not) which makes sense"
   ]
  }
 ],
 "metadata": {
  "kernelspec": {
   "display_name": "Python 3",
   "language": "python",
   "name": "python3"
  },
  "language_info": {
   "codemirror_mode": {
    "name": "ipython",
    "version": 3
   },
   "file_extension": ".py",
   "mimetype": "text/x-python",
   "name": "python",
   "nbconvert_exporter": "python",
   "pygments_lexer": "ipython3",
   "version": "3.7.0"
  }
 },
 "nbformat": 4,
 "nbformat_minor": 2
}
