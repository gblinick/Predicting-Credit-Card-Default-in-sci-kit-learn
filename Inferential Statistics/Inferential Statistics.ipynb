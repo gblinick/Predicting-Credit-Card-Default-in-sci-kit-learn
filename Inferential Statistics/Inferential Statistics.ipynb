{
 "cells": [
  {
   "cell_type": "markdown",
   "metadata": {},
   "source": [
    "# Project: Capstone Project 1: Inferential Statistics\n"
   ]
  },
  {
   "cell_type": "markdown",
   "metadata": {},
   "source": [
    "## Load Data and View It"
   ]
  },
  {
   "cell_type": "code",
   "execution_count": 1,
   "metadata": {},
   "outputs": [],
   "source": [
    "import pandas as pd\n",
    "import numpy as np\n",
    "import matplotlib.pyplot as plt\n",
    "import seaborn as sns\n",
    "from IPython.display import display\n",
    "import random"
   ]
  },
  {
   "cell_type": "code",
   "execution_count": 2,
   "metadata": {},
   "outputs": [],
   "source": [
    "filename = 'UCI_Credit_Card.csv'"
   ]
  },
  {
   "cell_type": "code",
   "execution_count": 3,
   "metadata": {},
   "outputs": [],
   "source": [
    "data = pd.read_csv(filename, index_col=0)"
   ]
  },
  {
   "cell_type": "code",
   "execution_count": 4,
   "metadata": {},
   "outputs": [
    {
     "data": {
      "text/html": [
       "<div>\n",
       "<style scoped>\n",
       "    .dataframe tbody tr th:only-of-type {\n",
       "        vertical-align: middle;\n",
       "    }\n",
       "\n",
       "    .dataframe tbody tr th {\n",
       "        vertical-align: top;\n",
       "    }\n",
       "\n",
       "    .dataframe thead th {\n",
       "        text-align: right;\n",
       "    }\n",
       "</style>\n",
       "<table border=\"1\" class=\"dataframe\">\n",
       "  <thead>\n",
       "    <tr style=\"text-align: right;\">\n",
       "      <th>ID</th>\n",
       "      <th>21856</th>\n",
       "      <th>5156</th>\n",
       "      <th>11550</th>\n",
       "      <th>17670</th>\n",
       "      <th>6444</th>\n",
       "    </tr>\n",
       "  </thead>\n",
       "  <tbody>\n",
       "    <tr>\n",
       "      <th>LIMIT_BAL</th>\n",
       "      <td>180000.0</td>\n",
       "      <td>80000.0</td>\n",
       "      <td>80000.0</td>\n",
       "      <td>500000.0</td>\n",
       "      <td>110000.0</td>\n",
       "    </tr>\n",
       "    <tr>\n",
       "      <th>SEX</th>\n",
       "      <td>2.0</td>\n",
       "      <td>1.0</td>\n",
       "      <td>1.0</td>\n",
       "      <td>2.0</td>\n",
       "      <td>2.0</td>\n",
       "    </tr>\n",
       "    <tr>\n",
       "      <th>EDUCATION</th>\n",
       "      <td>2.0</td>\n",
       "      <td>2.0</td>\n",
       "      <td>1.0</td>\n",
       "      <td>2.0</td>\n",
       "      <td>2.0</td>\n",
       "    </tr>\n",
       "    <tr>\n",
       "      <th>MARRIAGE</th>\n",
       "      <td>2.0</td>\n",
       "      <td>2.0</td>\n",
       "      <td>2.0</td>\n",
       "      <td>1.0</td>\n",
       "      <td>2.0</td>\n",
       "    </tr>\n",
       "    <tr>\n",
       "      <th>AGE</th>\n",
       "      <td>27.0</td>\n",
       "      <td>27.0</td>\n",
       "      <td>39.0</td>\n",
       "      <td>44.0</td>\n",
       "      <td>32.0</td>\n",
       "    </tr>\n",
       "    <tr>\n",
       "      <th>PAY_0</th>\n",
       "      <td>0.0</td>\n",
       "      <td>-1.0</td>\n",
       "      <td>0.0</td>\n",
       "      <td>0.0</td>\n",
       "      <td>0.0</td>\n",
       "    </tr>\n",
       "    <tr>\n",
       "      <th>PAY_2</th>\n",
       "      <td>0.0</td>\n",
       "      <td>-1.0</td>\n",
       "      <td>0.0</td>\n",
       "      <td>0.0</td>\n",
       "      <td>0.0</td>\n",
       "    </tr>\n",
       "    <tr>\n",
       "      <th>PAY_3</th>\n",
       "      <td>0.0</td>\n",
       "      <td>-1.0</td>\n",
       "      <td>0.0</td>\n",
       "      <td>0.0</td>\n",
       "      <td>0.0</td>\n",
       "    </tr>\n",
       "    <tr>\n",
       "      <th>PAY_4</th>\n",
       "      <td>0.0</td>\n",
       "      <td>-1.0</td>\n",
       "      <td>0.0</td>\n",
       "      <td>0.0</td>\n",
       "      <td>0.0</td>\n",
       "    </tr>\n",
       "    <tr>\n",
       "      <th>PAY_5</th>\n",
       "      <td>0.0</td>\n",
       "      <td>2.0</td>\n",
       "      <td>0.0</td>\n",
       "      <td>0.0</td>\n",
       "      <td>0.0</td>\n",
       "    </tr>\n",
       "    <tr>\n",
       "      <th>PAY_6</th>\n",
       "      <td>0.0</td>\n",
       "      <td>-1.0</td>\n",
       "      <td>0.0</td>\n",
       "      <td>0.0</td>\n",
       "      <td>0.0</td>\n",
       "    </tr>\n",
       "    <tr>\n",
       "      <th>BILL_AMT1</th>\n",
       "      <td>173098.0</td>\n",
       "      <td>390.0</td>\n",
       "      <td>49171.0</td>\n",
       "      <td>193136.0</td>\n",
       "      <td>108159.0</td>\n",
       "    </tr>\n",
       "    <tr>\n",
       "      <th>BILL_AMT2</th>\n",
       "      <td>172494.0</td>\n",
       "      <td>390.0</td>\n",
       "      <td>50376.0</td>\n",
       "      <td>186610.0</td>\n",
       "      <td>106812.0</td>\n",
       "    </tr>\n",
       "    <tr>\n",
       "      <th>BILL_AMT3</th>\n",
       "      <td>172060.0</td>\n",
       "      <td>390.0</td>\n",
       "      <td>51536.0</td>\n",
       "      <td>180153.0</td>\n",
       "      <td>108464.0</td>\n",
       "    </tr>\n",
       "    <tr>\n",
       "      <th>BILL_AMT4</th>\n",
       "      <td>166204.0</td>\n",
       "      <td>1080.0</td>\n",
       "      <td>52782.0</td>\n",
       "      <td>173454.0</td>\n",
       "      <td>108829.0</td>\n",
       "    </tr>\n",
       "    <tr>\n",
       "      <th>BILL_AMT5</th>\n",
       "      <td>145146.0</td>\n",
       "      <td>540.0</td>\n",
       "      <td>53781.0</td>\n",
       "      <td>166546.0</td>\n",
       "      <td>110557.0</td>\n",
       "    </tr>\n",
       "    <tr>\n",
       "      <th>BILL_AMT6</th>\n",
       "      <td>142961.0</td>\n",
       "      <td>390.0</td>\n",
       "      <td>55389.0</td>\n",
       "      <td>159651.0</td>\n",
       "      <td>106082.0</td>\n",
       "    </tr>\n",
       "    <tr>\n",
       "      <th>PAY_AMT1</th>\n",
       "      <td>8000.0</td>\n",
       "      <td>390.0</td>\n",
       "      <td>2000.0</td>\n",
       "      <td>6610.0</td>\n",
       "      <td>5400.0</td>\n",
       "    </tr>\n",
       "    <tr>\n",
       "      <th>PAY_AMT2</th>\n",
       "      <td>8100.0</td>\n",
       "      <td>390.0</td>\n",
       "      <td>2000.0</td>\n",
       "      <td>6480.0</td>\n",
       "      <td>5400.0</td>\n",
       "    </tr>\n",
       "    <tr>\n",
       "      <th>PAY_AMT3</th>\n",
       "      <td>8000.0</td>\n",
       "      <td>1080.0</td>\n",
       "      <td>2100.0</td>\n",
       "      <td>6230.0</td>\n",
       "      <td>4100.0</td>\n",
       "    </tr>\n",
       "    <tr>\n",
       "      <th>PAY_AMT4</th>\n",
       "      <td>5600.0</td>\n",
       "      <td>0.0</td>\n",
       "      <td>2000.0</td>\n",
       "      <td>5900.0</td>\n",
       "      <td>4100.0</td>\n",
       "    </tr>\n",
       "    <tr>\n",
       "      <th>PAY_AMT5</th>\n",
       "      <td>5500.0</td>\n",
       "      <td>390.0</td>\n",
       "      <td>2500.0</td>\n",
       "      <td>5720.0</td>\n",
       "      <td>4100.0</td>\n",
       "    </tr>\n",
       "    <tr>\n",
       "      <th>PAY_AMT6</th>\n",
       "      <td>15000.0</td>\n",
       "      <td>390.0</td>\n",
       "      <td>2500.0</td>\n",
       "      <td>5420.0</td>\n",
       "      <td>4200.0</td>\n",
       "    </tr>\n",
       "    <tr>\n",
       "      <th>default.payment.next.month</th>\n",
       "      <td>0.0</td>\n",
       "      <td>0.0</td>\n",
       "      <td>1.0</td>\n",
       "      <td>0.0</td>\n",
       "      <td>0.0</td>\n",
       "    </tr>\n",
       "  </tbody>\n",
       "</table>\n",
       "</div>"
      ],
      "text/plain": [
       "ID                             21856    5156     11550     17670     6444 \n",
       "LIMIT_BAL                   180000.0  80000.0  80000.0  500000.0  110000.0\n",
       "SEX                              2.0      1.0      1.0       2.0       2.0\n",
       "EDUCATION                        2.0      2.0      1.0       2.0       2.0\n",
       "MARRIAGE                         2.0      2.0      2.0       1.0       2.0\n",
       "AGE                             27.0     27.0     39.0      44.0      32.0\n",
       "PAY_0                            0.0     -1.0      0.0       0.0       0.0\n",
       "PAY_2                            0.0     -1.0      0.0       0.0       0.0\n",
       "PAY_3                            0.0     -1.0      0.0       0.0       0.0\n",
       "PAY_4                            0.0     -1.0      0.0       0.0       0.0\n",
       "PAY_5                            0.0      2.0      0.0       0.0       0.0\n",
       "PAY_6                            0.0     -1.0      0.0       0.0       0.0\n",
       "BILL_AMT1                   173098.0    390.0  49171.0  193136.0  108159.0\n",
       "BILL_AMT2                   172494.0    390.0  50376.0  186610.0  106812.0\n",
       "BILL_AMT3                   172060.0    390.0  51536.0  180153.0  108464.0\n",
       "BILL_AMT4                   166204.0   1080.0  52782.0  173454.0  108829.0\n",
       "BILL_AMT5                   145146.0    540.0  53781.0  166546.0  110557.0\n",
       "BILL_AMT6                   142961.0    390.0  55389.0  159651.0  106082.0\n",
       "PAY_AMT1                      8000.0    390.0   2000.0    6610.0    5400.0\n",
       "PAY_AMT2                      8100.0    390.0   2000.0    6480.0    5400.0\n",
       "PAY_AMT3                      8000.0   1080.0   2100.0    6230.0    4100.0\n",
       "PAY_AMT4                      5600.0      0.0   2000.0    5900.0    4100.0\n",
       "PAY_AMT5                      5500.0    390.0   2500.0    5720.0    4100.0\n",
       "PAY_AMT6                     15000.0    390.0   2500.0    5420.0    4200.0\n",
       "default.payment.next.month       0.0      0.0      1.0       0.0       0.0"
      ]
     },
     "execution_count": 4,
     "metadata": {},
     "output_type": "execute_result"
    }
   ],
   "source": [
    "pd.set_option('display.max_columns', 500)\n",
    "data.sample(5).transpose()"
   ]
  },
  {
   "cell_type": "code",
   "execution_count": 5,
   "metadata": {},
   "outputs": [
    {
     "name": "stdout",
     "output_type": "stream",
     "text": [
      "<class 'pandas.core.frame.DataFrame'>\n",
      "Int64Index: 30000 entries, 1 to 30000\n",
      "Data columns (total 24 columns):\n",
      "LIMIT_BAL                     30000 non-null float64\n",
      "SEX                           30000 non-null int64\n",
      "EDUCATION                     30000 non-null int64\n",
      "MARRIAGE                      30000 non-null int64\n",
      "AGE                           30000 non-null int64\n",
      "PAY_0                         30000 non-null int64\n",
      "PAY_2                         30000 non-null int64\n",
      "PAY_3                         30000 non-null int64\n",
      "PAY_4                         30000 non-null int64\n",
      "PAY_5                         30000 non-null int64\n",
      "PAY_6                         30000 non-null int64\n",
      "BILL_AMT1                     30000 non-null float64\n",
      "BILL_AMT2                     30000 non-null float64\n",
      "BILL_AMT3                     30000 non-null float64\n",
      "BILL_AMT4                     30000 non-null float64\n",
      "BILL_AMT5                     30000 non-null float64\n",
      "BILL_AMT6                     30000 non-null float64\n",
      "PAY_AMT1                      30000 non-null float64\n",
      "PAY_AMT2                      30000 non-null float64\n",
      "PAY_AMT3                      30000 non-null float64\n",
      "PAY_AMT4                      30000 non-null float64\n",
      "PAY_AMT5                      30000 non-null float64\n",
      "PAY_AMT6                      30000 non-null float64\n",
      "default.payment.next.month    30000 non-null int64\n",
      "dtypes: float64(13), int64(11)\n",
      "memory usage: 5.7 MB\n"
     ]
    }
   ],
   "source": [
    "data.info()"
   ]
  },
  {
   "cell_type": "code",
   "execution_count": 6,
   "metadata": {},
   "outputs": [
    {
     "data": {
      "text/plain": [
       "(30000, 24)"
      ]
     },
     "metadata": {},
     "output_type": "display_data"
    }
   ],
   "source": [
    "display(data.shape)"
   ]
  },
  {
   "cell_type": "code",
   "execution_count": 7,
   "metadata": {},
   "outputs": [
    {
     "data": {
      "text/html": [
       "<div>\n",
       "<style scoped>\n",
       "    .dataframe tbody tr th:only-of-type {\n",
       "        vertical-align: middle;\n",
       "    }\n",
       "\n",
       "    .dataframe tbody tr th {\n",
       "        vertical-align: top;\n",
       "    }\n",
       "\n",
       "    .dataframe thead th {\n",
       "        text-align: right;\n",
       "    }\n",
       "</style>\n",
       "<table border=\"1\" class=\"dataframe\">\n",
       "  <thead>\n",
       "    <tr style=\"text-align: right;\">\n",
       "      <th>ID</th>\n",
       "      <th>1</th>\n",
       "      <th>2</th>\n",
       "      <th>3</th>\n",
       "      <th>4</th>\n",
       "      <th>5</th>\n",
       "    </tr>\n",
       "  </thead>\n",
       "  <tbody>\n",
       "    <tr>\n",
       "      <th>LIMIT_BAL</th>\n",
       "      <td>20000.0</td>\n",
       "      <td>120000.0</td>\n",
       "      <td>90000.0</td>\n",
       "      <td>50000.0</td>\n",
       "      <td>50000.0</td>\n",
       "    </tr>\n",
       "    <tr>\n",
       "      <th>SEX</th>\n",
       "      <td>2.0</td>\n",
       "      <td>2.0</td>\n",
       "      <td>2.0</td>\n",
       "      <td>2.0</td>\n",
       "      <td>1.0</td>\n",
       "    </tr>\n",
       "    <tr>\n",
       "      <th>EDUCATION</th>\n",
       "      <td>2.0</td>\n",
       "      <td>2.0</td>\n",
       "      <td>2.0</td>\n",
       "      <td>2.0</td>\n",
       "      <td>2.0</td>\n",
       "    </tr>\n",
       "    <tr>\n",
       "      <th>MARRIAGE</th>\n",
       "      <td>1.0</td>\n",
       "      <td>2.0</td>\n",
       "      <td>2.0</td>\n",
       "      <td>1.0</td>\n",
       "      <td>1.0</td>\n",
       "    </tr>\n",
       "    <tr>\n",
       "      <th>AGE</th>\n",
       "      <td>24.0</td>\n",
       "      <td>26.0</td>\n",
       "      <td>34.0</td>\n",
       "      <td>37.0</td>\n",
       "      <td>57.0</td>\n",
       "    </tr>\n",
       "    <tr>\n",
       "      <th>PAY_0</th>\n",
       "      <td>2.0</td>\n",
       "      <td>-1.0</td>\n",
       "      <td>0.0</td>\n",
       "      <td>0.0</td>\n",
       "      <td>-1.0</td>\n",
       "    </tr>\n",
       "    <tr>\n",
       "      <th>PAY_2</th>\n",
       "      <td>2.0</td>\n",
       "      <td>2.0</td>\n",
       "      <td>0.0</td>\n",
       "      <td>0.0</td>\n",
       "      <td>0.0</td>\n",
       "    </tr>\n",
       "    <tr>\n",
       "      <th>PAY_3</th>\n",
       "      <td>-1.0</td>\n",
       "      <td>0.0</td>\n",
       "      <td>0.0</td>\n",
       "      <td>0.0</td>\n",
       "      <td>-1.0</td>\n",
       "    </tr>\n",
       "    <tr>\n",
       "      <th>PAY_4</th>\n",
       "      <td>-1.0</td>\n",
       "      <td>0.0</td>\n",
       "      <td>0.0</td>\n",
       "      <td>0.0</td>\n",
       "      <td>0.0</td>\n",
       "    </tr>\n",
       "    <tr>\n",
       "      <th>PAY_5</th>\n",
       "      <td>-2.0</td>\n",
       "      <td>0.0</td>\n",
       "      <td>0.0</td>\n",
       "      <td>0.0</td>\n",
       "      <td>0.0</td>\n",
       "    </tr>\n",
       "    <tr>\n",
       "      <th>PAY_6</th>\n",
       "      <td>-2.0</td>\n",
       "      <td>2.0</td>\n",
       "      <td>0.0</td>\n",
       "      <td>0.0</td>\n",
       "      <td>0.0</td>\n",
       "    </tr>\n",
       "    <tr>\n",
       "      <th>BILL_AMT1</th>\n",
       "      <td>3913.0</td>\n",
       "      <td>2682.0</td>\n",
       "      <td>29239.0</td>\n",
       "      <td>46990.0</td>\n",
       "      <td>8617.0</td>\n",
       "    </tr>\n",
       "    <tr>\n",
       "      <th>BILL_AMT2</th>\n",
       "      <td>3102.0</td>\n",
       "      <td>1725.0</td>\n",
       "      <td>14027.0</td>\n",
       "      <td>48233.0</td>\n",
       "      <td>5670.0</td>\n",
       "    </tr>\n",
       "    <tr>\n",
       "      <th>BILL_AMT3</th>\n",
       "      <td>689.0</td>\n",
       "      <td>2682.0</td>\n",
       "      <td>13559.0</td>\n",
       "      <td>49291.0</td>\n",
       "      <td>35835.0</td>\n",
       "    </tr>\n",
       "    <tr>\n",
       "      <th>BILL_AMT4</th>\n",
       "      <td>0.0</td>\n",
       "      <td>3272.0</td>\n",
       "      <td>14331.0</td>\n",
       "      <td>28314.0</td>\n",
       "      <td>20940.0</td>\n",
       "    </tr>\n",
       "    <tr>\n",
       "      <th>BILL_AMT5</th>\n",
       "      <td>0.0</td>\n",
       "      <td>3455.0</td>\n",
       "      <td>14948.0</td>\n",
       "      <td>28959.0</td>\n",
       "      <td>19146.0</td>\n",
       "    </tr>\n",
       "    <tr>\n",
       "      <th>BILL_AMT6</th>\n",
       "      <td>0.0</td>\n",
       "      <td>3261.0</td>\n",
       "      <td>15549.0</td>\n",
       "      <td>29547.0</td>\n",
       "      <td>19131.0</td>\n",
       "    </tr>\n",
       "    <tr>\n",
       "      <th>PAY_AMT1</th>\n",
       "      <td>0.0</td>\n",
       "      <td>0.0</td>\n",
       "      <td>1518.0</td>\n",
       "      <td>2000.0</td>\n",
       "      <td>2000.0</td>\n",
       "    </tr>\n",
       "    <tr>\n",
       "      <th>PAY_AMT2</th>\n",
       "      <td>689.0</td>\n",
       "      <td>1000.0</td>\n",
       "      <td>1500.0</td>\n",
       "      <td>2019.0</td>\n",
       "      <td>36681.0</td>\n",
       "    </tr>\n",
       "    <tr>\n",
       "      <th>PAY_AMT3</th>\n",
       "      <td>0.0</td>\n",
       "      <td>1000.0</td>\n",
       "      <td>1000.0</td>\n",
       "      <td>1200.0</td>\n",
       "      <td>10000.0</td>\n",
       "    </tr>\n",
       "    <tr>\n",
       "      <th>PAY_AMT4</th>\n",
       "      <td>0.0</td>\n",
       "      <td>1000.0</td>\n",
       "      <td>1000.0</td>\n",
       "      <td>1100.0</td>\n",
       "      <td>9000.0</td>\n",
       "    </tr>\n",
       "    <tr>\n",
       "      <th>PAY_AMT5</th>\n",
       "      <td>0.0</td>\n",
       "      <td>0.0</td>\n",
       "      <td>1000.0</td>\n",
       "      <td>1069.0</td>\n",
       "      <td>689.0</td>\n",
       "    </tr>\n",
       "    <tr>\n",
       "      <th>PAY_AMT6</th>\n",
       "      <td>0.0</td>\n",
       "      <td>2000.0</td>\n",
       "      <td>5000.0</td>\n",
       "      <td>1000.0</td>\n",
       "      <td>679.0</td>\n",
       "    </tr>\n",
       "    <tr>\n",
       "      <th>default.payment.next.month</th>\n",
       "      <td>1.0</td>\n",
       "      <td>1.0</td>\n",
       "      <td>0.0</td>\n",
       "      <td>0.0</td>\n",
       "      <td>0.0</td>\n",
       "    </tr>\n",
       "  </tbody>\n",
       "</table>\n",
       "</div>"
      ],
      "text/plain": [
       "ID                                1         2        3        4        5\n",
       "LIMIT_BAL                   20000.0  120000.0  90000.0  50000.0  50000.0\n",
       "SEX                             2.0       2.0      2.0      2.0      1.0\n",
       "EDUCATION                       2.0       2.0      2.0      2.0      2.0\n",
       "MARRIAGE                        1.0       2.0      2.0      1.0      1.0\n",
       "AGE                            24.0      26.0     34.0     37.0     57.0\n",
       "PAY_0                           2.0      -1.0      0.0      0.0     -1.0\n",
       "PAY_2                           2.0       2.0      0.0      0.0      0.0\n",
       "PAY_3                          -1.0       0.0      0.0      0.0     -1.0\n",
       "PAY_4                          -1.0       0.0      0.0      0.0      0.0\n",
       "PAY_5                          -2.0       0.0      0.0      0.0      0.0\n",
       "PAY_6                          -2.0       2.0      0.0      0.0      0.0\n",
       "BILL_AMT1                    3913.0    2682.0  29239.0  46990.0   8617.0\n",
       "BILL_AMT2                    3102.0    1725.0  14027.0  48233.0   5670.0\n",
       "BILL_AMT3                     689.0    2682.0  13559.0  49291.0  35835.0\n",
       "BILL_AMT4                       0.0    3272.0  14331.0  28314.0  20940.0\n",
       "BILL_AMT5                       0.0    3455.0  14948.0  28959.0  19146.0\n",
       "BILL_AMT6                       0.0    3261.0  15549.0  29547.0  19131.0\n",
       "PAY_AMT1                        0.0       0.0   1518.0   2000.0   2000.0\n",
       "PAY_AMT2                      689.0    1000.0   1500.0   2019.0  36681.0\n",
       "PAY_AMT3                        0.0    1000.0   1000.0   1200.0  10000.0\n",
       "PAY_AMT4                        0.0    1000.0   1000.0   1100.0   9000.0\n",
       "PAY_AMT5                        0.0       0.0   1000.0   1069.0    689.0\n",
       "PAY_AMT6                        0.0    2000.0   5000.0   1000.0    679.0\n",
       "default.payment.next.month      1.0       1.0      0.0      0.0      0.0"
      ]
     },
     "execution_count": 7,
     "metadata": {},
     "output_type": "execute_result"
    }
   ],
   "source": [
    "data.head().transpose()"
   ]
  },
  {
   "cell_type": "markdown",
   "metadata": {},
   "source": [
    "## Data Cleaning"
   ]
  },
  {
   "cell_type": "code",
   "execution_count": 8,
   "metadata": {},
   "outputs": [],
   "source": [
    "## Rename columns\n",
    "data.rename(columns={'PAY_0': 'PAY_1', 'default.payment.next.month': 'default'}, inplace=True)"
   ]
  },
  {
   "cell_type": "code",
   "execution_count": 9,
   "metadata": {},
   "outputs": [],
   "source": [
    "# Set all negative values to 0 in the PAY_X columns\n",
    "for i in range(1,7):\n",
    "    data.loc[data[\"PAY_\" + str(i)] < 0, \"PAY_\" + str(i)] = 0"
   ]
  },
  {
   "cell_type": "code",
   "execution_count": 10,
   "metadata": {},
   "outputs": [],
   "source": [
    "# Set all 0 Marriage values to 3\n",
    "data.loc[data[\"MARRIAGE\"] == 0, 'MARRIAGE'] = 3"
   ]
  },
  {
   "cell_type": "code",
   "execution_count": 11,
   "metadata": {},
   "outputs": [],
   "source": [
    "# Set values of 0, 5, and 6 to 4 for Education\n",
    "replace = (data[\"EDUCATION\"] == 0) | (data[\"EDUCATION\"] == 5) | (data[\"EDUCATION\"] == 6) \n",
    "data.loc[replace,'EDUCATION'] = 4"
   ]
  },
  {
   "cell_type": "markdown",
   "metadata": {},
   "source": [
    "## Correlations"
   ]
  },
  {
   "cell_type": "markdown",
   "metadata": {},
   "source": [
    "*Questions from Proposal*:  \n",
    "The goal of this project is to effectively predict credit card payment default using demographic factors, credit data, repayment statuses, bill statements, and history of payments. \n",
    "Two sub-goals accompanying that goal are:\n",
    "1. determining how the probability of default payment varies by categories of different demographic variables\n",
    "2. determining the strongest predictors of default payment among the variables "
   ]
  },
  {
   "cell_type": "markdown",
   "metadata": {},
   "source": [
    "Think of the following questions and apply them to your dataset:\n",
    "+ Are there variables that are particularly significant in terms of explaining the answer to your project question?\n",
    "+ Are there strong correlations between pairs of independent variables or between an independent and a dependent variable?\n",
    "+ What are the most appropriate tests to use to analyse these relationships?\n"
   ]
  },
  {
   "cell_type": "markdown",
   "metadata": {},
   "source": [
    "Our goal for this project is to predict credit card default. Therefore, the most natural question to ask is, how do we predict credit card default? This leads to the question \"Which factors are most important for predicting credit card default.\""
   ]
  },
  {
   "cell_type": "markdown",
   "metadata": {},
   "source": [
    "+ Are there variables that are particularly significant in terms of explaining the answer to your project question?"
   ]
  },
  {
   "cell_type": "markdown",
   "metadata": {},
   "source": [
    "We will begin this analysis by repeating some code from the Data Storytelling Notebook about correlations. We will look at which variables have the highest correlations with default."
   ]
  },
  {
   "cell_type": "code",
   "execution_count": 12,
   "metadata": {
    "scrolled": false
   },
   "outputs": [
    {
     "data": {
      "text/plain": [
       "LIMIT_BAL   -0.153520\n",
       "PAY_AMT1    -0.072929\n",
       "PAY_AMT2    -0.058579\n",
       "PAY_AMT4    -0.056827\n",
       "PAY_AMT3    -0.056250\n",
       "PAY_AMT5    -0.055124\n",
       "PAY_AMT6    -0.053183\n",
       "SEX         -0.039961\n",
       "MARRIAGE    -0.027575\n",
       "BILL_AMT1   -0.019644\n",
       "BILL_AMT2   -0.014193\n",
       "BILL_AMT3   -0.014076\n",
       "BILL_AMT4   -0.010156\n",
       "BILL_AMT5   -0.006760\n",
       "BILL_AMT6   -0.005372\n",
       "AGE          0.013890\n",
       "EDUCATION    0.033842\n",
       "PAY_6        0.244437\n",
       "PAY_5        0.260850\n",
       "PAY_4        0.269055\n",
       "PAY_3        0.286999\n",
       "PAY_2        0.327093\n",
       "PAY_1        0.396019\n",
       "default      1.000000\n",
       "Name: default, dtype: float64"
      ]
     },
     "execution_count": 12,
     "metadata": {},
     "output_type": "execute_result"
    }
   ],
   "source": [
    "c = data.corr()\n",
    "c['default'].sort_values()"
   ]
  },
  {
   "cell_type": "markdown",
   "metadata": {},
   "source": [
    "So it seems like the variables that are particularly significant at explaining default are LIMIT_BAL (or the amount of given credit) and the PAY_X variables. In the case of LIMIT_BAL, there is a negative correlation, so having more credit seems to be a predictor for a reduced chance of default. In the case of the PAY_X or repayment status variables, the correlations are positive and all above 0.2. So being behind on your payments seems to be a good predictor of defaulting, logically enough. Not only that, being behind on your payments closer to the end of the payment period (September 2005, in our dataset) brings with it a greater association with default, than being behind at the beginning of the observed period (April 2005, in our case). This is also logical. At the end of the period, there is no time to get one's finances in order and avoid default. At the beginning there is lots of time for people behind to get their house in order. There is also time for people with good finances to develop bad finances that lead to default, thus weakening the correlation."
   ]
  },
  {
   "cell_type": "markdown",
   "metadata": {},
   "source": [
    "Test: Convert all repayment statuses greater than 1 to 1, and see how our correlations change"
   ]
  },
  {
   "cell_type": "code",
   "execution_count": 13,
   "metadata": {},
   "outputs": [],
   "source": [
    "#data.loc[data.PAY_6>0, 'PAY_6'] = 1\n",
    "#data.loc[data.PAY_5>0, 'PAY_5'] = 1\n",
    "#data.loc[data.PAY_4>0, 'PAY_4'] = 1\n",
    "#data.loc[data.PAY_3>0, 'PAY_3'] = 1\n",
    "#data.loc[data.PAY_2>0, 'PAY_2'] = 1\n",
    "#data.loc[data.PAY_1>0, 'PAY_1'] = 1\n"
   ]
  },
  {
   "cell_type": "code",
   "execution_count": 14,
   "metadata": {},
   "outputs": [],
   "source": [
    "#data.loc[data.PAY_1>0][['PAY_1', 'default']]"
   ]
  },
  {
   "cell_type": "markdown",
   "metadata": {},
   "source": [
    "Result: Doesn't change the correlations that much."
   ]
  },
  {
   "cell_type": "code",
   "execution_count": 15,
   "metadata": {},
   "outputs": [],
   "source": [
    "#data.loc[(data.PAY_6==1) | (data.PAY_5==1) | (data.PAY_4==1) | (data.PAY_3==1) | (data.PAY_2==1) | (data.PAY_1==1)][['PAY_6','PAY_5','PAY_4','PAY_3','PAY_2','PAY_1', 'default']]"
   ]
  },
  {
   "cell_type": "markdown",
   "metadata": {},
   "source": [
    "+ Are there strong correlations between pairs of independent variables or between an independent and a dependent variable?"
   ]
  },
  {
   "cell_type": "markdown",
   "metadata": {},
   "source": [
    "We have already looked at the correlations between the dependent variable, default, and the independent ones. Now we will re-examine the correlations between independent variables from our Data Storytelling EDA."
   ]
  },
  {
   "cell_type": "code",
   "execution_count": 16,
   "metadata": {},
   "outputs": [
    {
     "data": {
      "text/plain": [
       "AGE        MARRIAGE    -0.412001\n",
       "LIMIT_BAL  EDUCATION   -0.231088\n",
       "PAY_2      LIMIT_BAL   -0.197136\n",
       "PAY_3      LIMIT_BAL   -0.191323\n",
       "PAY_4      LIMIT_BAL   -0.180629\n",
       "PAY_1      LIMIT_BAL   -0.170745\n",
       "PAY_5      LIMIT_BAL   -0.170045\n",
       "PAY_6      LIMIT_BAL   -0.167820\n",
       "default    LIMIT_BAL   -0.153520\n",
       "EDUCATION  MARRIAGE    -0.136797\n",
       "LIMIT_BAL  MARRIAGE    -0.111012\n",
       "PAY_AMT1   PAY_2       -0.097475\n",
       "SEX        AGE         -0.090874\n",
       "PAY_1      PAY_AMT1    -0.079177\n",
       "PAY_AMT3   PAY_4       -0.074064\n",
       "PAY_3      PAY_AMT2    -0.073670\n",
       "PAY_AMT1   default     -0.072929\n",
       "PAY_AMT5   PAY_6       -0.066875\n",
       "PAY_AMT4   PAY_5       -0.065943\n",
       "PAY_AMT3   PAY_1       -0.062620\n",
       "PAY_1      PAY_AMT4    -0.061886\n",
       "PAY_AMT3   PAY_2       -0.059865\n",
       "PAY_AMT2   default     -0.058579\n",
       "PAY_AMT3   PAY_3       -0.057702\n",
       "PAY_1      PAY_AMT2    -0.057189\n",
       "PAY_AMT4   default     -0.056827\n",
       "PAY_AMT3   default     -0.056250\n",
       "PAY_4      PAY_AMT4    -0.055305\n",
       "default    PAY_AMT5    -0.055124\n",
       "PAY_2      PAY_AMT2    -0.054838\n",
       "PAY_4      PAY_AMT1    -0.054484\n",
       "PAY_AMT4   PAY_2       -0.053981\n",
       "PAY_3      PAY_AMT4    -0.053849\n",
       "PAY_1      PAY_AMT5    -0.053784\n",
       "PAY_AMT1   PAY_5       -0.053692\n",
       "default    PAY_AMT6    -0.053183\n",
       "PAY_AMT5   PAY_4       -0.052732\n",
       "           PAY_5       -0.051815\n",
       "PAY_3      PAY_AMT5    -0.050805\n",
       "PAY_AMT6   PAY_4       -0.048828\n",
       "           PAY_1       -0.048733\n",
       "PAY_2      PAY_AMT5    -0.048714\n",
       "PAY_AMT6   PAY_3       -0.048443\n",
       "PAY_6      PAY_AMT1    -0.047804\n",
       "PAY_5      PAY_AMT6    -0.046110\n",
       "PAY_AMT6   PAY_6       -0.045358\n",
       "EDUCATION  PAY_AMT5    -0.045138\n",
       "SEX        PAY_2       -0.044750\n",
       "EDUCATION  PAY_AMT3    -0.044293\n",
       "           PAY_AMT6    -0.044061\n",
       "PAY_2      PAY_AMT6    -0.043099\n",
       "PAY_3      SEX         -0.041227\n",
       "EDUCATION  PAY_AMT1    -0.041088\n",
       "PAY_AMT4   EDUCATION   -0.040949\n",
       "PAY_AMT3   PAY_6       -0.040160\n",
       "default    SEX         -0.039961\n",
       "PAY_6      PAY_AMT2    -0.039868\n",
       "PAY_4      SEX         -0.039737\n",
       "PAY_5      PAY_AMT2    -0.039586\n",
       "PAY_3      PAY_AMT1    -0.039356\n",
       "PAY_5      SEX         -0.038533\n",
       "           PAY_AMT3    -0.037270\n",
       "PAY_AMT2   PAY_4       -0.036877\n",
       "PAY_1      SEX         -0.034475\n",
       "SEX        BILL_AMT1   -0.033642\n",
       "EDUCATION  PAY_AMT2    -0.032793\n",
       "SEX        PAY_6       -0.032061\n",
       "BILL_AMT2  SEX         -0.031183\n",
       "PAY_6      PAY_AMT4    -0.030460\n",
       "MARRIAGE   BILL_AMT5   -0.029270\n",
       "BILL_AMT3  MARRIAGE    -0.029082\n",
       "MARRIAGE   SEX         -0.028522\n",
       "           BILL_AMT1   -0.027832\n",
       "           default     -0.027575\n",
       "           BILL_AMT4   -0.027274\n",
       "           BILL_AMT2   -0.025294\n",
       "BILL_AMT1  PAY_4       -0.025184\n",
       "BILL_AMT6  MARRIAGE    -0.025066\n",
       "SEX        BILL_AMT3   -0.024563\n",
       "BILL_AMT4  SEX         -0.021880\n",
       "PAY_3      BILL_AMT1   -0.020586\n",
       "BILL_AMT1  default     -0.019644\n",
       "           PAY_6       -0.019581\n",
       "           PAY_5       -0.018581\n",
       "BILL_AMT5  SEX         -0.017005\n",
       "AGE        PAY_6       -0.016948\n",
       "SEX        BILL_AMT6   -0.016733\n",
       "PAY_3      AGE         -0.014266\n",
       "BILL_AMT2  default     -0.014193\n",
       "BILL_AMT3  default     -0.014076\n",
       "MARRIAGE   PAY_AMT4    -0.013970\n",
       "AGE        PAY_5       -0.013277\n",
       "EDUCATION  BILL_AMT6   -0.012646\n",
       "BILL_AMT2  PAY_4       -0.012569\n",
       "BILL_AMT5  EDUCATION   -0.012439\n",
       "PAY_1      MARRIAGE    -0.011551\n",
       "default    BILL_AMT4   -0.010156\n",
       "BILL_AMT2  PAY_6       -0.009790\n",
       "MARRIAGE   PAY_AMT2    -0.009513\n",
       "           PAY_2       -0.009275\n",
       "AGE        PAY_2       -0.008774\n",
       "PAY_5      BILL_AMT2   -0.008614\n",
       "PAY_AMT3   SEX         -0.008597\n",
       "MARRIAGE   PAY_AMT6    -0.008383\n",
       "AGE        PAY_4       -0.007288\n",
       "default    BILL_AMT5   -0.006760\n",
       "EDUCATION  BILL_AMT4   -0.006131\n",
       "BILL_AMT6  default     -0.005372\n",
       "MARRIAGE   PAY_AMT1    -0.004653\n",
       "PAY_AMT3   MARRIAGE    -0.004250\n",
       "PAY_4      MARRIAGE    -0.003029\n",
       "PAY_AMT5   MARRIAGE    -0.003019\n",
       "SEX        PAY_AMT6    -0.002766\n",
       "PAY_5      MARRIAGE    -0.002497\n",
       "SEX        PAY_AMT4    -0.002229\n",
       "PAY_AMT5   SEX         -0.001667\n",
       "AGE        PAY_1       -0.001447\n",
       "SEX        PAY_AMT2    -0.001391\n",
       "PAY_3      BILL_AMT2   -0.000968\n",
       "BILL_AMT1  PAY_1       -0.000819\n",
       "PAY_AMT1   SEX         -0.000242\n",
       "BILL_AMT3  PAY_6        0.001691\n",
       "           PAY_3        0.002447\n",
       "PAY_3      MARRIAGE     0.002556\n",
       "BILL_AMT3  PAY_4        0.002670\n",
       "PAY_6      MARRIAGE     0.002793\n",
       "PAY_5      BILL_AMT3    0.003377\n",
       "EDUCATION  BILL_AMT3    0.006714\n",
       "BILL_AMT2  PAY_1        0.009137\n",
       "PAY_2      BILL_AMT1    0.011684\n",
       "BILL_AMT2  EDUCATION    0.011980\n",
       "BILL_AMT3  PAY_1        0.013307\n",
       "EDUCATION  SEX          0.013627\n",
       "AGE        default      0.013890\n",
       "BILL_AMT4  PAY_4        0.014654\n",
       "BILL_AMT2  PAY_2        0.015932\n",
       "PAY_3      BILL_AMT4    0.016579\n",
       "EDUCATION  BILL_AMT1    0.016597\n",
       "AGE        PAY_AMT6     0.019478\n",
       "BILL_AMT4  PAY_6        0.020598\n",
       "AGE        PAY_AMT4     0.021379\n",
       "           PAY_AMT2     0.021785\n",
       "PAY_1      BILL_AMT4    0.022100\n",
       "PAY_AMT5   AGE          0.022850\n",
       "BILL_AMT3  PAY_2        0.022950\n",
       "PAY_5      BILL_AMT4    0.024139\n",
       "LIMIT_BAL  SEX          0.024755\n",
       "AGE        PAY_AMT1     0.026147\n",
       "PAY_3      BILL_AMT5    0.026196\n",
       "BILL_AMT5  PAY_4        0.027239\n",
       "EDUCATION  PAY_6        0.028670\n",
       "PAY_3      BILL_AMT6    0.028979\n",
       "AGE        PAY_AMT3     0.029247\n",
       "BILL_AMT6  PAY_1        0.030201\n",
       "BILL_AMT5  PAY_1        0.030731\n",
       "BILL_AMT4  PAY_2        0.032467\n",
       "BILL_AMT6  PAY_4        0.033138\n",
       "EDUCATION  default      0.033842\n",
       "BILL_AMT5  PAY_5        0.036216\n",
       "PAY_5      EDUCATION    0.039623\n",
       "BILL_AMT5  PAY_2        0.040422\n",
       "           PAY_6        0.041785\n",
       "PAY_2      BILL_AMT6    0.042222\n",
       "PAY_5      BILL_AMT6    0.042616\n",
       "BILL_AMT6  PAY_6        0.046012\n",
       "AGE        BILL_AMT6    0.047613\n",
       "BILL_AMT5  AGE          0.049345\n",
       "EDUCATION  PAY_4        0.051209\n",
       "BILL_AMT4  AGE          0.051353\n",
       "EDUCATION  PAY_3        0.053058\n",
       "AGE        BILL_AMT3    0.053710\n",
       "BILL_AMT2  AGE          0.054283\n",
       "PAY_1      EDUCATION    0.055937\n",
       "AGE        BILL_AMT1    0.056239\n",
       "EDUCATION  PAY_2        0.062739\n",
       "BILL_AMT1  PAY_AMT2     0.099355\n",
       "BILL_AMT2  PAY_AMT2     0.100851\n",
       "PAY_AMT6   BILL_AMT6    0.115494\n",
       "PAY_AMT3   BILL_AMT3    0.130011\n",
       "BILL_AMT4  PAY_AMT4     0.130191\n",
       "BILL_AMT1  PAY_AMT1     0.140277\n",
       "PAY_AMT5   BILL_AMT5    0.141574\n",
       "BILL_AMT3  PAY_AMT4     0.143405\n",
       "AGE        LIMIT_BAL    0.144713\n",
       "BILL_AMT2  PAY_AMT4     0.147398\n",
       "PAY_AMT1   PAY_AMT5     0.148459\n",
       "BILL_AMT2  PAY_AMT3     0.150718\n",
       "PAY_AMT4   PAY_AMT5     0.151830\n",
       "PAY_AMT5   PAY_AMT6     0.154896\n",
       "BILL_AMT1  PAY_AMT3     0.156887\n",
       "PAY_AMT2   PAY_AMT6     0.157634\n",
       "PAY_AMT6   PAY_AMT4     0.157834\n",
       "PAY_AMT5   BILL_AMT2    0.157957\n",
       "BILL_AMT1  PAY_AMT4     0.158303\n",
       "PAY_AMT5   PAY_AMT3     0.159214\n",
       "BILL_AMT4  PAY_AMT5     0.160433\n",
       "PAY_AMT6   PAY_AMT3     0.162740\n",
       "           BILL_AMT5    0.164184\n",
       "PAY_AMT5   BILL_AMT1    0.167026\n",
       "PAY_AMT2   BILL_AMT6    0.172663\n",
       "BILL_AMT2  PAY_AMT6     0.174256\n",
       "BILL_AMT4  PAY_AMT6     0.177637\n",
       "PAY_AMT2   LIMIT_BAL    0.178408\n",
       "BILL_AMT1  PAY_AMT6     0.179341\n",
       "PAY_AMT5   BILL_AMT3    0.179712\n",
       "PAY_AMT2   PAY_AMT4     0.180107\n",
       "           PAY_AMT5     0.180908\n",
       "BILL_AMT5  PAY_AMT2     0.181246\n",
       "BILL_AMT3  PAY_AMT6     0.182326\n",
       "EDUCATION  AGE          0.182434\n",
       "PAY_AMT6   PAY_AMT1     0.185735\n",
       "LIMIT_BAL  PAY_AMT1     0.195236\n",
       "PAY_AMT1   PAY_AMT4     0.199558\n",
       "BILL_AMT6  PAY_AMT1     0.199965\n",
       "LIMIT_BAL  PAY_AMT4     0.203242\n",
       "PAY_AMT2   BILL_AMT4    0.207564\n",
       "LIMIT_BAL  PAY_AMT3     0.210167\n",
       "PAY_AMT4   PAY_AMT3     0.216325\n",
       "PAY_AMT1   BILL_AMT5    0.217031\n",
       "LIMIT_BAL  PAY_AMT5     0.217202\n",
       "           PAY_AMT6     0.219595\n",
       "BILL_AMT4  PAY_AMT1     0.233012\n",
       "BILL_AMT6  PAY_AMT3     0.233770\n",
       "BILL_AMT3  PAY_AMT1     0.244335\n",
       "PAY_6      default      0.244437\n",
       "PAY_AMT2   PAY_AMT3     0.244770\n",
       "PAY_AMT4   BILL_AMT6    0.250237\n",
       "PAY_AMT3   PAY_AMT1     0.252191\n",
       "BILL_AMT5  PAY_AMT3     0.252305\n",
       "PAY_5      default      0.260850\n",
       "default    PAY_4        0.269055\n",
       "BILL_AMT2  LIMIT_BAL    0.278314\n",
       "PAY_AMT1   BILL_AMT2    0.280365\n",
       "LIMIT_BAL  BILL_AMT3    0.283236\n",
       "BILL_AMT1  LIMIT_BAL    0.285430\n",
       "PAY_AMT1   PAY_AMT2     0.285576\n",
       "default    PAY_3        0.286999\n",
       "BILL_AMT6  LIMIT_BAL    0.290389\n",
       "PAY_AMT4   BILL_AMT5    0.293118\n",
       "BILL_AMT4  LIMIT_BAL    0.293988\n",
       "LIMIT_BAL  BILL_AMT5    0.295562\n",
       "BILL_AMT4  PAY_AMT3     0.300023\n",
       "PAY_AMT5   BILL_AMT6    0.307729\n",
       "PAY_AMT2   BILL_AMT3    0.316936\n",
       "PAY_2      default      0.327093\n",
       "PAY_6      PAY_1        0.373805\n",
       "PAY_1      default      0.396019\n",
       "PAY_2      PAY_6        0.407086\n",
       "PAY_1      PAY_5        0.424473\n",
       "           PAY_4        0.460224\n",
       "PAY_5      PAY_2        0.462717\n",
       "PAY_3      PAY_6        0.492827\n",
       "PAY_2      PAY_4        0.512773\n",
       "PAY_1      PAY_3        0.516970\n",
       "PAY_3      PAY_5        0.551430\n",
       "PAY_4      PAY_6        0.602875\n",
       "PAY_3      PAY_2        0.663529\n",
       "PAY_4      PAY_3        0.678931\n",
       "PAY_2      PAY_1        0.698389\n",
       "PAY_5      PAY_6        0.740357\n",
       "PAY_4      PAY_5        0.745419\n",
       "BILL_AMT1  BILL_AMT6    0.802650\n",
       "           BILL_AMT5    0.829779\n",
       "BILL_AMT6  BILL_AMT2    0.831594\n",
       "           BILL_AMT3    0.853320\n",
       "BILL_AMT2  BILL_AMT5    0.859778\n",
       "BILL_AMT4  BILL_AMT1    0.860272\n",
       "BILL_AMT5  BILL_AMT3    0.883910\n",
       "BILL_AMT3  BILL_AMT1    0.892279\n",
       "BILL_AMT4  BILL_AMT2    0.892482\n",
       "BILL_AMT6  BILL_AMT4    0.900941\n",
       "BILL_AMT4  BILL_AMT3    0.923969\n",
       "BILL_AMT3  BILL_AMT2    0.928326\n",
       "BILL_AMT5  BILL_AMT4    0.940134\n",
       "           BILL_AMT6    0.946197\n",
       "BILL_AMT1  BILL_AMT2    0.951484\n",
       "dtype: float64"
      ]
     },
     "execution_count": 16,
     "metadata": {},
     "output_type": "execute_result"
    }
   ],
   "source": [
    "pd.set_option('display.max_rows', 500)\n",
    "c = data.corr().unstack().sort_values()\n",
    "c[:-24][::2]"
   ]
  },
  {
   "cell_type": "markdown",
   "metadata": {},
   "source": [
    "We have already examined these correlations in our Data Storytelling Notebook. To recap the most noteable correlations (greater than an absolute value of 0.1):\n",
    "+ Age and Marriage are negatively correlated. In the context of our dataset where a value of 1 for Marriage indicates marriage, it means that age and marriage are correlated, as we would assume.\n",
    "+ LIMIT_BAL and Education are negatively correlated. In the context our dataset where lower values for education indicate more education, it means that more credit is given to individuals with more education, as we would assume.\n",
    "+ LIMIT_BAL and the repayment status variables (PAY_X) are negatively correlated. This means that individuals with more credit have better repayment records. This was a finding from our EDA and explains why they are able to take on so much credit.\n",
    "+ Education and Marriage are negatively correlated. Since lower values for Education mean more education and a value of 1 for Marriage indicates marriage, this negative correlation holds. A working hypothesis for this is that individuals pursuing more education need to push off marriage.\n",
    "+ LIMIT_BAL and Marriage are negatively correlated. This means that married individuals take on more credit than single individuals. This makes sense since married individuals tend to have more expenses than single individuals.\n",
    "+ The bill statement variables (BILL_AMTX), previous payment variables (PAY_AMTX), and repayment status variables (PAY_X) are correlated with each other and themselves. This makes sense: they are all in one sense measuring the same thing. Greater spending one month should be related to greater spending the next or previous month; it should also be related to the amount paid back, and whether or not you are behind on payments.\n",
    "+ Age and LIMIT_BAL are positively correlated. This means that older individuals have more credit taken on. This makes sense since they have had more time to take on credit.\n",
    "+ Education and Age are correlated, meaning that they are negatively correlated because greater values for education indicate less education. A possible hypothesis is that credit lendors are willing to lend to individuals with more education at a younger age because they have greater confidence in their ability to repay due to their higher education.\n",
    "+ LIMIT_BAL is correlated with repayment totals and bill amounts. This is intuitive: taking on more credit should be associated with greater amounts spent and greater amounts paying back that credit."
   ]
  },
  {
   "cell_type": "markdown",
   "metadata": {},
   "source": [
    "It is important to remember that correlation only measures the strength of linear relationships. So time should be taken to examine scatterplots of the data to see if other relationships exist."
   ]
  },
  {
   "cell_type": "markdown",
   "metadata": {},
   "source": [
    "+ What are the most appropriate tests to use to analyse these relationships?"
   ]
  },
  {
   "cell_type": "markdown",
   "metadata": {},
   "source": [
    "There are a few notable insights that we gleaned from our data by doing EDA:\n",
    "1. The correlation between default and final repayment status is about 0.4.\n",
    "1. Men default at a higher rate than women\n",
    "2. People with only a high school education have higher rates of marriage than people with graduate school education\n",
    "3. The mean age of people with only a high school education (about 40.3) is considerably higher than people with a graduate school education (about 34.2)\n",
    "4. Married individuals are more likely to default than singles (23.5% vs. 20.9%)\n"
   ]
  },
  {
   "cell_type": "markdown",
   "metadata": {},
   "source": [
    "To evaluate these claims, we need to employ a few hypothesis testing methods:\n",
    "1. Two-sample bootstrap hypothesis tests for difference of means (Claims 2 - 5)\n",
    "2. Permutation Tests for difference of distributions (Claims 2 - 5)\n",
    "3. Hypothesis tests on Pearson correlation coefficient (Claim 1)"
   ]
  },
  {
   "cell_type": "markdown",
   "metadata": {},
   "source": [
    "**Claim 1: We will first test the null hypothesis that the correlation between default and the final repayment status (PAY_1) is 0.** "
   ]
  },
  {
   "cell_type": "code",
   "execution_count": 17,
   "metadata": {},
   "outputs": [],
   "source": [
    "def pearson_r(x, y):\n",
    "    \"\"\"Compute pearson correlation coefficient between 2 arrays\"\"\"\n",
    "    \n",
    "    # Compute correlation matrix: corr_mat\n",
    "    corr_mat = np.corrcoef(x, y)\n",
    "    \n",
    "    # Return entry [0,1]\n",
    "    return corr_mat[0,1]"
   ]
  },
  {
   "cell_type": "code",
   "execution_count": 18,
   "metadata": {},
   "outputs": [],
   "source": [
    "default = data['default'].copy()\n",
    "PAY_1 = data['PAY_1'].copy()\n"
   ]
  },
  {
   "cell_type": "code",
   "execution_count": 19,
   "metadata": {},
   "outputs": [
    {
     "data": {
      "text/plain": [
       "0.39601917075797216"
      ]
     },
     "execution_count": 19,
     "metadata": {},
     "output_type": "execute_result"
    }
   ],
   "source": [
    "# Compute observed correlation: r_obs\n",
    "r_obs = pearson_r(data['default'], PAY_1)\n",
    "r_obs"
   ]
  },
  {
   "cell_type": "code",
   "execution_count": 20,
   "metadata": {},
   "outputs": [
    {
     "name": "stdout",
     "output_type": "stream",
     "text": [
      "p-val =  0.0\n"
     ]
    }
   ],
   "source": [
    "# Initialize permutation replicates: perm_replicates\n",
    "np.random.seed(42)\n",
    "perm_replicates = np.empty(10000)\n",
    "\n",
    "# Draw replicates\n",
    "for i in range(10000):\n",
    "    # Permute 'Excess Readmission Ratio': ratio_permuted\n",
    "    default_permuted = np.random.permutation(default)\n",
    "    \n",
    "    # Compute Pearson correlation\n",
    "    perm_replicates[i] = pearson_r(data['PAY_1'], default_permuted)\n",
    "\n",
    "# Compute p-value: p\n",
    "p = np.sum(perm_replicates >= abs(r_obs)) / len(perm_replicates)\n",
    "print('p-val = ', p )"
   ]
  },
  {
   "cell_type": "markdown",
   "metadata": {},
   "source": [
    "So we get a p-value of 0 for the hypothesis that the correlation between default and PAY_1 is actually 0. So we can safely reject it."
   ]
  },
  {
   "cell_type": "code",
   "execution_count": 21,
   "metadata": {},
   "outputs": [
    {
     "data": {
      "text/plain": [
       "(array([   9.,  115.,  537., 1672., 2706., 2817., 1517.,  493.,  122.,\n",
       "          12.]),\n",
       " array([-2.15937672e-02, -1.72645307e-02, -1.29352941e-02, -8.60605761e-03,\n",
       "        -4.27682109e-03,  5.24154393e-05,  4.38165196e-03,  8.71088849e-03,\n",
       "         1.30401250e-02,  1.73693615e-02,  2.16985981e-02]),\n",
       " <a list of 10 Patch objects>)"
      ]
     },
     "execution_count": 21,
     "metadata": {},
     "output_type": "execute_result"
    },
    {
     "data": {
      "image/png": "[encoded data removed]",
      "text/plain": [
       "<Figure size 432x288 with 1 Axes>"
      ]
     },
     "metadata": {
      "needs_background": "light"
     },
     "output_type": "display_data"
    }
   ],
   "source": [
    "plt.hist(perm_replicates)"
   ]
  },
  {
   "cell_type": "markdown",
   "metadata": {},
   "source": [
    "**Claim 2: Men default at a higher rate than women**"
   ]
  },
  {
   "cell_type": "markdown",
   "metadata": {},
   "source": [
    "To test this claim, we can use either a 2-sample bootstrap test for difference of means, or a permutation test for difference of distributions."
   ]
  },
  {
   "cell_type": "markdown",
   "metadata": {},
   "source": [
    "Let's start with the 2-sample bootstrap test for difference of means."
   ]
  },
  {
   "cell_type": "code",
   "execution_count": 22,
   "metadata": {},
   "outputs": [],
   "source": [
    "sex_and_default = data[['SEX', 'default']]"
   ]
  },
  {
   "cell_type": "code",
   "execution_count": 23,
   "metadata": {},
   "outputs": [],
   "source": [
    "men_default = sex_and_default.loc[data.SEX == 1,:]['default']\n",
    "women_default = sex_and_default.loc[data.SEX == 2,:]['default']"
   ]
  },
  {
   "cell_type": "code",
   "execution_count": 24,
   "metadata": {},
   "outputs": [],
   "source": [
    "def draw_bs_reps(data, func, size=1):\n",
    "    \"\"\"Draw bootstrap replicates\"\"\"\n",
    "    \n",
    "    # Initialize array of replicates: bs_replicates\n",
    "    bs_replicates = np.empty(size)\n",
    "    \n",
    "    #Generate replicates\n",
    "    for i in range(size):\n",
    "        bs_replicates[i] = bootstrap_replicate_1d(data, func)\n",
    "    \n",
    "    return bs_replicates\n",
    "\n",
    "def bootstrap_replicate_1d(data, func):\n",
    "    return func(np.random.choice(data, size=len(data)))"
   ]
  },
  {
   "cell_type": "code",
   "execution_count": 25,
   "metadata": {},
   "outputs": [],
   "source": [
    "def bootstrap_2s(group1, group2, group_all):\n",
    "    mean_all = np.mean(group_all)\n",
    "    print('mean_all = ', mean_all)\n",
    "    \n",
    "    real_diff = np.mean(group1) - np.mean(group2)\n",
    "    print('real_diff = ', real_diff)\n",
    "    \n",
    "    # Generate Shifted Arrays\n",
    "    group1_shifted = group1 - np.mean(group1) + mean_all\n",
    "    print('group1_shifted = ', np.mean(group1_shifted))\n",
    "    group2_shifted = group2 - np.mean(group2) + mean_all\n",
    "    print('group2_shifted = ', np.mean(group2_shifted))\n",
    "    \n",
    "    # Compute 10,000 bootstrap replicates from shifted arrays\n",
    "    bs_replicates_group1 = draw_bs_reps(group1_shifted, np.mean, 10000)\n",
    "    bs_replicates_group2 = draw_bs_reps(group2_shifted, np.mean, 10000)\n",
    "    \n",
    "    # Get replicates of difference of means: bs_replicates\n",
    "    bs_replicates = bs_replicates_group1 - bs_replicates_group2\n",
    "    \n",
    "    # Compute and print p-value: p\n",
    "    p = np.sum(bs_replicates >= (real_diff)) / 10000\n",
    "    print('p-value = ', p)\n",
    "    \n",
    "    plt.hist(bs_replicates)"
   ]
  },
  {
   "cell_type": "code",
   "execution_count": 26,
   "metadata": {},
   "outputs": [
    {
     "name": "stdout",
     "output_type": "stream",
     "text": [
      "mean_all =  0.2212\n",
      "real_diff =  0.033909465375304954\n",
      "group1_shifted =  0.22120000000004167\n",
      "group2_shifted =  0.22119999999990222\n",
      "p-value =  0.0\n"
     ]
    },
    {
     "data": {
      "image/png": "[encoded data removed]",
      "text/plain": [
       "<Figure size 432x288 with 1 Axes>"
      ]
     },
     "metadata": {
      "needs_background": "light"
     },
     "output_type": "display_data"
    }
   ],
   "source": [
    "men_default = sex_and_default.loc[data.SEX == 1,:]['default']\n",
    "women_default = sex_and_default.loc[data.SEX == 2,:]['default']\n",
    "all_default = sex_and_default['default']\n",
    "bootstrap_2s(men_default, women_default, all_default)"
   ]
  },
  {
   "cell_type": "markdown",
   "metadata": {},
   "source": [
    "So we see that the difference in default rates between men and women is significant such that when we standardized the means to be the same and ran 10,000 simulations, none of the simulations produced a difference in defaults as large as what we actually observed. So we may reject the Null Hypothesis that men and women default at the same rate."
   ]
  },
  {
   "cell_type": "markdown",
   "metadata": {},
   "source": [
    "Although we already know the answer for this, let us test the hypothesis that the distributions are the same."
   ]
  },
  {
   "cell_type": "code",
   "execution_count": 27,
   "metadata": {},
   "outputs": [],
   "source": [
    "def permutation_sample(data1, data2):\n",
    "    \"\"\"Generate a permutation sample from two data sets.\"\"\"\n",
    "    \n",
    "    # Concatenate the data sets: data\n",
    "    data = np.concatenate((data1, data2))\n",
    "    \n",
    "    # Permute the concatenated array: permuted_data\n",
    "    permuted_data = np.random.permutation(data)\n",
    "    \n",
    "    # Split the permuted array into two: perm_sample_1, perm_sample_2\n",
    "    perm_sample_1 = permuted_data[:len(data1)]\n",
    "    perm_sample_2 = permuted_data[len(data1):]\n",
    "    \n",
    "    return perm_sample_1, perm_sample_2\n",
    "\n",
    "def draw_perm_reps(data_1, data_2, func, size=1):\n",
    "    \"\"\"Generate multiple permutation replicates.\"\"\"\n",
    "    \n",
    "    # Initialize array of replicates: perm_replicates\n",
    "    perm_replicates = np.empty(size)\n",
    "    \n",
    "    for i in range(size):\n",
    "        # Generate permutation sample\n",
    "        perm_sample_1, perm_sample_2 = permutation_sample(data_1, data_2)\n",
    "        \n",
    "        # Compute the test statistic\n",
    "        perm_replicates[i] = func(perm_sample_1, perm_sample_2)\n",
    "        \n",
    "    return perm_replicates\n",
    "\n",
    "def diff_of_means(data_1, data_2):\n",
    "    \"\"\"Difference in means of two arrays\"\"\"\n",
    "    diff = np.mean(data_1) - np.mean(data_2)\n",
    "    \n",
    "    return diff"
   ]
  },
  {
   "cell_type": "code",
   "execution_count": 28,
   "metadata": {},
   "outputs": [],
   "source": [
    "# Compute difference of mean defaults: empirical_diff_defaults\n",
    "empirical_diff_defaults = diff_of_means(men_default, women_default)"
   ]
  },
  {
   "cell_type": "code",
   "execution_count": 29,
   "metadata": {},
   "outputs": [],
   "source": [
    "# Draw 10,000 permutation replicates: perm_replicates\n",
    "perm_replicates = draw_perm_reps(men_default, women_default, diff_of_means, size=10000)"
   ]
  },
  {
   "cell_type": "code",
   "execution_count": 30,
   "metadata": {},
   "outputs": [
    {
     "name": "stdout",
     "output_type": "stream",
     "text": [
      "p-value =  0.0\n"
     ]
    }
   ],
   "source": [
    "# Compute the p-value: p\n",
    "p = np.sum(perm_replicates >= empirical_diff_defaults) / len(perm_replicates)\n",
    "\n",
    "# Print the result\n",
    "print('p-value = ', p)"
   ]
  },
  {
   "cell_type": "code",
   "execution_count": 31,
   "metadata": {},
   "outputs": [
    {
     "data": {
      "text/plain": [
       "(array([  15.,  101.,  557., 1714., 2798., 2750., 1474.,  490.,   89.,\n",
       "          12.]),\n",
       " array([-0.01820012, -0.01450787, -0.01081561, -0.00712335, -0.0034311 ,\n",
       "         0.00026116,  0.00395342,  0.00764568,  0.01133793,  0.01503019,\n",
       "         0.01872245]),\n",
       " <a list of 10 Patch objects>)"
      ]
     },
     "execution_count": 31,
     "metadata": {},
     "output_type": "execute_result"
    },
    {
     "data": {
      "image/png": "[encoded data removed]",
      "text/plain": [
       "<Figure size 432x288 with 1 Axes>"
      ]
     },
     "metadata": {
      "needs_background": "light"
     },
     "output_type": "display_data"
    }
   ],
   "source": [
    "plt.hist(perm_replicates)"
   ]
  },
  {
   "cell_type": "markdown",
   "metadata": {},
   "source": [
    "As we can see again, the difference in default rates is never as great as what we observed. So we can reject the Null Hypothesis that men's and women's rates of default come from the same distribution."
   ]
  },
  {
   "cell_type": "markdown",
   "metadata": {},
   "source": [
    "**Claim 3: People with only a high school education have higher rates of marriage than people with graduate school education**"
   ]
  },
  {
   "cell_type": "markdown",
   "metadata": {},
   "source": [
    "This can be seen in the following table:"
   ]
  },
  {
   "cell_type": "code",
   "execution_count": 32,
   "metadata": {},
   "outputs": [
    {
     "data": {
      "image/png": "[encoded data removed]",
      "text/plain": [
       "<Figure size 432x288 with 1 Axes>"
      ]
     },
     "metadata": {
      "needs_background": "light"
     },
     "output_type": "display_data"
    }
   ],
   "source": [
    "EM = data.groupby(['EDUCATION', 'MARRIAGE']).size().unstack(['MARRIAGE'])\n",
    "EM.rename(index = {1:\"Graduate School\", 2:\"University\", 3:\"High School\", 4:\"Other\"},columns={1:\"Married\", 2:\"Single\", 3:\"Other\"}, inplace=True)\n",
    "EM = EM/len(data)\n",
    "EM.plot(kind='bar', stacked=True)\n",
    "plt.xticks(rotation='horizontal')\n",
    "plt.show()"
   ]
  },
  {
   "cell_type": "markdown",
   "metadata": {},
   "source": [
    "The exact values are found in the first column of the following table:"
   ]
  },
  {
   "cell_type": "code",
   "execution_count": 33,
   "metadata": {},
   "outputs": [
    {
     "data": {
      "text/html": [
       "<div>\n",
       "<style scoped>\n",
       "    .dataframe tbody tr th:only-of-type {\n",
       "        vertical-align: middle;\n",
       "    }\n",
       "\n",
       "    .dataframe tbody tr th {\n",
       "        vertical-align: top;\n",
       "    }\n",
       "\n",
       "    .dataframe thead th {\n",
       "        text-align: right;\n",
       "    }\n",
       "</style>\n",
       "<table border=\"1\" class=\"dataframe\">\n",
       "  <thead>\n",
       "    <tr style=\"text-align: right;\">\n",
       "      <th>MARRIAGE</th>\n",
       "      <th>Married</th>\n",
       "      <th>Single</th>\n",
       "      <th>Other</th>\n",
       "      <th>Total</th>\n",
       "    </tr>\n",
       "    <tr>\n",
       "      <th>EDUCATION</th>\n",
       "      <th></th>\n",
       "      <th></th>\n",
       "      <th></th>\n",
       "      <th></th>\n",
       "    </tr>\n",
       "  </thead>\n",
       "  <tbody>\n",
       "    <tr>\n",
       "      <th>Graduate School</th>\n",
       "      <td>35.2%</td>\n",
       "      <td>64.3%</td>\n",
       "      <td>0.5%</td>\n",
       "      <td>100.0%</td>\n",
       "    </tr>\n",
       "    <tr>\n",
       "      <th>University</th>\n",
       "      <td>48.8%</td>\n",
       "      <td>50.0%</td>\n",
       "      <td>1.2%</td>\n",
       "      <td>100.0%</td>\n",
       "    </tr>\n",
       "    <tr>\n",
       "      <th>High School</th>\n",
       "      <td>58.2%</td>\n",
       "      <td>38.8%</td>\n",
       "      <td>3.0%</td>\n",
       "      <td>100.0%</td>\n",
       "    </tr>\n",
       "    <tr>\n",
       "      <th>Other</th>\n",
       "      <td>50.0%</td>\n",
       "      <td>48.3%</td>\n",
       "      <td>1.7%</td>\n",
       "      <td>100.0%</td>\n",
       "    </tr>\n",
       "  </tbody>\n",
       "</table>\n",
       "</div>"
      ],
      "text/plain": [
       "MARRIAGE        Married Single Other   Total\n",
       "EDUCATION                                   \n",
       "Graduate School   35.2%  64.3%  0.5%  100.0%\n",
       "University        48.8%  50.0%  1.2%  100.0%\n",
       "High School       58.2%  38.8%  3.0%  100.0%\n",
       "Other             50.0%  48.3%  1.7%  100.0%"
      ]
     },
     "execution_count": 33,
     "metadata": {},
     "output_type": "execute_result"
    }
   ],
   "source": [
    "EM = data.groupby(['EDUCATION', 'MARRIAGE']).size().unstack(['MARRIAGE'])\n",
    "EM['total'] = EM[1] + EM[2] + EM[3] \n",
    "EM = EM.loc[:, [1,2,3]].div(EM[\"total\"], axis=0)\n",
    "EM['Total'] = EM[1] + EM[2] + EM[3] \n",
    "EM.rename(columns={1:\"Married\", 2:\"Single\", 3:\"Other\"}, inplace=True)\n",
    "EM.rename(index = {1:\"Graduate School\", 2:\"University\", 3:\"High School\", 4:\"Other\"}, inplace=True)\n",
    "#gender['Percentage Default'] = pd.Series([\"{0:.1f}%\".format(val * 100) for val in gender['Percentage Default']], index=gender.index)\n",
    "EM = (EM * 100).round(1)\n",
    "for column in EM.columns:\n",
    "    EM[column] = pd.Series([\"{0:.1f}%\".format(val) for val in EM[column]], index=EM.index)\n",
    "EM"
   ]
  },
  {
   "cell_type": "markdown",
   "metadata": {},
   "source": [
    "So we see that graduates of graduate school have about a 35% rate of marriage, whereas high-school only graduates have a marriage rate of about 58%. "
   ]
  },
  {
   "cell_type": "markdown",
   "metadata": {},
   "source": [
    "To test the Null hypothesis that these rates might actually be the same, we must do a 2-sample bootstrap hypothesis test."
   ]
  },
  {
   "cell_type": "code",
   "execution_count": 34,
   "metadata": {},
   "outputs": [],
   "source": [
    "education_and_marriage = data[['EDUCATION', 'MARRIAGE']].loc[(data.EDUCATION == 1) | (data.EDUCATION == 3), :]\n",
    "#education_and_marriage for grad and high school people"
   ]
  },
  {
   "cell_type": "code",
   "execution_count": 35,
   "metadata": {},
   "outputs": [],
   "source": [
    "education_and_marriage = education_and_marriage.loc[education_and_marriage.MARRIAGE != 3] \n",
    "# Exclude values that are not married or single\n",
    "education_and_marriage.loc[education_and_marriage[\"MARRIAGE\"] == 2, 'MARRIAGE'] = 0\n",
    "# Convert single values to 0 to fit our bootstrap function\n"
   ]
  },
  {
   "cell_type": "code",
   "execution_count": 36,
   "metadata": {},
   "outputs": [
    {
     "data": {
      "text/plain": [
       "0.35343272243851487"
      ]
     },
     "execution_count": 36,
     "metadata": {},
     "output_type": "execute_result"
    }
   ],
   "source": [
    "grad_marriage = education_and_marriage.loc[education_and_marriage.EDUCATION == 1, 'MARRIAGE']\n",
    "np.mean(grad_marriage)\n",
    "#mean_grad_marriage = 2 - np.mean(education_and_marriage.loc[education_and_marriage.EDUCATION == 1, 'MARRIAGE'])"
   ]
  },
  {
   "cell_type": "code",
   "execution_count": 37,
   "metadata": {},
   "outputs": [
    {
     "data": {
      "text/plain": [
       "0.59979035639413"
      ]
     },
     "execution_count": 37,
     "metadata": {},
     "output_type": "execute_result"
    }
   ],
   "source": [
    "high_marriage = education_and_marriage.loc[education_and_marriage.EDUCATION == 3, 'MARRIAGE']\n",
    "np.mean(high_marriage)\n",
    "#mean_high_marriage = 2 - np.mean(education_and_marriage.loc[education_and_marriage.EDUCATION == 3, 'MARRIAGE'])"
   ]
  },
  {
   "cell_type": "code",
   "execution_count": 38,
   "metadata": {},
   "outputs": [],
   "source": [
    "education_and_marriage = education_and_marriage.loc[:, 'MARRIAGE']"
   ]
  },
  {
   "cell_type": "code",
   "execution_count": 39,
   "metadata": {},
   "outputs": [
    {
     "name": "stdout",
     "output_type": "stream",
     "text": [
      "mean_all =  0.4302333180837854\n",
      "real_diff =  0.24635763395561516\n",
      "group1_shifted =  0.4302333180837723\n",
      "group2_shifted =  0.4302333180837209\n",
      "p-value =  0.0\n"
     ]
    },
    {
     "data": {
      "image/png": "[encoded data removed]",
      "text/plain": [
       "<Figure size 432x288 with 1 Axes>"
      ]
     },
     "metadata": {
      "needs_background": "light"
     },
     "output_type": "display_data"
    }
   ],
   "source": [
    "bootstrap_2s(high_marriage, grad_marriage, education_and_marriage)"
   ]
  },
  {
   "cell_type": "markdown",
   "metadata": {},
   "source": [
    "So it is certainly the case that people with graduate degrees have a different (and smaller) rate of marriage than those with just a high-school diploma, in our sample."
   ]
  },
  {
   "cell_type": "markdown",
   "metadata": {},
   "source": [
    "**Claim 4: The mean age of people with only a high school education (about 40.3) is considerably higher than people with a graduate school education (about 34.2)**"
   ]
  },
  {
   "cell_type": "code",
   "execution_count": 40,
   "metadata": {},
   "outputs": [
    {
     "data": {
      "text/html": [
       "<div>\n",
       "<style scoped>\n",
       "    .dataframe tbody tr th:only-of-type {\n",
       "        vertical-align: middle;\n",
       "    }\n",
       "\n",
       "    .dataframe tbody tr th {\n",
       "        vertical-align: top;\n",
       "    }\n",
       "\n",
       "    .dataframe thead tr th {\n",
       "        text-align: left;\n",
       "    }\n",
       "\n",
       "    .dataframe thead tr:last-of-type th {\n",
       "        text-align: right;\n",
       "    }\n",
       "</style>\n",
       "<table border=\"1\" class=\"dataframe\">\n",
       "  <thead>\n",
       "    <tr>\n",
       "      <th></th>\n",
       "      <th colspan=\"2\" halign=\"left\">AGE</th>\n",
       "    </tr>\n",
       "    <tr>\n",
       "      <th></th>\n",
       "      <th>std</th>\n",
       "      <th>mean</th>\n",
       "    </tr>\n",
       "    <tr>\n",
       "      <th>EDUCATION</th>\n",
       "      <th></th>\n",
       "      <th></th>\n",
       "    </tr>\n",
       "  </thead>\n",
       "  <tbody>\n",
       "    <tr>\n",
       "      <th>1</th>\n",
       "      <td>8.3</td>\n",
       "      <td>34.2</td>\n",
       "    </tr>\n",
       "    <tr>\n",
       "      <th>2</th>\n",
       "      <td>8.9</td>\n",
       "      <td>34.7</td>\n",
       "    </tr>\n",
       "    <tr>\n",
       "      <th>3</th>\n",
       "      <td>10.4</td>\n",
       "      <td>40.3</td>\n",
       "    </tr>\n",
       "    <tr>\n",
       "      <th>4</th>\n",
       "      <td>9.3</td>\n",
       "      <td>36.1</td>\n",
       "    </tr>\n",
       "  </tbody>\n",
       "</table>\n",
       "</div>"
      ],
      "text/plain": [
       "            AGE      \n",
       "            std  mean\n",
       "EDUCATION            \n",
       "1           8.3  34.2\n",
       "2           8.9  34.7\n",
       "3          10.4  40.3\n",
       "4           9.3  36.1"
      ]
     },
     "execution_count": 40,
     "metadata": {},
     "output_type": "execute_result"
    }
   ],
   "source": [
    "var = data[['EDUCATION', 'AGE']].groupby('EDUCATION').agg({'mean', 'std'})\n",
    "var.round(1)"
   ]
  },
  {
   "cell_type": "markdown",
   "metadata": {},
   "source": [
    "We can see from the above chart that the mean age of people with only a high school education is greater than that of graduate students. Let's run through our normal 2 sample bootstrap hypothesis test."
   ]
  },
  {
   "cell_type": "code",
   "execution_count": 41,
   "metadata": {},
   "outputs": [
    {
     "data": {
      "text/plain": [
       "34.23183750590458"
      ]
     },
     "execution_count": 41,
     "metadata": {},
     "output_type": "execute_result"
    }
   ],
   "source": [
    "education_and_age = data[['EDUCATION', 'AGE']].loc[(data.EDUCATION == 1) | (data.EDUCATION == 3), :]\n",
    "\n",
    "grad_age = education_and_age.loc[education_and_age.EDUCATION == 1, 'AGE']\n",
    "np.mean(grad_age)\n"
   ]
  },
  {
   "cell_type": "code",
   "execution_count": 42,
   "metadata": {},
   "outputs": [
    {
     "data": {
      "text/plain": [
       "40.29997966239577"
      ]
     },
     "execution_count": 42,
     "metadata": {},
     "output_type": "execute_result"
    }
   ],
   "source": [
    "high_age = education_and_age.loc[education_and_age.EDUCATION == 3, 'AGE']\n",
    "np.mean(high_age)\n"
   ]
  },
  {
   "cell_type": "code",
   "execution_count": 43,
   "metadata": {},
   "outputs": [
    {
     "data": {
      "text/plain": [
       "36.1565604438137"
      ]
     },
     "execution_count": 43,
     "metadata": {},
     "output_type": "execute_result"
    }
   ],
   "source": [
    "education_and_age = education_and_age.loc[:, 'AGE']\n",
    "np.mean(education_and_age)"
   ]
  },
  {
   "cell_type": "code",
   "execution_count": 44,
   "metadata": {},
   "outputs": [
    {
     "name": "stdout",
     "output_type": "stream",
     "text": [
      "mean_all =  36.1565604438137\n",
      "real_diff =  6.0681421564911915\n",
      "group1_shifted =  36.15656044381571\n",
      "group2_shifted =  36.15656044381484\n",
      "p-value =  0.0\n"
     ]
    },
    {
     "data": {
      "image/png": "[encoded data removed]",
      "text/plain": [
       "<Figure size 432x288 with 1 Axes>"
      ]
     },
     "metadata": {
      "needs_background": "light"
     },
     "output_type": "display_data"
    }
   ],
   "source": [
    "bootstrap_2s(high_age, grad_age, education_and_age)"
   ]
  },
  {
   "cell_type": "markdown",
   "metadata": {},
   "source": [
    "So we again see that the means of the ages are different for these 2 groups within our sample. "
   ]
  },
  {
   "cell_type": "markdown",
   "metadata": {},
   "source": [
    "**Claim 5: Married individuals are more likely to default than singles (23.5% vs. 20.9%)**"
   ]
  },
  {
   "cell_type": "code",
   "execution_count": 45,
   "metadata": {},
   "outputs": [],
   "source": [
    "def relationship_with_default(column):\n",
    "    res = data.groupby([column, 'default']).size().unstack()\n",
    "    res.rename(columns={0:\"No Default\", 1:\"Default\"}, inplace=True)\n",
    "    res['percentage default'] = (res[res.columns[1]]/(res[res.columns[0]] + res[res.columns[1]]))\n",
    "    res['percentage default'] = pd.Series([\"{0:.1f}%\".format(val * 100) for val in res['percentage default']], index=res.index)\n",
    "    return res"
   ]
  },
  {
   "cell_type": "code",
   "execution_count": 46,
   "metadata": {},
   "outputs": [
    {
     "data": {
      "text/html": [
       "<div>\n",
       "<style scoped>\n",
       "    .dataframe tbody tr th:only-of-type {\n",
       "        vertical-align: middle;\n",
       "    }\n",
       "\n",
       "    .dataframe tbody tr th {\n",
       "        vertical-align: top;\n",
       "    }\n",
       "\n",
       "    .dataframe thead th {\n",
       "        text-align: right;\n",
       "    }\n",
       "</style>\n",
       "<table border=\"1\" class=\"dataframe\">\n",
       "  <thead>\n",
       "    <tr style=\"text-align: right;\">\n",
       "      <th>default</th>\n",
       "      <th>No Default</th>\n",
       "      <th>Default</th>\n",
       "      <th>percentage default</th>\n",
       "    </tr>\n",
       "    <tr>\n",
       "      <th>MARRIAGE</th>\n",
       "      <th></th>\n",
       "      <th></th>\n",
       "      <th></th>\n",
       "    </tr>\n",
       "  </thead>\n",
       "  <tbody>\n",
       "    <tr>\n",
       "      <th>Married</th>\n",
       "      <td>10453</td>\n",
       "      <td>3206</td>\n",
       "      <td>23.5%</td>\n",
       "    </tr>\n",
       "    <tr>\n",
       "      <th>Single</th>\n",
       "      <td>12623</td>\n",
       "      <td>3341</td>\n",
       "      <td>20.9%</td>\n",
       "    </tr>\n",
       "    <tr>\n",
       "      <th>Other</th>\n",
       "      <td>288</td>\n",
       "      <td>89</td>\n",
       "      <td>23.6%</td>\n",
       "    </tr>\n",
       "  </tbody>\n",
       "</table>\n",
       "</div>"
      ],
      "text/plain": [
       "default   No Default  Default percentage default\n",
       "MARRIAGE                                        \n",
       "Married        10453     3206              23.5%\n",
       "Single         12623     3341              20.9%\n",
       "Other            288       89              23.6%"
      ]
     },
     "execution_count": 46,
     "metadata": {},
     "output_type": "execute_result"
    }
   ],
   "source": [
    "table = relationship_with_default('MARRIAGE')\n",
    "table.rename(index={1:\"Married\", 2:\"Single\", 3:\"Other\"}, inplace=True)\n",
    "table"
   ]
  },
  {
   "cell_type": "markdown",
   "metadata": {},
   "source": [
    "We will again run through a bootstrap test to determine if the mean rate of default for marrieds and singles is different."
   ]
  },
  {
   "cell_type": "code",
   "execution_count": 47,
   "metadata": {},
   "outputs": [
    {
     "data": {
      "text/plain": [
       "0.23471703638626545"
      ]
     },
     "execution_count": 47,
     "metadata": {},
     "output_type": "execute_result"
    }
   ],
   "source": [
    "marriage_and_default = data[['MARRIAGE', 'default']].loc[(data.MARRIAGE == 1) | (data.MARRIAGE == 2), :]\n",
    "\n",
    "marriage_default = marriage_and_default.loc[marriage_and_default.MARRIAGE == 1, 'default']\n",
    "np.mean(marriage_default)\n"
   ]
  },
  {
   "cell_type": "code",
   "execution_count": 48,
   "metadata": {},
   "outputs": [
    {
     "data": {
      "text/plain": [
       "0.20928338762214985"
      ]
     },
     "execution_count": 48,
     "metadata": {},
     "output_type": "execute_result"
    }
   ],
   "source": [
    "singles_default = marriage_and_default.loc[marriage_and_default.MARRIAGE == 2, 'default']\n",
    "np.mean(singles_default)"
   ]
  },
  {
   "cell_type": "code",
   "execution_count": 49,
   "metadata": {},
   "outputs": [
    {
     "data": {
      "text/plain": [
       "0.22101070114438107"
      ]
     },
     "execution_count": 49,
     "metadata": {},
     "output_type": "execute_result"
    }
   ],
   "source": [
    "marriage_and_default = marriage_and_default.loc[:,'default']\n",
    "np.mean(marriage_and_default)"
   ]
  },
  {
   "cell_type": "code",
   "execution_count": 50,
   "metadata": {},
   "outputs": [
    {
     "name": "stdout",
     "output_type": "stream",
     "text": [
      "mean_all =  0.22101070114438107\n",
      "real_diff =  0.025433648764115607\n",
      "group1_shifted =  0.22101070114440344\n",
      "group2_shifted =  0.2210107011444654\n",
      "p-value =  0.0\n"
     ]
    },
    {
     "data": {
      "image/png": "[encoded data removed]",
      "text/plain": [
       "<Figure size 432x288 with 1 Axes>"
      ]
     },
     "metadata": {
      "needs_background": "light"
     },
     "output_type": "display_data"
    }
   ],
   "source": [
    "bootstrap_2s(marriage_default, singles_default, marriage_and_default)"
   ]
  },
  {
   "cell_type": "markdown",
   "metadata": {},
   "source": [
    "We see that marrieds and singles really have different default rates, that is, we can reject the Null Hypothesis that their rates of default are equal."
   ]
  }
 ],
 "metadata": {
  "kernelspec": {
   "display_name": "Python 3",
   "language": "python",
   "name": "python3"
  },
  "language_info": {
   "codemirror_mode": {
    "name": "ipython",
    "version": 3
   },
   "file_extension": ".py",
   "mimetype": "text/x-python",
   "name": "python",
   "nbconvert_exporter": "python",
   "pygments_lexer": "ipython3",
   "version": "3.7.0"
  }
 },
 "nbformat": 4,
 "nbformat_minor": 2
}
