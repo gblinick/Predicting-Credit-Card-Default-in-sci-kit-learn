{
 "cells": [
  {
   "cell_type": "markdown",
   "metadata": {},
   "source": [
    "# Capstone 1 EDA"
   ]
  },
  {
   "cell_type": "markdown",
   "metadata": {},
   "source": [
    "## Step 1) Read the Manual"
   ]
  },
  {
   "cell_type": "markdown",
   "metadata": {},
   "source": [
    "Before we progress further, we display the information about the dataset that we obtained from the dataset manual, that is, from Kaggle and the UCI Machine Learning Repository.\n",
    "\n",
    "From Kaggle, an overview of the variables:\n",
    "\n",
    "There are 25 variables:\n",
    "\n",
    "* ID: ID of each client\n",
    "* LIMIT_BAL: Amount of given credit in NT dollars (includes individual and family/supplementary credit\n",
    "* SEX: Gender (1=male, 2=female)\n",
    "* EDUCATION: (1=graduate school, 2=university, 3=high school, 4=others, 5=unknown, 6=unknown)\n",
    "* MARRIAGE: Marital status (1=married, 2=single, 3=others)\n",
    "* AGE: Age in years\n",
    "* PAY_0: Repayment status in September, 2005 (-1=pay duly, 1=payment delay for one month, 2=payment delay for two months, ... 8=payment delay for eight months, 9=payment delay for nine months and above)\n",
    "* PAY_2: Repayment status in August, 2005 (scale same as above)\n",
    "* PAY_3: Repayment status in July, 2005 (scale same as above)\n",
    "* PAY_4: Repayment status in June, 2005 (scale same as above)\n",
    "* PAY_5: Repayment status in May, 2005 (scale same as above)\n",
    "* PAY_6: Repayment status in April, 2005 (scale same as above)\n",
    "* BILL_AMT1: Amount of bill statement in September, 2005 (NT dollar)\n",
    "* BILL_AMT2: Amount of bill statement in August, 2005 (NT dollar)\n",
    "* BILL_AMT3: Amount of bill statement in July, 2005 (NT dollar)\n",
    "* BILL_AMT4: Amount of bill statement in June, 2005 (NT dollar)\n",
    "* BILL_AMT5: Amount of bill statement in May, 2005 (NT dollar)\n",
    "* BILL_AMT6: Amount of bill statement in April, 2005 (NT dollar)\n",
    "* PAY_AMT1: Amount of previous payment in September, 2005 (NT dollar)\n",
    "* PAY_AMT2: Amount of previous payment in August, 2005 (NT dollar)\n",
    "* PAY_AMT3: Amount of previous payment in July, 2005 (NT dollar)\n",
    "* PAY_AMT4: Amount of previous payment in June, 2005 (NT dollar)\n",
    "* PAY_AMT5: Amount of previous payment in May, 2005 (NT dollar)\n",
    "* PAY_AMT6: Amount of previous payment in April, 2005 (NT dollar) default.payment.next.month: Default payment (1=yes, 0=no)\n",
    "\n",
    "And from UCI:\n",
    "\n",
    "This research employed a binary variable, default payment (Yes = 1, No = 0), as the response variable. This study reviewed the literature and used the following 23 variables as explanatory variables: \n",
    "* X1: Amount of the given credit (NT dollar): it includes both the individual consumer credit and his/her family (supplementary) credit. \n",
    "* X2: Gender (1 = male; 2 = female). \n",
    "* X3: Education (1 = graduate school; 2 = university; 3 = high school; 4 = others). \n",
    "* X4: Marital status (1 = married; 2 = single; 3 = others). \n",
    "* X5: Age (year). \n",
    "* X6 - X11: History of past payment. We tracked the past monthly payment records (from April to September, 2005) as follows: X6 = the repayment status in September, 2005; X7 = the repayment status in August, 2005; . . .;X11 = the repayment status in April, 2005. The measurement scale for the repayment status is: -1 = pay duly; 1 = payment delay for one month; 2 = payment delay for two months; . . .; 8 = payment delay for eight months; 9 = payment delay for nine months and above. \n",
    "* X12-X17: Amount of bill statement (NT dollar). X12 = amount of bill statement in September, 2005; X13 = amount of bill statement in August, 2005; . . .; X17 = amount of bill statement in April, 2005. \n",
    "* X18-X23: Amount of previous payment (NT dollar). X18 = amount paid in September, 2005; X19 = amount paid in August, 2005; . . .;X23 = amount paid in April, 2005. "
   ]
  },
  {
   "cell_type": "markdown",
   "metadata": {},
   "source": [
    "Potential issue: We'll want to group values 5 and 6 for Education into one value (looking at the Kaggle description) since they both stand for \"unknown\". And perhaps we'll want to include 4 in that grouping since it has the value of \"others\"."
   ]
  },
  {
   "cell_type": "markdown",
   "metadata": {},
   "source": [
    "We can compare our examination of the variables to the above list to determine if our variables or the manual or both are wrong."
   ]
  },
  {
   "cell_type": "markdown",
   "metadata": {},
   "source": [
    "## Step 2) Review the Data Types"
   ]
  },
  {
   "cell_type": "code",
   "execution_count": 1,
   "metadata": {},
   "outputs": [],
   "source": [
    "import pandas as pd\n",
    "import numpy as np\n",
    "import matplotlib.pyplot as plt\n",
    "import seaborn as sns\n",
    "from IPython.display import display\n",
    "import random"
   ]
  },
  {
   "cell_type": "code",
   "execution_count": 2,
   "metadata": {},
   "outputs": [],
   "source": [
    "filename = 'UCI_Credit_Card.csv'"
   ]
  },
  {
   "cell_type": "code",
   "execution_count": 3,
   "metadata": {},
   "outputs": [],
   "source": [
    "data = pd.read_csv(filename, index_col=0)"
   ]
  },
  {
   "cell_type": "code",
   "execution_count": 4,
   "metadata": {},
   "outputs": [
    {
     "data": {
      "text/html": [
       "<div>\n",
       "<style scoped>\n",
       "    .dataframe tbody tr th:only-of-type {\n",
       "        vertical-align: middle;\n",
       "    }\n",
       "\n",
       "    .dataframe tbody tr th {\n",
       "        vertical-align: top;\n",
       "    }\n",
       "\n",
       "    .dataframe thead th {\n",
       "        text-align: right;\n",
       "    }\n",
       "</style>\n",
       "<table border=\"1\" class=\"dataframe\">\n",
       "  <thead>\n",
       "    <tr style=\"text-align: right;\">\n",
       "      <th>ID</th>\n",
       "      <th>4871</th>\n",
       "      <th>3973</th>\n",
       "      <th>15825</th>\n",
       "      <th>21148</th>\n",
       "      <th>11092</th>\n",
       "    </tr>\n",
       "  </thead>\n",
       "  <tbody>\n",
       "    <tr>\n",
       "      <th>LIMIT_BAL</th>\n",
       "      <td>260000.0</td>\n",
       "      <td>240000.0</td>\n",
       "      <td>80000.0</td>\n",
       "      <td>130000.0</td>\n",
       "      <td>100000.0</td>\n",
       "    </tr>\n",
       "    <tr>\n",
       "      <th>SEX</th>\n",
       "      <td>2.0</td>\n",
       "      <td>1.0</td>\n",
       "      <td>2.0</td>\n",
       "      <td>1.0</td>\n",
       "      <td>2.0</td>\n",
       "    </tr>\n",
       "    <tr>\n",
       "      <th>EDUCATION</th>\n",
       "      <td>1.0</td>\n",
       "      <td>2.0</td>\n",
       "      <td>2.0</td>\n",
       "      <td>2.0</td>\n",
       "      <td>2.0</td>\n",
       "    </tr>\n",
       "    <tr>\n",
       "      <th>MARRIAGE</th>\n",
       "      <td>2.0</td>\n",
       "      <td>2.0</td>\n",
       "      <td>2.0</td>\n",
       "      <td>1.0</td>\n",
       "      <td>2.0</td>\n",
       "    </tr>\n",
       "    <tr>\n",
       "      <th>AGE</th>\n",
       "      <td>29.0</td>\n",
       "      <td>35.0</td>\n",
       "      <td>27.0</td>\n",
       "      <td>42.0</td>\n",
       "      <td>26.0</td>\n",
       "    </tr>\n",
       "    <tr>\n",
       "      <th>PAY_0</th>\n",
       "      <td>-1.0</td>\n",
       "      <td>-1.0</td>\n",
       "      <td>1.0</td>\n",
       "      <td>1.0</td>\n",
       "      <td>-1.0</td>\n",
       "    </tr>\n",
       "    <tr>\n",
       "      <th>PAY_2</th>\n",
       "      <td>-1.0</td>\n",
       "      <td>-1.0</td>\n",
       "      <td>2.0</td>\n",
       "      <td>-2.0</td>\n",
       "      <td>0.0</td>\n",
       "    </tr>\n",
       "    <tr>\n",
       "      <th>PAY_3</th>\n",
       "      <td>-1.0</td>\n",
       "      <td>-1.0</td>\n",
       "      <td>2.0</td>\n",
       "      <td>-2.0</td>\n",
       "      <td>0.0</td>\n",
       "    </tr>\n",
       "    <tr>\n",
       "      <th>PAY_4</th>\n",
       "      <td>-1.0</td>\n",
       "      <td>-1.0</td>\n",
       "      <td>2.0</td>\n",
       "      <td>-2.0</td>\n",
       "      <td>0.0</td>\n",
       "    </tr>\n",
       "    <tr>\n",
       "      <th>PAY_5</th>\n",
       "      <td>-1.0</td>\n",
       "      <td>-1.0</td>\n",
       "      <td>2.0</td>\n",
       "      <td>-2.0</td>\n",
       "      <td>0.0</td>\n",
       "    </tr>\n",
       "    <tr>\n",
       "      <th>PAY_6</th>\n",
       "      <td>-1.0</td>\n",
       "      <td>0.0</td>\n",
       "      <td>-2.0</td>\n",
       "      <td>-2.0</td>\n",
       "      <td>0.0</td>\n",
       "    </tr>\n",
       "    <tr>\n",
       "      <th>BILL_AMT1</th>\n",
       "      <td>3735.0</td>\n",
       "      <td>8602.0</td>\n",
       "      <td>4073.0</td>\n",
       "      <td>-52.0</td>\n",
       "      <td>53743.0</td>\n",
       "    </tr>\n",
       "    <tr>\n",
       "      <th>BILL_AMT2</th>\n",
       "      <td>-8.0</td>\n",
       "      <td>18703.0</td>\n",
       "      <td>3863.0</td>\n",
       "      <td>-52.0</td>\n",
       "      <td>52320.0</td>\n",
       "    </tr>\n",
       "    <tr>\n",
       "      <th>BILL_AMT3</th>\n",
       "      <td>4865.0</td>\n",
       "      <td>643.0</td>\n",
       "      <td>8109.0</td>\n",
       "      <td>-52.0</td>\n",
       "      <td>46686.0</td>\n",
       "    </tr>\n",
       "    <tr>\n",
       "      <th>BILL_AMT4</th>\n",
       "      <td>507.0</td>\n",
       "      <td>11455.0</td>\n",
       "      <td>7849.0</td>\n",
       "      <td>-52.0</td>\n",
       "      <td>44497.0</td>\n",
       "    </tr>\n",
       "    <tr>\n",
       "      <th>BILL_AMT5</th>\n",
       "      <td>3787.0</td>\n",
       "      <td>1326.0</td>\n",
       "      <td>0.0</td>\n",
       "      <td>-52.0</td>\n",
       "      <td>44674.0</td>\n",
       "    </tr>\n",
       "    <tr>\n",
       "      <th>BILL_AMT6</th>\n",
       "      <td>1443.0</td>\n",
       "      <td>663.0</td>\n",
       "      <td>0.0</td>\n",
       "      <td>-52.0</td>\n",
       "      <td>42653.0</td>\n",
       "    </tr>\n",
       "    <tr>\n",
       "      <th>PAY_AMT1</th>\n",
       "      <td>0.0</td>\n",
       "      <td>18718.0</td>\n",
       "      <td>0.0</td>\n",
       "      <td>0.0</td>\n",
       "      <td>3000.0</td>\n",
       "    </tr>\n",
       "    <tr>\n",
       "      <th>PAY_AMT2</th>\n",
       "      <td>4873.0</td>\n",
       "      <td>646.0</td>\n",
       "      <td>4500.0</td>\n",
       "      <td>0.0</td>\n",
       "      <td>2500.0</td>\n",
       "    </tr>\n",
       "    <tr>\n",
       "      <th>PAY_AMT3</th>\n",
       "      <td>507.0</td>\n",
       "      <td>11478.0</td>\n",
       "      <td>21.0</td>\n",
       "      <td>0.0</td>\n",
       "      <td>3000.0</td>\n",
       "    </tr>\n",
       "    <tr>\n",
       "      <th>PAY_AMT4</th>\n",
       "      <td>3787.0</td>\n",
       "      <td>1329.0</td>\n",
       "      <td>0.0</td>\n",
       "      <td>0.0</td>\n",
       "      <td>2000.0</td>\n",
       "    </tr>\n",
       "    <tr>\n",
       "      <th>PAY_AMT5</th>\n",
       "      <td>1443.0</td>\n",
       "      <td>3.0</td>\n",
       "      <td>0.0</td>\n",
       "      <td>0.0</td>\n",
       "      <td>5000.0</td>\n",
       "    </tr>\n",
       "    <tr>\n",
       "      <th>PAY_AMT6</th>\n",
       "      <td>0.0</td>\n",
       "      <td>1322.0</td>\n",
       "      <td>0.0</td>\n",
       "      <td>1000.0</td>\n",
       "      <td>2600.0</td>\n",
       "    </tr>\n",
       "    <tr>\n",
       "      <th>default.payment.next.month</th>\n",
       "      <td>1.0</td>\n",
       "      <td>0.0</td>\n",
       "      <td>0.0</td>\n",
       "      <td>1.0</td>\n",
       "      <td>0.0</td>\n",
       "    </tr>\n",
       "  </tbody>\n",
       "</table>\n",
       "</div>"
      ],
      "text/plain": [
       "ID                             4871      3973     15825     21148     11092\n",
       "LIMIT_BAL                   260000.0  240000.0  80000.0  130000.0  100000.0\n",
       "SEX                              2.0       1.0      2.0       1.0       2.0\n",
       "EDUCATION                        1.0       2.0      2.0       2.0       2.0\n",
       "MARRIAGE                         2.0       2.0      2.0       1.0       2.0\n",
       "AGE                             29.0      35.0     27.0      42.0      26.0\n",
       "PAY_0                           -1.0      -1.0      1.0       1.0      -1.0\n",
       "PAY_2                           -1.0      -1.0      2.0      -2.0       0.0\n",
       "PAY_3                           -1.0      -1.0      2.0      -2.0       0.0\n",
       "PAY_4                           -1.0      -1.0      2.0      -2.0       0.0\n",
       "PAY_5                           -1.0      -1.0      2.0      -2.0       0.0\n",
       "PAY_6                           -1.0       0.0     -2.0      -2.0       0.0\n",
       "BILL_AMT1                     3735.0    8602.0   4073.0     -52.0   53743.0\n",
       "BILL_AMT2                       -8.0   18703.0   3863.0     -52.0   52320.0\n",
       "BILL_AMT3                     4865.0     643.0   8109.0     -52.0   46686.0\n",
       "BILL_AMT4                      507.0   11455.0   7849.0     -52.0   44497.0\n",
       "BILL_AMT5                     3787.0    1326.0      0.0     -52.0   44674.0\n",
       "BILL_AMT6                     1443.0     663.0      0.0     -52.0   42653.0\n",
       "PAY_AMT1                         0.0   18718.0      0.0       0.0    3000.0\n",
       "PAY_AMT2                      4873.0     646.0   4500.0       0.0    2500.0\n",
       "PAY_AMT3                       507.0   11478.0     21.0       0.0    3000.0\n",
       "PAY_AMT4                      3787.0    1329.0      0.0       0.0    2000.0\n",
       "PAY_AMT5                      1443.0       3.0      0.0       0.0    5000.0\n",
       "PAY_AMT6                         0.0    1322.0      0.0    1000.0    2600.0\n",
       "default.payment.next.month       1.0       0.0      0.0       1.0       0.0"
      ]
     },
     "execution_count": 4,
     "metadata": {},
     "output_type": "execute_result"
    }
   ],
   "source": [
    "pd.set_option('display.max_columns', 500)\n",
    "data.sample(5).transpose()"
   ]
  },
  {
   "cell_type": "code",
   "execution_count": 5,
   "metadata": {},
   "outputs": [
    {
     "name": "stdout",
     "output_type": "stream",
     "text": [
      "<class 'pandas.core.frame.DataFrame'>\n",
      "Int64Index: 30000 entries, 1 to 30000\n",
      "Data columns (total 24 columns):\n",
      "LIMIT_BAL                     30000 non-null float64\n",
      "SEX                           30000 non-null int64\n",
      "EDUCATION                     30000 non-null int64\n",
      "MARRIAGE                      30000 non-null int64\n",
      "AGE                           30000 non-null int64\n",
      "PAY_0                         30000 non-null int64\n",
      "PAY_2                         30000 non-null int64\n",
      "PAY_3                         30000 non-null int64\n",
      "PAY_4                         30000 non-null int64\n",
      "PAY_5                         30000 non-null int64\n",
      "PAY_6                         30000 non-null int64\n",
      "BILL_AMT1                     30000 non-null float64\n",
      "BILL_AMT2                     30000 non-null float64\n",
      "BILL_AMT3                     30000 non-null float64\n",
      "BILL_AMT4                     30000 non-null float64\n",
      "BILL_AMT5                     30000 non-null float64\n",
      "BILL_AMT6                     30000 non-null float64\n",
      "PAY_AMT1                      30000 non-null float64\n",
      "PAY_AMT2                      30000 non-null float64\n",
      "PAY_AMT3                      30000 non-null float64\n",
      "PAY_AMT4                      30000 non-null float64\n",
      "PAY_AMT5                      30000 non-null float64\n",
      "PAY_AMT6                      30000 non-null float64\n",
      "default.payment.next.month    30000 non-null int64\n",
      "dtypes: float64(13), int64(11)\n",
      "memory usage: 5.7 MB\n"
     ]
    }
   ],
   "source": [
    "data.info()"
   ]
  },
  {
   "cell_type": "markdown",
   "metadata": {},
   "source": [
    "All columns in this dataset have a numeric type. They are either float-valued (continuous) or int-valued (discrete). Nothing seems to be off, so we may continue."
   ]
  },
  {
   "cell_type": "code",
   "execution_count": 6,
   "metadata": {},
   "outputs": [
    {
     "data": {
      "text/plain": [
       "(30000, 24)"
      ]
     },
     "metadata": {},
     "output_type": "display_data"
    }
   ],
   "source": [
    "display(data.shape)"
   ]
  },
  {
   "cell_type": "code",
   "execution_count": 7,
   "metadata": {},
   "outputs": [
    {
     "data": {
      "text/html": [
       "<div>\n",
       "<style scoped>\n",
       "    .dataframe tbody tr th:only-of-type {\n",
       "        vertical-align: middle;\n",
       "    }\n",
       "\n",
       "    .dataframe tbody tr th {\n",
       "        vertical-align: top;\n",
       "    }\n",
       "\n",
       "    .dataframe thead th {\n",
       "        text-align: right;\n",
       "    }\n",
       "</style>\n",
       "<table border=\"1\" class=\"dataframe\">\n",
       "  <thead>\n",
       "    <tr style=\"text-align: right;\">\n",
       "      <th>ID</th>\n",
       "      <th>1</th>\n",
       "      <th>2</th>\n",
       "      <th>3</th>\n",
       "      <th>4</th>\n",
       "      <th>5</th>\n",
       "    </tr>\n",
       "  </thead>\n",
       "  <tbody>\n",
       "    <tr>\n",
       "      <th>LIMIT_BAL</th>\n",
       "      <td>20000.0</td>\n",
       "      <td>120000.0</td>\n",
       "      <td>90000.0</td>\n",
       "      <td>50000.0</td>\n",
       "      <td>50000.0</td>\n",
       "    </tr>\n",
       "    <tr>\n",
       "      <th>SEX</th>\n",
       "      <td>2.0</td>\n",
       "      <td>2.0</td>\n",
       "      <td>2.0</td>\n",
       "      <td>2.0</td>\n",
       "      <td>1.0</td>\n",
       "    </tr>\n",
       "    <tr>\n",
       "      <th>EDUCATION</th>\n",
       "      <td>2.0</td>\n",
       "      <td>2.0</td>\n",
       "      <td>2.0</td>\n",
       "      <td>2.0</td>\n",
       "      <td>2.0</td>\n",
       "    </tr>\n",
       "    <tr>\n",
       "      <th>MARRIAGE</th>\n",
       "      <td>1.0</td>\n",
       "      <td>2.0</td>\n",
       "      <td>2.0</td>\n",
       "      <td>1.0</td>\n",
       "      <td>1.0</td>\n",
       "    </tr>\n",
       "    <tr>\n",
       "      <th>AGE</th>\n",
       "      <td>24.0</td>\n",
       "      <td>26.0</td>\n",
       "      <td>34.0</td>\n",
       "      <td>37.0</td>\n",
       "      <td>57.0</td>\n",
       "    </tr>\n",
       "    <tr>\n",
       "      <th>PAY_0</th>\n",
       "      <td>2.0</td>\n",
       "      <td>-1.0</td>\n",
       "      <td>0.0</td>\n",
       "      <td>0.0</td>\n",
       "      <td>-1.0</td>\n",
       "    </tr>\n",
       "    <tr>\n",
       "      <th>PAY_2</th>\n",
       "      <td>2.0</td>\n",
       "      <td>2.0</td>\n",
       "      <td>0.0</td>\n",
       "      <td>0.0</td>\n",
       "      <td>0.0</td>\n",
       "    </tr>\n",
       "    <tr>\n",
       "      <th>PAY_3</th>\n",
       "      <td>-1.0</td>\n",
       "      <td>0.0</td>\n",
       "      <td>0.0</td>\n",
       "      <td>0.0</td>\n",
       "      <td>-1.0</td>\n",
       "    </tr>\n",
       "    <tr>\n",
       "      <th>PAY_4</th>\n",
       "      <td>-1.0</td>\n",
       "      <td>0.0</td>\n",
       "      <td>0.0</td>\n",
       "      <td>0.0</td>\n",
       "      <td>0.0</td>\n",
       "    </tr>\n",
       "    <tr>\n",
       "      <th>PAY_5</th>\n",
       "      <td>-2.0</td>\n",
       "      <td>0.0</td>\n",
       "      <td>0.0</td>\n",
       "      <td>0.0</td>\n",
       "      <td>0.0</td>\n",
       "    </tr>\n",
       "    <tr>\n",
       "      <th>PAY_6</th>\n",
       "      <td>-2.0</td>\n",
       "      <td>2.0</td>\n",
       "      <td>0.0</td>\n",
       "      <td>0.0</td>\n",
       "      <td>0.0</td>\n",
       "    </tr>\n",
       "    <tr>\n",
       "      <th>BILL_AMT1</th>\n",
       "      <td>3913.0</td>\n",
       "      <td>2682.0</td>\n",
       "      <td>29239.0</td>\n",
       "      <td>46990.0</td>\n",
       "      <td>8617.0</td>\n",
       "    </tr>\n",
       "    <tr>\n",
       "      <th>BILL_AMT2</th>\n",
       "      <td>3102.0</td>\n",
       "      <td>1725.0</td>\n",
       "      <td>14027.0</td>\n",
       "      <td>48233.0</td>\n",
       "      <td>5670.0</td>\n",
       "    </tr>\n",
       "    <tr>\n",
       "      <th>BILL_AMT3</th>\n",
       "      <td>689.0</td>\n",
       "      <td>2682.0</td>\n",
       "      <td>13559.0</td>\n",
       "      <td>49291.0</td>\n",
       "      <td>35835.0</td>\n",
       "    </tr>\n",
       "    <tr>\n",
       "      <th>BILL_AMT4</th>\n",
       "      <td>0.0</td>\n",
       "      <td>3272.0</td>\n",
       "      <td>14331.0</td>\n",
       "      <td>28314.0</td>\n",
       "      <td>20940.0</td>\n",
       "    </tr>\n",
       "    <tr>\n",
       "      <th>BILL_AMT5</th>\n",
       "      <td>0.0</td>\n",
       "      <td>3455.0</td>\n",
       "      <td>14948.0</td>\n",
       "      <td>28959.0</td>\n",
       "      <td>19146.0</td>\n",
       "    </tr>\n",
       "    <tr>\n",
       "      <th>BILL_AMT6</th>\n",
       "      <td>0.0</td>\n",
       "      <td>3261.0</td>\n",
       "      <td>15549.0</td>\n",
       "      <td>29547.0</td>\n",
       "      <td>19131.0</td>\n",
       "    </tr>\n",
       "    <tr>\n",
       "      <th>PAY_AMT1</th>\n",
       "      <td>0.0</td>\n",
       "      <td>0.0</td>\n",
       "      <td>1518.0</td>\n",
       "      <td>2000.0</td>\n",
       "      <td>2000.0</td>\n",
       "    </tr>\n",
       "    <tr>\n",
       "      <th>PAY_AMT2</th>\n",
       "      <td>689.0</td>\n",
       "      <td>1000.0</td>\n",
       "      <td>1500.0</td>\n",
       "      <td>2019.0</td>\n",
       "      <td>36681.0</td>\n",
       "    </tr>\n",
       "    <tr>\n",
       "      <th>PAY_AMT3</th>\n",
       "      <td>0.0</td>\n",
       "      <td>1000.0</td>\n",
       "      <td>1000.0</td>\n",
       "      <td>1200.0</td>\n",
       "      <td>10000.0</td>\n",
       "    </tr>\n",
       "    <tr>\n",
       "      <th>PAY_AMT4</th>\n",
       "      <td>0.0</td>\n",
       "      <td>1000.0</td>\n",
       "      <td>1000.0</td>\n",
       "      <td>1100.0</td>\n",
       "      <td>9000.0</td>\n",
       "    </tr>\n",
       "    <tr>\n",
       "      <th>PAY_AMT5</th>\n",
       "      <td>0.0</td>\n",
       "      <td>0.0</td>\n",
       "      <td>1000.0</td>\n",
       "      <td>1069.0</td>\n",
       "      <td>689.0</td>\n",
       "    </tr>\n",
       "    <tr>\n",
       "      <th>PAY_AMT6</th>\n",
       "      <td>0.0</td>\n",
       "      <td>2000.0</td>\n",
       "      <td>5000.0</td>\n",
       "      <td>1000.0</td>\n",
       "      <td>679.0</td>\n",
       "    </tr>\n",
       "    <tr>\n",
       "      <th>default.payment.next.month</th>\n",
       "      <td>1.0</td>\n",
       "      <td>1.0</td>\n",
       "      <td>0.0</td>\n",
       "      <td>0.0</td>\n",
       "      <td>0.0</td>\n",
       "    </tr>\n",
       "  </tbody>\n",
       "</table>\n",
       "</div>"
      ],
      "text/plain": [
       "ID                                1         2        3        4        5\n",
       "LIMIT_BAL                   20000.0  120000.0  90000.0  50000.0  50000.0\n",
       "SEX                             2.0       2.0      2.0      2.0      1.0\n",
       "EDUCATION                       2.0       2.0      2.0      2.0      2.0\n",
       "MARRIAGE                        1.0       2.0      2.0      1.0      1.0\n",
       "AGE                            24.0      26.0     34.0     37.0     57.0\n",
       "PAY_0                           2.0      -1.0      0.0      0.0     -1.0\n",
       "PAY_2                           2.0       2.0      0.0      0.0      0.0\n",
       "PAY_3                          -1.0       0.0      0.0      0.0     -1.0\n",
       "PAY_4                          -1.0       0.0      0.0      0.0      0.0\n",
       "PAY_5                          -2.0       0.0      0.0      0.0      0.0\n",
       "PAY_6                          -2.0       2.0      0.0      0.0      0.0\n",
       "BILL_AMT1                    3913.0    2682.0  29239.0  46990.0   8617.0\n",
       "BILL_AMT2                    3102.0    1725.0  14027.0  48233.0   5670.0\n",
       "BILL_AMT3                     689.0    2682.0  13559.0  49291.0  35835.0\n",
       "BILL_AMT4                       0.0    3272.0  14331.0  28314.0  20940.0\n",
       "BILL_AMT5                       0.0    3455.0  14948.0  28959.0  19146.0\n",
       "BILL_AMT6                       0.0    3261.0  15549.0  29547.0  19131.0\n",
       "PAY_AMT1                        0.0       0.0   1518.0   2000.0   2000.0\n",
       "PAY_AMT2                      689.0    1000.0   1500.0   2019.0  36681.0\n",
       "PAY_AMT3                        0.0    1000.0   1000.0   1200.0  10000.0\n",
       "PAY_AMT4                        0.0    1000.0   1000.0   1100.0   9000.0\n",
       "PAY_AMT5                        0.0       0.0   1000.0   1069.0    689.0\n",
       "PAY_AMT6                        0.0    2000.0   5000.0   1000.0    679.0\n",
       "default.payment.next.month      1.0       1.0      0.0      0.0      0.0"
      ]
     },
     "execution_count": 7,
     "metadata": {},
     "output_type": "execute_result"
    }
   ],
   "source": [
    "data.head().transpose()"
   ]
  },
  {
   "cell_type": "markdown",
   "metadata": {},
   "source": [
    "## Step 3) Print Sample Rows"
   ]
  },
  {
   "cell_type": "markdown",
   "metadata": {},
   "source": [
    "We print a random slice of rows \"to preserve the row order in case the data happens to be sorted or has other inter-row structure.\" (https://www.kaggle.com/sohier/structured-eda-for-data-cleaning-results/)"
   ]
  },
  {
   "cell_type": "code",
   "execution_count": 8,
   "metadata": {},
   "outputs": [],
   "source": [
    "pd.options.display.float_format = '{:,}'.format #display long numbers with commas"
   ]
  },
  {
   "cell_type": "code",
   "execution_count": 9,
   "metadata": {},
   "outputs": [],
   "source": [
    "random.seed(42)"
   ]
  },
  {
   "cell_type": "code",
   "execution_count": 10,
   "metadata": {},
   "outputs": [
    {
     "data": {
      "text/html": [
       "<div>\n",
       "<style scoped>\n",
       "    .dataframe tbody tr th:only-of-type {\n",
       "        vertical-align: middle;\n",
       "    }\n",
       "\n",
       "    .dataframe tbody tr th {\n",
       "        vertical-align: top;\n",
       "    }\n",
       "\n",
       "    .dataframe thead th {\n",
       "        text-align: right;\n",
       "    }\n",
       "</style>\n",
       "<table border=\"1\" class=\"dataframe\">\n",
       "  <thead>\n",
       "    <tr style=\"text-align: right;\">\n",
       "      <th>ID</th>\n",
       "      <th>20953</th>\n",
       "      <th>20954</th>\n",
       "      <th>20955</th>\n",
       "      <th>20956</th>\n",
       "      <th>20957</th>\n",
       "    </tr>\n",
       "  </thead>\n",
       "  <tbody>\n",
       "    <tr>\n",
       "      <th>LIMIT_BAL</th>\n",
       "      <td>10,000.0</td>\n",
       "      <td>140,000.0</td>\n",
       "      <td>50,000.0</td>\n",
       "      <td>270,000.0</td>\n",
       "      <td>290,000.0</td>\n",
       "    </tr>\n",
       "    <tr>\n",
       "      <th>SEX</th>\n",
       "      <td>1.0</td>\n",
       "      <td>1.0</td>\n",
       "      <td>1.0</td>\n",
       "      <td>1.0</td>\n",
       "      <td>1.0</td>\n",
       "    </tr>\n",
       "    <tr>\n",
       "      <th>EDUCATION</th>\n",
       "      <td>3.0</td>\n",
       "      <td>2.0</td>\n",
       "      <td>2.0</td>\n",
       "      <td>2.0</td>\n",
       "      <td>2.0</td>\n",
       "    </tr>\n",
       "    <tr>\n",
       "      <th>MARRIAGE</th>\n",
       "      <td>2.0</td>\n",
       "      <td>2.0</td>\n",
       "      <td>2.0</td>\n",
       "      <td>1.0</td>\n",
       "      <td>2.0</td>\n",
       "    </tr>\n",
       "    <tr>\n",
       "      <th>AGE</th>\n",
       "      <td>37.0</td>\n",
       "      <td>41.0</td>\n",
       "      <td>36.0</td>\n",
       "      <td>44.0</td>\n",
       "      <td>30.0</td>\n",
       "    </tr>\n",
       "    <tr>\n",
       "      <th>PAY_0</th>\n",
       "      <td>0.0</td>\n",
       "      <td>0.0</td>\n",
       "      <td>-1.0</td>\n",
       "      <td>2.0</td>\n",
       "      <td>0.0</td>\n",
       "    </tr>\n",
       "    <tr>\n",
       "      <th>PAY_2</th>\n",
       "      <td>0.0</td>\n",
       "      <td>0.0</td>\n",
       "      <td>-1.0</td>\n",
       "      <td>0.0</td>\n",
       "      <td>0.0</td>\n",
       "    </tr>\n",
       "    <tr>\n",
       "      <th>PAY_3</th>\n",
       "      <td>0.0</td>\n",
       "      <td>0.0</td>\n",
       "      <td>-1.0</td>\n",
       "      <td>0.0</td>\n",
       "      <td>0.0</td>\n",
       "    </tr>\n",
       "    <tr>\n",
       "      <th>PAY_4</th>\n",
       "      <td>0.0</td>\n",
       "      <td>0.0</td>\n",
       "      <td>-1.0</td>\n",
       "      <td>0.0</td>\n",
       "      <td>0.0</td>\n",
       "    </tr>\n",
       "    <tr>\n",
       "      <th>PAY_5</th>\n",
       "      <td>0.0</td>\n",
       "      <td>0.0</td>\n",
       "      <td>-1.0</td>\n",
       "      <td>0.0</td>\n",
       "      <td>0.0</td>\n",
       "    </tr>\n",
       "    <tr>\n",
       "      <th>PAY_6</th>\n",
       "      <td>0.0</td>\n",
       "      <td>2.0</td>\n",
       "      <td>-1.0</td>\n",
       "      <td>0.0</td>\n",
       "      <td>0.0</td>\n",
       "    </tr>\n",
       "    <tr>\n",
       "      <th>BILL_AMT1</th>\n",
       "      <td>4,950.0</td>\n",
       "      <td>185,948.0</td>\n",
       "      <td>1,261.0</td>\n",
       "      <td>187,352.0</td>\n",
       "      <td>65,369.0</td>\n",
       "    </tr>\n",
       "    <tr>\n",
       "      <th>BILL_AMT2</th>\n",
       "      <td>5,963.0</td>\n",
       "      <td>170,133.0</td>\n",
       "      <td>1,261.0</td>\n",
       "      <td>179,247.0</td>\n",
       "      <td>67,270.0</td>\n",
       "    </tr>\n",
       "    <tr>\n",
       "      <th>BILL_AMT3</th>\n",
       "      <td>6,983.0</td>\n",
       "      <td>155,737.0</td>\n",
       "      <td>1,665.0</td>\n",
       "      <td>180,535.0</td>\n",
       "      <td>65,357.0</td>\n",
       "    </tr>\n",
       "    <tr>\n",
       "      <th>BILL_AMT4</th>\n",
       "      <td>7,993.0</td>\n",
       "      <td>140,586.0</td>\n",
       "      <td>1,261.0</td>\n",
       "      <td>187,524.0</td>\n",
       "      <td>66,893.0</td>\n",
       "    </tr>\n",
       "    <tr>\n",
       "      <th>BILL_AMT5</th>\n",
       "      <td>8,151.0</td>\n",
       "      <td>136,641.0</td>\n",
       "      <td>1,261.0</td>\n",
       "      <td>185,895.0</td>\n",
       "      <td>69,740.0</td>\n",
       "    </tr>\n",
       "    <tr>\n",
       "      <th>BILL_AMT6</th>\n",
       "      <td>8,322.0</td>\n",
       "      <td>117,308.0</td>\n",
       "      <td>390.0</td>\n",
       "      <td>190,396.0</td>\n",
       "      <td>56,411.0</td>\n",
       "    </tr>\n",
       "    <tr>\n",
       "      <th>PAY_AMT1</th>\n",
       "      <td>1,103.0</td>\n",
       "      <td>6,088.0</td>\n",
       "      <td>1,261.0</td>\n",
       "      <td>8,000.0</td>\n",
       "      <td>3,360.0</td>\n",
       "    </tr>\n",
       "    <tr>\n",
       "      <th>PAY_AMT2</th>\n",
       "      <td>1,123.0</td>\n",
       "      <td>5,677.0</td>\n",
       "      <td>1,665.0</td>\n",
       "      <td>6,700.0</td>\n",
       "      <td>3,000.0</td>\n",
       "    </tr>\n",
       "    <tr>\n",
       "      <th>PAY_AMT3</th>\n",
       "      <td>1,133.0</td>\n",
       "      <td>4,797.0</td>\n",
       "      <td>1,261.0</td>\n",
       "      <td>10,027.0</td>\n",
       "      <td>3,000.0</td>\n",
       "    </tr>\n",
       "    <tr>\n",
       "      <th>PAY_AMT4</th>\n",
       "      <td>291.0</td>\n",
       "      <td>15,414.0</td>\n",
       "      <td>1,261.0</td>\n",
       "      <td>6,700.0</td>\n",
       "      <td>4,000.0</td>\n",
       "    </tr>\n",
       "    <tr>\n",
       "      <th>PAY_AMT5</th>\n",
       "      <td>302.0</td>\n",
       "      <td>0.0</td>\n",
       "      <td>390.0</td>\n",
       "      <td>7,500.0</td>\n",
       "      <td>2,500.0</td>\n",
       "    </tr>\n",
       "    <tr>\n",
       "      <th>PAY_AMT6</th>\n",
       "      <td>1,000.0</td>\n",
       "      <td>2,330.0</td>\n",
       "      <td>390.0</td>\n",
       "      <td>7,000.0</td>\n",
       "      <td>8,000.0</td>\n",
       "    </tr>\n",
       "    <tr>\n",
       "      <th>default.payment.next.month</th>\n",
       "      <td>1.0</td>\n",
       "      <td>0.0</td>\n",
       "      <td>0.0</td>\n",
       "      <td>1.0</td>\n",
       "      <td>0.0</td>\n",
       "    </tr>\n",
       "  </tbody>\n",
       "</table>\n",
       "</div>"
      ],
      "text/plain": [
       "ID                            20953     20954    20955     20956     20957\n",
       "LIMIT_BAL                  10,000.0 140,000.0 50,000.0 270,000.0 290,000.0\n",
       "SEX                             1.0       1.0      1.0       1.0       1.0\n",
       "EDUCATION                       3.0       2.0      2.0       2.0       2.0\n",
       "MARRIAGE                        2.0       2.0      2.0       1.0       2.0\n",
       "AGE                            37.0      41.0     36.0      44.0      30.0\n",
       "PAY_0                           0.0       0.0     -1.0       2.0       0.0\n",
       "PAY_2                           0.0       0.0     -1.0       0.0       0.0\n",
       "PAY_3                           0.0       0.0     -1.0       0.0       0.0\n",
       "PAY_4                           0.0       0.0     -1.0       0.0       0.0\n",
       "PAY_5                           0.0       0.0     -1.0       0.0       0.0\n",
       "PAY_6                           0.0       2.0     -1.0       0.0       0.0\n",
       "BILL_AMT1                   4,950.0 185,948.0  1,261.0 187,352.0  65,369.0\n",
       "BILL_AMT2                   5,963.0 170,133.0  1,261.0 179,247.0  67,270.0\n",
       "BILL_AMT3                   6,983.0 155,737.0  1,665.0 180,535.0  65,357.0\n",
       "BILL_AMT4                   7,993.0 140,586.0  1,261.0 187,524.0  66,893.0\n",
       "BILL_AMT5                   8,151.0 136,641.0  1,261.0 185,895.0  69,740.0\n",
       "BILL_AMT6                   8,322.0 117,308.0    390.0 190,396.0  56,411.0\n",
       "PAY_AMT1                    1,103.0   6,088.0  1,261.0   8,000.0   3,360.0\n",
       "PAY_AMT2                    1,123.0   5,677.0  1,665.0   6,700.0   3,000.0\n",
       "PAY_AMT3                    1,133.0   4,797.0  1,261.0  10,027.0   3,000.0\n",
       "PAY_AMT4                      291.0  15,414.0  1,261.0   6,700.0   4,000.0\n",
       "PAY_AMT5                      302.0       0.0    390.0   7,500.0   2,500.0\n",
       "PAY_AMT6                    1,000.0   2,330.0    390.0   7,000.0   8,000.0\n",
       "default.payment.next.month      1.0       0.0      0.0       1.0       0.0"
      ]
     },
     "execution_count": 10,
     "metadata": {},
     "output_type": "execute_result"
    }
   ],
   "source": [
    "data[random.randint(0, len(data)):].head().transpose() # transpose it so we can see the values"
   ]
  },
  {
   "cell_type": "markdown",
   "metadata": {},
   "source": [
    "Potential Issue: There are 0s in the PAY_X (for X in (1,2,3,4,5,6)) columns, so the manual's explanation of that column can't be correct."
   ]
  },
  {
   "cell_type": "markdown",
   "metadata": {},
   "source": [
    "## Step 4) Summary Statistics"
   ]
  },
  {
   "cell_type": "markdown",
   "metadata": {},
   "source": [
    "This stage allows us to do a basic sanity check about the distribution of the data:"
   ]
  },
  {
   "cell_type": "code",
   "execution_count": 11,
   "metadata": {},
   "outputs": [
    {
     "data": {
      "text/html": [
       "<div>\n",
       "<style scoped>\n",
       "    .dataframe tbody tr th:only-of-type {\n",
       "        vertical-align: middle;\n",
       "    }\n",
       "\n",
       "    .dataframe tbody tr th {\n",
       "        vertical-align: top;\n",
       "    }\n",
       "\n",
       "    .dataframe thead th {\n",
       "        text-align: right;\n",
       "    }\n",
       "</style>\n",
       "<table border=\"1\" class=\"dataframe\">\n",
       "  <thead>\n",
       "    <tr style=\"text-align: right;\">\n",
       "      <th></th>\n",
       "      <th>count</th>\n",
       "      <th>mean</th>\n",
       "      <th>std</th>\n",
       "      <th>min</th>\n",
       "      <th>25%</th>\n",
       "      <th>50%</th>\n",
       "      <th>75%</th>\n",
       "      <th>max</th>\n",
       "    </tr>\n",
       "  </thead>\n",
       "  <tbody>\n",
       "    <tr>\n",
       "      <th>LIMIT_BAL</th>\n",
       "      <td>30,000.0</td>\n",
       "      <td>167,484.32266666667</td>\n",
       "      <td>129,747.66156719506</td>\n",
       "      <td>10,000.0</td>\n",
       "      <td>50,000.0</td>\n",
       "      <td>140,000.0</td>\n",
       "      <td>240,000.0</td>\n",
       "      <td>1,000,000.0</td>\n",
       "    </tr>\n",
       "    <tr>\n",
       "      <th>SEX</th>\n",
       "      <td>30,000.0</td>\n",
       "      <td>1.6037333333333332</td>\n",
       "      <td>0.4891291960904071</td>\n",
       "      <td>1.0</td>\n",
       "      <td>1.0</td>\n",
       "      <td>2.0</td>\n",
       "      <td>2.0</td>\n",
       "      <td>2.0</td>\n",
       "    </tr>\n",
       "    <tr>\n",
       "      <th>EDUCATION</th>\n",
       "      <td>30,000.0</td>\n",
       "      <td>1.8531333333333333</td>\n",
       "      <td>0.7903486597208212</td>\n",
       "      <td>0.0</td>\n",
       "      <td>1.0</td>\n",
       "      <td>2.0</td>\n",
       "      <td>2.0</td>\n",
       "      <td>6.0</td>\n",
       "    </tr>\n",
       "    <tr>\n",
       "      <th>MARRIAGE</th>\n",
       "      <td>30,000.0</td>\n",
       "      <td>1.5518666666666667</td>\n",
       "      <td>0.5219696006131538</td>\n",
       "      <td>0.0</td>\n",
       "      <td>1.0</td>\n",
       "      <td>2.0</td>\n",
       "      <td>2.0</td>\n",
       "      <td>3.0</td>\n",
       "    </tr>\n",
       "    <tr>\n",
       "      <th>AGE</th>\n",
       "      <td>30,000.0</td>\n",
       "      <td>35.4855</td>\n",
       "      <td>9.217904068090183</td>\n",
       "      <td>21.0</td>\n",
       "      <td>28.0</td>\n",
       "      <td>34.0</td>\n",
       "      <td>41.0</td>\n",
       "      <td>79.0</td>\n",
       "    </tr>\n",
       "    <tr>\n",
       "      <th>PAY_0</th>\n",
       "      <td>30,000.0</td>\n",
       "      <td>-0.0167</td>\n",
       "      <td>1.1238015279973212</td>\n",
       "      <td>-2.0</td>\n",
       "      <td>-1.0</td>\n",
       "      <td>0.0</td>\n",
       "      <td>0.0</td>\n",
       "      <td>8.0</td>\n",
       "    </tr>\n",
       "    <tr>\n",
       "      <th>PAY_2</th>\n",
       "      <td>30,000.0</td>\n",
       "      <td>-0.13376666666666667</td>\n",
       "      <td>1.19718597303439</td>\n",
       "      <td>-2.0</td>\n",
       "      <td>-1.0</td>\n",
       "      <td>0.0</td>\n",
       "      <td>0.0</td>\n",
       "      <td>8.0</td>\n",
       "    </tr>\n",
       "    <tr>\n",
       "      <th>PAY_3</th>\n",
       "      <td>30,000.0</td>\n",
       "      <td>-0.1662</td>\n",
       "      <td>1.1968675684467378</td>\n",
       "      <td>-2.0</td>\n",
       "      <td>-1.0</td>\n",
       "      <td>0.0</td>\n",
       "      <td>0.0</td>\n",
       "      <td>8.0</td>\n",
       "    </tr>\n",
       "    <tr>\n",
       "      <th>PAY_4</th>\n",
       "      <td>30,000.0</td>\n",
       "      <td>-0.22066666666666668</td>\n",
       "      <td>1.1691386224022984</td>\n",
       "      <td>-2.0</td>\n",
       "      <td>-1.0</td>\n",
       "      <td>0.0</td>\n",
       "      <td>0.0</td>\n",
       "      <td>8.0</td>\n",
       "    </tr>\n",
       "    <tr>\n",
       "      <th>PAY_5</th>\n",
       "      <td>30,000.0</td>\n",
       "      <td>-0.2662</td>\n",
       "      <td>1.1331874060026166</td>\n",
       "      <td>-2.0</td>\n",
       "      <td>-1.0</td>\n",
       "      <td>0.0</td>\n",
       "      <td>0.0</td>\n",
       "      <td>8.0</td>\n",
       "    </tr>\n",
       "    <tr>\n",
       "      <th>PAY_6</th>\n",
       "      <td>30,000.0</td>\n",
       "      <td>-0.2911</td>\n",
       "      <td>1.1499876256077741</td>\n",
       "      <td>-2.0</td>\n",
       "      <td>-1.0</td>\n",
       "      <td>0.0</td>\n",
       "      <td>0.0</td>\n",
       "      <td>8.0</td>\n",
       "    </tr>\n",
       "    <tr>\n",
       "      <th>BILL_AMT1</th>\n",
       "      <td>30,000.0</td>\n",
       "      <td>51,223.3309</td>\n",
       "      <td>73,635.86057552874</td>\n",
       "      <td>-165,580.0</td>\n",
       "      <td>3,558.75</td>\n",
       "      <td>22,381.5</td>\n",
       "      <td>67,091.0</td>\n",
       "      <td>964,511.0</td>\n",
       "    </tr>\n",
       "    <tr>\n",
       "      <th>BILL_AMT2</th>\n",
       "      <td>30,000.0</td>\n",
       "      <td>49,179.07516666667</td>\n",
       "      <td>71,173.76878252918</td>\n",
       "      <td>-69,777.0</td>\n",
       "      <td>2,984.75</td>\n",
       "      <td>21,200.0</td>\n",
       "      <td>64,006.25</td>\n",
       "      <td>983,931.0</td>\n",
       "    </tr>\n",
       "    <tr>\n",
       "      <th>BILL_AMT3</th>\n",
       "      <td>30,000.0</td>\n",
       "      <td>47,013.1548</td>\n",
       "      <td>69,349.38742703729</td>\n",
       "      <td>-157,264.0</td>\n",
       "      <td>2,666.25</td>\n",
       "      <td>20,088.5</td>\n",
       "      <td>60,164.75</td>\n",
       "      <td>1,664,089.0</td>\n",
       "    </tr>\n",
       "    <tr>\n",
       "      <th>BILL_AMT4</th>\n",
       "      <td>30,000.0</td>\n",
       "      <td>43,262.94896666666</td>\n",
       "      <td>64,332.85613391704</td>\n",
       "      <td>-170,000.0</td>\n",
       "      <td>2,326.75</td>\n",
       "      <td>19,052.0</td>\n",
       "      <td>54,506.0</td>\n",
       "      <td>891,586.0</td>\n",
       "    </tr>\n",
       "    <tr>\n",
       "      <th>BILL_AMT5</th>\n",
       "      <td>30,000.0</td>\n",
       "      <td>40,311.40096666667</td>\n",
       "      <td>60,797.155770264195</td>\n",
       "      <td>-81,334.0</td>\n",
       "      <td>1,763.0</td>\n",
       "      <td>18,104.5</td>\n",
       "      <td>50,190.5</td>\n",
       "      <td>927,171.0</td>\n",
       "    </tr>\n",
       "    <tr>\n",
       "      <th>BILL_AMT6</th>\n",
       "      <td>30,000.0</td>\n",
       "      <td>38,871.7604</td>\n",
       "      <td>59,554.10753674454</td>\n",
       "      <td>-339,603.0</td>\n",
       "      <td>1,256.0</td>\n",
       "      <td>17,071.0</td>\n",
       "      <td>49,198.25</td>\n",
       "      <td>961,664.0</td>\n",
       "    </tr>\n",
       "    <tr>\n",
       "      <th>PAY_AMT1</th>\n",
       "      <td>30,000.0</td>\n",
       "      <td>5,663.5805</td>\n",
       "      <td>16,563.280354026534</td>\n",
       "      <td>0.0</td>\n",
       "      <td>1,000.0</td>\n",
       "      <td>2,100.0</td>\n",
       "      <td>5,006.0</td>\n",
       "      <td>873,552.0</td>\n",
       "    </tr>\n",
       "    <tr>\n",
       "      <th>PAY_AMT2</th>\n",
       "      <td>30,000.0</td>\n",
       "      <td>5,921.1635</td>\n",
       "      <td>23,040.870402054872</td>\n",
       "      <td>0.0</td>\n",
       "      <td>833.0</td>\n",
       "      <td>2,009.0</td>\n",
       "      <td>5,000.0</td>\n",
       "      <td>1,684,259.0</td>\n",
       "    </tr>\n",
       "    <tr>\n",
       "      <th>PAY_AMT3</th>\n",
       "      <td>30,000.0</td>\n",
       "      <td>5,225.6815</td>\n",
       "      <td>17,606.96146980426</td>\n",
       "      <td>0.0</td>\n",
       "      <td>390.0</td>\n",
       "      <td>1,800.0</td>\n",
       "      <td>4,505.0</td>\n",
       "      <td>896,040.0</td>\n",
       "    </tr>\n",
       "    <tr>\n",
       "      <th>PAY_AMT4</th>\n",
       "      <td>30,000.0</td>\n",
       "      <td>4,826.076866666666</td>\n",
       "      <td>15,666.159744031342</td>\n",
       "      <td>0.0</td>\n",
       "      <td>296.0</td>\n",
       "      <td>1,500.0</td>\n",
       "      <td>4,013.25</td>\n",
       "      <td>621,000.0</td>\n",
       "    </tr>\n",
       "    <tr>\n",
       "      <th>PAY_AMT5</th>\n",
       "      <td>30,000.0</td>\n",
       "      <td>4,799.387633333334</td>\n",
       "      <td>15,278.30567914539</td>\n",
       "      <td>0.0</td>\n",
       "      <td>252.5</td>\n",
       "      <td>1,500.0</td>\n",
       "      <td>4,031.5</td>\n",
       "      <td>426,529.0</td>\n",
       "    </tr>\n",
       "    <tr>\n",
       "      <th>PAY_AMT6</th>\n",
       "      <td>30,000.0</td>\n",
       "      <td>5,215.502566666667</td>\n",
       "      <td>17,777.465775434066</td>\n",
       "      <td>0.0</td>\n",
       "      <td>117.75</td>\n",
       "      <td>1,500.0</td>\n",
       "      <td>4,000.0</td>\n",
       "      <td>528,666.0</td>\n",
       "    </tr>\n",
       "    <tr>\n",
       "      <th>default.payment.next.month</th>\n",
       "      <td>30,000.0</td>\n",
       "      <td>0.2212</td>\n",
       "      <td>0.4150618056909671</td>\n",
       "      <td>0.0</td>\n",
       "      <td>0.0</td>\n",
       "      <td>0.0</td>\n",
       "      <td>0.0</td>\n",
       "      <td>1.0</td>\n",
       "    </tr>\n",
       "  </tbody>\n",
       "</table>\n",
       "</div>"
      ],
      "text/plain": [
       "                              count                 mean                 std  \\\n",
       "LIMIT_BAL                  30,000.0  167,484.32266666667 129,747.66156719506   \n",
       "SEX                        30,000.0   1.6037333333333332  0.4891291960904071   \n",
       "EDUCATION                  30,000.0   1.8531333333333333  0.7903486597208212   \n",
       "MARRIAGE                   30,000.0   1.5518666666666667  0.5219696006131538   \n",
       "AGE                        30,000.0              35.4855   9.217904068090183   \n",
       "PAY_0                      30,000.0              -0.0167  1.1238015279973212   \n",
       "PAY_2                      30,000.0 -0.13376666666666667    1.19718597303439   \n",
       "PAY_3                      30,000.0              -0.1662  1.1968675684467378   \n",
       "PAY_4                      30,000.0 -0.22066666666666668  1.1691386224022984   \n",
       "PAY_5                      30,000.0              -0.2662  1.1331874060026166   \n",
       "PAY_6                      30,000.0              -0.2911  1.1499876256077741   \n",
       "BILL_AMT1                  30,000.0          51,223.3309  73,635.86057552874   \n",
       "BILL_AMT2                  30,000.0   49,179.07516666667  71,173.76878252918   \n",
       "BILL_AMT3                  30,000.0          47,013.1548  69,349.38742703729   \n",
       "BILL_AMT4                  30,000.0   43,262.94896666666  64,332.85613391704   \n",
       "BILL_AMT5                  30,000.0   40,311.40096666667 60,797.155770264195   \n",
       "BILL_AMT6                  30,000.0          38,871.7604  59,554.10753674454   \n",
       "PAY_AMT1                   30,000.0           5,663.5805 16,563.280354026534   \n",
       "PAY_AMT2                   30,000.0           5,921.1635 23,040.870402054872   \n",
       "PAY_AMT3                   30,000.0           5,225.6815  17,606.96146980426   \n",
       "PAY_AMT4                   30,000.0   4,826.076866666666 15,666.159744031342   \n",
       "PAY_AMT5                   30,000.0   4,799.387633333334  15,278.30567914539   \n",
       "PAY_AMT6                   30,000.0   5,215.502566666667 17,777.465775434066   \n",
       "default.payment.next.month 30,000.0               0.2212  0.4150618056909671   \n",
       "\n",
       "                                  min      25%       50%       75%         max  \n",
       "LIMIT_BAL                    10,000.0 50,000.0 140,000.0 240,000.0 1,000,000.0  \n",
       "SEX                               1.0      1.0       2.0       2.0         2.0  \n",
       "EDUCATION                         0.0      1.0       2.0       2.0         6.0  \n",
       "MARRIAGE                          0.0      1.0       2.0       2.0         3.0  \n",
       "AGE                              21.0     28.0      34.0      41.0        79.0  \n",
       "PAY_0                            -2.0     -1.0       0.0       0.0         8.0  \n",
       "PAY_2                            -2.0     -1.0       0.0       0.0         8.0  \n",
       "PAY_3                            -2.0     -1.0       0.0       0.0         8.0  \n",
       "PAY_4                            -2.0     -1.0       0.0       0.0         8.0  \n",
       "PAY_5                            -2.0     -1.0       0.0       0.0         8.0  \n",
       "PAY_6                            -2.0     -1.0       0.0       0.0         8.0  \n",
       "BILL_AMT1                  -165,580.0 3,558.75  22,381.5  67,091.0   964,511.0  \n",
       "BILL_AMT2                   -69,777.0 2,984.75  21,200.0 64,006.25   983,931.0  \n",
       "BILL_AMT3                  -157,264.0 2,666.25  20,088.5 60,164.75 1,664,089.0  \n",
       "BILL_AMT4                  -170,000.0 2,326.75  19,052.0  54,506.0   891,586.0  \n",
       "BILL_AMT5                   -81,334.0  1,763.0  18,104.5  50,190.5   927,171.0  \n",
       "BILL_AMT6                  -339,603.0  1,256.0  17,071.0 49,198.25   961,664.0  \n",
       "PAY_AMT1                          0.0  1,000.0   2,100.0   5,006.0   873,552.0  \n",
       "PAY_AMT2                          0.0    833.0   2,009.0   5,000.0 1,684,259.0  \n",
       "PAY_AMT3                          0.0    390.0   1,800.0   4,505.0   896,040.0  \n",
       "PAY_AMT4                          0.0    296.0   1,500.0  4,013.25   621,000.0  \n",
       "PAY_AMT5                          0.0    252.5   1,500.0   4,031.5   426,529.0  \n",
       "PAY_AMT6                          0.0   117.75   1,500.0   4,000.0   528,666.0  \n",
       "default.payment.next.month        0.0      0.0       0.0       0.0         1.0  "
      ]
     },
     "execution_count": 11,
     "metadata": {},
     "output_type": "execute_result"
    }
   ],
   "source": [
    "data.describe().transpose()"
   ]
  },
  {
   "cell_type": "markdown",
   "metadata": {},
   "source": [
    "Insights:\n",
    "* The means for the pay columns are increasing with time. That is, the mean of PAY_0 is greater than the mean of PAY_2 is greater than the mean of PAY_3... This indicates fewer payments being made on time with time. The standard deviation of them is also increasing with time, indicating the variability of repayment statuses is increasing.\n",
    "* The mean bill statements rise with time, as well as the bill standard deviations. This means the bill statements are increasing and their variability is also increasing.\n",
    "* The mean amount of previous payments (the PAY_AMT columns) increases, after decreasing initially from April to May (PAY_AMT6 to PAY_AMT5)."
   ]
  },
  {
   "cell_type": "markdown",
   "metadata": {},
   "source": [
    "Potential Issues:\n",
    "* The names PAY_0 and default.payment.next.month are problematic, PAY_0 because it should by PAY_1 and default.payment.next.month because it can be shorter\n",
    "* There are no values of 9.0 for the PAY columns as the manual says there should be. Also there are values of -2 and 0 for all of them when the manual says there shouldn't be. Maybe all the values are shifted by one?\n",
    "\n",
    "* Marriage has values of 0, which shouldn't be possible given our dataset description.\n",
    "* Education has values of 0, which shouldn't be possible given our dataset description.\n",
    "* We can have negative values for the BILL_AMT columns? Does this mean that we pre-paid our credit?"
   ]
  },
  {
   "cell_type": "markdown",
   "metadata": {},
   "source": [
    "### Fixing the Issues (Data Cleaning):"
   ]
  },
  {
   "cell_type": "markdown",
   "metadata": {},
   "source": [
    "#### Problem 1: Get rid of Bad Column Names"
   ]
  },
  {
   "cell_type": "code",
   "execution_count": 12,
   "metadata": {},
   "outputs": [],
   "source": [
    "## Rename columns\n",
    "data.rename(columns={'PAY_0': 'PAY_1', 'default.payment.next.month': 'default'}, inplace=True)"
   ]
  },
  {
   "cell_type": "markdown",
   "metadata": {},
   "source": [
    "#### Problem 2: Replace Negative Values with 0 in Pay_X columns"
   ]
  },
  {
   "cell_type": "markdown",
   "metadata": {},
   "source": [
    "To deal with with values for the PAY_X columns, a sensible solution is to convert all non-positive values to 0. The dataset description says that a value of -1 means \"pay duly\" and positive values represent a payment delay by that number of months. Therefore, converting -1 and -2 values to 0, and having 0 represent \"pay duly\" is logical."
   ]
  },
  {
   "cell_type": "code",
   "execution_count": 13,
   "metadata": {},
   "outputs": [],
   "source": [
    "for i in range(1,7):\n",
    "    data.loc[data[\"PAY_\" + str(i)] < 0, \"PAY_\" + str(i)] = 0"
   ]
  },
  {
   "cell_type": "markdown",
   "metadata": {},
   "source": [
    "#### Problem 3: Get rid of Values of 0 for Marriage"
   ]
  },
  {
   "cell_type": "markdown",
   "metadata": {},
   "source": [
    "A logical move is to group the 0 values with the \"Other\" values, coded as 3, so that is what we'll do:"
   ]
  },
  {
   "cell_type": "code",
   "execution_count": 14,
   "metadata": {},
   "outputs": [],
   "source": [
    "data.loc[data[\"MARRIAGE\"] == 0, 'MARRIAGE'] = 3"
   ]
  },
  {
   "cell_type": "markdown",
   "metadata": {},
   "source": [
    "\"Other\" for marriage can possibly refer to divorced, widowed, seperated, etc."
   ]
  },
  {
   "cell_type": "markdown",
   "metadata": {},
   "source": [
    "#### Problem 4: Get rid of 0 Values for Education"
   ]
  },
  {
   "cell_type": "markdown",
   "metadata": {},
   "source": [
    "Currently coded as:\n",
    "EDUCATION: (1=graduate school, 2=university, 3=high school, 4=others, 5=unknown, 6=unknown)"
   ]
  },
  {
   "cell_type": "markdown",
   "metadata": {},
   "source": [
    "We see that 0 is not even in the dataset desciption, and we have 2 values for unknown. So a logical move is to convert the 0, 5 and 6 values to 4, which is what we'll do. \"Other\" can  refer to education less than high school or perhaps vocational training."
   ]
  },
  {
   "cell_type": "code",
   "execution_count": 15,
   "metadata": {},
   "outputs": [],
   "source": [
    "replace = (data[\"EDUCATION\"] == 0) | (data[\"EDUCATION\"] == 5) | (data[\"EDUCATION\"] == 6) \n",
    "data.loc[replace,'EDUCATION'] = 4"
   ]
  },
  {
   "cell_type": "markdown",
   "metadata": {},
   "source": [
    "#### Problem 5: Negative Values in BILL_AMT Columns"
   ]
  },
  {
   "cell_type": "markdown",
   "metadata": {},
   "source": [
    "It's possible for these values to represent people who choose to pre-pay their cards early, so this doesn't have to be an error."
   ]
  },
  {
   "cell_type": "markdown",
   "metadata": {},
   "source": [
    "## Step 5) Plotting"
   ]
  },
  {
   "cell_type": "markdown",
   "metadata": {},
   "source": [
    "In this section, we plot both basic histograms, and relationships between columns."
   ]
  },
  {
   "cell_type": "code",
   "execution_count": 16,
   "metadata": {},
   "outputs": [],
   "source": [
    "%matplotlib inline\n",
    "import seaborn as sns"
   ]
  },
  {
   "cell_type": "code",
   "execution_count": 17,
   "metadata": {},
   "outputs": [
    {
     "data": {
      "text/plain": [
       "AGE        MARRIAGE       -0.4120014367553708\n",
       "MARRIAGE   AGE            -0.4120014367553708\n",
       "LIMIT_BAL  EDUCATION     -0.23108753519666203\n",
       "EDUCATION  LIMIT_BAL     -0.23108753519666203\n",
       "PAY_2      LIMIT_BAL       -0.197135865439187\n",
       "LIMIT_BAL  PAY_2           -0.197135865439187\n",
       "PAY_3      LIMIT_BAL     -0.19132332903738378\n",
       "LIMIT_BAL  PAY_3         -0.19132332903738378\n",
       "PAY_4      LIMIT_BAL     -0.18062940872051259\n",
       "LIMIT_BAL  PAY_4         -0.18062940872051259\n",
       "PAY_1      LIMIT_BAL     -0.17074460499211994\n",
       "LIMIT_BAL  PAY_1         -0.17074460499211994\n",
       "PAY_5      LIMIT_BAL     -0.17004461548219083\n",
       "LIMIT_BAL  PAY_5         -0.17004461548219083\n",
       "PAY_6      LIMIT_BAL      -0.1678202893854305\n",
       "LIMIT_BAL  PAY_6          -0.1678202893854305\n",
       "default    LIMIT_BAL      -0.1535198763934634\n",
       "LIMIT_BAL  default        -0.1535198763934634\n",
       "EDUCATION  MARRIAGE       -0.1367969413360245\n",
       "MARRIAGE   EDUCATION      -0.1367969413360245\n",
       "LIMIT_BAL  MARRIAGE      -0.11101219257995855\n",
       "MARRIAGE   LIMIT_BAL     -0.11101219257995855\n",
       "PAY_AMT1   PAY_2         -0.09747485890830314\n",
       "PAY_2      PAY_AMT1      -0.09747485890830314\n",
       "SEX        AGE           -0.09087364652734889\n",
       "AGE        SEX           -0.09087364652734889\n",
       "PAY_1      PAY_AMT1       -0.0791769039883626\n",
       "PAY_AMT1   PAY_1          -0.0791769039883626\n",
       "PAY_AMT3   PAY_4         -0.07406375011306711\n",
       "PAY_4      PAY_AMT3      -0.07406375011306711\n",
       "PAY_3      PAY_AMT2       -0.0736696801873797\n",
       "PAY_AMT2   PAY_3          -0.0736696801873797\n",
       "PAY_AMT1   default       -0.07292948777784351\n",
       "default    PAY_AMT1      -0.07292948777784351\n",
       "PAY_AMT5   PAY_6         -0.06687459009409255\n",
       "PAY_6      PAY_AMT5      -0.06687459009409255\n",
       "PAY_AMT4   PAY_5         -0.06594260032586167\n",
       "PAY_5      PAY_AMT4      -0.06594260032586167\n",
       "PAY_AMT3   PAY_1         -0.06261993235872236\n",
       "PAY_1      PAY_AMT3      -0.06261993235872236\n",
       "           PAY_AMT4      -0.06188649063533553\n",
       "PAY_AMT4   PAY_1         -0.06188649063533553\n",
       "PAY_AMT3   PAY_2          -0.0598645111239086\n",
       "PAY_2      PAY_AMT3       -0.0598645111239086\n",
       "PAY_AMT2   default       -0.05857870658290595\n",
       "default    PAY_AMT2      -0.05857870658290595\n",
       "PAY_AMT3   PAY_3         -0.05770218116060689\n",
       "PAY_3      PAY_AMT3      -0.05770218116060689\n",
       "PAY_1      PAY_AMT2      -0.05718852124242995\n",
       "PAY_AMT2   PAY_1         -0.05718852124242995\n",
       "PAY_AMT4   default      -0.056827400892889145\n",
       "default    PAY_AMT4     -0.056827400892889145\n",
       "PAY_AMT3   default       -0.05625035099032396\n",
       "default    PAY_AMT3      -0.05625035099032396\n",
       "PAY_4      PAY_AMT4      -0.05530477070234535\n",
       "PAY_AMT4   PAY_4         -0.05530477070234535\n",
       "default    PAY_AMT5      -0.05512351562108079\n",
       "PAY_AMT5   default       -0.05512351562108079\n",
       "PAY_2      PAY_AMT2      -0.05483825698088988\n",
       "PAY_AMT2   PAY_2         -0.05483825698088988\n",
       "PAY_4      PAY_AMT1      -0.05448435642564215\n",
       "PAY_AMT1   PAY_4         -0.05448435642564215\n",
       "PAY_AMT4   PAY_2         -0.05398056000690605\n",
       "PAY_2      PAY_AMT4      -0.05398056000690605\n",
       "PAY_3      PAY_AMT4     -0.053849459940486094\n",
       "PAY_AMT4   PAY_3        -0.053849459940486094\n",
       "PAY_1      PAY_AMT5      -0.05378356979996304\n",
       "PAY_AMT5   PAY_1         -0.05378356979996304\n",
       "PAY_AMT1   PAY_5         -0.05369185003181526\n",
       "PAY_5      PAY_AMT1      -0.05369185003181526\n",
       "default    PAY_AMT6     -0.053183340326129626\n",
       "PAY_AMT6   default      -0.053183340326129626\n",
       "PAY_AMT5   PAY_4         -0.05273150452497297\n",
       "PAY_4      PAY_AMT5      -0.05273150452497297\n",
       "PAY_AMT5   PAY_5         -0.05181529341339696\n",
       "PAY_5      PAY_AMT5      -0.05181529341339696\n",
       "PAY_3      PAY_AMT5     -0.050804579471824395\n",
       "PAY_AMT5   PAY_3        -0.050804579471824395\n",
       "PAY_AMT6   PAY_4         -0.04882816494051245\n",
       "PAY_4      PAY_AMT6      -0.04882816494051245\n",
       "PAY_AMT6   PAY_1         -0.04873344723902262\n",
       "PAY_1      PAY_AMT6      -0.04873344723902262\n",
       "PAY_2      PAY_AMT5      -0.04871398823052001\n",
       "PAY_AMT5   PAY_2         -0.04871398823052001\n",
       "PAY_AMT6   PAY_3         -0.04844251514451123\n",
       "PAY_3      PAY_AMT6      -0.04844251514451123\n",
       "PAY_6      PAY_AMT1      -0.04780390484529262\n",
       "PAY_AMT1   PAY_6         -0.04780390484529262\n",
       "PAY_5      PAY_AMT6      -0.04610965892369003\n",
       "PAY_AMT6   PAY_5         -0.04610965892369003\n",
       "           PAY_6        -0.045358351147439066\n",
       "PAY_6      PAY_AMT6     -0.045358351147439066\n",
       "EDUCATION  PAY_AMT5     -0.045138449495253224\n",
       "PAY_AMT5   EDUCATION    -0.045138449495253224\n",
       "SEX        PAY_2         -0.04475019083281852\n",
       "PAY_2      SEX           -0.04475019083281852\n",
       "EDUCATION  PAY_AMT3     -0.044293209298820385\n",
       "PAY_AMT3   EDUCATION    -0.044293209298820385\n",
       "EDUCATION  PAY_AMT6      -0.04406104226159377\n",
       "PAY_AMT6   EDUCATION     -0.04406104226159377\n",
       "PAY_2      PAY_AMT6      -0.04309863953656528\n",
       "PAY_AMT6   PAY_2         -0.04309863953656528\n",
       "PAY_3      SEX           -0.04122672270306637\n",
       "SEX        PAY_3         -0.04122672270306637\n",
       "EDUCATION  PAY_AMT1      -0.04108804992260187\n",
       "PAY_AMT1   EDUCATION     -0.04108804992260187\n",
       "PAY_AMT4   EDUCATION     -0.04094906212524258\n",
       "EDUCATION  PAY_AMT4      -0.04094906212524258\n",
       "PAY_AMT3   PAY_6         -0.04015993805919163\n",
       "PAY_6      PAY_AMT3      -0.04015993805919163\n",
       "default    SEX           -0.03996057770542914\n",
       "SEX        default       -0.03996057770542914\n",
       "PAY_6      PAY_AMT2      -0.03986771541921717\n",
       "PAY_AMT2   PAY_6         -0.03986771541921717\n",
       "PAY_4      SEX          -0.039736558570831214\n",
       "SEX        PAY_4        -0.039736558570831214\n",
       "PAY_5      PAY_AMT2      -0.03958557857042858\n",
       "PAY_AMT2   PAY_5         -0.03958557857042858\n",
       "PAY_3      PAY_AMT1     -0.039356118468634196\n",
       "PAY_AMT1   PAY_3        -0.039356118468634196\n",
       "PAY_5      SEX           -0.03853322554820687\n",
       "SEX        PAY_5         -0.03853322554820687\n",
       "PAY_5      PAY_AMT3      -0.03726995683842266\n",
       "PAY_AMT3   PAY_5         -0.03726995683842266\n",
       "PAY_AMT2   PAY_4        -0.036876990197918944\n",
       "PAY_4      PAY_AMT2     -0.036876990197918944\n",
       "PAY_1      SEX           -0.03447499006473983\n",
       "SEX        PAY_1         -0.03447499006473983\n",
       "           BILL_AMT1     -0.03364186958913818\n",
       "BILL_AMT1  SEX           -0.03364186958913818\n",
       "EDUCATION  PAY_AMT2     -0.032793022392360566\n",
       "PAY_AMT2   EDUCATION    -0.032793022392360566\n",
       "SEX        PAY_6         -0.03206123133656138\n",
       "PAY_6      SEX           -0.03206123133656138\n",
       "BILL_AMT2  SEX          -0.031183472229657738\n",
       "SEX        BILL_AMT2    -0.031183472229657738\n",
       "PAY_6      PAY_AMT4     -0.030459846409150042\n",
       "PAY_AMT4   PAY_6        -0.030459846409150042\n",
       "MARRIAGE   BILL_AMT5     -0.02926955708738026\n",
       "BILL_AMT5  MARRIAGE      -0.02926955708738026\n",
       "BILL_AMT3  MARRIAGE      -0.02908221985889099\n",
       "MARRIAGE   BILL_AMT3     -0.02908221985889099\n",
       "           SEX          -0.028521803811571204\n",
       "SEX        MARRIAGE     -0.028521803811571204\n",
       "MARRIAGE   BILL_AMT1    -0.027832485893459373\n",
       "BILL_AMT1  MARRIAGE     -0.027832485893459373\n",
       "MARRIAGE   default       -0.02757470615446816\n",
       "default    MARRIAGE      -0.02757470615446816\n",
       "MARRIAGE   BILL_AMT4    -0.027274078444246806\n",
       "BILL_AMT4  MARRIAGE     -0.027274078444246806\n",
       "MARRIAGE   BILL_AMT2    -0.025294286262303903\n",
       "BILL_AMT2  MARRIAGE     -0.025294286262303903\n",
       "BILL_AMT1  PAY_4        -0.025184134095582837\n",
       "PAY_4      BILL_AMT1    -0.025184134095582837\n",
       "BILL_AMT6  MARRIAGE     -0.025065588600791416\n",
       "MARRIAGE   BILL_AMT6    -0.025065588600791416\n",
       "SEX        BILL_AMT3    -0.024563311681395073\n",
       "BILL_AMT3  SEX          -0.024563311681395073\n",
       "BILL_AMT4  SEX          -0.021879679073477817\n",
       "SEX        BILL_AMT4    -0.021879679073477817\n",
       "PAY_3      BILL_AMT1    -0.020585938816042804\n",
       "BILL_AMT1  PAY_3        -0.020585938816042804\n",
       "           default       -0.01964419714321997\n",
       "default    BILL_AMT1     -0.01964419714321997\n",
       "BILL_AMT1  PAY_6        -0.019581266507629997\n",
       "PAY_6      BILL_AMT1    -0.019581266507629997\n",
       "BILL_AMT1  PAY_5         -0.01858111049909082\n",
       "PAY_5      BILL_AMT1     -0.01858111049909082\n",
       "BILL_AMT5  SEX          -0.017005180187320643\n",
       "SEX        BILL_AMT5    -0.017005180187320643\n",
       "AGE        PAY_6        -0.016947879946765502\n",
       "PAY_6      AGE          -0.016947879946765502\n",
       "SEX        BILL_AMT6    -0.016733126348154406\n",
       "BILL_AMT6  SEX          -0.016733126348154406\n",
       "PAY_3      AGE          -0.014265539116875696\n",
       "AGE        PAY_3        -0.014265539116875696\n",
       "BILL_AMT2  default      -0.014193218088214877\n",
       "default    BILL_AMT2    -0.014193218088214877\n",
       "BILL_AMT3  default      -0.014075518043213994\n",
       "default    BILL_AMT3    -0.014075518043213994\n",
       "MARRIAGE   PAY_AMT4        -0.013969985412685\n",
       "PAY_AMT4   MARRIAGE        -0.013969985412685\n",
       "AGE        PAY_5        -0.013277340477268541\n",
       "PAY_5      AGE          -0.013277340477268541\n",
       "EDUCATION  BILL_AMT6    -0.012646400434337459\n",
       "BILL_AMT6  EDUCATION    -0.012646400434337459\n",
       "BILL_AMT2  PAY_4        -0.012569311475128056\n",
       "PAY_4      BILL_AMT2    -0.012569311475128056\n",
       "BILL_AMT5  EDUCATION    -0.012438555572408793\n",
       "EDUCATION  BILL_AMT5    -0.012438555572408793\n",
       "PAY_1      MARRIAGE     -0.011551314364302154\n",
       "MARRIAGE   PAY_1        -0.011551314364302154\n",
       "default    BILL_AMT4    -0.010156495880289025\n",
       "BILL_AMT4  default      -0.010156495880289025\n",
       "BILL_AMT2  PAY_6         -0.00979015003507878\n",
       "PAY_6      BILL_AMT2     -0.00979015003507878\n",
       "MARRIAGE   PAY_AMT2     -0.009512563828390557\n",
       "PAY_AMT2   MARRIAGE     -0.009512563828390557\n",
       "MARRIAGE   PAY_2         -0.00927546549279614\n",
       "PAY_2      MARRIAGE      -0.00927546549279614\n",
       "AGE        PAY_2        -0.008774405146670347\n",
       "PAY_2      AGE          -0.008774405146670347\n",
       "PAY_5      BILL_AMT2    -0.008614136353952874\n",
       "BILL_AMT2  PAY_5        -0.008614136353952874\n",
       "PAY_AMT3   SEX          -0.008596624911740208\n",
       "SEX        PAY_AMT3     -0.008596624911740208\n",
       "MARRIAGE   PAY_AMT6     -0.008382574212251696\n",
       "PAY_AMT6   MARRIAGE     -0.008382574212251696\n",
       "AGE        PAY_4        -0.007288186600398782\n",
       "PAY_4      AGE          -0.007288186600398782\n",
       "default    BILL_AMT5    -0.006760463841014325\n",
       "BILL_AMT5  default      -0.006760463841014325\n",
       "EDUCATION  BILL_AMT4   -0.0061307731594096035\n",
       "BILL_AMT4  EDUCATION   -0.0061307731594096035\n",
       "BILL_AMT6  default      -0.005372314914815026\n",
       "default    BILL_AMT6    -0.005372314914815026\n",
       "MARRIAGE   PAY_AMT1     -0.004652635483730324\n",
       "PAY_AMT1   MARRIAGE     -0.004652635483730324\n",
       "PAY_AMT3   MARRIAGE     -0.004249735871163225\n",
       "MARRIAGE   PAY_AMT3     -0.004249735871163225\n",
       "PAY_4      MARRIAGE    -0.0030290655063523065\n",
       "MARRIAGE   PAY_4       -0.0030290655063523065\n",
       "PAY_AMT5   MARRIAGE     -0.003019324140772143\n",
       "MARRIAGE   PAY_AMT5     -0.003019324140772143\n",
       "SEX        PAY_AMT6    -0.0027660222828912234\n",
       "PAY_AMT6   SEX         -0.0027660222828912234\n",
       "PAY_5      MARRIAGE    -0.0024974390402898775\n",
       "MARRIAGE   PAY_5       -0.0024974390402898775\n",
       "SEX        PAY_AMT4    -0.0022289715070052205\n",
       "PAY_AMT4   SEX         -0.0022289715070052205\n",
       "PAY_AMT5   SEX         -0.0016671618004731178\n",
       "SEX        PAY_AMT5    -0.0016671618004731178\n",
       "AGE        PAY_1       -0.0014468358896792654\n",
       "PAY_1      AGE         -0.0014468358896792654\n",
       "SEX        PAY_AMT2    -0.0013909096590862312\n",
       "PAY_AMT2   SEX         -0.0013909096590862312\n",
       "PAY_3      BILL_AMT2   -0.0009677906504337743\n",
       "BILL_AMT2  PAY_3       -0.0009677906504337743\n",
       "BILL_AMT1  PAY_1       -0.0008189377102858168\n",
       "PAY_1      BILL_AMT1   -0.0008189377102858168\n",
       "PAY_AMT1   SEX         -0.0002424545629413491\n",
       "SEX        PAY_AMT1    -0.0002424545629413491\n",
       "BILL_AMT3  PAY_6        0.0016908044344585596\n",
       "PAY_6      BILL_AMT3    0.0016908044344585596\n",
       "BILL_AMT3  PAY_3         0.002446859605038476\n",
       "PAY_3      BILL_AMT3     0.002446859605038476\n",
       "           MARRIAGE      0.002556463438941028\n",
       "MARRIAGE   PAY_3         0.002556463438941028\n",
       "BILL_AMT3  PAY_4        0.0026700557673252317\n",
       "PAY_4      BILL_AMT3    0.0026700557673252317\n",
       "                                ...          \n",
       "PAY_5      BILL_AMT6      0.04261622484781296\n",
       "BILL_AMT6  PAY_5          0.04261622484781296\n",
       "           PAY_6          0.04601213802094406\n",
       "PAY_6      BILL_AMT6      0.04601213802094406\n",
       "AGE        BILL_AMT6     0.047612677990511616\n",
       "BILL_AMT6  AGE           0.047612677990511616\n",
       "BILL_AMT5  AGE            0.04934504811261162\n",
       "AGE        BILL_AMT5      0.04934504811261162\n",
       "EDUCATION  PAY_4         0.051208675193739575\n",
       "PAY_4      EDUCATION     0.051208675193739575\n",
       "BILL_AMT4  AGE            0.05135309324331977\n",
       "AGE        BILL_AMT4      0.05135309324331977\n",
       "EDUCATION  PAY_3         0.053057650728878185\n",
       "PAY_3      EDUCATION     0.053057650728878185\n",
       "AGE        BILL_AMT3     0.053709705178658994\n",
       "BILL_AMT3  AGE           0.053709705178658994\n",
       "BILL_AMT2  AGE            0.05428307435034137\n",
       "AGE        BILL_AMT2      0.05428307435034137\n",
       "PAY_1      EDUCATION      0.05593747551566717\n",
       "EDUCATION  PAY_1          0.05593747551566717\n",
       "AGE        BILL_AMT1      0.05623853326056632\n",
       "BILL_AMT1  AGE            0.05623853326056632\n",
       "EDUCATION  PAY_2          0.06273914406215675\n",
       "PAY_2      EDUCATION      0.06273914406215675\n",
       "BILL_AMT1  PAY_AMT2       0.09935503497277853\n",
       "PAY_AMT2   BILL_AMT1      0.09935503497277853\n",
       "BILL_AMT2  PAY_AMT2       0.10085087751754053\n",
       "PAY_AMT2   BILL_AMT2      0.10085087751754053\n",
       "PAY_AMT6   BILL_AMT6      0.11549416685165832\n",
       "BILL_AMT6  PAY_AMT6       0.11549416685165832\n",
       "PAY_AMT3   BILL_AMT3      0.13001118162440695\n",
       "BILL_AMT3  PAY_AMT3       0.13001118162440695\n",
       "BILL_AMT4  PAY_AMT4        0.1301914077878168\n",
       "PAY_AMT4   BILL_AMT4       0.1301914077878168\n",
       "BILL_AMT1  PAY_AMT1       0.14027727757531827\n",
       "PAY_AMT1   BILL_AMT1      0.14027727757531827\n",
       "PAY_AMT5   BILL_AMT5      0.14157417995959912\n",
       "BILL_AMT5  PAY_AMT5       0.14157417995959912\n",
       "BILL_AMT3  PAY_AMT4       0.14340460499244492\n",
       "PAY_AMT4   BILL_AMT3      0.14340460499244492\n",
       "AGE        LIMIT_BAL      0.14471279755733898\n",
       "LIMIT_BAL  AGE            0.14471279755733898\n",
       "BILL_AMT2  PAY_AMT4       0.14739810422001587\n",
       "PAY_AMT4   BILL_AMT2      0.14739810422001587\n",
       "PAY_AMT1   PAY_AMT5       0.14845927501532108\n",
       "PAY_AMT5   PAY_AMT1       0.14845927501532108\n",
       "BILL_AMT2  PAY_AMT3       0.15071819370166342\n",
       "PAY_AMT3   BILL_AMT2      0.15071819370166342\n",
       "PAY_AMT4   PAY_AMT5       0.15183043582616415\n",
       "PAY_AMT5   PAY_AMT4       0.15183043582616415\n",
       "           PAY_AMT6       0.15489552525960384\n",
       "PAY_AMT6   PAY_AMT5       0.15489552525960384\n",
       "BILL_AMT1  PAY_AMT3         0.156887138475675\n",
       "PAY_AMT3   BILL_AMT1        0.156887138475675\n",
       "PAY_AMT2   PAY_AMT6       0.15763391627235926\n",
       "PAY_AMT6   PAY_AMT2       0.15763391627235926\n",
       "           PAY_AMT4       0.15783391560138624\n",
       "PAY_AMT4   PAY_AMT6       0.15783391560138624\n",
       "PAY_AMT5   BILL_AMT2       0.1579574116239592\n",
       "BILL_AMT2  PAY_AMT5        0.1579574116239592\n",
       "BILL_AMT1  PAY_AMT4       0.15830253328354743\n",
       "PAY_AMT4   BILL_AMT1      0.15830253328354743\n",
       "PAY_AMT5   PAY_AMT3        0.1592137203086918\n",
       "PAY_AMT3   PAY_AMT5        0.1592137203086918\n",
       "BILL_AMT4  PAY_AMT5       0.16043303762898942\n",
       "PAY_AMT5   BILL_AMT4      0.16043303762898942\n",
       "PAY_AMT6   PAY_AMT3       0.16274003329184034\n",
       "PAY_AMT3   PAY_AMT6       0.16274003329184034\n",
       "PAY_AMT6   BILL_AMT5      0.16418445035362986\n",
       "BILL_AMT5  PAY_AMT6       0.16418445035362986\n",
       "PAY_AMT5   BILL_AMT1      0.16702571208290615\n",
       "BILL_AMT1  PAY_AMT5       0.16702571208290615\n",
       "PAY_AMT2   BILL_AMT6      0.17266293741805372\n",
       "BILL_AMT6  PAY_AMT2       0.17266293741805372\n",
       "BILL_AMT2  PAY_AMT6       0.17425616563434684\n",
       "PAY_AMT6   BILL_AMT2      0.17425616563434684\n",
       "BILL_AMT4  PAY_AMT6       0.17763699418675602\n",
       "PAY_AMT6   BILL_AMT4      0.17763699418675602\n",
       "PAY_AMT2   LIMIT_BAL       0.1784079536837089\n",
       "LIMIT_BAL  PAY_AMT2        0.1784079536837089\n",
       "BILL_AMT1  PAY_AMT6       0.17934112200690228\n",
       "PAY_AMT6   BILL_AMT1      0.17934112200690228\n",
       "PAY_AMT5   BILL_AMT3       0.1797123504064784\n",
       "BILL_AMT3  PAY_AMT5        0.1797123504064784\n",
       "PAY_AMT2   PAY_AMT4       0.18010674364564283\n",
       "PAY_AMT4   PAY_AMT2       0.18010674364564283\n",
       "PAY_AMT2   PAY_AMT5       0.18090775259419362\n",
       "PAY_AMT5   PAY_AMT2       0.18090775259419362\n",
       "BILL_AMT5  PAY_AMT2        0.1812464910523023\n",
       "PAY_AMT2   BILL_AMT5       0.1812464910523023\n",
       "BILL_AMT3  PAY_AMT6       0.18232596615205957\n",
       "PAY_AMT6   BILL_AMT3      0.18232596615205957\n",
       "EDUCATION  AGE            0.18243429685768472\n",
       "AGE        EDUCATION      0.18243429685768472\n",
       "PAY_AMT6   PAY_AMT1       0.18573525544574024\n",
       "PAY_AMT1   PAY_AMT6       0.18573525544574024\n",
       "LIMIT_BAL  PAY_AMT1       0.19523591523218456\n",
       "PAY_AMT1   LIMIT_BAL      0.19523591523218456\n",
       "           PAY_AMT4        0.1995579311706692\n",
       "PAY_AMT4   PAY_AMT1        0.1995579311706692\n",
       "BILL_AMT6  PAY_AMT1       0.19996500616338114\n",
       "PAY_AMT1   BILL_AMT6      0.19996500616338114\n",
       "LIMIT_BAL  PAY_AMT4       0.20324241022461373\n",
       "PAY_AMT4   LIMIT_BAL      0.20324241022461373\n",
       "PAY_AMT2   BILL_AMT4      0.20756372904210446\n",
       "BILL_AMT4  PAY_AMT2       0.20756372904210446\n",
       "LIMIT_BAL  PAY_AMT3       0.21016674772340774\n",
       "PAY_AMT3   LIMIT_BAL      0.21016674772340774\n",
       "PAY_AMT4   PAY_AMT3       0.21632509170083622\n",
       "PAY_AMT3   PAY_AMT4       0.21632509170083622\n",
       "PAY_AMT1   BILL_AMT5      0.21703082377803495\n",
       "BILL_AMT5  PAY_AMT1       0.21703082377803495\n",
       "LIMIT_BAL  PAY_AMT5       0.21720243239551573\n",
       "PAY_AMT5   LIMIT_BAL      0.21720243239551573\n",
       "LIMIT_BAL  PAY_AMT6        0.2195953686044145\n",
       "PAY_AMT6   LIMIT_BAL       0.2195953686044145\n",
       "BILL_AMT4  PAY_AMT1       0.23301185215341472\n",
       "PAY_AMT1   BILL_AMT4      0.23301185215341472\n",
       "BILL_AMT6  PAY_AMT3        0.2337697933269198\n",
       "PAY_AMT3   BILL_AMT6       0.2337697933269198\n",
       "BILL_AMT3  PAY_AMT1        0.2443352376081392\n",
       "PAY_AMT1   BILL_AMT3       0.2443352376081392\n",
       "PAY_6      default        0.24443727769509294\n",
       "default    PAY_6          0.24443727769509294\n",
       "PAY_AMT2   PAY_AMT3       0.24477045029288258\n",
       "PAY_AMT3   PAY_AMT2       0.24477045029288258\n",
       "PAY_AMT4   BILL_AMT6      0.25023682493343924\n",
       "BILL_AMT6  PAY_AMT4       0.25023682493343924\n",
       "PAY_AMT3   PAY_AMT1       0.25219113895238043\n",
       "PAY_AMT1   PAY_AMT3       0.25219113895238043\n",
       "BILL_AMT5  PAY_AMT3        0.2523048617306058\n",
       "PAY_AMT3   BILL_AMT5       0.2523048617306058\n",
       "PAY_5      default         0.2608502900490302\n",
       "default    PAY_5           0.2608502900490302\n",
       "           PAY_4           0.2690554462141356\n",
       "PAY_4      default         0.2690554462141356\n",
       "BILL_AMT2  LIMIT_BAL      0.27831436399777376\n",
       "LIMIT_BAL  BILL_AMT2      0.27831436399777376\n",
       "PAY_AMT1   BILL_AMT2      0.28036535701408555\n",
       "BILL_AMT2  PAY_AMT1       0.28036535701408555\n",
       "LIMIT_BAL  BILL_AMT3      0.28323578358169615\n",
       "BILL_AMT3  LIMIT_BAL      0.28323578358169615\n",
       "BILL_AMT1  LIMIT_BAL       0.2854298649650024\n",
       "LIMIT_BAL  BILL_AMT1       0.2854298649650024\n",
       "PAY_AMT1   PAY_AMT2        0.2855755286868565\n",
       "PAY_AMT2   PAY_AMT1        0.2855755286868565\n",
       "default    PAY_3           0.2869993895248475\n",
       "PAY_3      default         0.2869993895248475\n",
       "BILL_AMT6  LIMIT_BAL       0.2903889506479491\n",
       "LIMIT_BAL  BILL_AMT6       0.2903889506479491\n",
       "PAY_AMT4   BILL_AMT5        0.293118463184434\n",
       "BILL_AMT5  PAY_AMT4         0.293118463184434\n",
       "BILL_AMT4  LIMIT_BAL      0.29398762371600184\n",
       "LIMIT_BAL  BILL_AMT4      0.29398762371600184\n",
       "           BILL_AMT5       0.2955623376582501\n",
       "BILL_AMT5  LIMIT_BAL       0.2955623376582501\n",
       "BILL_AMT4  PAY_AMT3        0.3000225291116425\n",
       "PAY_AMT3   BILL_AMT4       0.3000225291116425\n",
       "PAY_AMT5   BILL_AMT6      0.30772888950112604\n",
       "BILL_AMT6  PAY_AMT5       0.30772888950112604\n",
       "PAY_AMT2   BILL_AMT3      0.31693597717969435\n",
       "BILL_AMT3  PAY_AMT2       0.31693597717969435\n",
       "PAY_2      default         0.3270930793674196\n",
       "default    PAY_2           0.3270930793674196\n",
       "PAY_6      PAY_1           0.3738045571750474\n",
       "PAY_1      PAY_6           0.3738045571750474\n",
       "           default            0.3960191707577\n",
       "default    PAY_1              0.3960191707577\n",
       "PAY_2      PAY_6           0.4070860651853456\n",
       "PAY_6      PAY_2           0.4070860651853456\n",
       "PAY_1      PAY_5           0.4244733990755022\n",
       "PAY_5      PAY_1           0.4244733990755022\n",
       "PAY_1      PAY_4          0.46022436789029314\n",
       "PAY_4      PAY_1          0.46022436789029314\n",
       "PAY_5      PAY_2          0.46271748173224514\n",
       "PAY_2      PAY_5          0.46271748173224514\n",
       "PAY_3      PAY_6           0.4928266325951435\n",
       "PAY_6      PAY_3           0.4928266325951435\n",
       "PAY_2      PAY_4           0.5127728528787494\n",
       "PAY_4      PAY_2           0.5127728528787494\n",
       "PAY_1      PAY_3           0.5169696606571565\n",
       "PAY_3      PAY_1           0.5169696606571565\n",
       "           PAY_5           0.5514297602967073\n",
       "PAY_5      PAY_3           0.5514297602967073\n",
       "PAY_4      PAY_6           0.6028754765883724\n",
       "PAY_6      PAY_4           0.6028754765883724\n",
       "PAY_3      PAY_2           0.6635291569167138\n",
       "PAY_2      PAY_3           0.6635291569167138\n",
       "PAY_4      PAY_3            0.678930991610762\n",
       "PAY_3      PAY_4            0.678930991610762\n",
       "PAY_2      PAY_1           0.6983894324845464\n",
       "PAY_1      PAY_2           0.6983894324845464\n",
       "PAY_5      PAY_6           0.7403572783092739\n",
       "PAY_6      PAY_5           0.7403572783092739\n",
       "PAY_4      PAY_5           0.7454190693686263\n",
       "PAY_5      PAY_4           0.7454190693686263\n",
       "BILL_AMT1  BILL_AMT6       0.8026501885528919\n",
       "BILL_AMT6  BILL_AMT1       0.8026501885528919\n",
       "BILL_AMT1  BILL_AMT5       0.8297786058330343\n",
       "BILL_AMT5  BILL_AMT1       0.8297786058330343\n",
       "BILL_AMT6  BILL_AMT2       0.8315935591018396\n",
       "BILL_AMT2  BILL_AMT6       0.8315935591018396\n",
       "BILL_AMT6  BILL_AMT3       0.8533200905940386\n",
       "BILL_AMT3  BILL_AMT6       0.8533200905940386\n",
       "BILL_AMT2  BILL_AMT5        0.859778307271451\n",
       "BILL_AMT5  BILL_AMT2        0.859778307271451\n",
       "BILL_AMT4  BILL_AMT1       0.8602721890293005\n",
       "BILL_AMT1  BILL_AMT4       0.8602721890293005\n",
       "BILL_AMT5  BILL_AMT3       0.8839096973619937\n",
       "BILL_AMT3  BILL_AMT5       0.8839096973619937\n",
       "           BILL_AMT1       0.8922785291271761\n",
       "BILL_AMT1  BILL_AMT3       0.8922785291271761\n",
       "BILL_AMT4  BILL_AMT2       0.8924822912576753\n",
       "BILL_AMT2  BILL_AMT4       0.8924822912576753\n",
       "BILL_AMT6  BILL_AMT4       0.9009409547979025\n",
       "BILL_AMT4  BILL_AMT6       0.9009409547979025\n",
       "           BILL_AMT3       0.9239694565909764\n",
       "BILL_AMT3  BILL_AMT4       0.9239694565909764\n",
       "           BILL_AMT2       0.9283262592714886\n",
       "BILL_AMT2  BILL_AMT3       0.9283262592714886\n",
       "BILL_AMT5  BILL_AMT4       0.9401344040880266\n",
       "BILL_AMT4  BILL_AMT5       0.9401344040880266\n",
       "BILL_AMT5  BILL_AMT6       0.9461968070522464\n",
       "BILL_AMT6  BILL_AMT5       0.9461968070522464\n",
       "BILL_AMT1  BILL_AMT2       0.9514836727518374\n",
       "BILL_AMT2  BILL_AMT1       0.9514836727518374\n",
       "LIMIT_BAL  LIMIT_BAL                      1.0\n",
       "PAY_AMT5   PAY_AMT5                       1.0\n",
       "SEX        SEX                            1.0\n",
       "EDUCATION  EDUCATION                      1.0\n",
       "MARRIAGE   MARRIAGE                       1.0\n",
       "AGE        AGE                            1.0\n",
       "PAY_1      PAY_1                          1.0\n",
       "PAY_2      PAY_2                          1.0\n",
       "PAY_3      PAY_3                          1.0\n",
       "PAY_4      PAY_4                          1.0\n",
       "PAY_5      PAY_5                          1.0\n",
       "PAY_AMT6   PAY_AMT6                       1.0\n",
       "PAY_6      PAY_6                          1.0\n",
       "BILL_AMT2  BILL_AMT2                      1.0\n",
       "BILL_AMT3  BILL_AMT3                      1.0\n",
       "BILL_AMT4  BILL_AMT4                      1.0\n",
       "BILL_AMT5  BILL_AMT5                      1.0\n",
       "BILL_AMT6  BILL_AMT6                      1.0\n",
       "PAY_AMT1   PAY_AMT1                       1.0\n",
       "PAY_AMT2   PAY_AMT2                       1.0\n",
       "PAY_AMT3   PAY_AMT3                       1.0\n",
       "PAY_AMT4   PAY_AMT4                       1.0\n",
       "BILL_AMT1  BILL_AMT1                      1.0\n",
       "default    default                        1.0\n",
       "Length: 576, dtype: float64"
      ]
     },
     "metadata": {},
     "output_type": "display_data"
    }
   ],
   "source": [
    "pd.set_option('display.max_rows', 500)\n",
    "c = data.corr()\n",
    "s = c.unstack()\n",
    "so = s.sort_values()\n",
    "display(so)"
   ]
  },
  {
   "cell_type": "markdown",
   "metadata": {},
   "source": [
    "There is too much information to process at a glance. So we must look at each variable(column) individually. "
   ]
  },
  {
   "cell_type": "markdown",
   "metadata": {},
   "source": [
    "In looking at the variables, we will do a few things. We will produce summary statistics, a histogram, and a box plot of the variables values to see the distribution of a variable's values on its own; and we will look for correlations between a variable and other variables that are noteable. We will make the arbitrary but useful distinction of only examining relationships where the correlation's magnitude is greater than 0.1 or less than -0.1 (or equal to those values)."
   ]
  },
  {
   "cell_type": "markdown",
   "metadata": {},
   "source": [
    "### Categorical Variables"
   ]
  },
  {
   "cell_type": "markdown",
   "metadata": {},
   "source": [
    "#### SEX"
   ]
  },
  {
   "cell_type": "markdown",
   "metadata": {},
   "source": [
    "SEX: Gender (1=male, 2=female)"
   ]
  },
  {
   "cell_type": "code",
   "execution_count": 18,
   "metadata": {},
   "outputs": [],
   "source": [
    "var = 'SEX'"
   ]
  },
  {
   "cell_type": "code",
   "execution_count": 19,
   "metadata": {},
   "outputs": [
    {
     "data": {
      "text/plain": [
       "count             30,000.0\n",
       "mean    1.6037333333333332\n",
       "std     0.4891291960904071\n",
       "min                    1.0\n",
       "25%                    1.0\n",
       "50%                    2.0\n",
       "75%                    2.0\n",
       "max                    2.0\n",
       "Name: SEX, dtype: float64"
      ]
     },
     "execution_count": 19,
     "metadata": {},
     "output_type": "execute_result"
    },
    {
     "data": {
      "image/png": "[encoded data removed]",
      "text/plain": [
       "<Figure size 432x288 with 1 Axes>"
      ]
     },
     "metadata": {
      "needs_background": "light"
     },
     "output_type": "display_data"
    },
    {
     "data": {
      "image/png": "[encoded data removed]",
      "text/plain": [
       "<Figure size 432x288 with 1 Axes>"
      ]
     },
     "metadata": {
      "needs_background": "light"
     },
     "output_type": "display_data"
    }
   ],
   "source": [
    "data[var].hist(bins=[0.5,1.5,2.5], rwidth=0.1, density=True)\n",
    "data[[var]].plot(kind='box')\n",
    "data[var].describe()"
   ]
  },
  {
   "cell_type": "markdown",
   "metadata": {},
   "source": [
    "Most of the records in this dataset are for females (about 60%)"
   ]
  },
  {
   "cell_type": "code",
   "execution_count": 20,
   "metadata": {},
   "outputs": [
    {
     "data": {
      "text/plain": [
       "SEX   1.0\n",
       "Name: SEX, dtype: float64"
      ]
     },
     "execution_count": 20,
     "metadata": {},
     "output_type": "execute_result"
    }
   ],
   "source": [
    "c = data.corr()['SEX']\n",
    "so = c.sort_values()\n",
    "new = so[abs(so) > 0.1]\n",
    "new"
   ]
  },
  {
   "cell_type": "markdown",
   "metadata": {},
   "source": [
    "Sex does not have a correlation with any other factor that is greater than 0.1 or less than -0.1. So there is little to consider."
   ]
  },
  {
   "cell_type": "code",
   "execution_count": 21,
   "metadata": {},
   "outputs": [
    {
     "data": {
      "text/plain": [
       "-0.03996057770542914"
      ]
     },
     "execution_count": 21,
     "metadata": {},
     "output_type": "execute_result"
    }
   ],
   "source": [
    "c = data.corr()['SEX']['default']\n",
    "c"
   ]
  },
  {
   "cell_type": "code",
   "execution_count": 22,
   "metadata": {},
   "outputs": [
    {
     "data": {
      "text/html": [
       "<div>\n",
       "<style scoped>\n",
       "    .dataframe tbody tr th:only-of-type {\n",
       "        vertical-align: middle;\n",
       "    }\n",
       "\n",
       "    .dataframe tbody tr th {\n",
       "        vertical-align: top;\n",
       "    }\n",
       "\n",
       "    .dataframe thead th {\n",
       "        text-align: right;\n",
       "    }\n",
       "</style>\n",
       "<table border=\"1\" class=\"dataframe\">\n",
       "  <thead>\n",
       "    <tr style=\"text-align: right;\">\n",
       "      <th>default</th>\n",
       "      <th>0</th>\n",
       "      <th>1</th>\n",
       "    </tr>\n",
       "    <tr>\n",
       "      <th>SEX</th>\n",
       "      <th></th>\n",
       "      <th></th>\n",
       "    </tr>\n",
       "  </thead>\n",
       "  <tbody>\n",
       "    <tr>\n",
       "      <th>1</th>\n",
       "      <td>9015</td>\n",
       "      <td>2873</td>\n",
       "    </tr>\n",
       "    <tr>\n",
       "      <th>2</th>\n",
       "      <td>14349</td>\n",
       "      <td>3763</td>\n",
       "    </tr>\n",
       "  </tbody>\n",
       "</table>\n",
       "</div>"
      ],
      "text/plain": [
       "default      0     1\n",
       "SEX                 \n",
       "1         9015  2873\n",
       "2        14349  3763"
      ]
     },
     "execution_count": 22,
     "metadata": {},
     "output_type": "execute_result"
    }
   ],
   "source": [
    "gender = data.groupby(['SEX', 'default']).size().unstack(['default'])\n",
    "gender"
   ]
  },
  {
   "cell_type": "code",
   "execution_count": 23,
   "metadata": {},
   "outputs": [
    {
     "data": {
      "text/plain": [
       "<matplotlib.axes._subplots.AxesSubplot at 0x1e8b1250c18>"
      ]
     },
     "execution_count": 23,
     "metadata": {},
     "output_type": "execute_result"
    },
    {
     "data": {
      "image/png": "[encoded data removed]",
      "text/plain": [
       "<Figure size 432x288 with 1 Axes>"
      ]
     },
     "metadata": {
      "needs_background": "light"
     },
     "output_type": "display_data"
    }
   ],
   "source": [
    "gender.plot(kind='bar', stacked=True)"
   ]
  },
  {
   "cell_type": "code",
   "execution_count": 24,
   "metadata": {},
   "outputs": [
    {
     "data": {
      "text/html": [
       "<div>\n",
       "<style scoped>\n",
       "    .dataframe tbody tr th:only-of-type {\n",
       "        vertical-align: middle;\n",
       "    }\n",
       "\n",
       "    .dataframe tbody tr th {\n",
       "        vertical-align: top;\n",
       "    }\n",
       "\n",
       "    .dataframe thead th {\n",
       "        text-align: right;\n",
       "    }\n",
       "</style>\n",
       "<table border=\"1\" class=\"dataframe\">\n",
       "  <thead>\n",
       "    <tr style=\"text-align: right;\">\n",
       "      <th>default</th>\n",
       "      <th>0</th>\n",
       "      <th>1</th>\n",
       "      <th>perc</th>\n",
       "    </tr>\n",
       "    <tr>\n",
       "      <th>SEX</th>\n",
       "      <th></th>\n",
       "      <th></th>\n",
       "      <th></th>\n",
       "    </tr>\n",
       "  </thead>\n",
       "  <tbody>\n",
       "    <tr>\n",
       "      <th>1</th>\n",
       "      <td>9015</td>\n",
       "      <td>2873</td>\n",
       "      <td>0.2416722745625841</td>\n",
       "    </tr>\n",
       "    <tr>\n",
       "      <th>2</th>\n",
       "      <td>14349</td>\n",
       "      <td>3763</td>\n",
       "      <td>0.20776280918727916</td>\n",
       "    </tr>\n",
       "  </tbody>\n",
       "</table>\n",
       "</div>"
      ],
      "text/plain": [
       "default      0     1                perc\n",
       "SEX                                     \n",
       "1         9015  2873  0.2416722745625841\n",
       "2        14349  3763 0.20776280918727916"
      ]
     },
     "execution_count": 24,
     "metadata": {},
     "output_type": "execute_result"
    }
   ],
   "source": [
    "gender['perc'] = (gender[1] / (gender[0] + gender[1]))\n",
    "gender"
   ]
  },
  {
   "cell_type": "markdown",
   "metadata": {},
   "source": [
    "So it seems to be the case that Sex is significantly correlated with nothing (other than itself, which is trivial). Sex is weakly correlated with default, meaning higher values (meaning female) have a slight correlation with lower values of default (i.e. no default). As we can see by making a table of sex against default, males have a slighty greater than 3% chance of defaulting."
   ]
  },
  {
   "cell_type": "markdown",
   "metadata": {},
   "source": [
    "#### Education"
   ]
  },
  {
   "cell_type": "markdown",
   "metadata": {},
   "source": [
    "EDUCATION: (1=graduate school, 2=university, 3=high school, 4=others, 5=unknown, 6=unknown)"
   ]
  },
  {
   "cell_type": "code",
   "execution_count": 25,
   "metadata": {},
   "outputs": [],
   "source": [
    "var = 'EDUCATION'"
   ]
  },
  {
   "cell_type": "code",
   "execution_count": 26,
   "metadata": {},
   "outputs": [
    {
     "data": {
      "text/plain": [
       "count             30,000.0\n",
       "mean    1.8422666666666667\n",
       "std     0.7444944624525737\n",
       "min                    1.0\n",
       "25%                    1.0\n",
       "50%                    2.0\n",
       "75%                    2.0\n",
       "max                    4.0\n",
       "Name: EDUCATION, dtype: float64"
      ]
     },
     "execution_count": 26,
     "metadata": {},
     "output_type": "execute_result"
    },
    {
     "data": {
      "image/png": "[encoded data removed]",
      "text/plain": [
       "<Figure size 432x288 with 1 Axes>"
      ]
     },
     "metadata": {
      "needs_background": "light"
     },
     "output_type": "display_data"
    },
    {
     "data": {
      "image/png": "[encoded data removed]",
      "text/plain": [
       "<Figure size 432x288 with 1 Axes>"
      ]
     },
     "metadata": {
      "needs_background": "light"
     },
     "output_type": "display_data"
    }
   ],
   "source": [
    "data[var].hist(bins=[0.5,1.5,2.5,3.5,4.5], rwidth=0.1, density=True)\n",
    "data[[var]].plot(kind='box')\n",
    "data[var].describe()"
   ]
  },
  {
   "cell_type": "markdown",
   "metadata": {},
   "source": [
    "The vast majority of people in this dataset have either graduate school (1) or a university education (2). We can see that about 80% of the values are 1 or 2 which stand for graduate school and university, respecitvely. Another 15% or 3 has a high school diploma, and the remainer has less than that or other types of education."
   ]
  },
  {
   "cell_type": "code",
   "execution_count": 27,
   "metadata": {},
   "outputs": [
    {
     "data": {
      "text/plain": [
       "LIMIT_BAL   -0.23108753519666203\n",
       "MARRIAGE     -0.1367969413360245\n",
       "AGE          0.18243429685768472\n",
       "EDUCATION                    1.0\n",
       "Name: EDUCATION, dtype: float64"
      ]
     },
     "execution_count": 27,
     "metadata": {},
     "output_type": "execute_result"
    }
   ],
   "source": [
    "c = data.corr()[var]\n",
    "so = c.sort_values()\n",
    "new = so[abs(so) > 0.1]\n",
    "new"
   ]
  },
  {
   "cell_type": "markdown",
   "metadata": {},
   "source": [
    "Education seems to be correlated with a few other variables. Let's take each in turn:"
   ]
  },
  {
   "cell_type": "markdown",
   "metadata": {},
   "source": [
    "* The negative correlation between Education and LIMIT_BAL makes sense. It says that with less education (a higher EDUCATION code), we would expect LIMIT_BAL to be lower (i.e. the amount of given credit to be lower). Since education generally involves taking on credit to pay for it, it makes sense for education to be correlated with higher credit, especially because education is something that credit organizations like to extend credit for.\n",
    "* The 2nd correlation says that Education is negatively correlated with Marriage, meaning, given the coding of this dataset, that education is not correlated with marriage. This means that more educated people should be less likely to be married because as we incease our education values (i.e. have less education), we should see smaller marriage values (i.e. more marriage).\n",
    "* The last correlation says that Education is negatively correlated with Age, meaning that the individuals with more education in this dataset tend to have younger ages. This is a somewhat curious result, as it runs counter to intuition since we would expect individuals with more education to be older since it takes time for them to get that education. This could be because it takes individuals with less education longer to obtain a credit card in the first place. "
   ]
  },
  {
   "cell_type": "markdown",
   "metadata": {},
   "source": [
    "We now check out the relationship between Education and a few other variables informally."
   ]
  },
  {
   "cell_type": "code",
   "execution_count": 28,
   "metadata": {},
   "outputs": [],
   "source": [
    "def corr_2_cols(Col1, Col2):\n",
    "    res = data.groupby([Col1, Col2]).size().unstack()\n",
    "    res['perc'] = (res[res.columns[1]]/(res[res.columns[0]] + res[res.columns[1]]))\n",
    "    return res"
   ]
  },
  {
   "cell_type": "markdown",
   "metadata": {},
   "source": [
    "*Education and Default*"
   ]
  },
  {
   "cell_type": "code",
   "execution_count": 29,
   "metadata": {},
   "outputs": [
    {
     "data": {
      "text/html": [
       "<div>\n",
       "<style scoped>\n",
       "    .dataframe tbody tr th:only-of-type {\n",
       "        vertical-align: middle;\n",
       "    }\n",
       "\n",
       "    .dataframe tbody tr th {\n",
       "        vertical-align: top;\n",
       "    }\n",
       "\n",
       "    .dataframe thead th {\n",
       "        text-align: right;\n",
       "    }\n",
       "</style>\n",
       "<table border=\"1\" class=\"dataframe\">\n",
       "  <thead>\n",
       "    <tr style=\"text-align: right;\">\n",
       "      <th>default</th>\n",
       "      <th>0</th>\n",
       "      <th>1</th>\n",
       "      <th>perc</th>\n",
       "    </tr>\n",
       "    <tr>\n",
       "      <th>EDUCATION</th>\n",
       "      <th></th>\n",
       "      <th></th>\n",
       "      <th></th>\n",
       "    </tr>\n",
       "  </thead>\n",
       "  <tbody>\n",
       "    <tr>\n",
       "      <th>1</th>\n",
       "      <td>8549</td>\n",
       "      <td>2036</td>\n",
       "      <td>0.19234766178554558</td>\n",
       "    </tr>\n",
       "    <tr>\n",
       "      <th>2</th>\n",
       "      <td>10700</td>\n",
       "      <td>3330</td>\n",
       "      <td>0.23734853884533144</td>\n",
       "    </tr>\n",
       "    <tr>\n",
       "      <th>3</th>\n",
       "      <td>3680</td>\n",
       "      <td>1237</td>\n",
       "      <td>0.2515761643278422</td>\n",
       "    </tr>\n",
       "    <tr>\n",
       "      <th>4</th>\n",
       "      <td>435</td>\n",
       "      <td>33</td>\n",
       "      <td>0.07051282051282051</td>\n",
       "    </tr>\n",
       "  </tbody>\n",
       "</table>\n",
       "</div>"
      ],
      "text/plain": [
       "default        0     1                perc\n",
       "EDUCATION                                 \n",
       "1           8549  2036 0.19234766178554558\n",
       "2          10700  3330 0.23734853884533144\n",
       "3           3680  1237  0.2515761643278422\n",
       "4            435    33 0.07051282051282051"
      ]
     },
     "execution_count": 29,
     "metadata": {},
     "output_type": "execute_result"
    }
   ],
   "source": [
    "corr_2_cols('EDUCATION', 'default')"
   ]
  },
  {
   "cell_type": "code",
   "execution_count": 30,
   "metadata": {},
   "outputs": [
    {
     "data": {
      "text/plain": [
       "<matplotlib.axes._subplots.AxesSubplot at 0x1e8b12c4c50>"
      ]
     },
     "execution_count": 30,
     "metadata": {},
     "output_type": "execute_result"
    },
    {
     "data": {
      "image/png": "[encoded data removed]",
      "text/plain": [
       "<Figure size 432x288 with 1 Axes>"
      ]
     },
     "metadata": {
      "needs_background": "light"
     },
     "output_type": "display_data"
    }
   ],
   "source": [
    "education = data.groupby(['EDUCATION', 'default']).size().unstack(['default'])\n",
    "education = education/len(data)\n",
    "education.plot(kind='bar', stacked=True)"
   ]
  },
  {
   "cell_type": "markdown",
   "metadata": {},
   "source": [
    "More education (decreasing value) tends to result in a decreasing percentage of defaults, with the exception of falling under \"Other\". Perhaps the \"Other\" class is what causes the correlation to be small."
   ]
  },
  {
   "cell_type": "markdown",
   "metadata": {},
   "source": [
    "*Education and Credit (LIMIT_BAL)*"
   ]
  },
  {
   "cell_type": "code",
   "execution_count": 31,
   "metadata": {},
   "outputs": [
    {
     "data": {
      "text/html": [
       "<div>\n",
       "<style scoped>\n",
       "    .dataframe tbody tr th:only-of-type {\n",
       "        vertical-align: middle;\n",
       "    }\n",
       "\n",
       "    .dataframe tbody tr th {\n",
       "        vertical-align: top;\n",
       "    }\n",
       "\n",
       "    .dataframe thead tr th {\n",
       "        text-align: left;\n",
       "    }\n",
       "\n",
       "    .dataframe thead tr:last-of-type th {\n",
       "        text-align: right;\n",
       "    }\n",
       "</style>\n",
       "<table border=\"1\" class=\"dataframe\">\n",
       "  <thead>\n",
       "    <tr>\n",
       "      <th></th>\n",
       "      <th colspan=\"2\" halign=\"left\">LIMIT_BAL</th>\n",
       "    </tr>\n",
       "    <tr>\n",
       "      <th></th>\n",
       "      <th>mean</th>\n",
       "      <th>std</th>\n",
       "    </tr>\n",
       "    <tr>\n",
       "      <th>EDUCATION</th>\n",
       "      <th></th>\n",
       "      <th></th>\n",
       "    </tr>\n",
       "  </thead>\n",
       "  <tbody>\n",
       "    <tr>\n",
       "      <th>1</th>\n",
       "      <td>212,956.06991025034</td>\n",
       "      <td>135,474.93672966756</td>\n",
       "    </tr>\n",
       "    <tr>\n",
       "      <th>2</th>\n",
       "      <td>147,062.4376336422</td>\n",
       "      <td>120,672.28203300768</td>\n",
       "    </tr>\n",
       "    <tr>\n",
       "      <th>3</th>\n",
       "      <td>126,550.27049013626</td>\n",
       "      <td>113,979.32267773732</td>\n",
       "    </tr>\n",
       "    <tr>\n",
       "      <th>4</th>\n",
       "      <td>181,316.2393162393</td>\n",
       "      <td>118,385.69055065146</td>\n",
       "    </tr>\n",
       "  </tbody>\n",
       "</table>\n",
       "</div>"
      ],
      "text/plain": [
       "                    LIMIT_BAL                    \n",
       "                         mean                 std\n",
       "EDUCATION                                        \n",
       "1         212,956.06991025034 135,474.93672966756\n",
       "2          147,062.4376336422 120,672.28203300768\n",
       "3         126,550.27049013626 113,979.32267773732\n",
       "4          181,316.2393162393 118,385.69055065146"
      ]
     },
     "execution_count": 31,
     "metadata": {},
     "output_type": "execute_result"
    }
   ],
   "source": [
    "var = data[['EDUCATION', 'LIMIT_BAL']].groupby('EDUCATION').agg({'mean', 'std'})\n",
    "var"
   ]
  },
  {
   "cell_type": "code",
   "execution_count": 32,
   "metadata": {},
   "outputs": [
    {
     "data": {
      "text/plain": [
       "<seaborn.axisgrid.FacetGrid at 0x1e8b1a401d0>"
      ]
     },
     "execution_count": 32,
     "metadata": {},
     "output_type": "execute_result"
    },
    {
     "data": {
      "image/png": "[encoded data removed]",
      "text/plain": [
       "<Figure size 283.25x216 with 1 Axes>"
      ]
     },
     "metadata": {
      "needs_background": "light"
     },
     "output_type": "display_data"
    }
   ],
   "source": [
    "g = sns.FacetGrid(data, hue='EDUCATION')\n",
    "g = g.map(plt.hist, 'LIMIT_BAL', alpha=0.2).set_axis_labels('LIMIT_BAL','Count')\n",
    "g.add_legend()"
   ]
  },
  {
   "cell_type": "markdown",
   "metadata": {},
   "source": [
    "More Education seems to result in more credit being extended, as we would expect. Indeed, we see from the summary statistics that having an education value of 1, meaning graduate school and having the most education, is associated with the highest mean of credit extended, as well as the highest variability."
   ]
  },
  {
   "cell_type": "markdown",
   "metadata": {},
   "source": [
    "*Eduation and Marriage*"
   ]
  },
  {
   "cell_type": "code",
   "execution_count": 33,
   "metadata": {},
   "outputs": [
    {
     "data": {
      "text/plain": [
       "<matplotlib.axes._subplots.AxesSubplot at 0x1e8b1a406d8>"
      ]
     },
     "execution_count": 33,
     "metadata": {},
     "output_type": "execute_result"
    },
    {
     "data": {
      "image/png": "[encoded data removed]",
      "text/plain": [
       "<Figure size 432x288 with 1 Axes>"
      ]
     },
     "metadata": {
      "needs_background": "light"
     },
     "output_type": "display_data"
    }
   ],
   "source": [
    "EM = data.groupby(['EDUCATION', 'MARRIAGE']).size().unstack(['MARRIAGE'])\n",
    "EM = EM/len(data)\n",
    "EM.plot(kind='bar', stacked=True)"
   ]
  },
  {
   "cell_type": "code",
   "execution_count": 34,
   "metadata": {},
   "outputs": [
    {
     "data": {
      "text/html": [
       "<div>\n",
       "<style scoped>\n",
       "    .dataframe tbody tr th:only-of-type {\n",
       "        vertical-align: middle;\n",
       "    }\n",
       "\n",
       "    .dataframe tbody tr th {\n",
       "        vertical-align: top;\n",
       "    }\n",
       "\n",
       "    .dataframe thead th {\n",
       "        text-align: right;\n",
       "    }\n",
       "</style>\n",
       "<table border=\"1\" class=\"dataframe\">\n",
       "  <thead>\n",
       "    <tr style=\"text-align: right;\">\n",
       "      <th>MARRIAGE</th>\n",
       "      <th>1</th>\n",
       "      <th>2</th>\n",
       "      <th>3</th>\n",
       "      <th>total</th>\n",
       "    </tr>\n",
       "    <tr>\n",
       "      <th>EDUCATION</th>\n",
       "      <th></th>\n",
       "      <th></th>\n",
       "      <th></th>\n",
       "      <th></th>\n",
       "    </tr>\n",
       "  </thead>\n",
       "  <tbody>\n",
       "    <tr>\n",
       "      <th>1</th>\n",
       "      <td>0.35162966461974493</td>\n",
       "      <td>0.6432687765706188</td>\n",
       "      <td>0.005101558809636278</td>\n",
       "      <td>0.9999999999999999</td>\n",
       "    </tr>\n",
       "    <tr>\n",
       "      <th>2</th>\n",
       "      <td>0.4876692801140413</td>\n",
       "      <td>0.5003563791874555</td>\n",
       "      <td>0.011974340698503207</td>\n",
       "      <td>1.0</td>\n",
       "    </tr>\n",
       "    <tr>\n",
       "      <th>3</th>\n",
       "      <td>0.5818588570266423</td>\n",
       "      <td>0.38824486475493186</td>\n",
       "      <td>0.02989627821842587</td>\n",
       "      <td>1.0</td>\n",
       "    </tr>\n",
       "    <tr>\n",
       "      <th>4</th>\n",
       "      <td>0.5</td>\n",
       "      <td>0.4829059829059829</td>\n",
       "      <td>0.017094017094017096</td>\n",
       "      <td>1.0</td>\n",
       "    </tr>\n",
       "  </tbody>\n",
       "</table>\n",
       "</div>"
      ],
      "text/plain": [
       "MARRIAGE                    1                   2                    3  \\\n",
       "EDUCATION                                                                \n",
       "1         0.35162966461974493  0.6432687765706188 0.005101558809636278   \n",
       "2          0.4876692801140413  0.5003563791874555 0.011974340698503207   \n",
       "3          0.5818588570266423 0.38824486475493186  0.02989627821842587   \n",
       "4                         0.5  0.4829059829059829 0.017094017094017096   \n",
       "\n",
       "MARRIAGE               total  \n",
       "EDUCATION                     \n",
       "1         0.9999999999999999  \n",
       "2                        1.0  \n",
       "3                        1.0  \n",
       "4                        1.0  "
      ]
     },
     "execution_count": 34,
     "metadata": {},
     "output_type": "execute_result"
    }
   ],
   "source": [
    "EM = data.groupby(['EDUCATION', 'MARRIAGE']).size().unstack(['MARRIAGE'])\n",
    "EM['total'] = EM[1] + EM[2] + EM[3] \n",
    "EM = EM.loc[:, [1,2,3]].div(EM[\"total\"], axis=0)\n",
    "EM['total'] = EM[1] + EM[2] + EM[3] \n",
    "EM"
   ]
  },
  {
   "cell_type": "markdown",
   "metadata": {},
   "source": [
    "As we can see from the chart and table, more education (a smaller value for Education) is associated with lower rates of marriage (column 1)"
   ]
  },
  {
   "cell_type": "markdown",
   "metadata": {},
   "source": [
    "*Education and Age*"
   ]
  },
  {
   "cell_type": "code",
   "execution_count": 35,
   "metadata": {},
   "outputs": [
    {
     "data": {
      "text/plain": [
       "<seaborn.axisgrid.FacetGrid at 0x1e8b1a216d8>"
      ]
     },
     "execution_count": 35,
     "metadata": {},
     "output_type": "execute_result"
    },
    {
     "data": {
      "image/png": "[encoded data removed]",
      "text/plain": [
       "<Figure size 224x864 with 4 Axes>"
      ]
     },
     "metadata": {
      "needs_background": "light"
     },
     "output_type": "display_data"
    }
   ],
   "source": [
    "g = sns.FacetGrid(data, row='EDUCATION')\n",
    "g = g.map(plt.hist, 'AGE', alpha=0.2).set_axis_labels('AGE','Count')\n",
    "g.add_legend()"
   ]
  },
  {
   "cell_type": "code",
   "execution_count": 36,
   "metadata": {},
   "outputs": [
    {
     "data": {
      "text/html": [
       "<div>\n",
       "<style scoped>\n",
       "    .dataframe tbody tr th:only-of-type {\n",
       "        vertical-align: middle;\n",
       "    }\n",
       "\n",
       "    .dataframe tbody tr th {\n",
       "        vertical-align: top;\n",
       "    }\n",
       "\n",
       "    .dataframe thead tr th {\n",
       "        text-align: left;\n",
       "    }\n",
       "\n",
       "    .dataframe thead tr:last-of-type th {\n",
       "        text-align: right;\n",
       "    }\n",
       "</style>\n",
       "<table border=\"1\" class=\"dataframe\">\n",
       "  <thead>\n",
       "    <tr>\n",
       "      <th></th>\n",
       "      <th colspan=\"2\" halign=\"left\">AGE</th>\n",
       "    </tr>\n",
       "    <tr>\n",
       "      <th></th>\n",
       "      <th>mean</th>\n",
       "      <th>std</th>\n",
       "    </tr>\n",
       "    <tr>\n",
       "      <th>EDUCATION</th>\n",
       "      <th></th>\n",
       "      <th></th>\n",
       "    </tr>\n",
       "  </thead>\n",
       "  <tbody>\n",
       "    <tr>\n",
       "      <th>1</th>\n",
       "      <td>34.23183750590458</td>\n",
       "      <td>8.270266289160439</td>\n",
       "    </tr>\n",
       "    <tr>\n",
       "      <th>2</th>\n",
       "      <td>34.722095509622235</td>\n",
       "      <td>8.893848334600463</td>\n",
       "    </tr>\n",
       "    <tr>\n",
       "      <th>3</th>\n",
       "      <td>40.29997966239577</td>\n",
       "      <td>10.440759790924778</td>\n",
       "    </tr>\n",
       "    <tr>\n",
       "      <th>4</th>\n",
       "      <td>36.14316239316239</td>\n",
       "      <td>9.313871228354438</td>\n",
       "    </tr>\n",
       "  </tbody>\n",
       "</table>\n",
       "</div>"
      ],
      "text/plain": [
       "                         AGE                   \n",
       "                        mean                std\n",
       "EDUCATION                                      \n",
       "1          34.23183750590458  8.270266289160439\n",
       "2         34.722095509622235  8.893848334600463\n",
       "3          40.29997966239577 10.440759790924778\n",
       "4          36.14316239316239  9.313871228354438"
      ]
     },
     "execution_count": 36,
     "metadata": {},
     "output_type": "execute_result"
    }
   ],
   "source": [
    "var = data[['EDUCATION', 'AGE']].groupby('EDUCATION').agg({'mean', 'std'})\n",
    "var"
   ]
  },
  {
   "cell_type": "markdown",
   "metadata": {},
   "source": [
    "We can see a relationship here between less Education and being older. "
   ]
  },
  {
   "cell_type": "markdown",
   "metadata": {},
   "source": [
    "#### Marriage"
   ]
  },
  {
   "cell_type": "markdown",
   "metadata": {},
   "source": [
    "MARRIAGE: Marital status (1=married, 2=single, 3=others)"
   ]
  },
  {
   "cell_type": "code",
   "execution_count": 37,
   "metadata": {},
   "outputs": [],
   "source": [
    "var = 'MARRIAGE'"
   ]
  },
  {
   "cell_type": "code",
   "execution_count": 38,
   "metadata": {},
   "outputs": [
    {
     "data": {
      "text/plain": [
       "count             30,000.0\n",
       "mean    1.5572666666666666\n",
       "std     0.5214047605458189\n",
       "min                    1.0\n",
       "25%                    1.0\n",
       "50%                    2.0\n",
       "75%                    2.0\n",
       "max                    3.0\n",
       "Name: MARRIAGE, dtype: float64"
      ]
     },
     "execution_count": 38,
     "metadata": {},
     "output_type": "execute_result"
    },
    {
     "data": {
      "image/png": "[encoded data removed]",
      "text/plain": [
       "<Figure size 432x288 with 1 Axes>"
      ]
     },
     "metadata": {
      "needs_background": "light"
     },
     "output_type": "display_data"
    },
    {
     "data": {
      "image/png": "[encoded data removed]",
      "text/plain": [
       "<Figure size 432x288 with 1 Axes>"
      ]
     },
     "metadata": {
      "needs_background": "light"
     },
     "output_type": "display_data"
    }
   ],
   "source": [
    "data[var].hist(bins=[ 0.5,1.5,2.5,3.5], rwidth=0.5, density=True)\n",
    "data[[var]].plot(kind='box')\n",
    "data[var].describe()"
   ]
  },
  {
   "cell_type": "markdown",
   "metadata": {},
   "source": [
    "Slightly over half the records are single (2), about 45% are married (1) and the rest are other, coded as 3 (divorced, widowed, etc.)"
   ]
  },
  {
   "cell_type": "code",
   "execution_count": 39,
   "metadata": {},
   "outputs": [
    {
     "data": {
      "text/plain": [
       "AGE          -0.4120014367553708\n",
       "EDUCATION    -0.1367969413360245\n",
       "LIMIT_BAL   -0.11101219257995855\n",
       "MARRIAGE                     1.0\n",
       "Name: MARRIAGE, dtype: float64"
      ]
     },
     "execution_count": 39,
     "metadata": {},
     "output_type": "execute_result"
    }
   ],
   "source": [
    "c = data.corr()['MARRIAGE']\n",
    "so = c.sort_values()\n",
    "new = so[abs(so) > 0.1]\n",
    "new"
   ]
  },
  {
   "cell_type": "markdown",
   "metadata": {},
   "source": [
    "We have already examined the correlation between Education and Marriage, so that won't be discussed."
   ]
  },
  {
   "cell_type": "markdown",
   "metadata": {},
   "source": [
    "* The negative correlation between Marriage and Age means that as Age increases, Marriage tends to decrease. In the context of our dataset, where a value of 1 for Marriage means 'married', a 2 means 'single', and a 3 means 'other', this makes sense. It it saying that as age increases, we are less likely to see values for 'single' and 'other', and more likely to see values for 'married'. That is, older people are more likely to be married. While it it true that age is likely to be negative correlated with singlehood, as is the case for our dataset, it should be correlated with other, such as 'divorced' or 'widowed'. However, since our dataset includes far more singles than others, it makes sense that the negative correlation with singlehood would dwarf the positive correlation with 'otherhood'.\n",
    "* The other correlation to examine is the negative correlation between Marriage and the Amount of Given Credit (\"LIMIT_BAL\"). This correlation is somewhat at odds with our intuitions because we might think that being married translated into better management of finances and less credit taken on. However, it also makes sense that marriage comes with a lot of financial 'baggage' such as the cost of a wedding, house, car, children's education, etc. Thus, this correlation does make sense. "
   ]
  },
  {
   "cell_type": "markdown",
   "metadata": {},
   "source": [
    "What about the relationship between Marriage and Default?"
   ]
  },
  {
   "cell_type": "code",
   "execution_count": 40,
   "metadata": {},
   "outputs": [
    {
     "data": {
      "text/html": [
       "<div>\n",
       "<style scoped>\n",
       "    .dataframe tbody tr th:only-of-type {\n",
       "        vertical-align: middle;\n",
       "    }\n",
       "\n",
       "    .dataframe tbody tr th {\n",
       "        vertical-align: top;\n",
       "    }\n",
       "\n",
       "    .dataframe thead th {\n",
       "        text-align: right;\n",
       "    }\n",
       "</style>\n",
       "<table border=\"1\" class=\"dataframe\">\n",
       "  <thead>\n",
       "    <tr style=\"text-align: right;\">\n",
       "      <th>default</th>\n",
       "      <th>0</th>\n",
       "      <th>1</th>\n",
       "      <th>perc</th>\n",
       "    </tr>\n",
       "    <tr>\n",
       "      <th>MARRIAGE</th>\n",
       "      <th></th>\n",
       "      <th></th>\n",
       "      <th></th>\n",
       "    </tr>\n",
       "  </thead>\n",
       "  <tbody>\n",
       "    <tr>\n",
       "      <th>1</th>\n",
       "      <td>10453</td>\n",
       "      <td>3206</td>\n",
       "      <td>0.23471703638626545</td>\n",
       "    </tr>\n",
       "    <tr>\n",
       "      <th>2</th>\n",
       "      <td>12623</td>\n",
       "      <td>3341</td>\n",
       "      <td>0.20928338762214985</td>\n",
       "    </tr>\n",
       "    <tr>\n",
       "      <th>3</th>\n",
       "      <td>288</td>\n",
       "      <td>89</td>\n",
       "      <td>0.23607427055702918</td>\n",
       "    </tr>\n",
       "  </tbody>\n",
       "</table>\n",
       "</div>"
      ],
      "text/plain": [
       "default       0     1                perc\n",
       "MARRIAGE                                 \n",
       "1         10453  3206 0.23471703638626545\n",
       "2         12623  3341 0.20928338762214985\n",
       "3           288    89 0.23607427055702918"
      ]
     },
     "execution_count": 40,
     "metadata": {},
     "output_type": "execute_result"
    }
   ],
   "source": [
    "corr_2_cols('MARRIAGE', 'default')"
   ]
  },
  {
   "cell_type": "markdown",
   "metadata": {},
   "source": [
    "Married people more likely to default than singles, but the difference isn't that large. Also, 'Others' are more likely to default than marrieds, weakening the correlation."
   ]
  },
  {
   "cell_type": "markdown",
   "metadata": {},
   "source": [
    "*Marriage and Age*"
   ]
  },
  {
   "cell_type": "code",
   "execution_count": 41,
   "metadata": {},
   "outputs": [
    {
     "data": {
      "text/html": [
       "<div>\n",
       "<style scoped>\n",
       "    .dataframe tbody tr th:only-of-type {\n",
       "        vertical-align: middle;\n",
       "    }\n",
       "\n",
       "    .dataframe tbody tr th {\n",
       "        vertical-align: top;\n",
       "    }\n",
       "\n",
       "    .dataframe thead tr th {\n",
       "        text-align: left;\n",
       "    }\n",
       "\n",
       "    .dataframe thead tr:last-of-type th {\n",
       "        text-align: right;\n",
       "    }\n",
       "</style>\n",
       "<table border=\"1\" class=\"dataframe\">\n",
       "  <thead>\n",
       "    <tr>\n",
       "      <th></th>\n",
       "      <th colspan=\"2\" halign=\"left\">AGE</th>\n",
       "    </tr>\n",
       "    <tr>\n",
       "      <th></th>\n",
       "      <th>mean</th>\n",
       "      <th>std</th>\n",
       "    </tr>\n",
       "    <tr>\n",
       "      <th>MARRIAGE</th>\n",
       "      <th></th>\n",
       "      <th></th>\n",
       "    </tr>\n",
       "  </thead>\n",
       "  <tbody>\n",
       "    <tr>\n",
       "      <th>1</th>\n",
       "      <td>40.01669229079727</td>\n",
       "      <td>8.720326309677946</td>\n",
       "    </tr>\n",
       "    <tr>\n",
       "      <th>2</th>\n",
       "      <td>31.452706088699575</td>\n",
       "      <td>7.592002030945007</td>\n",
       "    </tr>\n",
       "    <tr>\n",
       "      <th>3</th>\n",
       "      <td>42.08488063660477</td>\n",
       "      <td>9.484489552605375</td>\n",
       "    </tr>\n",
       "  </tbody>\n",
       "</table>\n",
       "</div>"
      ],
      "text/plain": [
       "                        AGE                  \n",
       "                       mean               std\n",
       "MARRIAGE                                     \n",
       "1         40.01669229079727 8.720326309677946\n",
       "2        31.452706088699575 7.592002030945007\n",
       "3         42.08488063660477 9.484489552605375"
      ]
     },
     "execution_count": 41,
     "metadata": {},
     "output_type": "execute_result"
    }
   ],
   "source": [
    "var = data[['MARRIAGE', 'AGE']].groupby('MARRIAGE').agg({'mean', 'std'})\n",
    "var"
   ]
  },
  {
   "cell_type": "code",
   "execution_count": 42,
   "metadata": {},
   "outputs": [
    {
     "data": {
      "text/plain": [
       "<seaborn.axisgrid.FacetGrid at 0x1e8b1d4a9e8>"
      ]
     },
     "execution_count": 42,
     "metadata": {},
     "output_type": "execute_result"
    },
    {
     "data": {
      "image/png": "[encoded data removed]",
      "text/plain": [
       "<Figure size 224x648 with 3 Axes>"
      ]
     },
     "metadata": {
      "needs_background": "light"
     },
     "output_type": "display_data"
    }
   ],
   "source": [
    "g = sns.FacetGrid(data, row='MARRIAGE')\n",
    "g = g.map(plt.hist, 'AGE', alpha=0.2).set_axis_labels('AGE','Count')\n",
    "g.add_legend()"
   ]
  },
  {
   "cell_type": "markdown",
   "metadata": {},
   "source": [
    "The statistics and plot show that married people tend to be older than singles."
   ]
  },
  {
   "cell_type": "markdown",
   "metadata": {},
   "source": [
    "*Marriage and Credit (LIMIT_BAL)*"
   ]
  },
  {
   "cell_type": "code",
   "execution_count": 43,
   "metadata": {},
   "outputs": [
    {
     "data": {
      "text/html": [
       "<div>\n",
       "<style scoped>\n",
       "    .dataframe tbody tr th:only-of-type {\n",
       "        vertical-align: middle;\n",
       "    }\n",
       "\n",
       "    .dataframe tbody tr th {\n",
       "        vertical-align: top;\n",
       "    }\n",
       "\n",
       "    .dataframe thead tr th {\n",
       "        text-align: left;\n",
       "    }\n",
       "\n",
       "    .dataframe thead tr:last-of-type th {\n",
       "        text-align: right;\n",
       "    }\n",
       "</style>\n",
       "<table border=\"1\" class=\"dataframe\">\n",
       "  <thead>\n",
       "    <tr>\n",
       "      <th></th>\n",
       "      <th colspan=\"2\" halign=\"left\">LIMIT_BAL</th>\n",
       "    </tr>\n",
       "    <tr>\n",
       "      <th></th>\n",
       "      <th>mean</th>\n",
       "      <th>std</th>\n",
       "    </tr>\n",
       "    <tr>\n",
       "      <th>MARRIAGE</th>\n",
       "      <th></th>\n",
       "      <th></th>\n",
       "    </tr>\n",
       "  </thead>\n",
       "  <tbody>\n",
       "    <tr>\n",
       "      <th>1</th>\n",
       "      <td>182,200.89318398127</td>\n",
       "      <td>133,382.2626683034</td>\n",
       "    </tr>\n",
       "    <tr>\n",
       "      <th>2</th>\n",
       "      <td>156,413.66073665748</td>\n",
       "      <td>125,673.42631606253</td>\n",
       "    </tr>\n",
       "    <tr>\n",
       "      <th>3</th>\n",
       "      <td>103,076.92307692308</td>\n",
       "      <td>95,572.61316011004</td>\n",
       "    </tr>\n",
       "  </tbody>\n",
       "</table>\n",
       "</div>"
      ],
      "text/plain": [
       "                   LIMIT_BAL                    \n",
       "                        mean                 std\n",
       "MARRIAGE                                        \n",
       "1        182,200.89318398127  133,382.2626683034\n",
       "2        156,413.66073665748 125,673.42631606253\n",
       "3        103,076.92307692308  95,572.61316011004"
      ]
     },
     "execution_count": 43,
     "metadata": {},
     "output_type": "execute_result"
    }
   ],
   "source": [
    "var = data[['MARRIAGE', 'LIMIT_BAL']].groupby('MARRIAGE').agg({'mean', 'std'})\n",
    "var"
   ]
  },
  {
   "cell_type": "markdown",
   "metadata": {},
   "source": [
    "Married people have more credit on average, and a greater variability of credit."
   ]
  },
  {
   "cell_type": "code",
   "execution_count": 44,
   "metadata": {},
   "outputs": [
    {
     "data": {
      "text/plain": [
       "<seaborn.axisgrid.FacetGrid at 0x1e8b1d4a5f8>"
      ]
     },
     "execution_count": 44,
     "metadata": {},
     "output_type": "execute_result"
    },
    {
     "data": {
      "image/png": "[encoded data removed]",
      "text/plain": [
       "<Figure size 224x648 with 3 Axes>"
      ]
     },
     "metadata": {
      "needs_background": "light"
     },
     "output_type": "display_data"
    }
   ],
   "source": [
    "g = sns.FacetGrid(data, row='MARRIAGE')\n",
    "g = g.map(plt.hist, 'AGE', alpha=0.2).set_axis_labels('AGE','Count')\n",
    "g.add_legend()"
   ]
  },
  {
   "cell_type": "markdown",
   "metadata": {},
   "source": [
    "### Numerical Variables"
   ]
  },
  {
   "cell_type": "markdown",
   "metadata": {},
   "source": [
    "#### Age"
   ]
  },
  {
   "cell_type": "markdown",
   "metadata": {},
   "source": [
    "AGE: Age in years"
   ]
  },
  {
   "cell_type": "code",
   "execution_count": 45,
   "metadata": {},
   "outputs": [],
   "source": [
    "var = 'AGE'"
   ]
  },
  {
   "cell_type": "code",
   "execution_count": 46,
   "metadata": {},
   "outputs": [
    {
     "data": {
      "text/plain": [
       "count            30,000.0\n",
       "mean              35.4855\n",
       "std     9.217904068090183\n",
       "min                  21.0\n",
       "25%                  28.0\n",
       "50%                  34.0\n",
       "75%                  41.0\n",
       "max                  79.0\n",
       "Name: AGE, dtype: float64"
      ]
     },
     "execution_count": 46,
     "metadata": {},
     "output_type": "execute_result"
    },
    {
     "data": {
      "image/png": "[encoded data removed]",
      "text/plain": [
       "<Figure size 432x288 with 1 Axes>"
      ]
     },
     "metadata": {
      "needs_background": "light"
     },
     "output_type": "display_data"
    },
    {
     "data": {
      "image/png": "[encoded data removed]",
      "text/plain": [
       "<Figure size 432x288 with 1 Axes>"
      ]
     },
     "metadata": {
      "needs_background": "light"
     },
     "output_type": "display_data"
    }
   ],
   "source": [
    "data[var].hist(rwidth=0.5, density=True)\n",
    "data[[var]].plot(kind='box')\n",
    "data[var].describe()"
   ]
  },
  {
   "cell_type": "markdown",
   "metadata": {},
   "source": [
    "Here we see a lot of outliers, that is, values that have an age greater than 60.5. We also note that 50% of the values lie between 28 and 41 and 75% of the values lie between 21 and 41."
   ]
  },
  {
   "cell_type": "code",
   "execution_count": 47,
   "metadata": {},
   "outputs": [
    {
     "data": {
      "text/plain": [
       "MARRIAGE    -0.4120014367553708\n",
       "LIMIT_BAL   0.14471279755733898\n",
       "EDUCATION   0.18243429685768472\n",
       "AGE                         1.0\n",
       "Name: AGE, dtype: float64"
      ]
     },
     "execution_count": 47,
     "metadata": {},
     "output_type": "execute_result"
    }
   ],
   "source": [
    "c = data.corr()['AGE']\n",
    "so = c.sort_values()\n",
    "new = so[abs(so) > 0.1]\n",
    "new"
   ]
  },
  {
   "cell_type": "markdown",
   "metadata": {},
   "source": [
    "We see significant correlations with Marriage and Education, which we have already explored. So we only need to examine the correlation with the amount of given credit (\"LIMIT_BAL\")."
   ]
  },
  {
   "cell_type": "code",
   "execution_count": 48,
   "metadata": {},
   "outputs": [
    {
     "data": {
      "image/png": "[encoded data removed]",
      "text/plain": [
       "<Figure size 432x288 with 1 Axes>"
      ]
     },
     "metadata": {
      "needs_background": "light"
     },
     "output_type": "display_data"
    }
   ],
   "source": [
    "plt.plot(data.loc[:,'AGE'], data['LIMIT_BAL'], marker='.', linestyle='none')\n",
    "plt.xlabel('AGE')\n",
    "plt.ylabel('LIMIT_BAL')\n",
    "plt.show()"
   ]
  },
  {
   "cell_type": "code",
   "execution_count": 49,
   "metadata": {},
   "outputs": [],
   "source": [
    "ALB = data[['AGE', 'LIMIT_BAL']].copy()\n",
    "ALB['decade'] = ALB.AGE.apply(lambda x: str(x)[0])"
   ]
  },
  {
   "cell_type": "code",
   "execution_count": 50,
   "metadata": {},
   "outputs": [
    {
     "data": {
      "text/html": [
       "<div>\n",
       "<style scoped>\n",
       "    .dataframe tbody tr th:only-of-type {\n",
       "        vertical-align: middle;\n",
       "    }\n",
       "\n",
       "    .dataframe tbody tr th {\n",
       "        vertical-align: top;\n",
       "    }\n",
       "\n",
       "    .dataframe thead tr th {\n",
       "        text-align: left;\n",
       "    }\n",
       "\n",
       "    .dataframe thead tr:last-of-type th {\n",
       "        text-align: right;\n",
       "    }\n",
       "</style>\n",
       "<table border=\"1\" class=\"dataframe\">\n",
       "  <thead>\n",
       "    <tr>\n",
       "      <th></th>\n",
       "      <th colspan=\"2\" halign=\"left\">LIMIT_BAL</th>\n",
       "    </tr>\n",
       "    <tr>\n",
       "      <th></th>\n",
       "      <th>mean</th>\n",
       "      <th>std</th>\n",
       "    </tr>\n",
       "    <tr>\n",
       "      <th>decade</th>\n",
       "      <th></th>\n",
       "      <th></th>\n",
       "    </tr>\n",
       "  </thead>\n",
       "  <tbody>\n",
       "    <tr>\n",
       "      <th>2</th>\n",
       "      <td>124,208.77521314203</td>\n",
       "      <td>105,741.30577718979</td>\n",
       "    </tr>\n",
       "    <tr>\n",
       "      <th>3</th>\n",
       "      <td>197,001.24577326927</td>\n",
       "      <td>131,459.83888377674</td>\n",
       "    </tr>\n",
       "    <tr>\n",
       "      <th>4</th>\n",
       "      <td>180,785.84158415842</td>\n",
       "      <td>136,586.78826500927</td>\n",
       "    </tr>\n",
       "    <tr>\n",
       "      <th>5</th>\n",
       "      <td>163,908.5860743272</td>\n",
       "      <td>141,508.86601655232</td>\n",
       "    </tr>\n",
       "    <tr>\n",
       "      <th>6</th>\n",
       "      <td>185,382.16560509554</td>\n",
       "      <td>142,454.56806318404</td>\n",
       "    </tr>\n",
       "    <tr>\n",
       "      <th>7</th>\n",
       "      <td>218,800.0</td>\n",
       "      <td>123,501.68689806091</td>\n",
       "    </tr>\n",
       "  </tbody>\n",
       "</table>\n",
       "</div>"
      ],
      "text/plain": [
       "                 LIMIT_BAL                    \n",
       "                      mean                 std\n",
       "decade                                        \n",
       "2      124,208.77521314203 105,741.30577718979\n",
       "3      197,001.24577326927 131,459.83888377674\n",
       "4      180,785.84158415842 136,586.78826500927\n",
       "5       163,908.5860743272 141,508.86601655232\n",
       "6      185,382.16560509554 142,454.56806318404\n",
       "7                218,800.0 123,501.68689806091"
      ]
     },
     "execution_count": 50,
     "metadata": {},
     "output_type": "execute_result"
    }
   ],
   "source": [
    "var = ALB[['decade', 'LIMIT_BAL']].groupby('decade').agg({'mean', 'std'})\n",
    "var"
   ]
  },
  {
   "cell_type": "code",
   "execution_count": 51,
   "metadata": {},
   "outputs": [
    {
     "data": {
      "text/plain": [
       "<matplotlib.axes._subplots.AxesSubplot at 0x1e8b206c7b8>"
      ]
     },
     "execution_count": 51,
     "metadata": {},
     "output_type": "execute_result"
    },
    {
     "data": {
      "image/png": "[encoded data removed]",
      "text/plain": [
       "<Figure size 432x288 with 1 Axes>"
      ]
     },
     "metadata": {
      "needs_background": "light"
     },
     "output_type": "display_data"
    }
   ],
   "source": [
    "var.plot(marker='.', linestyle='none')"
   ]
  },
  {
   "cell_type": "markdown",
   "metadata": {},
   "source": [
    "We see that the average amount of credit taken on is lowest in the 20s bracket, and is far higher after that."
   ]
  },
  {
   "cell_type": "markdown",
   "metadata": {},
   "source": [
    "#### LIMIT_BAL"
   ]
  },
  {
   "cell_type": "markdown",
   "metadata": {},
   "source": [
    "LIMIT_BAL: Amount of given credit in NT dollars (includes individual and family/supplementary credit"
   ]
  },
  {
   "cell_type": "code",
   "execution_count": 52,
   "metadata": {},
   "outputs": [],
   "source": [
    "var = 'LIMIT_BAL'"
   ]
  },
  {
   "cell_type": "code",
   "execution_count": 53,
   "metadata": {},
   "outputs": [
    {
     "data": {
      "text/plain": [
       "count              30,000.0\n",
       "mean    167,484.32266666667\n",
       "std     129,747.66156719506\n",
       "min                10,000.0\n",
       "25%                50,000.0\n",
       "50%               140,000.0\n",
       "75%               240,000.0\n",
       "max             1,000,000.0\n",
       "Name: LIMIT_BAL, dtype: float64"
      ]
     },
     "execution_count": 53,
     "metadata": {},
     "output_type": "execute_result"
    },
    {
     "data": {
      "image/png": "[encoded data removed]",
      "text/plain": [
       "<Figure size 432x288 with 1 Axes>"
      ]
     },
     "metadata": {
      "needs_background": "light"
     },
     "output_type": "display_data"
    },
    {
     "data": {
      "image/png": "[encoded data removed]",
      "text/plain": [
       "<Figure size 432x288 with 1 Axes>"
      ]
     },
     "metadata": {
      "needs_background": "light"
     },
     "output_type": "display_data"
    }
   ],
   "source": [
    "data[var].hist(rwidth=0.5)\n",
    "data[[var]].plot(kind='box')\n",
    "data[var].describe()"
   ]
  },
  {
   "cell_type": "markdown",
   "metadata": {},
   "source": [
    "We see a lot of outliers from the boxplot and a broad range, which makes sense. Most values should be clustered at a lower end of the spectrum, with a few points being outliers representing high amounts of credit owed (which should be outliers since most people should not have very high amounts of credit owed). We also see that the median is about 27,000 less than the mean, showing the influence of these outlier points on it. Finally, we can see the that this distribution has a high degree of variability associated with it, represented by the high standard deviation."
   ]
  },
  {
   "cell_type": "code",
   "execution_count": 54,
   "metadata": {},
   "outputs": [
    {
     "data": {
      "text/plain": [
       "EDUCATION   -0.23108753519666203\n",
       "PAY_2         -0.197135865439187\n",
       "PAY_3       -0.19132332903738378\n",
       "PAY_4       -0.18062940872051259\n",
       "PAY_1       -0.17074460499211994\n",
       "PAY_5       -0.17004461548219083\n",
       "PAY_6        -0.1678202893854305\n",
       "default      -0.1535198763934634\n",
       "MARRIAGE    -0.11101219257995855\n",
       "AGE          0.14471279755733898\n",
       "PAY_AMT2      0.1784079536837089\n",
       "PAY_AMT1     0.19523591523218456\n",
       "PAY_AMT4     0.20324241022461373\n",
       "PAY_AMT3     0.21016674772340774\n",
       "PAY_AMT5     0.21720243239551573\n",
       "PAY_AMT6      0.2195953686044145\n",
       "BILL_AMT2    0.27831436399777376\n",
       "BILL_AMT3    0.28323578358169615\n",
       "BILL_AMT1     0.2854298649650024\n",
       "BILL_AMT6     0.2903889506479491\n",
       "BILL_AMT4    0.29398762371600184\n",
       "BILL_AMT5     0.2955623376582501\n",
       "LIMIT_BAL                    1.0\n",
       "Name: LIMIT_BAL, dtype: float64"
      ]
     },
     "execution_count": 54,
     "metadata": {},
     "output_type": "execute_result"
    }
   ],
   "source": [
    "c = data.corr()['LIMIT_BAL']\n",
    "so = c.sort_values()\n",
    "new = so[abs(so) > 0.1]\n",
    "new"
   ]
  },
  {
   "cell_type": "markdown",
   "metadata": {},
   "source": [
    "Wow! We see that LIMIT_BAL - the amount of given credit - is notably correlated (using a 0.1 threshould value) with everything except for Sex. Upon thinking a little, we should realize that this is not too surprising. If our goal is to predict default, then a variable that tells us the amount of given credit should be very important and thus correlated with many of the other variables which should also do this."
   ]
  },
  {
   "cell_type": "markdown",
   "metadata": {},
   "source": [
    "We can put aside the correlations with Education, Marriage, and Age since those have been discussed above. So let us examine the correlations between LIMIT_BAL and the PAY_X variables, the BILL_AMTX variables, the PAY_AMTX variables, and the default variable:"
   ]
  },
  {
   "cell_type": "markdown",
   "metadata": {},
   "source": [
    "* Let's take the PAY_X variables as a group since they all represent repayment status, just at different times. Would we expect having more credit to be associated with a better or worse repayment status? I would think a worse one. I would think that having more credit makes it more likely that someone has delayed his or her payments. Therefore, it is surprising that this is not the case, and in fact more credit is associated with a better repayment status. This makes sense when thinking about it. Credit companies are more likely to extend lots of credit to customers they believe can pay back. So this is ultimately a noteable result.\n",
    "* Next, let's consider the relation between credit and the amount of our bill statement. Should more credit be associated with higher bill statements? Obviously yes. Credit is being taken for the purpose of spending. Here our intuitions serve us well as we see correlations of between 0.25 and 0.3 for LIMIT_BAL and the BILL_AMTX variables.\n",
    "* Next, we look at the relation between credit and previous payment. Should more credit mean that our previous payments were high? In light of looking at bill amount, I would think so. I would think more credit means I have done a good job of paying off my last payment. And indeed, we see positive correlations here, showing that to be the case.\n",
    "* Finally, we consider the correlation between credit and default. Should more credit be associated with more default? On one hand, it is easier to default with more credit owed. On the other hand, being extended that credit in the first place implies an ability to pay it off. What we see, ultimately, is that the second line of reasoning is correct. Credit is negatively associated with defaulting, likely because those with higher credit have greater ability to avoid default."
   ]
  },
  {
   "cell_type": "markdown",
   "metadata": {},
   "source": [
    "#### PAY_X"
   ]
  },
  {
   "cell_type": "markdown",
   "metadata": {},
   "source": [
    "PAY_0: Repayment status in September, 2005 (-1=pay duly, 1=payment delay for one month, 2=payment delay for two months, ... 8=payment delay for eight months, 9=payment delay for nine months and above)  \n",
    "PAY_2: Repayment status in August, 2005 (scale same as above)  \n",
    "PAY_3: Repayment status in July, 2005 (scale same as above)  \n",
    "PAY_4: Repayment status in June, 2005 (scale same as above)  \n",
    "PAY_5: Repayment status in May, 2005 (scale same as above)  \n",
    "PAY_6: Repayment status in April, 2005 (scale same as above)  "
   ]
  },
  {
   "cell_type": "code",
   "execution_count": 55,
   "metadata": {},
   "outputs": [],
   "source": [
    "def draw_histograms(df, variables, n_rows, n_cols, n_bins):\n",
    "    fig = plt.figure()\n",
    "    for i, var_name in enumerate(variables):\n",
    "        ax = fig.add_subplot(n_rows, n_cols, i+1)\n",
    "        df[var_name].hist(bins=n_bins, ax=ax)\n",
    "        ax.set_title(var_name)\n",
    "    fig.tight_layout()\n",
    "    plt.show()"
   ]
  },
  {
   "cell_type": "markdown",
   "metadata": {},
   "source": [
    "##### Histograms Next to Each Other"
   ]
  },
  {
   "cell_type": "code",
   "execution_count": 56,
   "metadata": {},
   "outputs": [
    {
     "data": {
      "image/png": "[encoded data removed]",
      "text/plain": [
       "<Figure size 432x288 with 6 Axes>"
      ]
     },
     "metadata": {
      "needs_background": "light"
     },
     "output_type": "display_data"
    }
   ],
   "source": [
    "late = data[['PAY_1', 'PAY_2', 'PAY_3', 'PAY_4', 'PAY_5', 'PAY_6']]\n",
    "draw_histograms(late, late.columns, 2, 3, 10)"
   ]
  },
  {
   "cell_type": "code",
   "execution_count": 57,
   "metadata": {},
   "outputs": [],
   "source": [
    "def draw_boxplots(df, variables, n_rows, n_cols):\n",
    "    fig = plt.figure()\n",
    "    for i, var_name in enumerate(variables):\n",
    "        ax = fig.add_subplot(n_rows, n_cols, i+1)\n",
    "        df[var_name].plot(kind='box')\n",
    "        ax.set_title(var_name)\n",
    "    fig.tight_layout()\n",
    "    plt.show()"
   ]
  },
  {
   "cell_type": "markdown",
   "metadata": {},
   "source": [
    "##### Boxplots Next to Each Other"
   ]
  },
  {
   "cell_type": "code",
   "execution_count": 58,
   "metadata": {},
   "outputs": [
    {
     "data": {
      "image/png": "[encoded data removed]",
      "text/plain": [
       "<Figure size 432x288 with 6 Axes>"
      ]
     },
     "metadata": {
      "needs_background": "light"
     },
     "output_type": "display_data"
    }
   ],
   "source": [
    "late = data[['PAY_1', 'PAY_2', 'PAY_3', 'PAY_4', 'PAY_5', 'PAY_6']]\n",
    "draw_boxplots(late, late.columns, 2, 3)"
   ]
  },
  {
   "cell_type": "markdown",
   "metadata": {},
   "source": [
    "Larger Histograms and Boxplots Together with Summary Statistics"
   ]
  },
  {
   "cell_type": "markdown",
   "metadata": {},
   "source": [
    "We see that the mean is increasing as we move forward in time, meaning that repayment status is getting worse. This is somewhat surprising as there is no particular reason why this has to be happening. One reason could be that most people's credit gets worse from month to month until one month when they decide to pay off most or all of their debts in one go, before starting the debt accumulation process over.\n",
    "The summary statistics, histograms, and boxplots don't tell us much more, other than that any payment delay is an outlier."
   ]
  },
  {
   "cell_type": "code",
   "execution_count": 59,
   "metadata": {},
   "outputs": [
    {
     "data": {
      "text/html": [
       "<div>\n",
       "<style scoped>\n",
       "    .dataframe tbody tr th:only-of-type {\n",
       "        vertical-align: middle;\n",
       "    }\n",
       "\n",
       "    .dataframe tbody tr th {\n",
       "        vertical-align: top;\n",
       "    }\n",
       "\n",
       "    .dataframe thead th {\n",
       "        text-align: right;\n",
       "    }\n",
       "</style>\n",
       "<table border=\"1\" class=\"dataframe\">\n",
       "  <thead>\n",
       "    <tr style=\"text-align: right;\">\n",
       "      <th></th>\n",
       "      <th>PAY_1</th>\n",
       "      <th>PAY_2</th>\n",
       "      <th>PAY_3</th>\n",
       "      <th>PAY_4</th>\n",
       "      <th>PAY_5</th>\n",
       "      <th>PAY_6</th>\n",
       "    </tr>\n",
       "  </thead>\n",
       "  <tbody>\n",
       "    <tr>\n",
       "      <th>LIMIT_BAL</th>\n",
       "      <td>-0.17074460499211994</td>\n",
       "      <td>-0.197135865439187</td>\n",
       "      <td>-0.19132332903738378</td>\n",
       "      <td>-0.18062940872051259</td>\n",
       "      <td>-0.17004461548219083</td>\n",
       "      <td>-0.1678202893854305</td>\n",
       "    </tr>\n",
       "    <tr>\n",
       "      <th>SEX</th>\n",
       "      <td>nan</td>\n",
       "      <td>nan</td>\n",
       "      <td>nan</td>\n",
       "      <td>nan</td>\n",
       "      <td>nan</td>\n",
       "      <td>nan</td>\n",
       "    </tr>\n",
       "    <tr>\n",
       "      <th>EDUCATION</th>\n",
       "      <td>nan</td>\n",
       "      <td>nan</td>\n",
       "      <td>nan</td>\n",
       "      <td>nan</td>\n",
       "      <td>nan</td>\n",
       "      <td>nan</td>\n",
       "    </tr>\n",
       "    <tr>\n",
       "      <th>MARRIAGE</th>\n",
       "      <td>nan</td>\n",
       "      <td>nan</td>\n",
       "      <td>nan</td>\n",
       "      <td>nan</td>\n",
       "      <td>nan</td>\n",
       "      <td>nan</td>\n",
       "    </tr>\n",
       "    <tr>\n",
       "      <th>AGE</th>\n",
       "      <td>nan</td>\n",
       "      <td>nan</td>\n",
       "      <td>nan</td>\n",
       "      <td>nan</td>\n",
       "      <td>nan</td>\n",
       "      <td>nan</td>\n",
       "    </tr>\n",
       "    <tr>\n",
       "      <th>PAY_1</th>\n",
       "      <td>1.0</td>\n",
       "      <td>0.6983894324845464</td>\n",
       "      <td>0.5169696606571565</td>\n",
       "      <td>0.46022436789029314</td>\n",
       "      <td>0.4244733990755022</td>\n",
       "      <td>0.3738045571750474</td>\n",
       "    </tr>\n",
       "    <tr>\n",
       "      <th>PAY_2</th>\n",
       "      <td>0.6983894324845464</td>\n",
       "      <td>1.0</td>\n",
       "      <td>0.6635291569167138</td>\n",
       "      <td>0.5127728528787494</td>\n",
       "      <td>0.46271748173224514</td>\n",
       "      <td>0.4070860651853456</td>\n",
       "    </tr>\n",
       "    <tr>\n",
       "      <th>PAY_3</th>\n",
       "      <td>0.5169696606571565</td>\n",
       "      <td>0.6635291569167138</td>\n",
       "      <td>1.0</td>\n",
       "      <td>0.678930991610762</td>\n",
       "      <td>0.5514297602967073</td>\n",
       "      <td>0.4928266325951435</td>\n",
       "    </tr>\n",
       "    <tr>\n",
       "      <th>PAY_4</th>\n",
       "      <td>0.46022436789029314</td>\n",
       "      <td>0.5127728528787494</td>\n",
       "      <td>0.678930991610762</td>\n",
       "      <td>1.0</td>\n",
       "      <td>0.7454190693686263</td>\n",
       "      <td>0.6028754765883724</td>\n",
       "    </tr>\n",
       "    <tr>\n",
       "      <th>PAY_5</th>\n",
       "      <td>0.4244733990755022</td>\n",
       "      <td>0.46271748173224514</td>\n",
       "      <td>0.5514297602967073</td>\n",
       "      <td>0.7454190693686263</td>\n",
       "      <td>1.0</td>\n",
       "      <td>0.7403572783092739</td>\n",
       "    </tr>\n",
       "    <tr>\n",
       "      <th>PAY_6</th>\n",
       "      <td>0.3738045571750474</td>\n",
       "      <td>0.4070860651853456</td>\n",
       "      <td>0.4928266325951435</td>\n",
       "      <td>0.6028754765883724</td>\n",
       "      <td>0.7403572783092739</td>\n",
       "      <td>1.0</td>\n",
       "    </tr>\n",
       "    <tr>\n",
       "      <th>BILL_AMT1</th>\n",
       "      <td>nan</td>\n",
       "      <td>nan</td>\n",
       "      <td>nan</td>\n",
       "      <td>nan</td>\n",
       "      <td>nan</td>\n",
       "      <td>nan</td>\n",
       "    </tr>\n",
       "    <tr>\n",
       "      <th>BILL_AMT2</th>\n",
       "      <td>nan</td>\n",
       "      <td>nan</td>\n",
       "      <td>nan</td>\n",
       "      <td>nan</td>\n",
       "      <td>nan</td>\n",
       "      <td>nan</td>\n",
       "    </tr>\n",
       "    <tr>\n",
       "      <th>BILL_AMT3</th>\n",
       "      <td>nan</td>\n",
       "      <td>nan</td>\n",
       "      <td>nan</td>\n",
       "      <td>nan</td>\n",
       "      <td>nan</td>\n",
       "      <td>nan</td>\n",
       "    </tr>\n",
       "    <tr>\n",
       "      <th>BILL_AMT4</th>\n",
       "      <td>nan</td>\n",
       "      <td>nan</td>\n",
       "      <td>nan</td>\n",
       "      <td>nan</td>\n",
       "      <td>nan</td>\n",
       "      <td>nan</td>\n",
       "    </tr>\n",
       "    <tr>\n",
       "      <th>BILL_AMT5</th>\n",
       "      <td>nan</td>\n",
       "      <td>nan</td>\n",
       "      <td>nan</td>\n",
       "      <td>nan</td>\n",
       "      <td>nan</td>\n",
       "      <td>nan</td>\n",
       "    </tr>\n",
       "    <tr>\n",
       "      <th>BILL_AMT6</th>\n",
       "      <td>nan</td>\n",
       "      <td>nan</td>\n",
       "      <td>nan</td>\n",
       "      <td>nan</td>\n",
       "      <td>nan</td>\n",
       "      <td>nan</td>\n",
       "    </tr>\n",
       "    <tr>\n",
       "      <th>PAY_AMT1</th>\n",
       "      <td>nan</td>\n",
       "      <td>nan</td>\n",
       "      <td>nan</td>\n",
       "      <td>nan</td>\n",
       "      <td>nan</td>\n",
       "      <td>nan</td>\n",
       "    </tr>\n",
       "    <tr>\n",
       "      <th>PAY_AMT2</th>\n",
       "      <td>nan</td>\n",
       "      <td>nan</td>\n",
       "      <td>nan</td>\n",
       "      <td>nan</td>\n",
       "      <td>nan</td>\n",
       "      <td>nan</td>\n",
       "    </tr>\n",
       "    <tr>\n",
       "      <th>PAY_AMT3</th>\n",
       "      <td>nan</td>\n",
       "      <td>nan</td>\n",
       "      <td>nan</td>\n",
       "      <td>nan</td>\n",
       "      <td>nan</td>\n",
       "      <td>nan</td>\n",
       "    </tr>\n",
       "    <tr>\n",
       "      <th>PAY_AMT4</th>\n",
       "      <td>nan</td>\n",
       "      <td>nan</td>\n",
       "      <td>nan</td>\n",
       "      <td>nan</td>\n",
       "      <td>nan</td>\n",
       "      <td>nan</td>\n",
       "    </tr>\n",
       "    <tr>\n",
       "      <th>PAY_AMT5</th>\n",
       "      <td>nan</td>\n",
       "      <td>nan</td>\n",
       "      <td>nan</td>\n",
       "      <td>nan</td>\n",
       "      <td>nan</td>\n",
       "      <td>nan</td>\n",
       "    </tr>\n",
       "    <tr>\n",
       "      <th>PAY_AMT6</th>\n",
       "      <td>nan</td>\n",
       "      <td>nan</td>\n",
       "      <td>nan</td>\n",
       "      <td>nan</td>\n",
       "      <td>nan</td>\n",
       "      <td>nan</td>\n",
       "    </tr>\n",
       "    <tr>\n",
       "      <th>default</th>\n",
       "      <td>0.3960191707577</td>\n",
       "      <td>0.3270930793674196</td>\n",
       "      <td>0.2869993895248475</td>\n",
       "      <td>0.2690554462141356</td>\n",
       "      <td>0.2608502900490302</td>\n",
       "      <td>0.24443727769509294</td>\n",
       "    </tr>\n",
       "  </tbody>\n",
       "</table>\n",
       "</div>"
      ],
      "text/plain": [
       "                         PAY_1               PAY_2                PAY_3  \\\n",
       "LIMIT_BAL -0.17074460499211994  -0.197135865439187 -0.19132332903738378   \n",
       "SEX                        nan                 nan                  nan   \n",
       "EDUCATION                  nan                 nan                  nan   \n",
       "MARRIAGE                   nan                 nan                  nan   \n",
       "AGE                        nan                 nan                  nan   \n",
       "PAY_1                      1.0  0.6983894324845464   0.5169696606571565   \n",
       "PAY_2       0.6983894324845464                 1.0   0.6635291569167138   \n",
       "PAY_3       0.5169696606571565  0.6635291569167138                  1.0   \n",
       "PAY_4      0.46022436789029314  0.5127728528787494    0.678930991610762   \n",
       "PAY_5       0.4244733990755022 0.46271748173224514   0.5514297602967073   \n",
       "PAY_6       0.3738045571750474  0.4070860651853456   0.4928266325951435   \n",
       "BILL_AMT1                  nan                 nan                  nan   \n",
       "BILL_AMT2                  nan                 nan                  nan   \n",
       "BILL_AMT3                  nan                 nan                  nan   \n",
       "BILL_AMT4                  nan                 nan                  nan   \n",
       "BILL_AMT5                  nan                 nan                  nan   \n",
       "BILL_AMT6                  nan                 nan                  nan   \n",
       "PAY_AMT1                   nan                 nan                  nan   \n",
       "PAY_AMT2                   nan                 nan                  nan   \n",
       "PAY_AMT3                   nan                 nan                  nan   \n",
       "PAY_AMT4                   nan                 nan                  nan   \n",
       "PAY_AMT5                   nan                 nan                  nan   \n",
       "PAY_AMT6                   nan                 nan                  nan   \n",
       "default        0.3960191707577  0.3270930793674196   0.2869993895248475   \n",
       "\n",
       "                         PAY_4                PAY_5               PAY_6  \n",
       "LIMIT_BAL -0.18062940872051259 -0.17004461548219083 -0.1678202893854305  \n",
       "SEX                        nan                  nan                 nan  \n",
       "EDUCATION                  nan                  nan                 nan  \n",
       "MARRIAGE                   nan                  nan                 nan  \n",
       "AGE                        nan                  nan                 nan  \n",
       "PAY_1      0.46022436789029314   0.4244733990755022  0.3738045571750474  \n",
       "PAY_2       0.5127728528787494  0.46271748173224514  0.4070860651853456  \n",
       "PAY_3        0.678930991610762   0.5514297602967073  0.4928266325951435  \n",
       "PAY_4                      1.0   0.7454190693686263  0.6028754765883724  \n",
       "PAY_5       0.7454190693686263                  1.0  0.7403572783092739  \n",
       "PAY_6       0.6028754765883724   0.7403572783092739                 1.0  \n",
       "BILL_AMT1                  nan                  nan                 nan  \n",
       "BILL_AMT2                  nan                  nan                 nan  \n",
       "BILL_AMT3                  nan                  nan                 nan  \n",
       "BILL_AMT4                  nan                  nan                 nan  \n",
       "BILL_AMT5                  nan                  nan                 nan  \n",
       "BILL_AMT6                  nan                  nan                 nan  \n",
       "PAY_AMT1                   nan                  nan                 nan  \n",
       "PAY_AMT2                   nan                  nan                 nan  \n",
       "PAY_AMT3                   nan                  nan                 nan  \n",
       "PAY_AMT4                   nan                  nan                 nan  \n",
       "PAY_AMT5                   nan                  nan                 nan  \n",
       "PAY_AMT6                   nan                  nan                 nan  \n",
       "default     0.2690554462141356   0.2608502900490302 0.24443727769509294  "
      ]
     },
     "execution_count": 59,
     "metadata": {},
     "output_type": "execute_result"
    }
   ],
   "source": [
    "c = data.corr()[['PAY_1', 'PAY_2', 'PAY_3', 'PAY_4', 'PAY_5', 'PAY_6']]\n",
    "c[abs(c) > 0.1]\n",
    "#so = c.sort_values()\n",
    "#new = so[abs(so) > 0.1]\n",
    "#new\n",
    "#SEX\n",
    "#EDUCATION\n",
    "#MARRIAGE\n",
    "#AGE\n",
    "#LIMIT_BAL"
   ]
  },
  {
   "cell_type": "markdown",
   "metadata": {},
   "source": [
    "We see that all the variables that are correlated with one value of PAY_X are also correlated with the others. Thus, we can examine them together."
   ]
  },
  {
   "cell_type": "markdown",
   "metadata": {},
   "source": [
    "So what are some things we notice?\n",
    "* They repayment status variables are highly correlated with each other. This makes sense. If I am behind on my payments one month, I am very likely to be behind on them the next month. Moreover, we see that the correlation between repayment status each month increases as we get closer to that month. That is month X-1 is more correlated to month X, than is month X-2, which in turn is more correlated than X-3, and so on.\n",
    "* We also notice a strong correlation between repayment status and defaulting. This also makes sense. The more behind we are on making payments, the more likely we are to defauly. Additionally, we notice that the correlation increases with time, which also makes sense. Being behind on your payments in September is more correlated with defaulting after September, than being behind on your payments in April."
   ]
  },
  {
   "cell_type": "markdown",
   "metadata": {},
   "source": [
    "#### BILL_AMTX"
   ]
  },
  {
   "cell_type": "markdown",
   "metadata": {},
   "source": [
    "BILL_AMT1: Amount of bill statement in September, 2005 (NT dollar)  \n",
    "BILL_AMT2: Amount of bill statement in August, 2005 (NT dollar)  \n",
    "BILL_AMT3: Amount of bill statement in July, 2005 (NT dollar)  \n",
    "BILL_AMT4: Amount of bill statement in June, 2005 (NT dollar)  \n",
    "BILL_AMT5: Amount of bill statement in May, 2005 (NT dollar)  \n",
    "BILL_AMT6: Amount of bill statement in April, 2005 (NT dollar)  "
   ]
  },
  {
   "cell_type": "code",
   "execution_count": 60,
   "metadata": {},
   "outputs": [
    {
     "data": {
      "image/png": "[encoded data removed]",
      "text/plain": [
       "<Figure size 432x288 with 6 Axes>"
      ]
     },
     "metadata": {
      "needs_background": "light"
     },
     "output_type": "display_data"
    }
   ],
   "source": [
    "# Histograms at a glance\n",
    "bills = data[['BILL_AMT1', 'BILL_AMT2', 'BILL_AMT3', 'BILL_AMT4', 'BILL_AMT5', 'BILL_AMT6']]\n",
    "draw_histograms(bills, bills.columns, 2, 3, 20)"
   ]
  },
  {
   "cell_type": "code",
   "execution_count": 61,
   "metadata": {},
   "outputs": [
    {
     "data": {
      "image/png": "[encoded data removed]",
      "text/plain": [
       "<Figure size 432x288 with 6 Axes>"
      ]
     },
     "metadata": {
      "needs_background": "light"
     },
     "output_type": "display_data"
    }
   ],
   "source": [
    "# Boxplots at a glance\n",
    "draw_boxplots(bills, bills.columns, 2, 3)"
   ]
  },
  {
   "cell_type": "markdown",
   "metadata": {},
   "source": [
    "We notice from the summary statistics that the mean amount of the bill statments are increasing with time. Also the standard deviation of the amount of bill statements is also increasing. The quantiles are also increasing."
   ]
  },
  {
   "cell_type": "code",
   "execution_count": 62,
   "metadata": {},
   "outputs": [
    {
     "data": {
      "text/html": [
       "<div>\n",
       "<style scoped>\n",
       "    .dataframe tbody tr th:only-of-type {\n",
       "        vertical-align: middle;\n",
       "    }\n",
       "\n",
       "    .dataframe tbody tr th {\n",
       "        vertical-align: top;\n",
       "    }\n",
       "\n",
       "    .dataframe thead th {\n",
       "        text-align: right;\n",
       "    }\n",
       "</style>\n",
       "<table border=\"1\" class=\"dataframe\">\n",
       "  <thead>\n",
       "    <tr style=\"text-align: right;\">\n",
       "      <th></th>\n",
       "      <th>BILL_AMT1</th>\n",
       "      <th>BILL_AMT2</th>\n",
       "      <th>BILL_AMT3</th>\n",
       "      <th>BILL_AMT4</th>\n",
       "      <th>BILL_AMT5</th>\n",
       "      <th>BILL_AMT6</th>\n",
       "    </tr>\n",
       "  </thead>\n",
       "  <tbody>\n",
       "    <tr>\n",
       "      <th>LIMIT_BAL</th>\n",
       "      <td>0.2854298649650024</td>\n",
       "      <td>0.27831436399777376</td>\n",
       "      <td>0.28323578358169615</td>\n",
       "      <td>0.29398762371600184</td>\n",
       "      <td>0.2955623376582501</td>\n",
       "      <td>0.2903889506479491</td>\n",
       "    </tr>\n",
       "    <tr>\n",
       "      <th>SEX</th>\n",
       "      <td>nan</td>\n",
       "      <td>nan</td>\n",
       "      <td>nan</td>\n",
       "      <td>nan</td>\n",
       "      <td>nan</td>\n",
       "      <td>nan</td>\n",
       "    </tr>\n",
       "    <tr>\n",
       "      <th>EDUCATION</th>\n",
       "      <td>nan</td>\n",
       "      <td>nan</td>\n",
       "      <td>nan</td>\n",
       "      <td>nan</td>\n",
       "      <td>nan</td>\n",
       "      <td>nan</td>\n",
       "    </tr>\n",
       "    <tr>\n",
       "      <th>MARRIAGE</th>\n",
       "      <td>nan</td>\n",
       "      <td>nan</td>\n",
       "      <td>nan</td>\n",
       "      <td>nan</td>\n",
       "      <td>nan</td>\n",
       "      <td>nan</td>\n",
       "    </tr>\n",
       "    <tr>\n",
       "      <th>AGE</th>\n",
       "      <td>nan</td>\n",
       "      <td>nan</td>\n",
       "      <td>nan</td>\n",
       "      <td>nan</td>\n",
       "      <td>nan</td>\n",
       "      <td>nan</td>\n",
       "    </tr>\n",
       "    <tr>\n",
       "      <th>PAY_1</th>\n",
       "      <td>nan</td>\n",
       "      <td>nan</td>\n",
       "      <td>nan</td>\n",
       "      <td>nan</td>\n",
       "      <td>nan</td>\n",
       "      <td>nan</td>\n",
       "    </tr>\n",
       "    <tr>\n",
       "      <th>PAY_2</th>\n",
       "      <td>nan</td>\n",
       "      <td>nan</td>\n",
       "      <td>nan</td>\n",
       "      <td>nan</td>\n",
       "      <td>nan</td>\n",
       "      <td>nan</td>\n",
       "    </tr>\n",
       "    <tr>\n",
       "      <th>PAY_3</th>\n",
       "      <td>nan</td>\n",
       "      <td>nan</td>\n",
       "      <td>nan</td>\n",
       "      <td>nan</td>\n",
       "      <td>nan</td>\n",
       "      <td>nan</td>\n",
       "    </tr>\n",
       "    <tr>\n",
       "      <th>PAY_4</th>\n",
       "      <td>nan</td>\n",
       "      <td>nan</td>\n",
       "      <td>nan</td>\n",
       "      <td>nan</td>\n",
       "      <td>nan</td>\n",
       "      <td>nan</td>\n",
       "    </tr>\n",
       "    <tr>\n",
       "      <th>PAY_5</th>\n",
       "      <td>nan</td>\n",
       "      <td>nan</td>\n",
       "      <td>nan</td>\n",
       "      <td>nan</td>\n",
       "      <td>nan</td>\n",
       "      <td>nan</td>\n",
       "    </tr>\n",
       "    <tr>\n",
       "      <th>PAY_6</th>\n",
       "      <td>nan</td>\n",
       "      <td>nan</td>\n",
       "      <td>nan</td>\n",
       "      <td>nan</td>\n",
       "      <td>nan</td>\n",
       "      <td>nan</td>\n",
       "    </tr>\n",
       "    <tr>\n",
       "      <th>BILL_AMT1</th>\n",
       "      <td>1.0</td>\n",
       "      <td>0.9514836727518374</td>\n",
       "      <td>0.8922785291271761</td>\n",
       "      <td>0.8602721890293005</td>\n",
       "      <td>0.8297786058330343</td>\n",
       "      <td>0.8026501885528919</td>\n",
       "    </tr>\n",
       "    <tr>\n",
       "      <th>BILL_AMT2</th>\n",
       "      <td>0.9514836727518374</td>\n",
       "      <td>1.0</td>\n",
       "      <td>0.9283262592714886</td>\n",
       "      <td>0.8924822912576753</td>\n",
       "      <td>0.859778307271451</td>\n",
       "      <td>0.8315935591018396</td>\n",
       "    </tr>\n",
       "    <tr>\n",
       "      <th>BILL_AMT3</th>\n",
       "      <td>0.8922785291271761</td>\n",
       "      <td>0.9283262592714886</td>\n",
       "      <td>1.0</td>\n",
       "      <td>0.9239694565909764</td>\n",
       "      <td>0.8839096973619937</td>\n",
       "      <td>0.8533200905940386</td>\n",
       "    </tr>\n",
       "    <tr>\n",
       "      <th>BILL_AMT4</th>\n",
       "      <td>0.8602721890293005</td>\n",
       "      <td>0.8924822912576753</td>\n",
       "      <td>0.9239694565909764</td>\n",
       "      <td>1.0</td>\n",
       "      <td>0.9401344040880266</td>\n",
       "      <td>0.9009409547979025</td>\n",
       "    </tr>\n",
       "    <tr>\n",
       "      <th>BILL_AMT5</th>\n",
       "      <td>0.8297786058330343</td>\n",
       "      <td>0.859778307271451</td>\n",
       "      <td>0.8839096973619937</td>\n",
       "      <td>0.9401344040880266</td>\n",
       "      <td>1.0</td>\n",
       "      <td>0.9461968070522464</td>\n",
       "    </tr>\n",
       "    <tr>\n",
       "      <th>BILL_AMT6</th>\n",
       "      <td>0.8026501885528919</td>\n",
       "      <td>0.8315935591018396</td>\n",
       "      <td>0.8533200905940386</td>\n",
       "      <td>0.9009409547979025</td>\n",
       "      <td>0.9461968070522464</td>\n",
       "      <td>1.0</td>\n",
       "    </tr>\n",
       "    <tr>\n",
       "      <th>PAY_AMT1</th>\n",
       "      <td>0.14027727757531827</td>\n",
       "      <td>0.28036535701408555</td>\n",
       "      <td>0.2443352376081392</td>\n",
       "      <td>0.23301185215341472</td>\n",
       "      <td>0.21703082377803495</td>\n",
       "      <td>0.19996500616338114</td>\n",
       "    </tr>\n",
       "    <tr>\n",
       "      <th>PAY_AMT2</th>\n",
       "      <td>nan</td>\n",
       "      <td>0.10085087751754053</td>\n",
       "      <td>0.31693597717969435</td>\n",
       "      <td>0.20756372904210446</td>\n",
       "      <td>0.1812464910523023</td>\n",
       "      <td>0.17266293741805372</td>\n",
       "    </tr>\n",
       "    <tr>\n",
       "      <th>PAY_AMT3</th>\n",
       "      <td>0.156887138475675</td>\n",
       "      <td>0.15071819370166342</td>\n",
       "      <td>0.13001118162440695</td>\n",
       "      <td>0.3000225291116425</td>\n",
       "      <td>0.2523048617306058</td>\n",
       "      <td>0.2337697933269198</td>\n",
       "    </tr>\n",
       "    <tr>\n",
       "      <th>PAY_AMT4</th>\n",
       "      <td>0.15830253328354743</td>\n",
       "      <td>0.14739810422001587</td>\n",
       "      <td>0.14340460499244492</td>\n",
       "      <td>0.1301914077878168</td>\n",
       "      <td>0.293118463184434</td>\n",
       "      <td>0.25023682493343924</td>\n",
       "    </tr>\n",
       "    <tr>\n",
       "      <th>PAY_AMT5</th>\n",
       "      <td>0.16702571208290615</td>\n",
       "      <td>0.1579574116239592</td>\n",
       "      <td>0.1797123504064784</td>\n",
       "      <td>0.16043303762898942</td>\n",
       "      <td>0.14157417995959912</td>\n",
       "      <td>0.30772888950112604</td>\n",
       "    </tr>\n",
       "    <tr>\n",
       "      <th>PAY_AMT6</th>\n",
       "      <td>0.17934112200690228</td>\n",
       "      <td>0.17425616563434684</td>\n",
       "      <td>0.18232596615205957</td>\n",
       "      <td>0.17763699418675602</td>\n",
       "      <td>0.16418445035362986</td>\n",
       "      <td>0.11549416685165832</td>\n",
       "    </tr>\n",
       "    <tr>\n",
       "      <th>default</th>\n",
       "      <td>nan</td>\n",
       "      <td>nan</td>\n",
       "      <td>nan</td>\n",
       "      <td>nan</td>\n",
       "      <td>nan</td>\n",
       "      <td>nan</td>\n",
       "    </tr>\n",
       "  </tbody>\n",
       "</table>\n",
       "</div>"
      ],
      "text/plain": [
       "                    BILL_AMT1           BILL_AMT2           BILL_AMT3  \\\n",
       "LIMIT_BAL  0.2854298649650024 0.27831436399777376 0.28323578358169615   \n",
       "SEX                       nan                 nan                 nan   \n",
       "EDUCATION                 nan                 nan                 nan   \n",
       "MARRIAGE                  nan                 nan                 nan   \n",
       "AGE                       nan                 nan                 nan   \n",
       "PAY_1                     nan                 nan                 nan   \n",
       "PAY_2                     nan                 nan                 nan   \n",
       "PAY_3                     nan                 nan                 nan   \n",
       "PAY_4                     nan                 nan                 nan   \n",
       "PAY_5                     nan                 nan                 nan   \n",
       "PAY_6                     nan                 nan                 nan   \n",
       "BILL_AMT1                 1.0  0.9514836727518374  0.8922785291271761   \n",
       "BILL_AMT2  0.9514836727518374                 1.0  0.9283262592714886   \n",
       "BILL_AMT3  0.8922785291271761  0.9283262592714886                 1.0   \n",
       "BILL_AMT4  0.8602721890293005  0.8924822912576753  0.9239694565909764   \n",
       "BILL_AMT5  0.8297786058330343   0.859778307271451  0.8839096973619937   \n",
       "BILL_AMT6  0.8026501885528919  0.8315935591018396  0.8533200905940386   \n",
       "PAY_AMT1  0.14027727757531827 0.28036535701408555  0.2443352376081392   \n",
       "PAY_AMT2                  nan 0.10085087751754053 0.31693597717969435   \n",
       "PAY_AMT3    0.156887138475675 0.15071819370166342 0.13001118162440695   \n",
       "PAY_AMT4  0.15830253328354743 0.14739810422001587 0.14340460499244492   \n",
       "PAY_AMT5  0.16702571208290615  0.1579574116239592  0.1797123504064784   \n",
       "PAY_AMT6  0.17934112200690228 0.17425616563434684 0.18232596615205957   \n",
       "default                   nan                 nan                 nan   \n",
       "\n",
       "                    BILL_AMT4           BILL_AMT5           BILL_AMT6  \n",
       "LIMIT_BAL 0.29398762371600184  0.2955623376582501  0.2903889506479491  \n",
       "SEX                       nan                 nan                 nan  \n",
       "EDUCATION                 nan                 nan                 nan  \n",
       "MARRIAGE                  nan                 nan                 nan  \n",
       "AGE                       nan                 nan                 nan  \n",
       "PAY_1                     nan                 nan                 nan  \n",
       "PAY_2                     nan                 nan                 nan  \n",
       "PAY_3                     nan                 nan                 nan  \n",
       "PAY_4                     nan                 nan                 nan  \n",
       "PAY_5                     nan                 nan                 nan  \n",
       "PAY_6                     nan                 nan                 nan  \n",
       "BILL_AMT1  0.8602721890293005  0.8297786058330343  0.8026501885528919  \n",
       "BILL_AMT2  0.8924822912576753   0.859778307271451  0.8315935591018396  \n",
       "BILL_AMT3  0.9239694565909764  0.8839096973619937  0.8533200905940386  \n",
       "BILL_AMT4                 1.0  0.9401344040880266  0.9009409547979025  \n",
       "BILL_AMT5  0.9401344040880266                 1.0  0.9461968070522464  \n",
       "BILL_AMT6  0.9009409547979025  0.9461968070522464                 1.0  \n",
       "PAY_AMT1  0.23301185215341472 0.21703082377803495 0.19996500616338114  \n",
       "PAY_AMT2  0.20756372904210446  0.1812464910523023 0.17266293741805372  \n",
       "PAY_AMT3   0.3000225291116425  0.2523048617306058  0.2337697933269198  \n",
       "PAY_AMT4   0.1301914077878168   0.293118463184434 0.25023682493343924  \n",
       "PAY_AMT5  0.16043303762898942 0.14157417995959912 0.30772888950112604  \n",
       "PAY_AMT6  0.17763699418675602 0.16418445035362986 0.11549416685165832  \n",
       "default                   nan                 nan                 nan  "
      ]
     },
     "execution_count": 62,
     "metadata": {},
     "output_type": "execute_result"
    }
   ],
   "source": [
    "c = data.corr()[['BILL_AMT1', 'BILL_AMT2', 'BILL_AMT3', 'BILL_AMT4', 'BILL_AMT5', 'BILL_AMT6']]\n",
    "c[abs(c) > 0.1]\n",
    "#so = c.sort_values()\n",
    "#new = so[abs(so) > 0.1]\n",
    "#new\n",
    "#SEX\n",
    "#EDUCATION\n",
    "#MARRIAGE\n",
    "#AGE\n",
    "#LIMIT_BAL\n",
    "# PAY_X"
   ]
  },
  {
   "cell_type": "markdown",
   "metadata": {},
   "source": [
    "We observe that, with the exception of the correlation between BILL_AMT1 and PAY_AMT2 (the correlation between the bill statement in September and the amount of the previous payment in August), all BILL_AMTs have the same noteable correlations at the 0.1 threshold level. We need only examine the correlations between BILL_AMTs and between BILL_AMTs and PAY_AMTs since all other correlations have been previously considered."
   ]
  },
  {
   "cell_type": "markdown",
   "metadata": {},
   "source": [
    "* We begin with correlations with BILL_AMTs. We notice their high correlations with one another and observe that their correlations increase with proximity in time, the same way theat the correlations between repayment status worked. These mean that high bill statements month to month are correlated, as we would expect.\n",
    "* We also note that bill statement is correlated with previous payments. That is a high bill amount in month X is associated with a high previous payment in month X, as well as in the preceding months and forthcoming months. We do notice a special relationship among the variables whereby BILL_AMTX is especially correlated with PAY_AMTX+1. This means that the amount of a bill statement in month X is correlated with the amount of the previous payment in the next month. Which is as it should be. "
   ]
  },
  {
   "cell_type": "markdown",
   "metadata": {},
   "source": [
    "#### PAY_AMTX"
   ]
  },
  {
   "cell_type": "markdown",
   "metadata": {},
   "source": [
    "PAY_AMT1: Amount of previous payment in September, 2005 (NT dollar)  \n",
    "PAY_AMT2: Amount of previous payment in August, 2005 (NT dollar)  \n",
    "PAY_AMT3: Amount of previous payment in July, 2005 (NT dollar)  \n",
    "PAY_AMT4: Amount of previous payment in June, 2005 (NT dollar)  \n",
    "PAY_AMT5: Amount of previous payment in May, 2005 (NT dollar)  \n",
    "PAY_AMT6: Amount of previous payment in April, 2005 (NT dollar)  "
   ]
  },
  {
   "cell_type": "code",
   "execution_count": 63,
   "metadata": {},
   "outputs": [
    {
     "data": {
      "image/png": "[encoded data removed]",
      "text/plain": [
       "<Figure size 432x288 with 6 Axes>"
      ]
     },
     "metadata": {
      "needs_background": "light"
     },
     "output_type": "display_data"
    }
   ],
   "source": [
    "prev = data[['PAY_AMT1', 'PAY_AMT2', 'PAY_AMT3', 'PAY_AMT4', 'PAY_AMT5', 'PAY_AMT6']]\n",
    "draw_histograms(prev, prev.columns, 2, 3, 20)"
   ]
  },
  {
   "cell_type": "code",
   "execution_count": 64,
   "metadata": {},
   "outputs": [
    {
     "data": {
      "image/png": "[encoded data removed]",
      "text/plain": [
       "<Figure size 432x288 with 6 Axes>"
      ]
     },
     "metadata": {
      "needs_background": "light"
     },
     "output_type": "display_data"
    }
   ],
   "source": [
    "draw_boxplots(prev, prev.columns, 2, 3)"
   ]
  },
  {
   "cell_type": "markdown",
   "metadata": {},
   "source": [
    "The amount of previous payments is very low in relation to the outliers that exist. Other than that, not many patterns to observe."
   ]
  },
  {
   "cell_type": "markdown",
   "metadata": {},
   "source": [
    "These are examples of high-paying, wealthy customers."
   ]
  },
  {
   "cell_type": "code",
   "execution_count": 65,
   "metadata": {},
   "outputs": [
    {
     "data": {
      "text/html": [
       "<div>\n",
       "<style scoped>\n",
       "    .dataframe tbody tr th:only-of-type {\n",
       "        vertical-align: middle;\n",
       "    }\n",
       "\n",
       "    .dataframe tbody tr th {\n",
       "        vertical-align: top;\n",
       "    }\n",
       "\n",
       "    .dataframe thead th {\n",
       "        text-align: right;\n",
       "    }\n",
       "</style>\n",
       "<table border=\"1\" class=\"dataframe\">\n",
       "  <thead>\n",
       "    <tr style=\"text-align: right;\">\n",
       "      <th></th>\n",
       "      <th>PAY_AMT1</th>\n",
       "      <th>PAY_AMT2</th>\n",
       "      <th>PAY_AMT3</th>\n",
       "      <th>PAY_AMT4</th>\n",
       "      <th>PAY_AMT5</th>\n",
       "      <th>PAY_AMT6</th>\n",
       "    </tr>\n",
       "  </thead>\n",
       "  <tbody>\n",
       "    <tr>\n",
       "      <th>LIMIT_BAL</th>\n",
       "      <td>0.19523591523218456</td>\n",
       "      <td>0.1784079536837089</td>\n",
       "      <td>0.21016674772340774</td>\n",
       "      <td>0.20324241022461373</td>\n",
       "      <td>0.21720243239551573</td>\n",
       "      <td>0.2195953686044145</td>\n",
       "    </tr>\n",
       "    <tr>\n",
       "      <th>SEX</th>\n",
       "      <td>nan</td>\n",
       "      <td>nan</td>\n",
       "      <td>nan</td>\n",
       "      <td>nan</td>\n",
       "      <td>nan</td>\n",
       "      <td>nan</td>\n",
       "    </tr>\n",
       "    <tr>\n",
       "      <th>EDUCATION</th>\n",
       "      <td>nan</td>\n",
       "      <td>nan</td>\n",
       "      <td>nan</td>\n",
       "      <td>nan</td>\n",
       "      <td>nan</td>\n",
       "      <td>nan</td>\n",
       "    </tr>\n",
       "    <tr>\n",
       "      <th>MARRIAGE</th>\n",
       "      <td>nan</td>\n",
       "      <td>nan</td>\n",
       "      <td>nan</td>\n",
       "      <td>nan</td>\n",
       "      <td>nan</td>\n",
       "      <td>nan</td>\n",
       "    </tr>\n",
       "    <tr>\n",
       "      <th>AGE</th>\n",
       "      <td>nan</td>\n",
       "      <td>nan</td>\n",
       "      <td>nan</td>\n",
       "      <td>nan</td>\n",
       "      <td>nan</td>\n",
       "      <td>nan</td>\n",
       "    </tr>\n",
       "    <tr>\n",
       "      <th>PAY_1</th>\n",
       "      <td>nan</td>\n",
       "      <td>nan</td>\n",
       "      <td>nan</td>\n",
       "      <td>nan</td>\n",
       "      <td>nan</td>\n",
       "      <td>nan</td>\n",
       "    </tr>\n",
       "    <tr>\n",
       "      <th>PAY_2</th>\n",
       "      <td>nan</td>\n",
       "      <td>nan</td>\n",
       "      <td>nan</td>\n",
       "      <td>nan</td>\n",
       "      <td>nan</td>\n",
       "      <td>nan</td>\n",
       "    </tr>\n",
       "    <tr>\n",
       "      <th>PAY_3</th>\n",
       "      <td>nan</td>\n",
       "      <td>nan</td>\n",
       "      <td>nan</td>\n",
       "      <td>nan</td>\n",
       "      <td>nan</td>\n",
       "      <td>nan</td>\n",
       "    </tr>\n",
       "    <tr>\n",
       "      <th>PAY_4</th>\n",
       "      <td>nan</td>\n",
       "      <td>nan</td>\n",
       "      <td>nan</td>\n",
       "      <td>nan</td>\n",
       "      <td>nan</td>\n",
       "      <td>nan</td>\n",
       "    </tr>\n",
       "    <tr>\n",
       "      <th>PAY_5</th>\n",
       "      <td>nan</td>\n",
       "      <td>nan</td>\n",
       "      <td>nan</td>\n",
       "      <td>nan</td>\n",
       "      <td>nan</td>\n",
       "      <td>nan</td>\n",
       "    </tr>\n",
       "    <tr>\n",
       "      <th>PAY_6</th>\n",
       "      <td>nan</td>\n",
       "      <td>nan</td>\n",
       "      <td>nan</td>\n",
       "      <td>nan</td>\n",
       "      <td>nan</td>\n",
       "      <td>nan</td>\n",
       "    </tr>\n",
       "    <tr>\n",
       "      <th>BILL_AMT1</th>\n",
       "      <td>0.14027727757531827</td>\n",
       "      <td>nan</td>\n",
       "      <td>0.156887138475675</td>\n",
       "      <td>0.15830253328354743</td>\n",
       "      <td>0.16702571208290615</td>\n",
       "      <td>0.17934112200690228</td>\n",
       "    </tr>\n",
       "    <tr>\n",
       "      <th>BILL_AMT2</th>\n",
       "      <td>0.28036535701408555</td>\n",
       "      <td>0.10085087751754053</td>\n",
       "      <td>0.15071819370166342</td>\n",
       "      <td>0.14739810422001587</td>\n",
       "      <td>0.1579574116239592</td>\n",
       "      <td>0.17425616563434684</td>\n",
       "    </tr>\n",
       "    <tr>\n",
       "      <th>BILL_AMT3</th>\n",
       "      <td>0.2443352376081392</td>\n",
       "      <td>0.31693597717969435</td>\n",
       "      <td>0.13001118162440695</td>\n",
       "      <td>0.14340460499244492</td>\n",
       "      <td>0.1797123504064784</td>\n",
       "      <td>0.18232596615205957</td>\n",
       "    </tr>\n",
       "    <tr>\n",
       "      <th>BILL_AMT4</th>\n",
       "      <td>0.23301185215341472</td>\n",
       "      <td>0.20756372904210446</td>\n",
       "      <td>0.3000225291116425</td>\n",
       "      <td>0.1301914077878168</td>\n",
       "      <td>0.16043303762898942</td>\n",
       "      <td>0.17763699418675602</td>\n",
       "    </tr>\n",
       "    <tr>\n",
       "      <th>BILL_AMT5</th>\n",
       "      <td>0.21703082377803495</td>\n",
       "      <td>0.1812464910523023</td>\n",
       "      <td>0.2523048617306058</td>\n",
       "      <td>0.293118463184434</td>\n",
       "      <td>0.14157417995959912</td>\n",
       "      <td>0.16418445035362986</td>\n",
       "    </tr>\n",
       "    <tr>\n",
       "      <th>BILL_AMT6</th>\n",
       "      <td>0.19996500616338114</td>\n",
       "      <td>0.17266293741805372</td>\n",
       "      <td>0.2337697933269198</td>\n",
       "      <td>0.25023682493343924</td>\n",
       "      <td>0.30772888950112604</td>\n",
       "      <td>0.11549416685165832</td>\n",
       "    </tr>\n",
       "    <tr>\n",
       "      <th>PAY_AMT1</th>\n",
       "      <td>1.0</td>\n",
       "      <td>0.2855755286868565</td>\n",
       "      <td>0.25219113895238043</td>\n",
       "      <td>0.1995579311706692</td>\n",
       "      <td>0.14845927501532108</td>\n",
       "      <td>0.18573525544574024</td>\n",
       "    </tr>\n",
       "    <tr>\n",
       "      <th>PAY_AMT2</th>\n",
       "      <td>0.2855755286868565</td>\n",
       "      <td>1.0</td>\n",
       "      <td>0.24477045029288258</td>\n",
       "      <td>0.18010674364564283</td>\n",
       "      <td>0.18090775259419362</td>\n",
       "      <td>0.15763391627235926</td>\n",
       "    </tr>\n",
       "    <tr>\n",
       "      <th>PAY_AMT3</th>\n",
       "      <td>0.25219113895238043</td>\n",
       "      <td>0.24477045029288258</td>\n",
       "      <td>1.0</td>\n",
       "      <td>0.21632509170083622</td>\n",
       "      <td>0.1592137203086918</td>\n",
       "      <td>0.16274003329184034</td>\n",
       "    </tr>\n",
       "    <tr>\n",
       "      <th>PAY_AMT4</th>\n",
       "      <td>0.1995579311706692</td>\n",
       "      <td>0.18010674364564283</td>\n",
       "      <td>0.21632509170083622</td>\n",
       "      <td>1.0</td>\n",
       "      <td>0.15183043582616415</td>\n",
       "      <td>0.15783391560138624</td>\n",
       "    </tr>\n",
       "    <tr>\n",
       "      <th>PAY_AMT5</th>\n",
       "      <td>0.14845927501532108</td>\n",
       "      <td>0.18090775259419362</td>\n",
       "      <td>0.1592137203086918</td>\n",
       "      <td>0.15183043582616415</td>\n",
       "      <td>1.0</td>\n",
       "      <td>0.15489552525960384</td>\n",
       "    </tr>\n",
       "    <tr>\n",
       "      <th>PAY_AMT6</th>\n",
       "      <td>0.18573525544574024</td>\n",
       "      <td>0.15763391627235926</td>\n",
       "      <td>0.16274003329184034</td>\n",
       "      <td>0.15783391560138624</td>\n",
       "      <td>0.15489552525960384</td>\n",
       "      <td>1.0</td>\n",
       "    </tr>\n",
       "    <tr>\n",
       "      <th>default</th>\n",
       "      <td>nan</td>\n",
       "      <td>nan</td>\n",
       "      <td>nan</td>\n",
       "      <td>nan</td>\n",
       "      <td>nan</td>\n",
       "      <td>nan</td>\n",
       "    </tr>\n",
       "  </tbody>\n",
       "</table>\n",
       "</div>"
      ],
      "text/plain": [
       "                     PAY_AMT1            PAY_AMT2            PAY_AMT3  \\\n",
       "LIMIT_BAL 0.19523591523218456  0.1784079536837089 0.21016674772340774   \n",
       "SEX                       nan                 nan                 nan   \n",
       "EDUCATION                 nan                 nan                 nan   \n",
       "MARRIAGE                  nan                 nan                 nan   \n",
       "AGE                       nan                 nan                 nan   \n",
       "PAY_1                     nan                 nan                 nan   \n",
       "PAY_2                     nan                 nan                 nan   \n",
       "PAY_3                     nan                 nan                 nan   \n",
       "PAY_4                     nan                 nan                 nan   \n",
       "PAY_5                     nan                 nan                 nan   \n",
       "PAY_6                     nan                 nan                 nan   \n",
       "BILL_AMT1 0.14027727757531827                 nan   0.156887138475675   \n",
       "BILL_AMT2 0.28036535701408555 0.10085087751754053 0.15071819370166342   \n",
       "BILL_AMT3  0.2443352376081392 0.31693597717969435 0.13001118162440695   \n",
       "BILL_AMT4 0.23301185215341472 0.20756372904210446  0.3000225291116425   \n",
       "BILL_AMT5 0.21703082377803495  0.1812464910523023  0.2523048617306058   \n",
       "BILL_AMT6 0.19996500616338114 0.17266293741805372  0.2337697933269198   \n",
       "PAY_AMT1                  1.0  0.2855755286868565 0.25219113895238043   \n",
       "PAY_AMT2   0.2855755286868565                 1.0 0.24477045029288258   \n",
       "PAY_AMT3  0.25219113895238043 0.24477045029288258                 1.0   \n",
       "PAY_AMT4   0.1995579311706692 0.18010674364564283 0.21632509170083622   \n",
       "PAY_AMT5  0.14845927501532108 0.18090775259419362  0.1592137203086918   \n",
       "PAY_AMT6  0.18573525544574024 0.15763391627235926 0.16274003329184034   \n",
       "default                   nan                 nan                 nan   \n",
       "\n",
       "                     PAY_AMT4            PAY_AMT5            PAY_AMT6  \n",
       "LIMIT_BAL 0.20324241022461373 0.21720243239551573  0.2195953686044145  \n",
       "SEX                       nan                 nan                 nan  \n",
       "EDUCATION                 nan                 nan                 nan  \n",
       "MARRIAGE                  nan                 nan                 nan  \n",
       "AGE                       nan                 nan                 nan  \n",
       "PAY_1                     nan                 nan                 nan  \n",
       "PAY_2                     nan                 nan                 nan  \n",
       "PAY_3                     nan                 nan                 nan  \n",
       "PAY_4                     nan                 nan                 nan  \n",
       "PAY_5                     nan                 nan                 nan  \n",
       "PAY_6                     nan                 nan                 nan  \n",
       "BILL_AMT1 0.15830253328354743 0.16702571208290615 0.17934112200690228  \n",
       "BILL_AMT2 0.14739810422001587  0.1579574116239592 0.17425616563434684  \n",
       "BILL_AMT3 0.14340460499244492  0.1797123504064784 0.18232596615205957  \n",
       "BILL_AMT4  0.1301914077878168 0.16043303762898942 0.17763699418675602  \n",
       "BILL_AMT5   0.293118463184434 0.14157417995959912 0.16418445035362986  \n",
       "BILL_AMT6 0.25023682493343924 0.30772888950112604 0.11549416685165832  \n",
       "PAY_AMT1   0.1995579311706692 0.14845927501532108 0.18573525544574024  \n",
       "PAY_AMT2  0.18010674364564283 0.18090775259419362 0.15763391627235926  \n",
       "PAY_AMT3  0.21632509170083622  0.1592137203086918 0.16274003329184034  \n",
       "PAY_AMT4                  1.0 0.15183043582616415 0.15783391560138624  \n",
       "PAY_AMT5  0.15183043582616415                 1.0 0.15489552525960384  \n",
       "PAY_AMT6  0.15783391560138624 0.15489552525960384                 1.0  \n",
       "default                   nan                 nan                 nan  "
      ]
     },
     "execution_count": 65,
     "metadata": {},
     "output_type": "execute_result"
    }
   ],
   "source": [
    "c = data.corr()[['PAY_AMT1', 'PAY_AMT2', 'PAY_AMT3', 'PAY_AMT4', 'PAY_AMT5', 'PAY_AMT6']]\n",
    "c[abs(c) > 0.1]\n",
    "#so = c.sort_values()\n",
    "#new = so[abs(so) > 0.1]\n",
    "#new\n",
    "#SEX\n",
    "#EDUCATION\n",
    "#MARRIAGE\n",
    "#AGE\n",
    "#LIMIT_BAL\n",
    "# PAY_X\n",
    "# BILL_AMT"
   ]
  },
  {
   "cell_type": "markdown",
   "metadata": {},
   "source": [
    "We need only focus on the correlations between the amounts of previous payments due to covering the other correlations above. What we find is that they are unsurprisingly correlated, with the magnitude of correlation weakly related to temporal distance. That is, the amount of previous payment in one month is generally somewhat closer to months closer to it than farther from it."
   ]
  },
  {
   "cell_type": "markdown",
   "metadata": {},
   "source": [
    "#### default"
   ]
  },
  {
   "cell_type": "markdown",
   "metadata": {},
   "source": [
    "default: Default payment (1=yes, 0=no)"
   ]
  },
  {
   "cell_type": "code",
   "execution_count": 66,
   "metadata": {},
   "outputs": [
    {
     "data": {
      "text/plain": [
       "count             30,000.0\n",
       "mean                0.2212\n",
       "std     0.4150618056909671\n",
       "min                    0.0\n",
       "25%                    0.0\n",
       "50%                    0.0\n",
       "75%                    0.0\n",
       "max                    1.0\n",
       "Name: default, dtype: float64"
      ]
     },
     "execution_count": 66,
     "metadata": {},
     "output_type": "execute_result"
    },
    {
     "data": {
      "image/png": "[encoded data removed]",
      "text/plain": [
       "<Figure size 432x288 with 1 Axes>"
      ]
     },
     "metadata": {
      "needs_background": "light"
     },
     "output_type": "display_data"
    },
    {
     "data": {
      "image/png": "[encoded data removed]",
      "text/plain": [
       "<Figure size 432x288 with 1 Axes>"
      ]
     },
     "metadata": {
      "needs_background": "light"
     },
     "output_type": "display_data"
    }
   ],
   "source": [
    "data['default'].hist(bins=[-0.5, 0.5, 1.5], rwidth=0.1)\n",
    "data[['default']].plot(kind='box')\n",
    "data['default'].describe()"
   ]
  },
  {
   "cell_type": "code",
   "execution_count": 67,
   "metadata": {},
   "outputs": [
    {
     "data": {
      "text/plain": [
       "23364"
      ]
     },
     "execution_count": 67,
     "metadata": {},
     "output_type": "execute_result"
    }
   ],
   "source": [
    "data['default'].count() - data['default'].sum()"
   ]
  },
  {
   "cell_type": "markdown",
   "metadata": {},
   "source": [
    "We observe that most values (23,364) are non-defaults, so about 22.12% of our values are default ones (this is also the mean). "
   ]
  },
  {
   "cell_type": "code",
   "execution_count": 68,
   "metadata": {},
   "outputs": [
    {
     "data": {
      "text/plain": [
       "LIMIT_BAL   -0.1535198763934634\n",
       "PAY_6       0.24443727769509294\n",
       "PAY_5        0.2608502900490302\n",
       "PAY_4        0.2690554462141356\n",
       "PAY_3        0.2869993895248475\n",
       "PAY_2        0.3270930793674196\n",
       "PAY_1           0.3960191707577\n",
       "default                     1.0\n",
       "Name: default, dtype: float64"
      ]
     },
     "execution_count": 68,
     "metadata": {},
     "output_type": "execute_result"
    }
   ],
   "source": [
    "c = data.corr()['default']\n",
    "so = c.sort_values()\n",
    "new = so[abs(so) > 0.1]\n",
    "new"
   ]
  },
  {
   "cell_type": "markdown",
   "metadata": {},
   "source": [
    "Let us here review the factors most correlated with defaulting or not defaulting.\n",
    "* We see that a higher amount of given credit is associated with a reduced chance of defaulting, likely because credit is generally extended to those who can pay it back.\n",
    "* We also see that poor repayment status is correlated with defaulting, with poor status in months closer to October being more associated with default, as we would expect."
   ]
  },
  {
   "cell_type": "markdown",
   "metadata": {},
   "source": [
    "### Additional Analysis"
   ]
  },
  {
   "cell_type": "code",
   "execution_count": 69,
   "metadata": {},
   "outputs": [
    {
     "data": {
      "text/html": [
       "<div>\n",
       "<style scoped>\n",
       "    .dataframe tbody tr th:only-of-type {\n",
       "        vertical-align: middle;\n",
       "    }\n",
       "\n",
       "    .dataframe tbody tr th {\n",
       "        vertical-align: top;\n",
       "    }\n",
       "\n",
       "    .dataframe thead th {\n",
       "        text-align: right;\n",
       "    }\n",
       "</style>\n",
       "<table border=\"1\" class=\"dataframe\">\n",
       "  <thead>\n",
       "    <tr style=\"text-align: right;\">\n",
       "      <th></th>\n",
       "      <th>BILL_AMT2</th>\n",
       "      <th>PAY_2</th>\n",
       "      <th>PAY_AMT2</th>\n",
       "      <th>BILL_AMT1</th>\n",
       "      <th>PAY_1</th>\n",
       "      <th>PAY_AMT1</th>\n",
       "      <th>LIMIT_BAL</th>\n",
       "      <th>default</th>\n",
       "    </tr>\n",
       "    <tr>\n",
       "      <th>ID</th>\n",
       "      <th></th>\n",
       "      <th></th>\n",
       "      <th></th>\n",
       "      <th></th>\n",
       "      <th></th>\n",
       "      <th></th>\n",
       "      <th></th>\n",
       "      <th></th>\n",
       "    </tr>\n",
       "  </thead>\n",
       "  <tbody>\n",
       "    <tr>\n",
       "      <th>27</th>\n",
       "      <td>-425.0</td>\n",
       "      <td>0</td>\n",
       "      <td>1,000.0</td>\n",
       "      <td>-109.0</td>\n",
       "      <td>1</td>\n",
       "      <td>0.0</td>\n",
       "      <td>60,000.0</td>\n",
       "      <td>1</td>\n",
       "    </tr>\n",
       "    <tr>\n",
       "      <th>69</th>\n",
       "      <td>-9,850.0</td>\n",
       "      <td>0</td>\n",
       "      <td>0.0</td>\n",
       "      <td>-190.0</td>\n",
       "      <td>1</td>\n",
       "      <td>0.0</td>\n",
       "      <td>130,000.0</td>\n",
       "      <td>0</td>\n",
       "    </tr>\n",
       "    <tr>\n",
       "      <th>110</th>\n",
       "      <td>-103.0</td>\n",
       "      <td>0</td>\n",
       "      <td>0.0</td>\n",
       "      <td>-103.0</td>\n",
       "      <td>1</td>\n",
       "      <td>0.0</td>\n",
       "      <td>360,000.0</td>\n",
       "      <td>0</td>\n",
       "    </tr>\n",
       "    <tr>\n",
       "      <th>150</th>\n",
       "      <td>-1,100.0</td>\n",
       "      <td>0</td>\n",
       "      <td>22,500.0</td>\n",
       "      <td>-1,100.0</td>\n",
       "      <td>1</td>\n",
       "      <td>0.0</td>\n",
       "      <td>260,000.0</td>\n",
       "      <td>0</td>\n",
       "    </tr>\n",
       "    <tr>\n",
       "      <th>174</th>\n",
       "      <td>-709.0</td>\n",
       "      <td>0</td>\n",
       "      <td>0.0</td>\n",
       "      <td>-709.0</td>\n",
       "      <td>1</td>\n",
       "      <td>0.0</td>\n",
       "      <td>50,000.0</td>\n",
       "      <td>1</td>\n",
       "    </tr>\n",
       "    <tr>\n",
       "      <th>187</th>\n",
       "      <td>57,077.0</td>\n",
       "      <td>0</td>\n",
       "      <td>5,295.0</td>\n",
       "      <td>2,616.0</td>\n",
       "      <td>1</td>\n",
       "      <td>57,087.0</td>\n",
       "      <td>360,000.0</td>\n",
       "      <td>0</td>\n",
       "    </tr>\n",
       "    <tr>\n",
       "      <th>217</th>\n",
       "      <td>-946.0</td>\n",
       "      <td>0</td>\n",
       "      <td>0.0</td>\n",
       "      <td>-946.0</td>\n",
       "      <td>1</td>\n",
       "      <td>0.0</td>\n",
       "      <td>240,000.0</td>\n",
       "      <td>1</td>\n",
       "    </tr>\n",
       "    <tr>\n",
       "      <th>277</th>\n",
       "      <td>2,715.0</td>\n",
       "      <td>0</td>\n",
       "      <td>0.0</td>\n",
       "      <td>171.0</td>\n",
       "      <td>2</td>\n",
       "      <td>2,728.0</td>\n",
       "      <td>460,000.0</td>\n",
       "      <td>1</td>\n",
       "    </tr>\n",
       "    <tr>\n",
       "      <th>320</th>\n",
       "      <td>-2.0</td>\n",
       "      <td>0</td>\n",
       "      <td>0.0</td>\n",
       "      <td>-2.0</td>\n",
       "      <td>1</td>\n",
       "      <td>0.0</td>\n",
       "      <td>180,000.0</td>\n",
       "      <td>0</td>\n",
       "    </tr>\n",
       "    <tr>\n",
       "      <th>331</th>\n",
       "      <td>505.0</td>\n",
       "      <td>0</td>\n",
       "      <td>0.0</td>\n",
       "      <td>-179.0</td>\n",
       "      <td>1</td>\n",
       "      <td>1,000.0</td>\n",
       "      <td>200,000.0</td>\n",
       "      <td>1</td>\n",
       "    </tr>\n",
       "    <tr>\n",
       "      <th>352</th>\n",
       "      <td>-13,543.0</td>\n",
       "      <td>0</td>\n",
       "      <td>47,015.0</td>\n",
       "      <td>-14,386.0</td>\n",
       "      <td>1</td>\n",
       "      <td>10,118.0</td>\n",
       "      <td>200,000.0</td>\n",
       "      <td>0</td>\n",
       "    </tr>\n",
       "    <tr>\n",
       "      <th>366</th>\n",
       "      <td>1,520.0</td>\n",
       "      <td>0</td>\n",
       "      <td>1,507.0</td>\n",
       "      <td>-9.0</td>\n",
       "      <td>1</td>\n",
       "      <td>1,529.0</td>\n",
       "      <td>330,000.0</td>\n",
       "      <td>0</td>\n",
       "    </tr>\n",
       "    <tr>\n",
       "      <th>392</th>\n",
       "      <td>35,918.0</td>\n",
       "      <td>0</td>\n",
       "      <td>2,000.0</td>\n",
       "      <td>-1,312.0</td>\n",
       "      <td>1</td>\n",
       "      <td>38,621.0</td>\n",
       "      <td>280,000.0</td>\n",
       "      <td>1</td>\n",
       "    </tr>\n",
       "    <tr>\n",
       "      <th>522</th>\n",
       "      <td>32,991.0</td>\n",
       "      <td>0</td>\n",
       "      <td>16,000.0</td>\n",
       "      <td>-58.0</td>\n",
       "      <td>1</td>\n",
       "      <td>33,049.0</td>\n",
       "      <td>410,000.0</td>\n",
       "      <td>0</td>\n",
       "    </tr>\n",
       "    <tr>\n",
       "      <th>529</th>\n",
       "      <td>-8.0</td>\n",
       "      <td>0</td>\n",
       "      <td>0.0</td>\n",
       "      <td>-8.0</td>\n",
       "      <td>1</td>\n",
       "      <td>0.0</td>\n",
       "      <td>360,000.0</td>\n",
       "      <td>0</td>\n",
       "    </tr>\n",
       "  </tbody>\n",
       "</table>\n",
       "</div>"
      ],
      "text/plain": [
       "     BILL_AMT2  PAY_2  PAY_AMT2  BILL_AMT1  PAY_1  PAY_AMT1  LIMIT_BAL  \\\n",
       "ID                                                                       \n",
       "27      -425.0      0   1,000.0     -109.0      1       0.0   60,000.0   \n",
       "69    -9,850.0      0       0.0     -190.0      1       0.0  130,000.0   \n",
       "110     -103.0      0       0.0     -103.0      1       0.0  360,000.0   \n",
       "150   -1,100.0      0  22,500.0   -1,100.0      1       0.0  260,000.0   \n",
       "174     -709.0      0       0.0     -709.0      1       0.0   50,000.0   \n",
       "187   57,077.0      0   5,295.0    2,616.0      1  57,087.0  360,000.0   \n",
       "217     -946.0      0       0.0     -946.0      1       0.0  240,000.0   \n",
       "277    2,715.0      0       0.0      171.0      2   2,728.0  460,000.0   \n",
       "320       -2.0      0       0.0       -2.0      1       0.0  180,000.0   \n",
       "331      505.0      0       0.0     -179.0      1   1,000.0  200,000.0   \n",
       "352  -13,543.0      0  47,015.0  -14,386.0      1  10,118.0  200,000.0   \n",
       "366    1,520.0      0   1,507.0       -9.0      1   1,529.0  330,000.0   \n",
       "392   35,918.0      0   2,000.0   -1,312.0      1  38,621.0  280,000.0   \n",
       "522   32,991.0      0  16,000.0      -58.0      1  33,049.0  410,000.0   \n",
       "529       -8.0      0       0.0       -8.0      1       0.0  360,000.0   \n",
       "\n",
       "     default  \n",
       "ID            \n",
       "27         1  \n",
       "69         0  \n",
       "110        0  \n",
       "150        0  \n",
       "174        1  \n",
       "187        0  \n",
       "217        1  \n",
       "277        1  \n",
       "320        0  \n",
       "331        1  \n",
       "352        0  \n",
       "366        0  \n",
       "392        1  \n",
       "522        0  \n",
       "529        0  "
      ]
     },
     "execution_count": 69,
     "metadata": {},
     "output_type": "execute_result"
    }
   ],
   "source": [
    "replace = ((data.PAY_AMT1 > data.BILL_AMT2) & (data.PAY_1 > 0) & (data.PAY_2 == 0))\n",
    "data[replace] [['BILL_AMT2', 'PAY_2', 'PAY_AMT2', 'BILL_AMT1', 'PAY_1', 'PAY_AMT1', 'LIMIT_BAL', 'default']].head(15)"
   ]
  },
  {
   "cell_type": "markdown",
   "metadata": {},
   "source": [
    "These records do not seem to make sense. They represent values who had a repayment status of 0 in August (PAY_2 == 0), paid more in August than their bill in August was for (data.PAY_AMT1 > data.BILL_AMT2), and now have a status of being behind on payments (PAY_1 > 0). Some even default. This should not be possible.\n",
    "\n",
    "One approach is to convert these variables to a binary variable representing being late on payments or not. "
   ]
  }
 ],
 "metadata": {
  "kernelspec": {
   "display_name": "Python 3",
   "language": "python",
   "name": "python3"
  },
  "language_info": {
   "codemirror_mode": {
    "name": "ipython",
    "version": 3
   },
   "file_extension": ".py",
   "mimetype": "text/x-python",
   "name": "python",
   "nbconvert_exporter": "python",
   "pygments_lexer": "ipython3",
   "version": "3.7.0"
  }
 },
 "nbformat": 4,
 "nbformat_minor": 2
}
